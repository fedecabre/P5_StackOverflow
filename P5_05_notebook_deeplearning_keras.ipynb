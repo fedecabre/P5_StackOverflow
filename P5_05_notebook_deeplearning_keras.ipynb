{
 "cells": [
  {
   "cell_type": "markdown",
   "metadata": {
    "collapsed": true,
    "pycharm": {
     "name": "#%% md\n"
    }
   },
   "source": [
    "Avec les mêmes données des post Python et R nous allons entrainer deux modèles des réseau de neurones\n",
    "avec Keras et TensorFlow"
   ]
  },
  {
   "cell_type": "markdown",
   "metadata": {
    "pycharm": {
     "name": "#%% md\n"
    }
   },
   "source": [
    "# importation du dataset et conversion"
   ]
  },
  {
   "cell_type": "code",
   "execution_count": 1,
   "metadata": {
    "ExecuteTime": {
     "end_time": "2021-06-18T13:38:00.114528Z",
     "start_time": "2021-06-18T13:37:59.580457Z"
    },
    "pycharm": {
     "name": "#%%\n"
    }
   },
   "outputs": [],
   "source": [
    "import numpy as np\n",
    "import pandas as pd\n",
    "\n",
    "dtypes_questions = {'Id':'int32', 'Score': 'int16', 'Title': 'str',\n",
    "                    'Body': 'str', 'Title_raw': 'str', 'Text': 'str',\n",
    "                    'Tags': 'str','Text_raw':'str'}\n",
    "\n",
    "nrows = 20000\n",
    "\n",
    "df_questions = pd.read_csv('df_questions_fullclean.csv',\n",
    "                           usecols=dtypes_questions.keys(),\n",
    "                           encoding = \"utf-8\",\n",
    "                           dtype=dtypes_questions,\n",
    "                           nrows=nrows\n",
    "                          )\n",
    "\n",
    "\n",
    "text_train, tag_train = df_questions.Text_raw, df_questions.Tags"
   ]
  },
  {
   "cell_type": "markdown",
   "metadata": {
    "pycharm": {
     "name": "#%% md\n"
    }
   },
   "source": [
    "Nous obtenons un boost de performance en utilisant le `texte brut` sans prétraitement passant d'un\n",
    "f1 score de 82.6 %  à un f1 Score de 83.4 %, nous allons garder par la suite le texte sans prétraitement"
   ]
  },
  {
   "cell_type": "code",
   "execution_count": 2,
   "metadata": {
    "ExecuteTime": {
     "end_time": "2021-06-18T13:38:05.144093Z",
     "start_time": "2021-06-18T13:38:00.115942Z"
    },
    "pycharm": {
     "name": "#%%\n"
    },
    "scrolled": true
   },
   "outputs": [
    {
     "name": "stdout",
     "output_type": "stream",
     "text": [
      "Found 61763 unique tokens in the posts.\n",
      "Found 2966 unique tokens in the tags.\n"
     ]
    }
   ],
   "source": [
    "from keras.preprocessing.text import Tokenizer\n",
    "from keras.preprocessing.sequence import pad_sequences\n",
    "\n",
    "# Nous créons un tokenizer, configuré pour ne prendre\n",
    "# en compte que les 10000 mots les plus courants pour\n",
    "# le texte et 100 pour les tags\n",
    "\n",
    "tokenizer_X = Tokenizer(num_words=10000)\n",
    "tokenizer_Y = Tokenizer(num_words=33)  # 33 tags limite pour un modèle à deux layers sans embedding\n",
    "\n",
    "tokenizer_X.fit_on_texts(text_train)\n",
    "tokenizer_Y.fit_on_texts(tag_train)\n",
    "\n",
    "X_train = tokenizer_X.texts_to_matrix(text_train, mode='binary')\n",
    "Y_train = tokenizer_Y.texts_to_matrix(tag_train, mode='binary')\n",
    "\n",
    "X_train_padded = pad_sequences(X_train, padding=\"post\")\n",
    "Y_train_padded = pad_sequences(Y_train, padding=\"post\")\n",
    "\n",
    "label_len=len(Y_train_padded[0])\n",
    "\n",
    "# Les posts ont été randomisés dans le prétraitement, nous utilisons les premiers 1000 post\n",
    "# comme Validation et les suivants 1000 comme notre test set le restant de notre dataset\n",
    "# sera utilisé pour entrainement du modèle\n",
    "\n",
    "X_val = X_train_padded[:1000]\n",
    "X_test = X_train_padded[1000:2000]\n",
    "partial_X_train = X_train_padded[2000:]\n",
    "\n",
    "Y_val = Y_train_padded[:1000]\n",
    "Y_test = Y_train_padded[1000:2000]\n",
    "partial_Y_train = Y_train_padded[2000:]\n",
    "\n",
    "# Nous créons deux dictionnaires avec tous les mots trouvés dans le datasets et pas seulement\n",
    "# ceux utilisés pour vectoriser les datas, nous avons donc  61769 mots pour les posts et\n",
    "# 2966 mots pour les tags. Nous créons aussi un dictionnaire inversée que va nous servir pour\n",
    "# traduire les prédictions du modèle\n",
    "\n",
    "word_index_X = tokenizer_X.word_index\n",
    "word_index_Y = tokenizer_Y.word_index\n",
    "\n",
    "reverse_word_index_Y = dict (\n",
    "    [(value,key) for (key,value) in word_index_Y.items()]\n",
    ")\n",
    "print('Found %s unique tokens in the posts.' % len(word_index_X))\n",
    "print('Found %s unique tokens in the tags.' % len(word_index_Y))"
   ]
  },
  {
   "cell_type": "markdown",
   "metadata": {},
   "source": [
    "# Modèle avec deux couches denses"
   ]
  },
  {
   "cell_type": "code",
   "execution_count": 3,
   "metadata": {
    "ExecuteTime": {
     "end_time": "2021-06-18T13:38:05.722940Z",
     "start_time": "2021-06-18T13:38:05.145676Z"
    },
    "pycharm": {
     "name": "#%%\n"
    }
   },
   "outputs": [],
   "source": [
    "from keras import models\n",
    "from keras import layers\n",
    "\n",
    "model = models.Sequential()\n",
    "model.add(layers.Dense(100, activation='tanh'))\n",
    "model.add(layers.Dense(100, activation='tanh'))\n",
    "model.add(layers.Dense(label_len, activation='sigmoid'))"
   ]
  },
  {
   "cell_type": "markdown",
   "metadata": {
    "pycharm": {
     "name": "#%% md\n"
    }
   },
   "source": [
    "Le modèle choisi est composé de deux couches denses avec 100 unité chacun qui semblé\n",
    "être bien adapté pour liste de 32 tags, lors du passage à 100 tags\n",
    "le réseux n'est plus capable d'apprendre plus de deux tags, nous avons\n",
    "donc augmenté le nombre d'unités des deux premières couches allant jusqu'à 5000 unités\n",
    "et nous avons aussi essayé d'aumenter le nombre de couches sans succès"
   ]
  },
  {
   "cell_type": "code",
   "execution_count": 4,
   "metadata": {
    "ExecuteTime": {
     "end_time": "2021-06-18T13:38:05.727837Z",
     "start_time": "2021-06-18T13:38:05.723884Z"
    },
    "pycharm": {
     "name": "#%%\n"
    }
   },
   "outputs": [],
   "source": [
    "from keras import backend as K\n",
    "\n",
    "def recall_m(y_true, y_pred):\n",
    "    true_positives = K.sum(K.round(K.clip(y_true * y_pred, 0, 1)))\n",
    "    possible_positives = K.sum(K.round(K.clip(y_true, 0, 1)))\n",
    "    recall = true_positives / (possible_positives + K.epsilon())\n",
    "    return recall\n",
    "\n",
    "def precision_m(y_true, y_pred):\n",
    "    true_positives = K.sum(K.round(K.clip(y_true * y_pred, 0, 1)))\n",
    "    predicted_positives = K.sum(K.round(K.clip(y_pred, 0, 1)))\n",
    "    precision = true_positives / (predicted_positives + K.epsilon())\n",
    "    return precision\n",
    "\n",
    "def f1_m(y_true, y_pred):\n",
    "    precision = precision_m(y_true, y_pred)\n",
    "    recall = recall_m(y_true, y_pred)\n",
    "    return 2*((precision*recall)/(precision+recall+K.epsilon()))\n",
    "\n"
   ]
  },
  {
   "cell_type": "code",
   "execution_count": 5,
   "metadata": {
    "ExecuteTime": {
     "end_time": "2021-06-18T13:38:05.756977Z",
     "start_time": "2021-06-18T13:38:05.729214Z"
    },
    "pycharm": {
     "name": "#%%\n"
    }
   },
   "outputs": [],
   "source": [
    "model.compile(optimizer='adam',\n",
    "              loss='binary_crossentropy',\n",
    "              metrics=['acc',f1_m,precision_m, recall_m])"
   ]
  },
  {
   "cell_type": "code",
   "execution_count": 6,
   "metadata": {
    "ExecuteTime": {
     "end_time": "2021-06-18T13:38:14.785706Z",
     "start_time": "2021-06-18T13:38:05.757952Z"
    },
    "pycharm": {
     "name": "#%%\n"
    },
    "scrolled": true
   },
   "outputs": [
    {
     "name": "stdout",
     "output_type": "stream",
     "text": [
      "Epoch 1/30\n",
      "24/24 [==============================] - 2s 18ms/step - loss: 0.3313 - acc: 0.5567 - f1_m: 0.4448 - precision_m: 0.5362 - recall_m: 0.4400 - val_loss: 0.1386 - val_acc: 0.7220 - val_f1_m: 0.5573 - val_precision_m: 0.7228 - val_recall_m: 0.4535\n",
      "Epoch 2/30\n",
      "24/24 [==============================] - 0s 10ms/step - loss: 0.1286 - acc: 0.7238 - f1_m: 0.5505 - precision_m: 0.7250 - recall_m: 0.4438 - val_loss: 0.1186 - val_acc: 0.7220 - val_f1_m: 0.5573 - val_precision_m: 0.7228 - val_recall_m: 0.4535\n",
      "Epoch 3/30\n",
      "24/24 [==============================] - 0s 10ms/step - loss: 0.1180 - acc: 0.7476 - f1_m: 0.5720 - precision_m: 0.7471 - recall_m: 0.4634 - val_loss: 0.1090 - val_acc: 0.8200 - val_f1_m: 0.6388 - val_precision_m: 0.8142 - val_recall_m: 0.5255\n",
      "Epoch 4/30\n",
      "24/24 [==============================] - 0s 11ms/step - loss: 0.1057 - acc: 0.8892 - f1_m: 0.6787 - precision_m: 0.8809 - recall_m: 0.5521 - val_loss: 0.0983 - val_acc: 0.8960 - val_f1_m: 0.6940 - val_precision_m: 0.8906 - val_recall_m: 0.5685\n",
      "Epoch 5/30\n",
      "24/24 [==============================] - 0s 11ms/step - loss: 0.0949 - acc: 0.9548 - f1_m: 0.7300 - precision_m: 0.9561 - recall_m: 0.5905 - val_loss: 0.0901 - val_acc: 0.9450 - val_f1_m: 0.7295 - val_precision_m: 0.9390 - val_recall_m: 0.5964\n",
      "Epoch 6/30\n",
      "24/24 [==============================] - 0s 11ms/step - loss: 0.0874 - acc: 0.9783 - f1_m: 0.7478 - precision_m: 0.9813 - recall_m: 0.6041 - val_loss: 0.0847 - val_acc: 0.9640 - val_f1_m: 0.7439 - val_precision_m: 0.9621 - val_recall_m: 0.6064\n",
      "Epoch 7/30\n",
      "24/24 [==============================] - 0s 11ms/step - loss: 0.0816 - acc: 0.9872 - f1_m: 0.7562 - precision_m: 0.9901 - recall_m: 0.6118 - val_loss: 0.0803 - val_acc: 0.9700 - val_f1_m: 0.7542 - val_precision_m: 0.9685 - val_recall_m: 0.6176\n",
      "Epoch 8/30\n",
      "24/24 [==============================] - 0s 11ms/step - loss: 0.0765 - acc: 0.9911 - f1_m: 0.7688 - precision_m: 0.9946 - recall_m: 0.6266 - val_loss: 0.0762 - val_acc: 0.9760 - val_f1_m: 0.7702 - val_precision_m: 0.9704 - val_recall_m: 0.6386\n",
      "Epoch 9/30\n",
      "24/24 [==============================] - 0s 11ms/step - loss: 0.0713 - acc: 0.9934 - f1_m: 0.7869 - precision_m: 0.9957 - recall_m: 0.6505 - val_loss: 0.0721 - val_acc: 0.9740 - val_f1_m: 0.7777 - val_precision_m: 0.9709 - val_recall_m: 0.6487\n",
      "Epoch 10/30\n",
      "24/24 [==============================] - 0s 10ms/step - loss: 0.0661 - acc: 0.9949 - f1_m: 0.7999 - precision_m: 0.9961 - recall_m: 0.6685 - val_loss: 0.0681 - val_acc: 0.9780 - val_f1_m: 0.7877 - val_precision_m: 0.9741 - val_recall_m: 0.6613\n",
      "Epoch 11/30\n",
      "24/24 [==============================] - 0s 10ms/step - loss: 0.0610 - acc: 0.9951 - f1_m: 0.8089 - precision_m: 0.9965 - recall_m: 0.6809 - val_loss: 0.0645 - val_acc: 0.9770 - val_f1_m: 0.7972 - val_precision_m: 0.9746 - val_recall_m: 0.6747\n",
      "Epoch 12/30\n",
      "24/24 [==============================] - 0s 10ms/step - loss: 0.0561 - acc: 0.9950 - f1_m: 0.8234 - precision_m: 0.9962 - recall_m: 0.7019 - val_loss: 0.0614 - val_acc: 0.9790 - val_f1_m: 0.8029 - val_precision_m: 0.9698 - val_recall_m: 0.6853\n",
      "Epoch 13/30\n",
      "24/24 [==============================] - 0s 10ms/step - loss: 0.0515 - acc: 0.9969 - f1_m: 0.8334 - precision_m: 0.9959 - recall_m: 0.7167 - val_loss: 0.0587 - val_acc: 0.9780 - val_f1_m: 0.8075 - val_precision_m: 0.9734 - val_recall_m: 0.6903\n",
      "Epoch 14/30\n",
      "24/24 [==============================] - 0s 10ms/step - loss: 0.0471 - acc: 0.9946 - f1_m: 0.8453 - precision_m: 0.9960 - recall_m: 0.7343 - val_loss: 0.0566 - val_acc: 0.9780 - val_f1_m: 0.8130 - val_precision_m: 0.9696 - val_recall_m: 0.7003\n",
      "Epoch 15/30\n",
      "24/24 [==============================] - 0s 11ms/step - loss: 0.0430 - acc: 0.9951 - f1_m: 0.8564 - precision_m: 0.9944 - recall_m: 0.7521 - val_loss: 0.0549 - val_acc: 0.9790 - val_f1_m: 0.8190 - val_precision_m: 0.9675 - val_recall_m: 0.7103\n",
      "Epoch 16/30\n",
      "24/24 [==============================] - 0s 10ms/step - loss: 0.0392 - acc: 0.9936 - f1_m: 0.8682 - precision_m: 0.9941 - recall_m: 0.7707 - val_loss: 0.0538 - val_acc: 0.9800 - val_f1_m: 0.8209 - val_precision_m: 0.9660 - val_recall_m: 0.7139\n",
      "Epoch 17/30\n",
      "24/24 [==============================] - 0s 10ms/step - loss: 0.0356 - acc: 0.9941 - f1_m: 0.8823 - precision_m: 0.9944 - recall_m: 0.7932 - val_loss: 0.0529 - val_acc: 0.9790 - val_f1_m: 0.8247 - val_precision_m: 0.9639 - val_recall_m: 0.7208\n",
      "Epoch 18/30\n",
      "24/24 [==============================] - 0s 10ms/step - loss: 0.0323 - acc: 0.9939 - f1_m: 0.8973 - precision_m: 0.9945 - recall_m: 0.8175 - val_loss: 0.0524 - val_acc: 0.9770 - val_f1_m: 0.8275 - val_precision_m: 0.9572 - val_recall_m: 0.7289\n",
      "Epoch 19/30\n",
      "24/24 [==============================] - 0s 10ms/step - loss: 0.0294 - acc: 0.9931 - f1_m: 0.9066 - precision_m: 0.9942 - recall_m: 0.8334 - val_loss: 0.0519 - val_acc: 0.9750 - val_f1_m: 0.8290 - val_precision_m: 0.9505 - val_recall_m: 0.7351\n",
      "Epoch 20/30\n",
      "24/24 [==============================] - 0s 11ms/step - loss: 0.0267 - acc: 0.9931 - f1_m: 0.9200 - precision_m: 0.9954 - recall_m: 0.8553 - val_loss: 0.0520 - val_acc: 0.9750 - val_f1_m: 0.8272 - val_precision_m: 0.9437 - val_recall_m: 0.7364\n",
      "Epoch 21/30\n",
      "24/24 [==============================] - 0s 11ms/step - loss: 0.0242 - acc: 0.9932 - f1_m: 0.9316 - precision_m: 0.9958 - recall_m: 0.8753 - val_loss: 0.0524 - val_acc: 0.9760 - val_f1_m: 0.8312 - val_precision_m: 0.9470 - val_recall_m: 0.7407\n",
      "Epoch 22/30\n",
      "24/24 [==============================] - 0s 10ms/step - loss: 0.0220 - acc: 0.9920 - f1_m: 0.9407 - precision_m: 0.9967 - recall_m: 0.8907 - val_loss: 0.0523 - val_acc: 0.9740 - val_f1_m: 0.8323 - val_precision_m: 0.9428 - val_recall_m: 0.7451\n",
      "Epoch 23/30\n",
      "24/24 [==============================] - 0s 10ms/step - loss: 0.0200 - acc: 0.9929 - f1_m: 0.9481 - precision_m: 0.9968 - recall_m: 0.9041 - val_loss: 0.0527 - val_acc: 0.9740 - val_f1_m: 0.8297 - val_precision_m: 0.9353 - val_recall_m: 0.7456\n",
      "Epoch 24/30\n",
      "24/24 [==============================] - 0s 11ms/step - loss: 0.0182 - acc: 0.9919 - f1_m: 0.9572 - precision_m: 0.9975 - recall_m: 0.9200 - val_loss: 0.0534 - val_acc: 0.9760 - val_f1_m: 0.8299 - val_precision_m: 0.9347 - val_recall_m: 0.7464\n",
      "Epoch 25/30\n",
      "24/24 [==============================] - 0s 11ms/step - loss: 0.0166 - acc: 0.9921 - f1_m: 0.9641 - precision_m: 0.9978 - recall_m: 0.9326 - val_loss: 0.0539 - val_acc: 0.9740 - val_f1_m: 0.8287 - val_precision_m: 0.9269 - val_recall_m: 0.7494\n",
      "Epoch 26/30\n",
      "24/24 [==============================] - 0s 10ms/step - loss: 0.0152 - acc: 0.9926 - f1_m: 0.9697 - precision_m: 0.9980 - recall_m: 0.9430 - val_loss: 0.0544 - val_acc: 0.9710 - val_f1_m: 0.8296 - val_precision_m: 0.9271 - val_recall_m: 0.7507\n",
      "Epoch 27/30\n",
      "24/24 [==============================] - 0s 10ms/step - loss: 0.0139 - acc: 0.9917 - f1_m: 0.9747 - precision_m: 0.9986 - recall_m: 0.9521 - val_loss: 0.0551 - val_acc: 0.9720 - val_f1_m: 0.8279 - val_precision_m: 0.9248 - val_recall_m: 0.7495\n",
      "Epoch 28/30\n",
      "24/24 [==============================] - 0s 10ms/step - loss: 0.0127 - acc: 0.9915 - f1_m: 0.9805 - precision_m: 0.9987 - recall_m: 0.9629 - val_loss: 0.0557 - val_acc: 0.9670 - val_f1_m: 0.8277 - val_precision_m: 0.9215 - val_recall_m: 0.7514\n",
      "Epoch 29/30\n",
      "24/24 [==============================] - 0s 10ms/step - loss: 0.0117 - acc: 0.9919 - f1_m: 0.9834 - precision_m: 0.9988 - recall_m: 0.9685 - val_loss: 0.0562 - val_acc: 0.9700 - val_f1_m: 0.8278 - val_precision_m: 0.9208 - val_recall_m: 0.7520\n",
      "Epoch 30/30\n",
      "24/24 [==============================] - 0s 10ms/step - loss: 0.0108 - acc: 0.9923 - f1_m: 0.9863 - precision_m: 0.9991 - recall_m: 0.9738 - val_loss: 0.0568 - val_acc: 0.9700 - val_f1_m: 0.8280 - val_precision_m: 0.9175 - val_recall_m: 0.7545\n",
      "Model: \"sequential\"\n",
      "_________________________________________________________________\n",
      "Layer (type)                 Output Shape              Param #   \n",
      "=================================================================\n",
      "dense (Dense)                (None, 100)               1000100   \n",
      "_________________________________________________________________\n",
      "dense_1 (Dense)              (None, 100)               10100     \n",
      "_________________________________________________________________\n",
      "dense_2 (Dense)              (None, 33)                3333      \n",
      "=================================================================\n",
      "Total params: 1,013,533\n",
      "Trainable params: 1,013,533\n",
      "Non-trainable params: 0\n",
      "_________________________________________________________________\n"
     ]
    }
   ],
   "source": [
    "\n",
    "history = model.fit(partial_X_train,\n",
    "                    partial_Y_train,\n",
    "                    epochs=30,\n",
    "                    batch_size=512,\n",
    "                    validation_data=(X_val, Y_val))\n",
    "model.summary()"
   ]
  },
  {
   "cell_type": "code",
   "execution_count": 7,
   "metadata": {
    "ExecuteTime": {
     "end_time": "2021-06-18T13:38:15.135391Z",
     "start_time": "2021-06-18T13:38:14.787805Z"
    },
    "pycharm": {
     "name": "#%%\n"
    }
   },
   "outputs": [
    {
     "data": {
      "image/png": "[encoded data removed]",
      "text/plain": [
       "<Figure size 432x288 with 1 Axes>"
      ]
     },
     "metadata": {},
     "output_type": "display_data"
    }
   ],
   "source": [
    "import matplotlib.pyplot as plt\n",
    "\n",
    "loss = history.history['loss']\n",
    "val_loss = history.history['val_loss']\n",
    "\n",
    "epochs = range(1, len(loss) + 1)\n",
    "\n",
    "fig = plt.figure()\n",
    "fig.patch.set_facecolor('w')\n",
    "plt.plot(epochs, loss, 'bo', label='Training loss')\n",
    "plt.plot(epochs, val_loss, 'b', label='Validation loss')\n",
    "plt.title('Training and validation loss')\n",
    "plt.xlabel('Epochs')\n",
    "plt.ylabel('Loss')\n",
    "plt.legend()\n",
    "plt.axvline(x=25,color='red',linestyle='--')\n",
    "\n",
    "plt.show()"
   ]
  },
  {
   "cell_type": "code",
   "execution_count": 8,
   "metadata": {
    "ExecuteTime": {
     "end_time": "2021-06-18T13:38:15.385536Z",
     "start_time": "2021-06-18T13:38:15.137298Z"
    },
    "pycharm": {
     "name": "#%%\n"
    }
   },
   "outputs": [
    {
     "data": {
      "text/plain": [
       "<Figure size 432x288 with 0 Axes>"
      ]
     },
     "metadata": {},
     "output_type": "display_data"
    },
    {
     "data": {
      "image/png": "[encoded data removed]",
      "text/plain": [
       "<Figure size 432x288 with 1 Axes>"
      ]
     },
     "metadata": {},
     "output_type": "display_data"
    }
   ],
   "source": [
    "plt.clf()   # clear figure\n",
    "\n",
    "f1_train = history.history['f1_m']\n",
    "f1_val = history.history['val_f1_m']\n",
    "\n",
    "fig = plt.figure()\n",
    "fig.patch.set_facecolor('w')\n",
    "plt.plot(epochs, f1_train, 'bo', label='Training acc')\n",
    "plt.plot(epochs, f1_val, 'b', label='Validation acc')\n",
    "plt.title('Training and validation accuracy')\n",
    "plt.xlabel('Epochs')\n",
    "plt.ylabel('F1 Score')\n",
    "plt.legend()\n",
    "plt.axvline(x=25,color='red',linestyle='--')\n",
    "\n",
    "plt.show()"
   ]
  },
  {
   "cell_type": "code",
   "execution_count": 9,
   "metadata": {
    "ExecuteTime": {
     "end_time": "2021-06-18T13:38:15.501772Z",
     "start_time": "2021-06-18T13:38:15.386569Z"
    },
    "pycharm": {
     "name": "#%%\n"
    }
   },
   "outputs": [
    {
     "name": "stdout",
     "output_type": "stream",
     "text": [
      "Loss :  0.05726949870586395\n",
      "Accuracy :  0.9700000286102295\n",
      "f1 Score :  0.8294190764427185\n",
      "precision :  0.9263967275619507\n",
      "recall :  0.7527959942817688\n"
     ]
    }
   ],
   "source": [
    "loss, accuracy, f1_score, precision, recall = model.evaluate(X_test, Y_test, verbose=0)\n",
    "\n",
    "print('Loss : ',loss)\n",
    "print('Accuracy : ',accuracy)\n",
    "print('f1 Score : ',f1_score)\n",
    "print('precision : ',precision)\n",
    "print('recall : ',recall)"
   ]
  },
  {
   "cell_type": "code",
   "execution_count": 10,
   "metadata": {
    "ExecuteTime": {
     "end_time": "2021-06-18T13:38:16.251623Z",
     "start_time": "2021-06-18T13:38:15.503052Z"
    },
    "pycharm": {
     "name": "#%%\n"
    }
   },
   "outputs": [],
   "source": [
    "Y_predict = model.predict(X_train_padded)"
   ]
  },
  {
   "cell_type": "code",
   "execution_count": 11,
   "metadata": {
    "ExecuteTime": {
     "end_time": "2021-06-18T13:38:16.258777Z",
     "start_time": "2021-06-18T13:38:16.252726Z"
    },
    "pycharm": {
     "name": "#%%\n"
    },
    "scrolled": true
   },
   "outputs": [
    {
     "data": {
      "text/plain": [
       "array([    0, 10091,  3922,   827,   627,   560,   509,   414,   358,\n",
       "         326,   354,   282,   255,   261,   277,   226,   173,   229,\n",
       "         197,   171,   181,   183,   174,   140,    92,   145,   120,\n",
       "         144,   109,    90,   119,    87,   119])"
      ]
     },
     "execution_count": 11,
     "metadata": {},
     "output_type": "execute_result"
    }
   ],
   "source": [
    "Y_predict_ones = (Y_predict>0.5).astype(int)\n",
    "np.sum(Y_predict_ones,axis=0)"
   ]
  },
  {
   "cell_type": "markdown",
   "metadata": {},
   "source": [
    "## modèle regularisé avec early stopping"
   ]
  },
  {
   "cell_type": "code",
   "execution_count": 12,
   "metadata": {
    "ExecuteTime": {
     "end_time": "2021-06-18T13:38:23.325068Z",
     "start_time": "2021-06-18T13:38:16.260063Z"
    },
    "pycharm": {
     "name": "#%%\n"
    },
    "scrolled": true
   },
   "outputs": [
    {
     "name": "stdout",
     "output_type": "stream",
     "text": [
      "Epoch 1/25\n",
      "24/24 [==============================] - 1s 18ms/step - loss: 0.3651 - acc: 0.6515 - f1_m: 0.4379 - precision_m: 0.5179 - recall_m: 0.4662 - val_loss: 0.1503 - val_acc: 0.7220 - val_f1_m: 0.5573 - val_precision_m: 0.7228 - val_recall_m: 0.4535\n",
      "Epoch 2/25\n",
      "24/24 [==============================] - 0s 10ms/step - loss: 0.1322 - acc: 0.7244 - f1_m: 0.5512 - precision_m: 0.7262 - recall_m: 0.4442 - val_loss: 0.1183 - val_acc: 0.7250 - val_f1_m: 0.5604 - val_precision_m: 0.7256 - val_recall_m: 0.4565\n",
      "Epoch 3/25\n",
      "24/24 [==============================] - 0s 10ms/step - loss: 0.1157 - acc: 0.7792 - f1_m: 0.5897 - precision_m: 0.7870 - recall_m: 0.4716 - val_loss: 0.1069 - val_acc: 0.8310 - val_f1_m: 0.6373 - val_precision_m: 0.8412 - val_recall_m: 0.5130\n",
      "Epoch 4/25\n",
      "24/24 [==============================] - 0s 10ms/step - loss: 0.1038 - acc: 0.8933 - f1_m: 0.6775 - precision_m: 0.9001 - recall_m: 0.5432 - val_loss: 0.0969 - val_acc: 0.9020 - val_f1_m: 0.6937 - val_precision_m: 0.9054 - val_recall_m: 0.5623\n",
      "Epoch 5/25\n",
      "24/24 [==============================] - 0s 10ms/step - loss: 0.0938 - acc: 0.9546 - f1_m: 0.7314 - precision_m: 0.9596 - recall_m: 0.5910 - val_loss: 0.0892 - val_acc: 0.9490 - val_f1_m: 0.7371 - val_precision_m: 0.9505 - val_recall_m: 0.6020\n",
      "Epoch 6/25\n",
      "24/24 [==============================] - 0s 10ms/step - loss: 0.0867 - acc: 0.9788 - f1_m: 0.7509 - precision_m: 0.9824 - recall_m: 0.6078 - val_loss: 0.0841 - val_acc: 0.9650 - val_f1_m: 0.7523 - val_precision_m: 0.9636 - val_recall_m: 0.6171\n",
      "Epoch 7/25\n",
      "24/24 [==============================] - 0s 10ms/step - loss: 0.0813 - acc: 0.9882 - f1_m: 0.7655 - precision_m: 0.9916 - recall_m: 0.6236 - val_loss: 0.0799 - val_acc: 0.9720 - val_f1_m: 0.7611 - val_precision_m: 0.9708 - val_recall_m: 0.6259\n",
      "Epoch 8/25\n",
      "24/24 [==============================] - 0s 11ms/step - loss: 0.0762 - acc: 0.9918 - f1_m: 0.7712 - precision_m: 0.9946 - recall_m: 0.6298 - val_loss: 0.0758 - val_acc: 0.9720 - val_f1_m: 0.7640 - val_precision_m: 0.9710 - val_recall_m: 0.6297\n",
      "Epoch 9/25\n",
      "24/24 [==============================] - 0s 10ms/step - loss: 0.0710 - acc: 0.9950 - f1_m: 0.7782 - precision_m: 0.9959 - recall_m: 0.6387 - val_loss: 0.0717 - val_acc: 0.9770 - val_f1_m: 0.7742 - val_precision_m: 0.9743 - val_recall_m: 0.6424\n",
      "Epoch 10/25\n",
      "24/24 [==============================] - 0s 10ms/step - loss: 0.0657 - acc: 0.9953 - f1_m: 0.7915 - precision_m: 0.9960 - recall_m: 0.6568 - val_loss: 0.0678 - val_acc: 0.9770 - val_f1_m: 0.7815 - val_precision_m: 0.9702 - val_recall_m: 0.6545\n",
      "Epoch 11/25\n",
      "24/24 [==============================] - 0s 10ms/step - loss: 0.0607 - acc: 0.9966 - f1_m: 0.8048 - precision_m: 0.9952 - recall_m: 0.6756 - val_loss: 0.0645 - val_acc: 0.9790 - val_f1_m: 0.7876 - val_precision_m: 0.9671 - val_recall_m: 0.6644\n",
      "Epoch 12/25\n",
      "24/24 [==============================] - 0s 11ms/step - loss: 0.0559 - acc: 0.9961 - f1_m: 0.8167 - precision_m: 0.9943 - recall_m: 0.6931 - val_loss: 0.0615 - val_acc: 0.9790 - val_f1_m: 0.7991 - val_precision_m: 0.9713 - val_recall_m: 0.6790\n",
      "Epoch 13/25\n",
      "24/24 [==============================] - 0s 10ms/step - loss: 0.0514 - acc: 0.9968 - f1_m: 0.8279 - precision_m: 0.9938 - recall_m: 0.7097 - val_loss: 0.0590 - val_acc: 0.9810 - val_f1_m: 0.8075 - val_precision_m: 0.9709 - val_recall_m: 0.6914\n",
      "Epoch 14/25\n",
      "24/24 [==============================] - 0s 10ms/step - loss: 0.0471 - acc: 0.9975 - f1_m: 0.8408 - precision_m: 0.9944 - recall_m: 0.7284 - val_loss: 0.0569 - val_acc: 0.9800 - val_f1_m: 0.8106 - val_precision_m: 0.9711 - val_recall_m: 0.6958\n",
      "Epoch 15/25\n",
      "24/24 [==============================] - 0s 10ms/step - loss: 0.0431 - acc: 0.9961 - f1_m: 0.8528 - precision_m: 0.9941 - recall_m: 0.7468 - val_loss: 0.0552 - val_acc: 0.9800 - val_f1_m: 0.8137 - val_precision_m: 0.9655 - val_recall_m: 0.7032\n",
      "Epoch 16/25\n",
      "24/24 [==============================] - 0s 10ms/step - loss: 0.0393 - acc: 0.9974 - f1_m: 0.8643 - precision_m: 0.9936 - recall_m: 0.7650 - val_loss: 0.0540 - val_acc: 0.9790 - val_f1_m: 0.8169 - val_precision_m: 0.9649 - val_recall_m: 0.7083\n",
      "Epoch 17/25\n",
      "24/24 [==============================] - 0s 10ms/step - loss: 0.0358 - acc: 0.9962 - f1_m: 0.8793 - precision_m: 0.9934 - recall_m: 0.7888 - val_loss: 0.0531 - val_acc: 0.9760 - val_f1_m: 0.8204 - val_precision_m: 0.9621 - val_recall_m: 0.7153\n",
      "Epoch 18/25\n",
      "24/24 [==============================] - 0s 10ms/step - loss: 0.0326 - acc: 0.9968 - f1_m: 0.8930 - precision_m: 0.9939 - recall_m: 0.8108 - val_loss: 0.0527 - val_acc: 0.9770 - val_f1_m: 0.8216 - val_precision_m: 0.9606 - val_recall_m: 0.7178\n",
      "Epoch 19/25\n",
      "24/24 [==============================] - 0s 10ms/step - loss: 0.0296 - acc: 0.9964 - f1_m: 0.9041 - precision_m: 0.9946 - recall_m: 0.8287 - val_loss: 0.0520 - val_acc: 0.9740 - val_f1_m: 0.8223 - val_precision_m: 0.9485 - val_recall_m: 0.7258\n",
      "Epoch 20/25\n",
      "24/24 [==============================] - 0s 10ms/step - loss: 0.0269 - acc: 0.9966 - f1_m: 0.9150 - precision_m: 0.9949 - recall_m: 0.8471 - val_loss: 0.0518 - val_acc: 0.9740 - val_f1_m: 0.8220 - val_precision_m: 0.9454 - val_recall_m: 0.7271\n",
      "Epoch 21/25\n",
      "24/24 [==============================] - 0s 11ms/step - loss: 0.0245 - acc: 0.9963 - f1_m: 0.9259 - precision_m: 0.9957 - recall_m: 0.8654 - val_loss: 0.0519 - val_acc: 0.9740 - val_f1_m: 0.8267 - val_precision_m: 0.9474 - val_recall_m: 0.7335\n",
      "Epoch 22/25\n",
      "24/24 [==============================] - 0s 10ms/step - loss: 0.0222 - acc: 0.9961 - f1_m: 0.9388 - precision_m: 0.9963 - recall_m: 0.8875 - val_loss: 0.0520 - val_acc: 0.9750 - val_f1_m: 0.8284 - val_precision_m: 0.9396 - val_recall_m: 0.7409\n",
      "Epoch 23/25\n",
      "24/24 [==============================] - 0s 10ms/step - loss: 0.0201 - acc: 0.9961 - f1_m: 0.9481 - precision_m: 0.9968 - recall_m: 0.9041 - val_loss: 0.0527 - val_acc: 0.9750 - val_f1_m: 0.8253 - val_precision_m: 0.9406 - val_recall_m: 0.7353\n",
      "Epoch 24/25\n",
      "24/24 [==============================] - 0s 11ms/step - loss: 0.0183 - acc: 0.9959 - f1_m: 0.9574 - precision_m: 0.9975 - recall_m: 0.9204 - val_loss: 0.0527 - val_acc: 0.9730 - val_f1_m: 0.8276 - val_precision_m: 0.9345 - val_recall_m: 0.7429\n",
      "Epoch 25/25\n",
      "24/24 [==============================] - 0s 10ms/step - loss: 0.0167 - acc: 0.9958 - f1_m: 0.9639 - precision_m: 0.9977 - recall_m: 0.9323 - val_loss: 0.0533 - val_acc: 0.9720 - val_f1_m: 0.8271 - val_precision_m: 0.9302 - val_recall_m: 0.7448\n",
      "Model: \"sequential_1\"\n",
      "_________________________________________________________________\n",
      "Layer (type)                 Output Shape              Param #   \n",
      "=================================================================\n",
      "dense_3 (Dense)              (None, 100)               1000100   \n",
      "_________________________________________________________________\n",
      "dense_4 (Dense)              (None, 100)               10100     \n",
      "_________________________________________________________________\n",
      "dense_5 (Dense)              (None, 33)                3333      \n",
      "=================================================================\n",
      "Total params: 1,013,533\n",
      "Trainable params: 1,013,533\n",
      "Non-trainable params: 0\n",
      "_________________________________________________________________\n"
     ]
    }
   ],
   "source": [
    "# On re entraine le modèle du début pour 25 epoch\n",
    "model = models.Sequential()\n",
    "model.add(layers.Dense(100, activation='tanh'))\n",
    "model.add(layers.Dense(100, activation='tanh'))\n",
    "model.add(layers.Dense(label_len, activation='sigmoid'))\n",
    "\n",
    "model.compile(optimizer='adam',\n",
    "              loss='binary_crossentropy',\n",
    "              metrics=['acc',f1_m,precision_m, recall_m])\n",
    "\n",
    "history = model.fit(partial_X_train,\n",
    "                    partial_Y_train,\n",
    "                    epochs=25,\n",
    "                    batch_size=512,\n",
    "                    validation_data=(X_val, Y_val),\n",
    "                    )\n",
    "model.summary()"
   ]
  },
  {
   "cell_type": "code",
   "execution_count": 13,
   "metadata": {
    "ExecuteTime": {
     "end_time": "2021-06-18T13:38:23.432847Z",
     "start_time": "2021-06-18T13:38:23.326391Z"
    },
    "pycharm": {
     "name": "#%%\n"
    }
   },
   "outputs": [
    {
     "name": "stdout",
     "output_type": "stream",
     "text": [
      "Loss :  0.054097723215818405\n",
      "Accuracy :  0.9769999980926514\n",
      "f1 Score :  0.8349974155426025\n",
      "precision :  0.94659024477005\n",
      "recall :  0.7491679787635803\n"
     ]
    }
   ],
   "source": [
    "loss, accuracy, f1_score, precision, recall = model.evaluate(X_test, Y_test, verbose=0)\n",
    "\n",
    "print('Loss : ',loss)\n",
    "print('Accuracy : ',accuracy)\n",
    "print('f1 Score : ',f1_score)\n",
    "print('precision : ',precision)\n",
    "print('recall : ',recall)"
   ]
  },
  {
   "cell_type": "code",
   "execution_count": 14,
   "metadata": {
    "ExecuteTime": {
     "end_time": "2021-06-18T13:38:24.148438Z",
     "start_time": "2021-06-18T13:38:23.434034Z"
    },
    "pycharm": {
     "name": "#%%\n"
    }
   },
   "outputs": [],
   "source": [
    "Y_predict = model.predict(X_train_padded)"
   ]
  },
  {
   "cell_type": "code",
   "execution_count": 15,
   "metadata": {
    "ExecuteTime": {
     "end_time": "2021-06-18T13:38:24.152677Z",
     "start_time": "2021-06-18T13:38:24.149835Z"
    },
    "pycharm": {
     "name": "#%%\n"
    }
   },
   "outputs": [],
   "source": [
    "def vector_to_list_of_tags(vect_tag,reverse_word_ind):\n",
    "    tag_list=[]\n",
    "    for i in range(len(vect_tag)):\n",
    "        if vect_tag[i]>0 :\n",
    "            tag_list.append(reverse_word_ind.get(i,'?'))\n",
    "    return tag_list"
   ]
  },
  {
   "cell_type": "code",
   "execution_count": 16,
   "metadata": {
    "ExecuteTime": {
     "end_time": "2021-06-18T13:38:24.180258Z",
     "start_time": "2021-06-18T13:38:24.153924Z"
    },
    "pycharm": {
     "name": "#%%\n"
    }
   },
   "outputs": [
    {
     "name": "stdout",
     "output_type": "stream",
     "text": [
      "Text before vectoring : \n",
      " Python print unicode strings in arrays as characters, not code points <p>If I've got a dictionary of the form:</p>\n",
      "\n",
      "<p><code>a = {u\"foo\": u\"ááá \"}</code></p>\n",
      "\n",
      "<p>and I write </p>\n",
      "\n",
      "<p><code>&gt;&gt;&gt; print a[u\"foo\"]</code></p>\n",
      "\n",
      "<p>I get</p>\n",
      "\n",
      "<p><code>ááá </code></p>\n",
      "\n",
      "<p>as expected. But if I write</p>\n",
      "\n",
      "<p><code>&gt;&gt;&gt; print a</code></p>\n",
      "\n",
      "<p>I get</p>\n",
      "\n",
      "<p><code>{u'foo': u'\\u10d1\\u10d0\\u10e0'}</code>, but I would prefer the characters themselves to be printed.</p>\n",
      "\n",
      "<p>All the data will ultimately get dumped into a database anyway, so it's not critical to solve this problem, but for debugging it would be nice if I could get readable output when I print the entire dictionary. Is there any way to do this?</p>\n",
      "\n",
      "<p>For those who are curious, the script is Georgian, and yes, it says \"bar\".</p>\n",
      " \n",
      "\n",
      "Tags before vectoring :  python unicode\n",
      "Tags vectorize matrix :  [0 1 0 0 0 0 0 0 0 0 0 0 0 0 0 0 0 0 0 0 0 0 0 0 0 0 0 0 0 0 0 0 0]\n",
      "Tags vectorized :  ['python']\n",
      "Tags predicted matrix:  [0.  1.  0.  0.2 0.  0.  0.  0.  0.  0.  0.  0.  0.  0.  0.  0.  0.  0.\n",
      " 0.  0.  0.  0.  0.  0.  0.  0.  0.  0.  0.  0.  0.  0.  0. ]\n",
      "Tags predicted :  ['python']\n"
     ]
    }
   ],
   "source": [
    "id_sample = 100\n",
    "\n",
    "#print('reverse word index Y : ',reverse_word_index_Y)\n",
    "print('Text before vectoring : \\n',text_train[id_sample],'\\n')\n",
    "print('Tags before vectoring : ',tag_train[id_sample])\n",
    "print('Tags vectorize matrix : ',Y_train_padded[id_sample])\n",
    "\n",
    "sample_tag = vector_to_list_of_tags(Y_train_padded[id_sample],reverse_word_index_Y)\n",
    "print('Tags vectorized : ',sample_tag)\n",
    "\n",
    "Y_predict_ones = (Y_predict>0.5).astype(int)\n",
    "sample_tag_pred = vector_to_list_of_tags(Y_predict_ones[id_sample],reverse_word_index_Y)\n",
    "print('Tags predicted matrix: ',np.around(Y_predict[id_sample], decimals=1))\n",
    "print('Tags predicted : ',sample_tag_pred)"
   ]
  },
  {
   "cell_type": "code",
   "execution_count": 17,
   "metadata": {
    "ExecuteTime": {
     "end_time": "2021-06-18T13:38:24.204111Z",
     "start_time": "2021-06-18T13:38:24.181842Z"
    },
    "pycharm": {
     "name": "#%%\n"
    }
   },
   "outputs": [
    {
     "data": {
      "text/plain": [
       "array([    0, 10090,  3915,   823,   627,   545,   502,   400,   325,\n",
       "         311,   350,   272,   221,   215,   250,   213,   144,   218,\n",
       "         131,   114,   179,   167,   150,   122,     8,   138,    85,\n",
       "         139,    87,    66,    75,    75,    76])"
      ]
     },
     "execution_count": 17,
     "metadata": {},
     "output_type": "execute_result"
    }
   ],
   "source": [
    "np.sum(Y_predict_ones,axis=0)"
   ]
  },
  {
   "cell_type": "markdown",
   "metadata": {
    "pycharm": {
     "name": "#%% md\n"
    }
   },
   "source": [
    "# Embedding"
   ]
  },
  {
   "cell_type": "code",
   "execution_count": 18,
   "metadata": {
    "ExecuteTime": {
     "end_time": "2021-06-18T13:38:27.106927Z",
     "start_time": "2021-06-18T13:38:24.205308Z"
    },
    "pycharm": {
     "name": "#%%\n"
    }
   },
   "outputs": [],
   "source": [
    "from keras.layers import Embedding, Flatten\n",
    "\n",
    "tokenizer_X = Tokenizer(num_words=10000)\n",
    "tokenizer_Y = Tokenizer(num_words=100)  # 100 tags posible avec embedding avec des résultats corrects\n",
    "\n",
    "tokenizer_X.fit_on_texts(text_train)\n",
    "tokenizer_Y.fit_on_texts(tag_train)\n",
    "\n",
    "X_train = tokenizer_X.texts_to_sequences(text_train)\n",
    "Y_train = tokenizer_Y.texts_to_matrix(tag_train,mode='binary')\n",
    "\n",
    "X_train_padded = pad_sequences(X_train, padding=\"post\",maxlen=1000)\n",
    "Y_train_padded = pad_sequences(Y_train, padding=\"post\")\n",
    "\n",
    "#X_train_padded = X_train_padded/len(word_index_X) #normalisation\n",
    "\n",
    "text_len = len(X_train_padded[0])\n",
    "label_len=len(Y_train_padded[0])\n",
    "\n",
    "X_val = X_train_padded[:1000]\n",
    "X_test = X_train_padded[1000:2000]\n",
    "partial_X_train = X_train_padded[2000:]\n",
    "\n",
    "Y_val = Y_train_padded[:1000]\n",
    "Y_test = Y_train_padded[1000:2000]\n",
    "partial_Y_train = Y_train_padded[2000:]"
   ]
  },
  {
   "cell_type": "code",
   "execution_count": 19,
   "metadata": {
    "ExecuteTime": {
     "end_time": "2021-06-18T13:38:38.529023Z",
     "start_time": "2021-06-18T13:38:27.107987Z"
    },
    "pycharm": {
     "name": "#%%\n"
    }
   },
   "outputs": [
    {
     "name": "stdout",
     "output_type": "stream",
     "text": [
      "Epoch 1/15\n",
      "24/24 [==============================] - 1s 38ms/step - loss: 0.1264 - acc: 0.6848 - f1_m: 0.4526 - precision_m: 0.6795 - recall_m: 0.3611 - val_loss: 0.0761 - val_acc: 0.7220 - val_f1_m: 0.4788 - val_precision_m: 0.7228 - val_recall_m: 0.3579\n",
      "Epoch 2/15\n",
      "24/24 [==============================] - 1s 29ms/step - loss: 0.0687 - acc: 0.7298 - f1_m: 0.4786 - precision_m: 0.7311 - recall_m: 0.3558 - val_loss: 0.0643 - val_acc: 0.7570 - val_f1_m: 0.5027 - val_precision_m: 0.7594 - val_recall_m: 0.3757\n",
      "Epoch 3/15\n",
      "24/24 [==============================] - 1s 30ms/step - loss: 0.0611 - acc: 0.8313 - f1_m: 0.5452 - precision_m: 0.8314 - recall_m: 0.4056 - val_loss: 0.0587 - val_acc: 0.8630 - val_f1_m: 0.5725 - val_precision_m: 0.8627 - val_recall_m: 0.4284\n",
      "Epoch 4/15\n",
      "24/24 [==============================] - 1s 30ms/step - loss: 0.0547 - acc: 0.9137 - f1_m: 0.6039 - precision_m: 0.9138 - recall_m: 0.4510 - val_loss: 0.0544 - val_acc: 0.9150 - val_f1_m: 0.6117 - val_precision_m: 0.9127 - val_recall_m: 0.4600\n",
      "Epoch 5/15\n",
      "24/24 [==============================] - 1s 29ms/step - loss: 0.0492 - acc: 0.9546 - f1_m: 0.6398 - precision_m: 0.9550 - recall_m: 0.4811 - val_loss: 0.0512 - val_acc: 0.9500 - val_f1_m: 0.6382 - val_precision_m: 0.9414 - val_recall_m: 0.4827\n",
      "Epoch 6/15\n",
      "24/24 [==============================] - 1s 30ms/step - loss: 0.0436 - acc: 0.9754 - f1_m: 0.6621 - precision_m: 0.9748 - recall_m: 0.5014 - val_loss: 0.0482 - val_acc: 0.9590 - val_f1_m: 0.6535 - val_precision_m: 0.9501 - val_recall_m: 0.4980\n",
      "Epoch 7/15\n",
      "24/24 [==============================] - 1s 30ms/step - loss: 0.0374 - acc: 0.9826 - f1_m: 0.6916 - precision_m: 0.9811 - recall_m: 0.5341 - val_loss: 0.0454 - val_acc: 0.9660 - val_f1_m: 0.6713 - val_precision_m: 0.9520 - val_recall_m: 0.5185\n",
      "Epoch 8/15\n",
      "24/24 [==============================] - 1s 30ms/step - loss: 0.0309 - acc: 0.9866 - f1_m: 0.7321 - precision_m: 0.9861 - recall_m: 0.5824 - val_loss: 0.0432 - val_acc: 0.9680 - val_f1_m: 0.6799 - val_precision_m: 0.9471 - val_recall_m: 0.5303\n",
      "Epoch 9/15\n",
      "24/24 [==============================] - 1s 30ms/step - loss: 0.0247 - acc: 0.9879 - f1_m: 0.7744 - precision_m: 0.9873 - recall_m: 0.6373 - val_loss: 0.0418 - val_acc: 0.9650 - val_f1_m: 0.6852 - val_precision_m: 0.9413 - val_recall_m: 0.5387\n",
      "Epoch 10/15\n",
      "24/24 [==============================] - 1s 30ms/step - loss: 0.0193 - acc: 0.9867 - f1_m: 0.8262 - precision_m: 0.9896 - recall_m: 0.7094 - val_loss: 0.0413 - val_acc: 0.9660 - val_f1_m: 0.6882 - val_precision_m: 0.9439 - val_recall_m: 0.5416\n",
      "Epoch 11/15\n",
      "24/24 [==============================] - 1s 30ms/step - loss: 0.0150 - acc: 0.9849 - f1_m: 0.8722 - precision_m: 0.9926 - recall_m: 0.7781 - val_loss: 0.0413 - val_acc: 0.9670 - val_f1_m: 0.6899 - val_precision_m: 0.9441 - val_recall_m: 0.5435\n",
      "Epoch 12/15\n",
      "24/24 [==============================] - 1s 30ms/step - loss: 0.0116 - acc: 0.9827 - f1_m: 0.9106 - precision_m: 0.9949 - recall_m: 0.8396 - val_loss: 0.0417 - val_acc: 0.9650 - val_f1_m: 0.6912 - val_precision_m: 0.9404 - val_recall_m: 0.5465\n",
      "Epoch 13/15\n",
      "24/24 [==============================] - 1s 30ms/step - loss: 0.0091 - acc: 0.9805 - f1_m: 0.9396 - precision_m: 0.9965 - recall_m: 0.8889 - val_loss: 0.0426 - val_acc: 0.9660 - val_f1_m: 0.6926 - val_precision_m: 0.9383 - val_recall_m: 0.5489\n",
      "Epoch 14/15\n",
      "24/24 [==============================] - 1s 30ms/step - loss: 0.0072 - acc: 0.9805 - f1_m: 0.9572 - precision_m: 0.9976 - recall_m: 0.9201 - val_loss: 0.0442 - val_acc: 0.9650 - val_f1_m: 0.6902 - val_precision_m: 0.9381 - val_recall_m: 0.5460\n",
      "Epoch 15/15\n",
      "24/24 [==============================] - 1s 29ms/step - loss: 0.0058 - acc: 0.9789 - f1_m: 0.9701 - precision_m: 0.9982 - recall_m: 0.9437 - val_loss: 0.0453 - val_acc: 0.9650 - val_f1_m: 0.6912 - val_precision_m: 0.9375 - val_recall_m: 0.5474\n",
      "Model: \"sequential_2\"\n",
      "_________________________________________________________________\n",
      "Layer (type)                 Output Shape              Param #   \n",
      "=================================================================\n",
      "embedding (Embedding)        (None, 1000, 100)         1000000   \n",
      "_________________________________________________________________\n",
      "flatten (Flatten)            (None, 100000)            0         \n",
      "_________________________________________________________________\n",
      "dense_6 (Dense)              (None, 100)               10000100  \n",
      "=================================================================\n",
      "Total params: 11,000,100\n",
      "Trainable params: 11,000,100\n",
      "Non-trainable params: 0\n",
      "_________________________________________________________________\n"
     ]
    }
   ],
   "source": [
    "\n",
    "model = models.Sequential()\n",
    "model.add(Embedding(10000, 100, input_length=text_len))\n",
    "# our activations have shape `(samples, text_len, 20)`.\n",
    "# We flatten the 3D tensor of embeddings\n",
    "# into a 2D tensor of shape `(samples, text_len * 100)`\n",
    "model.add(Flatten())\n",
    "model.add(layers.Dense(label_len, activation='sigmoid'))\n",
    "\n",
    "model.compile(optimizer='adam',\n",
    "              loss='binary_crossentropy',\n",
    "              metrics=['acc',f1_m,precision_m, recall_m])\n",
    "\n",
    "history = model.fit(partial_X_train,\n",
    "                    partial_Y_train,\n",
    "                    epochs=15,\n",
    "                    batch_size=512,\n",
    "                    validation_data=(X_val, Y_val),\n",
    "                    )\n",
    "\n",
    "model.summary()"
   ]
  },
  {
   "cell_type": "code",
   "execution_count": 20,
   "metadata": {
    "ExecuteTime": {
     "end_time": "2021-06-18T13:38:38.696974Z",
     "start_time": "2021-06-18T13:38:38.530034Z"
    },
    "pycharm": {
     "name": "#%%\n"
    }
   },
   "outputs": [
    {
     "data": {
      "image/png": "[encoded data removed]",
      "text/plain": [
       "<Figure size 432x288 with 1 Axes>"
      ]
     },
     "metadata": {},
     "output_type": "display_data"
    }
   ],
   "source": [
    "import matplotlib.pyplot as plt\n",
    "\n",
    "loss = history.history['loss']\n",
    "val_loss = history.history['val_loss']\n",
    "\n",
    "epochs = range(1, len(loss) + 1)\n",
    "\n",
    "fig = plt.figure()\n",
    "fig.patch.set_facecolor('w')\n",
    "plt.plot(epochs, loss, 'bo', label='Training loss')\n",
    "plt.plot(epochs, val_loss, 'b', label='Validation loss')\n",
    "plt.title('Training and validation loss')\n",
    "plt.xlabel('Epochs')\n",
    "plt.ylabel('Loss')\n",
    "plt.legend()\n",
    "plt.axvline(x=11,color='red',linestyle='--')\n",
    "\n",
    "plt.show()"
   ]
  },
  {
   "cell_type": "code",
   "execution_count": 21,
   "metadata": {
    "ExecuteTime": {
     "end_time": "2021-06-18T13:38:38.860311Z",
     "start_time": "2021-06-18T13:38:38.697955Z"
    },
    "pycharm": {
     "name": "#%%\n"
    }
   },
   "outputs": [
    {
     "data": {
      "text/plain": [
       "<Figure size 432x288 with 0 Axes>"
      ]
     },
     "metadata": {},
     "output_type": "display_data"
    },
    {
     "data": {
      "image/png": "[encoded data removed]",
      "text/plain": [
       "<Figure size 432x288 with 1 Axes>"
      ]
     },
     "metadata": {},
     "output_type": "display_data"
    }
   ],
   "source": [
    "plt.clf()   # clear figure\n",
    "\n",
    "f1_train = history.history['f1_m']\n",
    "f1_val = history.history['val_f1_m']\n",
    "\n",
    "fig = plt.figure()\n",
    "fig.patch.set_facecolor('w')\n",
    "plt.plot(epochs, f1_train, 'bo', label='Training acc')\n",
    "plt.plot(epochs, f1_val, 'b', label='Validation acc')\n",
    "plt.title('Training and validation accuracy')\n",
    "plt.xlabel('Epochs')\n",
    "plt.ylabel('F1 Score')\n",
    "plt.legend()\n",
    "plt.axvline(x=11,color='red',linestyle='--')\n",
    "\n",
    "plt.show()"
   ]
  },
  {
   "cell_type": "markdown",
   "metadata": {
    "pycharm": {
     "name": "#%% md\n"
    }
   },
   "source": [
    "Nous observons un fort overfiting du modèle, nous allons ajouter\n",
    "des couches dropout pour régulariser le modèle"
   ]
  },
  {
   "cell_type": "code",
   "execution_count": 22,
   "metadata": {
    "ExecuteTime": {
     "end_time": "2021-06-18T13:38:39.121381Z",
     "start_time": "2021-06-18T13:38:38.861609Z"
    },
    "pycharm": {
     "name": "#%%\n"
    }
   },
   "outputs": [
    {
     "name": "stdout",
     "output_type": "stream",
     "text": [
      "Loss :  0.047510117292404175\n",
      "Accuracy :  0.9750000238418579\n",
      "f1 Score :  0.6912229657173157\n",
      "precision :  0.9539205431938171\n",
      "recall :  0.544279158115387\n"
     ]
    }
   ],
   "source": [
    "loss, accuracy, f1_score, precision, recall = model.evaluate(X_test, Y_test, verbose=0)\n",
    "\n",
    "print('Loss : ',loss)\n",
    "print('Accuracy : ',accuracy)\n",
    "print('f1 Score : ',f1_score)\n",
    "print('precision : ',precision)\n",
    "print('recall : ',recall)"
   ]
  },
  {
   "cell_type": "markdown",
   "metadata": {},
   "source": [
    "## Ajout de regularisation Dropout et early stopping"
   ]
  },
  {
   "cell_type": "code",
   "execution_count": 45,
   "metadata": {
    "ExecuteTime": {
     "end_time": "2021-06-18T13:42:26.610795Z",
     "start_time": "2021-06-18T13:42:15.613506Z"
    },
    "pycharm": {
     "name": "#%%\n"
    },
    "scrolled": true
   },
   "outputs": [
    {
     "name": "stdout",
     "output_type": "stream",
     "text": [
      "Epoch 1/25\n",
      "24/24 [==============================] - 1s 25ms/step - loss: 0.1414 - acc: 0.6927 - f1_m: 0.4485 - precision_m: 0.6695 - recall_m: 0.3609 - val_loss: 0.0833 - val_acc: 0.7220 - val_f1_m: 0.4788 - val_precision_m: 0.7228 - val_recall_m: 0.3579\n",
      "Epoch 2/25\n",
      "24/24 [==============================] - 0s 17ms/step - loss: 0.0750 - acc: 0.7239 - f1_m: 0.4733 - precision_m: 0.7257 - recall_m: 0.3513 - val_loss: 0.0673 - val_acc: 0.7210 - val_f1_m: 0.4786 - val_precision_m: 0.7221 - val_recall_m: 0.3579\n",
      "Epoch 3/25\n",
      "24/24 [==============================] - 0s 17ms/step - loss: 0.0661 - acc: 0.7332 - f1_m: 0.4794 - precision_m: 0.7340 - recall_m: 0.3560 - val_loss: 0.0643 - val_acc: 0.7490 - val_f1_m: 0.4964 - val_precision_m: 0.7471 - val_recall_m: 0.3717\n",
      "Epoch 4/25\n",
      "24/24 [==============================] - 0s 17ms/step - loss: 0.0629 - acc: 0.8122 - f1_m: 0.5349 - precision_m: 0.8146 - recall_m: 0.3982 - val_loss: 0.0610 - val_acc: 0.8230 - val_f1_m: 0.5461 - val_precision_m: 0.8223 - val_recall_m: 0.4088\n",
      "Epoch 5/25\n",
      "24/24 [==============================] - 0s 17ms/step - loss: 0.0592 - acc: 0.8741 - f1_m: 0.5734 - precision_m: 0.8734 - recall_m: 0.4269 - val_loss: 0.0579 - val_acc: 0.8770 - val_f1_m: 0.5842 - val_precision_m: 0.8756 - val_recall_m: 0.4383\n",
      "Epoch 6/25\n",
      "24/24 [==============================] - 0s 17ms/step - loss: 0.0559 - acc: 0.9109 - f1_m: 0.5994 - precision_m: 0.9096 - recall_m: 0.4471 - val_loss: 0.0555 - val_acc: 0.9150 - val_f1_m: 0.6108 - val_precision_m: 0.9109 - val_recall_m: 0.4595\n",
      "Epoch 7/25\n",
      "24/24 [==============================] - 0s 17ms/step - loss: 0.0531 - acc: 0.9400 - f1_m: 0.6218 - precision_m: 0.9373 - recall_m: 0.4652 - val_loss: 0.0537 - val_acc: 0.9390 - val_f1_m: 0.6261 - val_precision_m: 0.9361 - val_recall_m: 0.4703\n",
      "Epoch 8/25\n",
      "24/24 [==============================] - 0s 17ms/step - loss: 0.0506 - acc: 0.9579 - f1_m: 0.6367 - precision_m: 0.9544 - recall_m: 0.4777 - val_loss: 0.0521 - val_acc: 0.9420 - val_f1_m: 0.6295 - val_precision_m: 0.9357 - val_recall_m: 0.4743\n",
      "Epoch 9/25\n",
      "24/24 [==============================] - 0s 17ms/step - loss: 0.0480 - acc: 0.9683 - f1_m: 0.6487 - precision_m: 0.9687 - recall_m: 0.4877 - val_loss: 0.0505 - val_acc: 0.9510 - val_f1_m: 0.6401 - val_precision_m: 0.9441 - val_recall_m: 0.4842\n",
      "Epoch 10/25\n",
      "24/24 [==============================] - 0s 17ms/step - loss: 0.0451 - acc: 0.9753 - f1_m: 0.6591 - precision_m: 0.9746 - recall_m: 0.4980 - val_loss: 0.0489 - val_acc: 0.9650 - val_f1_m: 0.6520 - val_precision_m: 0.9525 - val_recall_m: 0.4957\n",
      "Epoch 11/25\n",
      "24/24 [==============================] - 0s 17ms/step - loss: 0.0422 - acc: 0.9815 - f1_m: 0.6746 - precision_m: 0.9788 - recall_m: 0.5147 - val_loss: 0.0474 - val_acc: 0.9650 - val_f1_m: 0.6584 - val_precision_m: 0.9540 - val_recall_m: 0.5027\n",
      "Epoch 12/25\n",
      "24/24 [==============================] - 0s 17ms/step - loss: 0.0391 - acc: 0.9823 - f1_m: 0.6916 - precision_m: 0.9798 - recall_m: 0.5346 - val_loss: 0.0460 - val_acc: 0.9670 - val_f1_m: 0.6668 - val_precision_m: 0.9523 - val_recall_m: 0.5130\n",
      "Epoch 13/25\n",
      "24/24 [==============================] - 0s 17ms/step - loss: 0.0361 - acc: 0.9847 - f1_m: 0.7076 - precision_m: 0.9803 - recall_m: 0.5536 - val_loss: 0.0448 - val_acc: 0.9690 - val_f1_m: 0.6763 - val_precision_m: 0.9508 - val_recall_m: 0.5248\n",
      "Epoch 14/25\n",
      "24/24 [==============================] - 0s 17ms/step - loss: 0.0333 - acc: 0.9857 - f1_m: 0.7226 - precision_m: 0.9799 - recall_m: 0.5723 - val_loss: 0.0437 - val_acc: 0.9680 - val_f1_m: 0.6797 - val_precision_m: 0.9511 - val_recall_m: 0.5288\n",
      "Epoch 15/25\n",
      "24/24 [==============================] - 0s 17ms/step - loss: 0.0305 - acc: 0.9863 - f1_m: 0.7415 - precision_m: 0.9806 - recall_m: 0.5963 - val_loss: 0.0429 - val_acc: 0.9680 - val_f1_m: 0.6838 - val_precision_m: 0.9515 - val_recall_m: 0.5337\n",
      "Epoch 16/25\n",
      "24/24 [==============================] - 0s 17ms/step - loss: 0.0278 - acc: 0.9860 - f1_m: 0.7581 - precision_m: 0.9801 - recall_m: 0.6182 - val_loss: 0.0423 - val_acc: 0.9670 - val_f1_m: 0.6876 - val_precision_m: 0.9488 - val_recall_m: 0.5391\n",
      "Epoch 17/25\n",
      "24/24 [==============================] - 0s 17ms/step - loss: 0.0254 - acc: 0.9853 - f1_m: 0.7789 - precision_m: 0.9817 - recall_m: 0.6458 - val_loss: 0.0419 - val_acc: 0.9690 - val_f1_m: 0.6886 - val_precision_m: 0.9498 - val_recall_m: 0.5401\n",
      "Epoch 18/25\n",
      "24/24 [==============================] - 0s 17ms/step - loss: 0.0232 - acc: 0.9855 - f1_m: 0.7975 - precision_m: 0.9831 - recall_m: 0.6711 - val_loss: 0.0415 - val_acc: 0.9690 - val_f1_m: 0.6929 - val_precision_m: 0.9478 - val_recall_m: 0.5461\n",
      "Epoch 19/25\n",
      "24/24 [==============================] - 0s 17ms/step - loss: 0.0213 - acc: 0.9845 - f1_m: 0.8132 - precision_m: 0.9827 - recall_m: 0.6937 - val_loss: 0.0412 - val_acc: 0.9700 - val_f1_m: 0.6949 - val_precision_m: 0.9449 - val_recall_m: 0.5496\n",
      "Epoch 20/25\n",
      "24/24 [==============================] - 0s 17ms/step - loss: 0.0195 - acc: 0.9830 - f1_m: 0.8319 - precision_m: 0.9829 - recall_m: 0.7214 - val_loss: 0.0414 - val_acc: 0.9690 - val_f1_m: 0.6967 - val_precision_m: 0.9428 - val_recall_m: 0.5525\n",
      "Epoch 21/25\n",
      "24/24 [==============================] - 0s 17ms/step - loss: 0.0179 - acc: 0.9816 - f1_m: 0.8465 - precision_m: 0.9836 - recall_m: 0.7433 - val_loss: 0.0415 - val_acc: 0.9680 - val_f1_m: 0.6951 - val_precision_m: 0.9426 - val_recall_m: 0.5506\n",
      "Epoch 22/25\n",
      "24/24 [==============================] - 0s 17ms/step - loss: 0.0164 - acc: 0.9814 - f1_m: 0.8619 - precision_m: 0.9851 - recall_m: 0.7663 - val_loss: 0.0419 - val_acc: 0.9700 - val_f1_m: 0.6967 - val_precision_m: 0.9467 - val_recall_m: 0.5511\n",
      "Epoch 23/25\n",
      "24/24 [==============================] - 0s 17ms/step - loss: 0.0152 - acc: 0.9782 - f1_m: 0.8725 - precision_m: 0.9856 - recall_m: 0.7828 - val_loss: 0.0418 - val_acc: 0.9700 - val_f1_m: 0.6962 - val_precision_m: 0.9382 - val_recall_m: 0.5535\n",
      "Epoch 24/25\n",
      "24/24 [==============================] - 0s 17ms/step - loss: 0.0141 - acc: 0.9798 - f1_m: 0.8837 - precision_m: 0.9871 - recall_m: 0.8000 - val_loss: 0.0422 - val_acc: 0.9690 - val_f1_m: 0.6972 - val_precision_m: 0.9361 - val_recall_m: 0.5554\n",
      "Epoch 25/25\n",
      "24/24 [==============================] - 0s 17ms/step - loss: 0.0130 - acc: 0.9767 - f1_m: 0.8928 - precision_m: 0.9860 - recall_m: 0.8158 - val_loss: 0.0428 - val_acc: 0.9690 - val_f1_m: 0.6956 - val_precision_m: 0.9374 - val_recall_m: 0.5530\n",
      "Model: \"sequential_6\"\n",
      "_________________________________________________________________\n",
      "Layer (type)                 Output Shape              Param #   \n",
      "=================================================================\n",
      "embedding_4 (Embedding)      (None, 1000, 30)          300000    \n",
      "_________________________________________________________________\n",
      "dropout_2 (Dropout)          (None, 1000, 30)          0         \n",
      "_________________________________________________________________\n",
      "flatten_4 (Flatten)          (None, 30000)             0         \n",
      "_________________________________________________________________\n",
      "dense_11 (Dense)             (None, 100)               3000100   \n",
      "=================================================================\n",
      "Total params: 3,300,100\n",
      "Trainable params: 3,300,100\n",
      "Non-trainable params: 0\n",
      "_________________________________________________________________\n"
     ]
    }
   ],
   "source": [
    "\n",
    "model = models.Sequential()\n",
    "model.add(Embedding(10000, 30, input_length=text_len))\n",
    "model.add(layers.Dropout(0.5))\n",
    "model.add(Flatten())\n",
    "# ajout de la régularisation par Dropout des 50% des unités\n",
    "model.add(layers.Dense(label_len, activation='sigmoid'))\n",
    "\n",
    "model.compile(optimizer='adam',\n",
    "              loss='binary_crossentropy',\n",
    "              metrics=['acc',f1_m,precision_m, recall_m])\n",
    "\n",
    "history = model.fit(partial_X_train,\n",
    "                    partial_Y_train,\n",
    "                    epochs=25,\n",
    "                    batch_size=512,\n",
    "                    validation_data=(X_val, Y_val),\n",
    "                    )\n",
    "\n",
    "model.summary()"
   ]
  },
  {
   "cell_type": "code",
   "execution_count": 46,
   "metadata": {
    "ExecuteTime": {
     "end_time": "2021-06-18T13:47:19.069466Z",
     "start_time": "2021-06-18T13:47:18.916825Z"
    },
    "pycharm": {
     "name": "#%%\n"
    }
   },
   "outputs": [
    {
     "data": {
      "image/png": "[encoded data removed]",
      "text/plain": [
       "<Figure size 432x288 with 1 Axes>"
      ]
     },
     "metadata": {},
     "output_type": "display_data"
    }
   ],
   "source": [
    "import matplotlib.pyplot as plt\n",
    "\n",
    "loss = history.history['loss']\n",
    "val_loss = history.history['val_loss']\n",
    "\n",
    "epochs = range(1, len(loss) + 1)\n",
    "\n",
    "fig = plt.figure()\n",
    "fig.patch.set_facecolor('w')\n",
    "plt.plot(epochs, loss, 'bo', label='Training loss')\n",
    "plt.plot(epochs, val_loss, 'b', label='Validation loss')\n",
    "plt.title('Training and validation loss')\n",
    "plt.xlabel('Epochs')\n",
    "plt.ylabel('Loss')\n",
    "plt.legend()\n",
    "plt.axvline(x=23,color='red',linestyle='--')\n",
    "\n",
    "plt.show()"
   ]
  },
  {
   "cell_type": "code",
   "execution_count": 47,
   "metadata": {
    "ExecuteTime": {
     "end_time": "2021-06-18T13:47:26.803108Z",
     "start_time": "2021-06-18T13:47:26.659617Z"
    },
    "pycharm": {
     "name": "#%%\n"
    }
   },
   "outputs": [
    {
     "data": {
      "text/plain": [
       "<Figure size 432x288 with 0 Axes>"
      ]
     },
     "metadata": {},
     "output_type": "display_data"
    },
    {
     "data": {
      "image/png": "[encoded data removed]",
      "text/plain": [
       "<Figure size 432x288 with 1 Axes>"
      ]
     },
     "metadata": {},
     "output_type": "display_data"
    }
   ],
   "source": [
    "plt.clf()   # clear figure\n",
    "\n",
    "f1_train = history.history['f1_m']\n",
    "f1_val = history.history['val_f1_m']\n",
    "\n",
    "fig = plt.figure()\n",
    "fig.patch.set_facecolor('w')\n",
    "plt.plot(epochs, f1_train, 'bo', label='Training acc')\n",
    "plt.plot(epochs, f1_val, 'b', label='Validation acc')\n",
    "plt.title('Training and validation accuracy')\n",
    "plt.xlabel('Epochs')\n",
    "plt.ylabel('F1 Score')\n",
    "plt.legend()\n",
    "plt.axvline(x=23,color='red',linestyle='--')\n",
    "\n",
    "plt.show()"
   ]
  },
  {
   "cell_type": "markdown",
   "metadata": {},
   "source": [
    "Nous n'observons plus un fort overfiting du modèle, après l'ajout\n",
    "des couches dropout pour régulariser le modèle"
   ]
  },
  {
   "cell_type": "code",
   "execution_count": 26,
   "metadata": {
    "ExecuteTime": {
     "end_time": "2021-06-18T13:38:50.987672Z",
     "start_time": "2021-06-18T13:38:50.907631Z"
    },
    "pycharm": {
     "name": "#%%\n"
    }
   },
   "outputs": [
    {
     "name": "stdout",
     "output_type": "stream",
     "text": [
      "Loss :  0.04533364623785019\n",
      "Accuracy :  0.9779999852180481\n",
      "f1 Score :  0.6889243721961975\n",
      "precision :  0.9564610123634338\n",
      "recall :  0.5397246479988098\n"
     ]
    }
   ],
   "source": [
    "loss, accuracy, f1_score, precision, recall = model.evaluate(X_test, Y_test, verbose=0)\n",
    "\n",
    "print('Loss : ',loss)\n",
    "print('Accuracy : ',accuracy)\n",
    "print('f1 Score : ',f1_score)\n",
    "print('precision : ',precision)\n",
    "print('recall : ',recall)"
   ]
  },
  {
   "cell_type": "code",
   "execution_count": 27,
   "metadata": {
    "ExecuteTime": {
     "end_time": "2021-06-18T13:39:00.338623Z",
     "start_time": "2021-06-18T13:38:50.989230Z"
    },
    "pycharm": {
     "name": "#%%\n"
    }
   },
   "outputs": [
    {
     "name": "stdout",
     "output_type": "stream",
     "text": [
      "Epoch 1/20\n",
      "24/24 [==============================] - 1s 22ms/step - loss: 0.1361 - acc: 0.6919 - val_loss: 0.0838 - val_acc: 0.7220\n",
      "Epoch 2/20\n",
      "24/24 [==============================] - 0s 18ms/step - loss: 0.0750 - acc: 0.7238 - val_loss: 0.0674 - val_acc: 0.7220\n",
      "Epoch 3/20\n",
      "24/24 [==============================] - 0s 18ms/step - loss: 0.0664 - acc: 0.7258 - val_loss: 0.0646 - val_acc: 0.7360\n",
      "Epoch 4/20\n",
      "24/24 [==============================] - 0s 18ms/step - loss: 0.0635 - acc: 0.7987 - val_loss: 0.0615 - val_acc: 0.8160\n",
      "Epoch 5/20\n",
      "24/24 [==============================] - 0s 18ms/step - loss: 0.0598 - acc: 0.8715 - val_loss: 0.0583 - val_acc: 0.8890\n",
      "Epoch 6/20\n",
      "24/24 [==============================] - 0s 18ms/step - loss: 0.0564 - acc: 0.9106 - val_loss: 0.0558 - val_acc: 0.9110\n",
      "Epoch 7/20\n",
      "24/24 [==============================] - 0s 18ms/step - loss: 0.0536 - acc: 0.9401 - val_loss: 0.0538 - val_acc: 0.9320\n",
      "Epoch 8/20\n",
      "24/24 [==============================] - 0s 18ms/step - loss: 0.0512 - acc: 0.9582 - val_loss: 0.0525 - val_acc: 0.9430\n",
      "Epoch 9/20\n",
      "24/24 [==============================] - 0s 18ms/step - loss: 0.0488 - acc: 0.9702 - val_loss: 0.0509 - val_acc: 0.9520\n",
      "Epoch 10/20\n",
      "24/24 [==============================] - 0s 18ms/step - loss: 0.0462 - acc: 0.9767 - val_loss: 0.0495 - val_acc: 0.9610\n",
      "Epoch 11/20\n",
      "24/24 [==============================] - 0s 18ms/step - loss: 0.0434 - acc: 0.9795 - val_loss: 0.0479 - val_acc: 0.9680\n",
      "Epoch 12/20\n",
      "24/24 [==============================] - 0s 18ms/step - loss: 0.0405 - acc: 0.9839 - val_loss: 0.0465 - val_acc: 0.9680\n",
      "Epoch 13/20\n",
      "24/24 [==============================] - 0s 18ms/step - loss: 0.0374 - acc: 0.9853 - val_loss: 0.0451 - val_acc: 0.9700\n",
      "Epoch 14/20\n",
      "24/24 [==============================] - 0s 18ms/step - loss: 0.0344 - acc: 0.9859 - val_loss: 0.0440 - val_acc: 0.9720\n",
      "Epoch 15/20\n",
      "24/24 [==============================] - 0s 18ms/step - loss: 0.0314 - acc: 0.9871 - val_loss: 0.0430 - val_acc: 0.9720\n",
      "Epoch 16/20\n",
      "24/24 [==============================] - 0s 18ms/step - loss: 0.0288 - acc: 0.9866 - val_loss: 0.0424 - val_acc: 0.9730\n",
      "Epoch 17/20\n",
      "24/24 [==============================] - 0s 18ms/step - loss: 0.0262 - acc: 0.9861 - val_loss: 0.0417 - val_acc: 0.9720\n",
      "Epoch 18/20\n",
      "24/24 [==============================] - 0s 18ms/step - loss: 0.0240 - acc: 0.9833 - val_loss: 0.0415 - val_acc: 0.9710\n",
      "Epoch 19/20\n",
      "24/24 [==============================] - 0s 18ms/step - loss: 0.0218 - acc: 0.9860 - val_loss: 0.0413 - val_acc: 0.9720\n",
      "Epoch 20/20\n",
      "24/24 [==============================] - 0s 18ms/step - loss: 0.0199 - acc: 0.9825 - val_loss: 0.0413 - val_acc: 0.9700\n",
      "Model: \"sequential_4\"\n",
      "_________________________________________________________________\n",
      "Layer (type)                 Output Shape              Param #   \n",
      "=================================================================\n",
      "embedding_2 (Embedding)      (None, 1000, 30)          300000    \n",
      "_________________________________________________________________\n",
      "dropout_1 (Dropout)          (None, 1000, 30)          0         \n",
      "_________________________________________________________________\n",
      "flatten_2 (Flatten)          (None, 30000)             0         \n",
      "_________________________________________________________________\n",
      "dense_8 (Dense)              (None, 100)               3000100   \n",
      "=================================================================\n",
      "Total params: 3,300,100\n",
      "Trainable params: 3,300,100\n",
      "Non-trainable params: 0\n",
      "_________________________________________________________________\n"
     ]
    }
   ],
   "source": [
    "# On re entraine le modèle du début pour 20 epoch\n",
    "model = models.Sequential()\n",
    "model.add(Embedding(10000, 30, input_length=text_len))\n",
    "# diminution de la dimension des embedings\n",
    "model.add(layers.Dropout(0.5))\n",
    "model.add(Flatten())\n",
    "# ajout de la régularisation par Dropout des 50% des unités\n",
    "model.add(layers.Dense(label_len, activation='sigmoid'))\n",
    "\n",
    "model.compile(optimizer='adam',\n",
    "              loss='binary_crossentropy',\n",
    "              metrics=['acc']) #,f1_m,precision_m, recall_m]) je supprime le metric pour pouvoir exporter le modele\n",
    "\n",
    "history = model.fit(partial_X_train,\n",
    "                    partial_Y_train,\n",
    "                    epochs=20,\n",
    "                    batch_size=512,\n",
    "                    validation_data=(X_val, Y_val),\n",
    "                    )\n",
    "model.summary()"
   ]
  },
  {
   "cell_type": "code",
   "execution_count": 28,
   "metadata": {
    "ExecuteTime": {
     "end_time": "2021-06-18T13:39:00.415419Z",
     "start_time": "2021-06-18T13:39:00.339617Z"
    },
    "pycharm": {
     "name": "#%%\n"
    }
   },
   "outputs": [],
   "source": [
    "embedd_predict = model.predict(X_test)\n",
    "embedd_predict_ones = (embedd_predict>0.4).astype(int)"
   ]
  },
  {
   "cell_type": "code",
   "execution_count": 29,
   "metadata": {
    "ExecuteTime": {
     "end_time": "2021-06-18T13:39:00.812142Z",
     "start_time": "2021-06-18T13:39:00.416610Z"
    }
   },
   "outputs": [
    {
     "name": "stdout",
     "output_type": "stream",
     "text": [
      "Nombre de Tags pour l'entrainement:  100\n",
      "f1-score: 0.70\n",
      "precision_score: 0.94\n",
      "recall_score: 0.55\n"
     ]
    }
   ],
   "source": [
    "from sklearn.metrics import f1_score , precision_score, recall_score\n",
    "\n",
    "f1_score_model        = f1_score(Y_test, embedd_predict_ones, average=\"micro\")\n",
    "precision_score_model = precision_score(Y_test, embedd_predict_ones, average=\"micro\")\n",
    "recall_score_model    = recall_score(Y_test, embedd_predict_ones, average=\"micro\")\n",
    "\n",
    "nb_tag = len(Y_test[0])\n",
    "\n",
    "print(\"Nombre de Tags pour l'entrainement: \", nb_tag)\n",
    "print(\"f1-score: {:.2f}\".format(f1_score_model))\n",
    "print(\"precision_score: {:.2f}\".format(precision_score_model))\n",
    "print(\"recall_score: {:.2f}\".format(recall_score_model))\n"
   ]
  },
  {
   "cell_type": "code",
   "execution_count": 30,
   "metadata": {
    "ExecuteTime": {
     "end_time": "2021-06-18T13:39:00.816537Z",
     "start_time": "2021-06-18T13:39:00.813491Z"
    },
    "pycharm": {
     "name": "#%%\n"
    },
    "scrolled": true
   },
   "outputs": [
    {
     "data": {
      "text/plain": [
       "array([  0, 741, 274,  60,  40,  16,  18,  12,  13,   1,  23,   0,   1,\n",
       "         6,   6,   5,   0,   4,   3,   1,   0,   2,   1,   0,   0,   1,\n",
       "         3,   2,   0,   0,   0,   0,   0,   2,   0,   0,   1,   0,   0,\n",
       "         0,   1,   0,   0,   0,   0,   1,   0,   0,   0,   0,   0,   0,\n",
       "         2,   0,   0,   0,   0,   0,   0,   0,   0,   0,   0,   0,   0,\n",
       "         0,   0,   0,   0,   0,   0,   0,   0,   0,   0,   0,   0,   0,\n",
       "         0,   0,   0,   0,   0,   0,   0,   0,   0,   0,   0,   0,   0,\n",
       "         0,   0,   0,   0,   0,   0,   0,   0,   0])"
      ]
     },
     "execution_count": 30,
     "metadata": {},
     "output_type": "execute_result"
    }
   ],
   "source": [
    "np.sum(embedd_predict_ones,axis=0)"
   ]
  },
  {
   "cell_type": "code",
   "execution_count": 31,
   "metadata": {
    "ExecuteTime": {
     "end_time": "2021-06-18T13:39:00.827939Z",
     "start_time": "2021-06-18T13:39:00.817605Z"
    },
    "pycharm": {
     "name": "#%%\n"
    },
    "scrolled": true
   },
   "outputs": [
    {
     "data": {
      "text/plain": [
       "array([  0, 724, 280,  76,  41,  39,  38,  28,  32,  30,  33,  27,  25,\n",
       "        16,  20,  21,  19,  15,  24,  21,  16,   9,  19,   9,  19,   9,\n",
       "         8,  14,   6,  10,  10,  14,  10,  13,  13,   8,  10,   9,   7,\n",
       "        11,   7,  10,   9,   5,  11,  10,   7,   6,  10,   8,   7,  10,\n",
       "        11,   2,   7,  10,   4,   6,   6,   6,   5,  10,   9,   5,   4,\n",
       "         9,   6,   6,   6,   9,   8,   8,   6,   9,   3,   5,   3,   6,\n",
       "         4,   6,   3,   5,   5,   8,   5,   5,   5,   3,   4,   5,   8,\n",
       "         9,   5,   5,   7,   4,   4,   5,   4,   4])"
      ]
     },
     "execution_count": 31,
     "metadata": {},
     "output_type": "execute_result"
    }
   ],
   "source": [
    "np.sum(Y_test,axis=0)"
   ]
  },
  {
   "cell_type": "code",
   "execution_count": 32,
   "metadata": {
    "ExecuteTime": {
     "end_time": "2021-06-18T13:39:01.092768Z",
     "start_time": "2021-06-18T13:39:00.829305Z"
    },
    "pycharm": {
     "name": "#%%\n"
    }
   },
   "outputs": [],
   "source": [
    "embedd_predict = model.predict(partial_X_train)\n",
    "embedd_predict_ones = (embedd_predict>0.5).astype(int)"
   ]
  },
  {
   "cell_type": "code",
   "execution_count": 33,
   "metadata": {
    "ExecuteTime": {
     "end_time": "2021-06-18T13:39:01.098779Z",
     "start_time": "2021-06-18T13:39:01.094091Z"
    },
    "pycharm": {
     "name": "#%%\n"
    }
   },
   "outputs": [
    {
     "data": {
      "text/plain": [
       "array([   0, 8641, 3338,  645,  506,  336,  368,  189,  224,   80,  248,\n",
       "         79,   46,  176,  104,   96,   59,  160,   88,   21,  130,  147,\n",
       "         70,   69,   26,   78,   53,   83,   30,   24,   63,   50,   36,\n",
       "         82,   66,   39,   51,   40,   59,   75,   56,   32,   25,   42,\n",
       "         12,   48,   19,   43,   23,   21,   15,   31,   70,   41,   23,\n",
       "         22,   33,    9,   41,   20,   19,   45,   35,   27,    9,   20,\n",
       "         32,   34,   23,   10,   14,   13,   22,   27,   10,   11,   41,\n",
       "         13,   34,   16,   14,   37,    8,    7,   28,   23,   16,   35,\n",
       "         16,   11,    8,    9,   23,    7,    9,   18,   20,   16,   14,\n",
       "         16])"
      ]
     },
     "execution_count": 33,
     "metadata": {},
     "output_type": "execute_result"
    }
   ],
   "source": [
    "np.sum(embedd_predict_ones,axis=0)"
   ]
  },
  {
   "cell_type": "code",
   "execution_count": 34,
   "metadata": {
    "ExecuteTime": {
     "end_time": "2021-06-18T13:39:01.108003Z",
     "start_time": "2021-06-18T13:39:01.100069Z"
    },
    "pycharm": {
     "name": "#%%\n"
    },
    "scrolled": true
   },
   "outputs": [
    {
     "data": {
      "text/plain": [
       "array([   0, 8618, 3380,  713,  552,  509,  449,  392,  334,  312,  309,\n",
       "        269,  277,  276,  251,  218,  194,  206,  192,  182,  168,  181,\n",
       "        163,  136,  150,  141,  136,  131,  118,  136,  132,  131,  119,\n",
       "        126,  120,  110,  116,  102,  111,   91,  104,   97,  105,   99,\n",
       "         89,   87,   94,   98,   86,   94,   81,   86,   87,   83,   86,\n",
       "         73,   78,   78,   83,   80,   84,   73,   80,   78,   74,   74,\n",
       "         80,   78,   65,   66,   71,   66,   65,   58,   72,   63,   69,\n",
       "         68,   66,   64,   62,   63,   58,   55,   59,   60,   58,   60,\n",
       "         60,   58,   58,   56,   56,   55,   50,   53,   54,   53,   54,\n",
       "         48])"
      ]
     },
     "execution_count": 34,
     "metadata": {},
     "output_type": "execute_result"
    }
   ],
   "source": [
    "np.sum(partial_Y_train,axis=0)"
   ]
  },
  {
   "cell_type": "code",
   "execution_count": 35,
   "metadata": {
    "ExecuteTime": {
     "end_time": "2021-06-18T13:39:01.117281Z",
     "start_time": "2021-06-18T13:39:01.109562Z"
    },
    "scrolled": true
   },
   "outputs": [
    {
     "name": "stdout",
     "output_type": "stream",
     "text": [
      "Text before vectoring : \n",
      " Is it possible to define global variables in a function in Python <p>How do I declare a global variable in a function in Python? </p>\n",
      "\n",
      "<p>That is, so that it doesn't have to be declared before but can be used outside of the function.</p>\n",
      " \n",
      "\n",
      "Tags before vectoring :  python function global-variables\n",
      "Tags vectorize matrix :  [0 1 0 0 0 0 0 0 0 0 0 0 0 0 0 0 0 0 0 0 0 0 0 0 0 0 0 0 0 1 0 0 0 0 0 0 0\n",
      " 0 0 0 0 0 0 0 1 0 0 0 0 0 0 0 0 0 0 0 0 0 0 0 0 0 0 0 0 0 0 0 0 0 0 0 0 0\n",
      " 0 0 0 0 0 0 0 0 0 0 0 0 0 0 0 0 0 0 0 0 0 0 0 0 0 0]\n",
      "Tags vectorized :  ['python', 'function', 'variables']\n",
      "Tags predicted matrix:  [0. 1. 0. 1. 0. 0. 0. 0. 0. 0. 0. 0. 0. 0. 0. 0. 0. 0. 0. 0. 0. 0. 0. 0.\n",
      " 0. 0. 0. 0. 0. 0. 0. 0. 0. 0. 0. 0. 0. 0. 0. 0. 0. 0. 0. 0. 0. 0. 0. 0.\n",
      " 0. 0. 0. 0. 0. 0. 0. 0. 0. 0. 0. 0. 0. 0. 0. 0. 0. 0. 0. 0. 0. 0. 0. 0.\n",
      " 0. 0. 0. 0. 0. 0. 0. 0. 0. 0. 0. 0. 0. 0. 0. 0. 0. 0. 0. 0. 0. 0. 0. 0.\n",
      " 0. 0. 0. 0.]\n",
      "Tags predicted :  ['python', 'django']\n"
     ]
    }
   ],
   "source": [
    "id_sample = 900\n",
    "\n",
    "#print('reverse word index Y : ',reverse_word_index_Y)\n",
    "print('Text before vectoring : \\n',text_train[id_sample],'\\n')\n",
    "print('Tags before vectoring : ',tag_train[id_sample])\n",
    "print('Tags vectorize matrix : ',Y_train_padded[id_sample])\n",
    "\n",
    "sample_tag = vector_to_list_of_tags(Y_train_padded[id_sample],reverse_word_index_Y)\n",
    "print('Tags vectorized : ',sample_tag)\n",
    "\n",
    "sample_tag_pred = vector_to_list_of_tags(embedd_predict_ones[id_sample],reverse_word_index_Y)\n",
    "print('Tags predicted matrix: ',np.around(embedd_predict[id_sample], decimals=1))\n",
    "print('Tags predicted : ',sample_tag_pred)"
   ]
  },
  {
   "cell_type": "markdown",
   "metadata": {},
   "source": [
    "## Exportation pour l'API"
   ]
  },
  {
   "cell_type": "code",
   "execution_count": 36,
   "metadata": {
    "ExecuteTime": {
     "end_time": "2021-06-18T13:39:01.168821Z",
     "start_time": "2021-06-18T13:39:01.118344Z"
    }
   },
   "outputs": [],
   "source": [
    "import pickle # pour exporter les modèles entrainés\n",
    "\n",
    "pickle.dump(tokenizer_X, open('API/models/keras_tokenizer_X.pickle', 'wb')) # enregistre le modeèle de transformation X\n",
    "pickle.dump(tokenizer_Y, open('API/models/keras_tokenizer_Y.pickle', 'wb')) # enregistre le modeèle de transformation X"
   ]
  },
  {
   "cell_type": "code",
   "execution_count": 37,
   "metadata": {
    "ExecuteTime": {
     "end_time": "2021-06-18T13:39:01.243979Z",
     "start_time": "2021-06-18T13:39:01.170723Z"
    },
    "pycharm": {
     "name": "#%%\n"
    }
   },
   "outputs": [],
   "source": [
    "model.save('API/models/keras_embedding.h5')"
   ]
  },
  {
   "cell_type": "code",
   "execution_count": 38,
   "metadata": {
    "ExecuteTime": {
     "end_time": "2021-06-18T13:39:01.617463Z",
     "start_time": "2021-06-18T13:39:01.245423Z"
    },
    "pycharm": {
     "name": "#%%\n"
    },
    "scrolled": true
   },
   "outputs": [],
   "source": [
    "import pickle  as p# pour exporter les modèles entrainés\n",
    "from tensorflow.keras.models import load_model\n",
    "tokenizer_X = p.load(open('API/models/keras_tokenizer_X.pickle', 'rb'))\n",
    "tokenizer_Y = p.load(open('API/models/keras_tokenizer_Y.pickle', 'rb'))\n",
    "model = load_model('API/models/keras_embedding.h5')\n",
    "\n",
    "X_train = tokenizer_X.texts_to_sequences('python')\n",
    "X_train_padded = pad_sequences(X_train, padding=\"post\",maxlen=1000)\n",
    "y_predict = (model.predict(X_train_padded))\n",
    "sample_tag = [y_predict.tolist()]\n",
    "tag = vector_to_list_of_tags(y_predict[0], reverse_word_index_Y)"
   ]
  },
  {
   "cell_type": "markdown",
   "metadata": {
    "pycharm": {
     "name": "#%% md\n"
    }
   },
   "source": [
    "# Utilisation d'un embedding pré entrainé Glove\n",
    "Nous avons aussi testé l'embedding pre-entrainé Glove, mais les resultats ne sont pas meilleures que l'embedding entrainé avec le modèle"
   ]
  },
  {
   "cell_type": "code",
   "execution_count": 39,
   "metadata": {
    "ExecuteTime": {
     "end_time": "2021-06-18T13:39:06.053460Z",
     "start_time": "2021-06-18T13:39:01.618673Z"
    },
    "pycharm": {
     "name": "#%%\n"
    }
   },
   "outputs": [
    {
     "name": "stdout",
     "output_type": "stream",
     "text": [
      "Found 400000 word vectors.\n"
     ]
    }
   ],
   "source": [
    "import os\n",
    "# fichier téléchargé de https://nlp.stanford.edu/projects/glove/\n",
    "glove_dir = 'embedding/glove.6B/'\n",
    "\n",
    "embeddings_index = {}\n",
    "f = open(os.path.join(glove_dir, 'glove.6B.50d.txt'))\n",
    "for line in f:\n",
    "    values = line.split()\n",
    "    word = values[0]\n",
    "    coefs = np.asarray(values[1:], dtype='float32')\n",
    "    embeddings_index[word] = coefs\n",
    "f.close()\n",
    "\n",
    "print('Found %s word vectors.' % len(embeddings_index))"
   ]
  },
  {
   "cell_type": "code",
   "execution_count": 40,
   "metadata": {
    "ExecuteTime": {
     "end_time": "2021-06-18T13:39:06.095937Z",
     "start_time": "2021-06-18T13:39:06.054706Z"
    },
    "pycharm": {
     "name": "#%%\n"
    }
   },
   "outputs": [],
   "source": [
    "max_words = 10000\n",
    "embedding_dim = 50 # dimension du embedding importé glove.6B.50d.txt\n",
    "\n",
    "embedding_matrix = np.zeros((max_words, embedding_dim))\n",
    "for word, i in word_index_X.items():\n",
    "    embedding_vector = embeddings_index.get(word)\n",
    "    if i < max_words:\n",
    "        if embedding_vector is not None:\n",
    "            # Words not found in embedding index will be all-zeros.\n",
    "            embedding_matrix[i] = embedding_vector"
   ]
  },
  {
   "cell_type": "code",
   "execution_count": 41,
   "metadata": {
    "ExecuteTime": {
     "end_time": "2021-06-18T13:39:11.924999Z",
     "start_time": "2021-06-18T13:39:06.098199Z"
    },
    "pycharm": {
     "name": "#%%\n"
    }
   },
   "outputs": [
    {
     "name": "stdout",
     "output_type": "stream",
     "text": [
      "Model: \"sequential_5\"\n",
      "_________________________________________________________________\n",
      "Layer (type)                 Output Shape              Param #   \n",
      "=================================================================\n",
      "embedding_3 (Embedding)      (None, 1000, 50)          500000    \n",
      "_________________________________________________________________\n",
      "flatten_3 (Flatten)          (None, 50000)             0         \n",
      "_________________________________________________________________\n",
      "dense_9 (Dense)              (None, 128)               6400128   \n",
      "_________________________________________________________________\n",
      "dense_10 (Dense)             (None, 100)               12900     \n",
      "=================================================================\n",
      "Total params: 6,913,028\n",
      "Trainable params: 6,913,028\n",
      "Non-trainable params: 0\n",
      "_________________________________________________________________\n",
      "Epoch 1/10\n",
      "24/24 [==============================] - 1s 28ms/step - loss: 0.2067 - acc: 0.5863 - f1_m: 0.3681 - precision_m: 0.5111 - recall_m: 0.4226 - val_loss: 0.0899 - val_acc: 0.7700 - val_f1_m: 0.4999 - val_precision_m: 0.7779 - val_recall_m: 0.3683\n",
      "Epoch 2/10\n",
      "24/24 [==============================] - 0s 21ms/step - loss: 0.0744 - acc: 0.8275 - f1_m: 0.5432 - precision_m: 0.8177 - recall_m: 0.4069 - val_loss: 0.0676 - val_acc: 0.8210 - val_f1_m: 0.5390 - val_precision_m: 0.8216 - val_recall_m: 0.4011\n",
      "Epoch 3/10\n",
      "24/24 [==============================] - 0s 21ms/step - loss: 0.0588 - acc: 0.8758 - f1_m: 0.5847 - precision_m: 0.8775 - recall_m: 0.4385 - val_loss: 0.0628 - val_acc: 0.8480 - val_f1_m: 0.5633 - val_precision_m: 0.8401 - val_recall_m: 0.4238\n",
      "Epoch 4/10\n",
      "24/24 [==============================] - 0s 21ms/step - loss: 0.0514 - acc: 0.9107 - f1_m: 0.6195 - precision_m: 0.9194 - recall_m: 0.4673 - val_loss: 0.0607 - val_acc: 0.8580 - val_f1_m: 0.5680 - val_precision_m: 0.8596 - val_recall_m: 0.4242\n",
      "Epoch 5/10\n",
      "24/24 [==============================] - 1s 21ms/step - loss: 0.0461 - acc: 0.9379 - f1_m: 0.6504 - precision_m: 0.9493 - recall_m: 0.4948 - val_loss: 0.0592 - val_acc: 0.9010 - val_f1_m: 0.5957 - val_precision_m: 0.8931 - val_recall_m: 0.4469\n",
      "Epoch 6/10\n",
      "24/24 [==============================] - 1s 21ms/step - loss: 0.0418 - acc: 0.9543 - f1_m: 0.6787 - precision_m: 0.9646 - recall_m: 0.5237 - val_loss: 0.0582 - val_acc: 0.9050 - val_f1_m: 0.5962 - val_precision_m: 0.8957 - val_recall_m: 0.4468\n",
      "Epoch 7/10\n",
      "24/24 [==============================] - 1s 21ms/step - loss: 0.0380 - acc: 0.9646 - f1_m: 0.7001 - precision_m: 0.9739 - recall_m: 0.5465 - val_loss: 0.0574 - val_acc: 0.9120 - val_f1_m: 0.5987 - val_precision_m: 0.9109 - val_recall_m: 0.4460\n",
      "Epoch 8/10\n",
      "24/24 [==============================] - 0s 21ms/step - loss: 0.0344 - acc: 0.9719 - f1_m: 0.7258 - precision_m: 0.9806 - recall_m: 0.5762 - val_loss: 0.0569 - val_acc: 0.9240 - val_f1_m: 0.6121 - val_precision_m: 0.9330 - val_recall_m: 0.4554\n",
      "Epoch 9/10\n",
      "24/24 [==============================] - 0s 21ms/step - loss: 0.0313 - acc: 0.9765 - f1_m: 0.7475 - precision_m: 0.9858 - recall_m: 0.6021 - val_loss: 0.0566 - val_acc: 0.9270 - val_f1_m: 0.6176 - val_precision_m: 0.9321 - val_recall_m: 0.4619\n",
      "Epoch 10/10\n",
      "24/24 [==============================] - 0s 21ms/step - loss: 0.0284 - acc: 0.9806 - f1_m: 0.7676 - precision_m: 0.9881 - recall_m: 0.6277 - val_loss: 0.0564 - val_acc: 0.9300 - val_f1_m: 0.6232 - val_precision_m: 0.9293 - val_recall_m: 0.4689\n"
     ]
    }
   ],
   "source": [
    "from keras.models import Sequential\n",
    "from keras.layers import Embedding, Flatten, Dense\n",
    "\n",
    "model = Sequential()\n",
    "model.add(Embedding(10000, embedding_dim, input_length=text_len))\n",
    "model.add(Flatten())\n",
    "model.add(Dense(128, activation='relu'))\n",
    "model.add(Dense(label_len, activation='sigmoid'))\n",
    "model.summary()\n",
    "\n",
    "# charger l'embedding entrainé\n",
    "model.layers[0].set_weights([embedding_matrix])\n",
    "model.layers[0].trainable = True\n",
    "\n",
    "\n",
    "model.compile(optimizer='adam',\n",
    "              loss='binary_crossentropy',\n",
    "              metrics=['acc',f1_m,precision_m, recall_m])\n",
    "\n",
    "\n",
    "history = model.fit(partial_X_train,\n",
    "                    partial_Y_train,\n",
    "                    epochs=10,\n",
    "                    batch_size=512,\n",
    "                    validation_data=(X_val, Y_val),\n",
    "                    )\n",
    "\n",
    "model.save_weights('pre_trained_glove_model.h5')\n"
   ]
  },
  {
   "cell_type": "code",
   "execution_count": 42,
   "metadata": {
    "ExecuteTime": {
     "end_time": "2021-06-18T13:39:12.072756Z",
     "start_time": "2021-06-18T13:39:11.926154Z"
    },
    "pycharm": {
     "name": "#%%\n"
    }
   },
   "outputs": [
    {
     "data": {
      "image/png": "[encoded data removed]",
      "text/plain": [
       "<Figure size 432x288 with 1 Axes>"
      ]
     },
     "metadata": {},
     "output_type": "display_data"
    }
   ],
   "source": [
    "import matplotlib.pyplot as plt\n",
    "\n",
    "loss = history.history['loss']\n",
    "val_loss = history.history['val_loss']\n",
    "\n",
    "epochs = range(1, len(loss) + 1)\n",
    "\n",
    "fig = plt.figure()\n",
    "fig.patch.set_facecolor('w')\n",
    "plt.plot(epochs, loss, 'bo', label='Training loss')\n",
    "plt.plot(epochs, val_loss, 'b', label='Validation loss')\n",
    "plt.title('Training and validation loss')\n",
    "plt.xlabel('Epochs')\n",
    "plt.ylabel('Loss')\n",
    "plt.legend()\n",
    "plt.axvline(x=9,color='red',linestyle='--')\n",
    "\n",
    "plt.show()"
   ]
  },
  {
   "cell_type": "code",
   "execution_count": 43,
   "metadata": {
    "ExecuteTime": {
     "end_time": "2021-06-18T13:39:12.217475Z",
     "start_time": "2021-06-18T13:39:12.074006Z"
    },
    "pycharm": {
     "name": "#%%\n"
    }
   },
   "outputs": [
    {
     "data": {
      "text/plain": [
       "<Figure size 432x288 with 0 Axes>"
      ]
     },
     "metadata": {},
     "output_type": "display_data"
    },
    {
     "data": {
      "image/png": "[encoded data removed]",
      "text/plain": [
       "<Figure size 432x288 with 1 Axes>"
      ]
     },
     "metadata": {},
     "output_type": "display_data"
    }
   ],
   "source": [
    "plt.clf()   # clear figure\n",
    "\n",
    "f1_train = history.history['f1_m']\n",
    "f1_val = history.history['val_f1_m']\n",
    "\n",
    "fig = plt.figure()\n",
    "fig.patch.set_facecolor('w')\n",
    "plt.plot(epochs, f1_train, 'bo', label='Training acc')\n",
    "plt.plot(epochs, f1_val, 'b', label='Validation acc')\n",
    "plt.title('Training and validation accuracy')\n",
    "plt.xlabel('Epochs')\n",
    "plt.ylabel('F1 Score')\n",
    "plt.legend()\n",
    "plt.axvline(x=9,color='red',linestyle='--')\n",
    "\n",
    "plt.show()"
   ]
  },
  {
   "cell_type": "code",
   "execution_count": 44,
   "metadata": {
    "ExecuteTime": {
     "end_time": "2021-06-18T13:39:12.306220Z",
     "start_time": "2021-06-18T13:39:12.219006Z"
    },
    "pycharm": {
     "name": "#%%\n"
    }
   },
   "outputs": [
    {
     "name": "stdout",
     "output_type": "stream",
     "text": [
      "Loss :  0.06110845506191254\n",
      "Accuracy :  0.925000011920929\n",
      "f1 Score :  0.602151095867157\n",
      "precision :  0.9226933717727661\n",
      "recall :  0.4481428861618042\n"
     ]
    }
   ],
   "source": [
    "loss, accuracy, f1_score, precision, recall = model.evaluate(X_test, Y_test, verbose=0)\n",
    "\n",
    "print('Loss : ',loss)\n",
    "print('Accuracy : ',accuracy)\n",
    "print('f1 Score : ',f1_score)\n",
    "print('precision : ',precision)\n",
    "print('recall : ',recall)"
   ]
  }
 ],
 "metadata": {
  "kernelspec": {
   "display_name": "PyCharm (P5_StackOverflow)",
   "language": "python",
   "name": "pycharm-b70b49f9"
  },
  "language_info": {
   "codemirror_mode": {
    "name": "ipython",
    "version": 3
   },
   "file_extension": ".py",
   "mimetype": "text/x-python",
   "name": "python",
   "nbconvert_exporter": "python",
   "pygments_lexer": "ipython3",
   "version": "3.8.5"
  },
  "toc": {
   "base_numbering": 1,
   "nav_menu": {},
   "number_sections": true,
   "sideBar": true,
   "skip_h1_title": false,
   "title_cell": "Table of Contents",
   "title_sidebar": "Contents",
   "toc_cell": false,
   "toc_position": {
    "height": "calc(100% - 180px)",
    "left": "10px",
    "top": "150px",
    "width": "295.675px"
   },
   "toc_section_display": true,
   "toc_window_display": false
  },
  "varInspector": {
   "cols": {
    "lenName": 16,
    "lenType": 16,
    "lenVar": 40
   },
   "kernels_config": {
    "python": {
     "delete_cmd_postfix": "",
     "delete_cmd_prefix": "del ",
     "library": "var_list.py",
     "varRefreshCmd": "print(var_dic_list())"
    },
    "r": {
     "delete_cmd_postfix": ") ",
     "delete_cmd_prefix": "rm(",
     "library": "var_list.r",
     "varRefreshCmd": "cat(var_dic_list()) "
    }
   },
   "types_to_exclude": [
    "module",
    "function",
    "builtin_function_or_method",
    "instance",
    "_Feature"
   ],
   "window_display": false
  }
 },
 "nbformat": 4,
 "nbformat_minor": 1
}
