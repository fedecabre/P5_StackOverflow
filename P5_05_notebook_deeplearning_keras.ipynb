{
 "cells": [
  {
   "cell_type": "markdown",
   "metadata": {
    "collapsed": true,
    "pycharm": {
     "name": "#%% md\n"
    }
   },
   "source": [
    "Avec les mêmes données des post Python et R nous allons entrainer deux modèles des réseau de neurones\n",
    "avec Keras et TensorFlow"
   ]
  },
  {
   "cell_type": "markdown",
   "metadata": {
    "pycharm": {
     "name": "#%% md\n"
    }
   },
   "source": [
    "# importation du dataset et conversion"
   ]
  },
  {
   "cell_type": "code",
   "execution_count": 1,
   "metadata": {
    "ExecuteTime": {
     "end_time": "2021-06-18T09:12:32.788845Z",
     "start_time": "2021-06-18T09:12:32.296308Z"
    },
    "pycharm": {
     "name": "#%%\n"
    }
   },
   "outputs": [],
   "source": [
    "import numpy as np\n",
    "import pandas as pd\n",
    "\n",
    "dtypes_questions = {'Id':'int32', 'Score': 'int16', 'Title': 'str',\n",
    "                    'Body': 'str', 'Title_raw': 'str', 'Text': 'str',\n",
    "                    'Tags': 'str','Text_raw':'str'}\n",
    "\n",
    "nrows = 20000\n",
    "\n",
    "df_questions = pd.read_csv('df_questions_fullclean.csv',\n",
    "                           usecols=dtypes_questions.keys(),\n",
    "                           encoding = \"utf-8\",\n",
    "                           dtype=dtypes_questions,\n",
    "                           nrows=nrows\n",
    "                          )\n",
    "\n",
    "\n",
    "text_train, tag_train = df_questions.Text_raw, df_questions.Tags"
   ]
  },
  {
   "cell_type": "markdown",
   "metadata": {
    "pycharm": {
     "name": "#%% md\n"
    }
   },
   "source": [
    "Nous obtenons un boost de performance en utilisant le `texte brut` sans prétraitement passant d'un\n",
    "f1 score de 82.6 %  à un f1 Score de 83.4 %, nous allons garder par la suite le texte sans prétraitement"
   ]
  },
  {
   "cell_type": "code",
   "execution_count": 2,
   "metadata": {
    "ExecuteTime": {
     "end_time": "2021-06-18T09:12:37.409421Z",
     "start_time": "2021-06-18T09:12:32.790127Z"
    },
    "pycharm": {
     "name": "#%%\n"
    },
    "scrolled": true
   },
   "outputs": [
    {
     "name": "stdout",
     "output_type": "stream",
     "text": [
      "Found 61763 unique tokens in the posts.\n",
      "Found 2966 unique tokens in the tags.\n"
     ]
    }
   ],
   "source": [
    "from keras.preprocessing.text import Tokenizer\n",
    "from keras.preprocessing.sequence import pad_sequences\n",
    "\n",
    "# Nous créons un tokenizer, configuré pour ne prendre\n",
    "# en compte que les 10000 mots les plus courants pour\n",
    "# le texte et 100 pour les tags\n",
    "\n",
    "tokenizer_X = Tokenizer(num_words=10000)\n",
    "tokenizer_Y = Tokenizer(num_words=33)  # 33 tags limite pour un modèle à deux layers sans embedding\n",
    "\n",
    "tokenizer_X.fit_on_texts(text_train)\n",
    "tokenizer_Y.fit_on_texts(tag_train)\n",
    "\n",
    "X_train = tokenizer_X.texts_to_matrix(text_train, mode='binary')\n",
    "Y_train = tokenizer_Y.texts_to_matrix(tag_train, mode='binary')\n",
    "\n",
    "X_train_padded = pad_sequences(X_train, padding=\"post\")\n",
    "Y_train_padded = pad_sequences(Y_train, padding=\"post\")\n",
    "\n",
    "label_len=len(Y_train_padded[0])\n",
    "\n",
    "# Les posts ont été randomisés dans le prétraitement, nous utilisons les premiers 1000 post\n",
    "# comme Validation et les suivants 1000 comme notre test set le restant de notre dataset\n",
    "# sera utilisé pour entrainement du modèle\n",
    "\n",
    "X_val = X_train_padded[:1000]\n",
    "X_test = X_train_padded[1000:2000]\n",
    "partial_X_train = X_train_padded[2000:]\n",
    "\n",
    "Y_val = Y_train_padded[:1000]\n",
    "Y_test = Y_train_padded[1000:2000]\n",
    "partial_Y_train = Y_train_padded[2000:]\n",
    "\n",
    "# Nous créons deux dictionnaires avec tous les mots trouvés dans le datasets et pas seulement\n",
    "# ceux utilisés pour vectoriser les datas, nous avons donc  61769 mots pour les posts et\n",
    "# 2966 mots pour les tags. Nous créons aussi un dictionnaire inversée que va nous servir pour\n",
    "# traduire les prédictions du modèle\n",
    "\n",
    "word_index_X = tokenizer_X.word_index\n",
    "word_index_Y = tokenizer_Y.word_index\n",
    "\n",
    "reverse_word_index_Y = dict (\n",
    "    [(value,key) for (key,value) in word_index_Y.items()]\n",
    ")\n",
    "print('Found %s unique tokens in the posts.' % len(word_index_X))\n",
    "print('Found %s unique tokens in the tags.' % len(word_index_Y))"
   ]
  },
  {
   "cell_type": "markdown",
   "metadata": {},
   "source": [
    "# Modèle avec deux couches denses"
   ]
  },
  {
   "cell_type": "code",
   "execution_count": 3,
   "metadata": {
    "ExecuteTime": {
     "end_time": "2021-06-18T09:12:38.439362Z",
     "start_time": "2021-06-18T09:12:37.410535Z"
    },
    "pycharm": {
     "name": "#%%\n"
    }
   },
   "outputs": [],
   "source": [
    "from keras import models\n",
    "from keras import layers\n",
    "\n",
    "model = models.Sequential()\n",
    "model.add(layers.Dense(100, activation='tanh'))\n",
    "model.add(layers.Dense(100, activation='tanh'))\n",
    "model.add(layers.Dense(label_len, activation='sigmoid'))"
   ]
  },
  {
   "cell_type": "markdown",
   "metadata": {
    "pycharm": {
     "name": "#%% md\n"
    }
   },
   "source": [
    "Le modèle choisi est composé de deux couches denses avec 100 unité chacun qui semblé\n",
    "être bien adapté pour liste de 32 tags, lors du passage à 100 tags\n",
    "le réseux n'est plus capable d'apprendre plus de deux tags, nous avons\n",
    "donc augmenté le nombre d'unités des deux premières couches allant jusqu'à 5000 unités\n",
    "et nous avons aussi essayé d'aumenter le nombre de couches sans succès"
   ]
  },
  {
   "cell_type": "code",
   "execution_count": 4,
   "metadata": {
    "ExecuteTime": {
     "end_time": "2021-06-18T09:12:38.446021Z",
     "start_time": "2021-06-18T09:12:38.440827Z"
    },
    "pycharm": {
     "name": "#%%\n"
    }
   },
   "outputs": [],
   "source": [
    "from keras import backend as K\n",
    "\n",
    "def recall_m(y_true, y_pred):\n",
    "    true_positives = K.sum(K.round(K.clip(y_true * y_pred, 0, 1)))\n",
    "    possible_positives = K.sum(K.round(K.clip(y_true, 0, 1)))\n",
    "    recall = true_positives / (possible_positives + K.epsilon())\n",
    "    return recall\n",
    "\n",
    "def precision_m(y_true, y_pred):\n",
    "    true_positives = K.sum(K.round(K.clip(y_true * y_pred, 0, 1)))\n",
    "    predicted_positives = K.sum(K.round(K.clip(y_pred, 0, 1)))\n",
    "    precision = true_positives / (predicted_positives + K.epsilon())\n",
    "    return precision\n",
    "\n",
    "def f1_m(y_true, y_pred):\n",
    "    precision = precision_m(y_true, y_pred)\n",
    "    recall = recall_m(y_true, y_pred)\n",
    "    return 2*((precision*recall)/(precision+recall+K.epsilon()))\n",
    "\n"
   ]
  },
  {
   "cell_type": "code",
   "execution_count": 5,
   "metadata": {
    "ExecuteTime": {
     "end_time": "2021-06-18T09:12:38.461573Z",
     "start_time": "2021-06-18T09:12:38.447447Z"
    },
    "pycharm": {
     "name": "#%%\n"
    }
   },
   "outputs": [],
   "source": [
    "model.compile(optimizer='adam',\n",
    "              loss='binary_crossentropy',\n",
    "              metrics=['acc',f1_m,precision_m, recall_m])"
   ]
  },
  {
   "cell_type": "code",
   "execution_count": 6,
   "metadata": {
    "ExecuteTime": {
     "end_time": "2021-06-18T09:12:46.982782Z",
     "start_time": "2021-06-18T09:12:38.463171Z"
    },
    "pycharm": {
     "name": "#%%\n"
    },
    "scrolled": true
   },
   "outputs": [
    {
     "name": "stdout",
     "output_type": "stream",
     "text": [
      "Epoch 1/30\n",
      "24/24 [==============================] - 2s 17ms/step - loss: 0.3208 - acc: 0.6696 - f1_m: 0.4839 - precision_m: 0.6040 - recall_m: 0.4491 - val_loss: 0.1361 - val_acc: 0.7220 - val_f1_m: 0.5573 - val_precision_m: 0.7228 - val_recall_m: 0.4535\n",
      "Epoch 2/30\n",
      "24/24 [==============================] - 0s 9ms/step - loss: 0.1272 - acc: 0.7243 - f1_m: 0.5494 - precision_m: 0.7255 - recall_m: 0.4421 - val_loss: 0.1160 - val_acc: 0.7320 - val_f1_m: 0.5626 - val_precision_m: 0.7345 - val_recall_m: 0.4560\n",
      "Epoch 3/30\n",
      "24/24 [==============================] - 0s 10ms/step - loss: 0.1143 - acc: 0.8104 - f1_m: 0.6167 - precision_m: 0.8139 - recall_m: 0.4965 - val_loss: 0.1056 - val_acc: 0.8570 - val_f1_m: 0.6611 - val_precision_m: 0.8494 - val_recall_m: 0.5411\n",
      "Epoch 4/30\n",
      "24/24 [==============================] - 0s 9ms/step - loss: 0.1021 - acc: 0.9224 - f1_m: 0.7047 - precision_m: 0.9213 - recall_m: 0.5707 - val_loss: 0.0946 - val_acc: 0.9390 - val_f1_m: 0.7260 - val_precision_m: 0.9366 - val_recall_m: 0.5927\n",
      "Epoch 5/30\n",
      "24/24 [==============================] - 0s 10ms/step - loss: 0.0921 - acc: 0.9702 - f1_m: 0.7401 - precision_m: 0.9714 - recall_m: 0.5978 - val_loss: 0.0876 - val_acc: 0.9620 - val_f1_m: 0.7426 - val_precision_m: 0.9611 - val_recall_m: 0.6051\n",
      "Epoch 6/30\n",
      "24/24 [==============================] - 0s 10ms/step - loss: 0.0858 - acc: 0.9841 - f1_m: 0.7513 - precision_m: 0.9874 - recall_m: 0.6064 - val_loss: 0.0833 - val_acc: 0.9660 - val_f1_m: 0.7479 - val_precision_m: 0.9661 - val_recall_m: 0.6101\n",
      "Epoch 7/30\n",
      "24/24 [==============================] - 0s 9ms/step - loss: 0.0810 - acc: 0.9898 - f1_m: 0.7619 - precision_m: 0.9928 - recall_m: 0.6183 - val_loss: 0.0798 - val_acc: 0.9700 - val_f1_m: 0.7568 - val_precision_m: 0.9705 - val_recall_m: 0.6202\n",
      "Epoch 8/30\n",
      "24/24 [==============================] - 0s 9ms/step - loss: 0.0765 - acc: 0.9930 - f1_m: 0.7716 - precision_m: 0.9950 - recall_m: 0.6302 - val_loss: 0.0763 - val_acc: 0.9730 - val_f1_m: 0.7645 - val_precision_m: 0.9711 - val_recall_m: 0.6304\n",
      "Epoch 9/30\n",
      "24/24 [==============================] - 0s 9ms/step - loss: 0.0719 - acc: 0.9945 - f1_m: 0.7811 - precision_m: 0.9966 - recall_m: 0.6423 - val_loss: 0.0728 - val_acc: 0.9750 - val_f1_m: 0.7787 - val_precision_m: 0.9683 - val_recall_m: 0.6513\n",
      "Epoch 10/30\n",
      "24/24 [==============================] - 0s 9ms/step - loss: 0.0672 - acc: 0.9958 - f1_m: 0.8008 - precision_m: 0.9972 - recall_m: 0.6692 - val_loss: 0.0693 - val_acc: 0.9780 - val_f1_m: 0.7918 - val_precision_m: 0.9743 - val_recall_m: 0.6670\n",
      "Epoch 11/30\n",
      "24/24 [==============================] - 0s 9ms/step - loss: 0.0626 - acc: 0.9950 - f1_m: 0.8134 - precision_m: 0.9967 - recall_m: 0.6872 - val_loss: 0.0661 - val_acc: 0.9800 - val_f1_m: 0.7981 - val_precision_m: 0.9773 - val_recall_m: 0.6745\n",
      "Epoch 12/30\n",
      "24/24 [==============================] - 0s 9ms/step - loss: 0.0583 - acc: 0.9971 - f1_m: 0.8217 - precision_m: 0.9966 - recall_m: 0.6991 - val_loss: 0.0632 - val_acc: 0.9790 - val_f1_m: 0.8016 - val_precision_m: 0.9748 - val_recall_m: 0.6809\n",
      "Epoch 13/30\n",
      "24/24 [==============================] - 0s 9ms/step - loss: 0.0540 - acc: 0.9954 - f1_m: 0.8303 - precision_m: 0.9967 - recall_m: 0.7118 - val_loss: 0.0605 - val_acc: 0.9790 - val_f1_m: 0.8071 - val_precision_m: 0.9734 - val_recall_m: 0.6896\n",
      "Epoch 14/30\n",
      "24/24 [==============================] - 0s 9ms/step - loss: 0.0497 - acc: 0.9964 - f1_m: 0.8383 - precision_m: 0.9960 - recall_m: 0.7239 - val_loss: 0.0580 - val_acc: 0.9800 - val_f1_m: 0.8112 - val_precision_m: 0.9728 - val_recall_m: 0.6959\n",
      "Epoch 15/30\n",
      "24/24 [==============================] - 0s 9ms/step - loss: 0.0456 - acc: 0.9961 - f1_m: 0.8478 - precision_m: 0.9952 - recall_m: 0.7384 - val_loss: 0.0559 - val_acc: 0.9780 - val_f1_m: 0.8162 - val_precision_m: 0.9665 - val_recall_m: 0.7065\n",
      "Epoch 16/30\n",
      "24/24 [==============================] - 0s 9ms/step - loss: 0.0418 - acc: 0.9959 - f1_m: 0.8582 - precision_m: 0.9942 - recall_m: 0.7551 - val_loss: 0.0541 - val_acc: 0.9770 - val_f1_m: 0.8204 - val_precision_m: 0.9644 - val_recall_m: 0.7140\n",
      "Epoch 17/30\n",
      "24/24 [==============================] - 0s 9ms/step - loss: 0.0382 - acc: 0.9960 - f1_m: 0.8699 - precision_m: 0.9941 - recall_m: 0.7735 - val_loss: 0.0528 - val_acc: 0.9770 - val_f1_m: 0.8240 - val_precision_m: 0.9630 - val_recall_m: 0.7202\n",
      "Epoch 18/30\n",
      "24/24 [==============================] - 0s 9ms/step - loss: 0.0348 - acc: 0.9955 - f1_m: 0.8840 - precision_m: 0.9943 - recall_m: 0.7958 - val_loss: 0.0519 - val_acc: 0.9780 - val_f1_m: 0.8247 - val_precision_m: 0.9615 - val_recall_m: 0.7220\n",
      "Epoch 19/30\n",
      "24/24 [==============================] - 0s 8ms/step - loss: 0.0316 - acc: 0.9950 - f1_m: 0.8958 - precision_m: 0.9950 - recall_m: 0.8147 - val_loss: 0.0511 - val_acc: 0.9770 - val_f1_m: 0.8292 - val_precision_m: 0.9542 - val_recall_m: 0.7332\n",
      "Epoch 20/30\n",
      "24/24 [==============================] - 0s 9ms/step - loss: 0.0287 - acc: 0.9940 - f1_m: 0.9069 - precision_m: 0.9950 - recall_m: 0.8333 - val_loss: 0.0508 - val_acc: 0.9750 - val_f1_m: 0.8301 - val_precision_m: 0.9513 - val_recall_m: 0.7364\n",
      "Epoch 21/30\n",
      "24/24 [==============================] - 0s 9ms/step - loss: 0.0260 - acc: 0.9940 - f1_m: 0.9185 - precision_m: 0.9956 - recall_m: 0.8526 - val_loss: 0.0505 - val_acc: 0.9740 - val_f1_m: 0.8294 - val_precision_m: 0.9454 - val_recall_m: 0.7388\n",
      "Epoch 22/30\n",
      "24/24 [==============================] - 0s 9ms/step - loss: 0.0235 - acc: 0.9931 - f1_m: 0.9299 - precision_m: 0.9953 - recall_m: 0.8727 - val_loss: 0.0507 - val_acc: 0.9730 - val_f1_m: 0.8281 - val_precision_m: 0.9439 - val_recall_m: 0.7377\n",
      "Epoch 23/30\n",
      "24/24 [==============================] - 0s 9ms/step - loss: 0.0212 - acc: 0.9936 - f1_m: 0.9404 - precision_m: 0.9966 - recall_m: 0.8903 - val_loss: 0.0510 - val_acc: 0.9740 - val_f1_m: 0.8290 - val_precision_m: 0.9403 - val_recall_m: 0.7413\n",
      "Epoch 24/30\n",
      "24/24 [==============================] - 0s 9ms/step - loss: 0.0191 - acc: 0.9925 - f1_m: 0.9500 - precision_m: 0.9970 - recall_m: 0.9072 - val_loss: 0.0512 - val_acc: 0.9730 - val_f1_m: 0.8284 - val_precision_m: 0.9339 - val_recall_m: 0.7444\n",
      "Epoch 25/30\n",
      "24/24 [==============================] - 0s 9ms/step - loss: 0.0173 - acc: 0.9929 - f1_m: 0.9583 - precision_m: 0.9974 - recall_m: 0.9221 - val_loss: 0.0517 - val_acc: 0.9740 - val_f1_m: 0.8274 - val_precision_m: 0.9372 - val_recall_m: 0.7407\n",
      "Epoch 26/30\n",
      "24/24 [==============================] - 0s 9ms/step - loss: 0.0157 - acc: 0.9915 - f1_m: 0.9655 - precision_m: 0.9977 - recall_m: 0.9354 - val_loss: 0.0522 - val_acc: 0.9750 - val_f1_m: 0.8283 - val_precision_m: 0.9317 - val_recall_m: 0.7456\n",
      "Epoch 27/30\n",
      "24/24 [==============================] - 0s 10ms/step - loss: 0.0142 - acc: 0.9917 - f1_m: 0.9728 - precision_m: 0.9978 - recall_m: 0.9490 - val_loss: 0.0527 - val_acc: 0.9730 - val_f1_m: 0.8279 - val_precision_m: 0.9296 - val_recall_m: 0.7463\n",
      "Epoch 28/30\n",
      "24/24 [==============================] - 0s 9ms/step - loss: 0.0130 - acc: 0.9913 - f1_m: 0.9774 - precision_m: 0.9984 - recall_m: 0.9573 - val_loss: 0.0533 - val_acc: 0.9770 - val_f1_m: 0.8283 - val_precision_m: 0.9249 - val_recall_m: 0.7502\n",
      "Epoch 29/30\n",
      "24/24 [==============================] - 0s 9ms/step - loss: 0.0118 - acc: 0.9919 - f1_m: 0.9816 - precision_m: 0.9986 - recall_m: 0.9653 - val_loss: 0.0540 - val_acc: 0.9760 - val_f1_m: 0.8287 - val_precision_m: 0.9249 - val_recall_m: 0.7507\n",
      "Epoch 30/30\n",
      "24/24 [==============================] - 0s 9ms/step - loss: 0.0109 - acc: 0.9905 - f1_m: 0.9844 - precision_m: 0.9988 - recall_m: 0.9706 - val_loss: 0.0546 - val_acc: 0.9740 - val_f1_m: 0.8285 - val_precision_m: 0.9235 - val_recall_m: 0.7513\n",
      "Model: \"sequential\"\n",
      "_________________________________________________________________\n",
      "Layer (type)                 Output Shape              Param #   \n",
      "=================================================================\n",
      "dense (Dense)                (None, 100)               1000100   \n",
      "_________________________________________________________________\n",
      "dense_1 (Dense)              (None, 100)               10100     \n",
      "_________________________________________________________________\n",
      "dense_2 (Dense)              (None, 33)                3333      \n",
      "=================================================================\n",
      "Total params: 1,013,533\n",
      "Trainable params: 1,013,533\n",
      "Non-trainable params: 0\n",
      "_________________________________________________________________\n"
     ]
    }
   ],
   "source": [
    "\n",
    "history = model.fit(partial_X_train,\n",
    "                    partial_Y_train,\n",
    "                    epochs=30,\n",
    "                    batch_size=512,\n",
    "                    validation_data=(X_val, Y_val))\n",
    "model.summary()"
   ]
  },
  {
   "cell_type": "code",
   "execution_count": 7,
   "metadata": {
    "ExecuteTime": {
     "end_time": "2021-06-18T09:12:47.256587Z",
     "start_time": "2021-06-18T09:12:46.984063Z"
    },
    "pycharm": {
     "name": "#%%\n"
    }
   },
   "outputs": [
    {
     "data": {
      "image/png": "[encoded data removed]",
      "text/plain": [
       "<Figure size 432x288 with 1 Axes>"
      ]
     },
     "metadata": {},
     "output_type": "display_data"
    }
   ],
   "source": [
    "import matplotlib.pyplot as plt\n",
    "\n",
    "loss = history.history['loss']\n",
    "val_loss = history.history['val_loss']\n",
    "\n",
    "epochs = range(1, len(loss) + 1)\n",
    "\n",
    "fig = plt.figure()\n",
    "fig.patch.set_facecolor('w')\n",
    "plt.plot(epochs, loss, 'bo', label='Training loss')\n",
    "plt.plot(epochs, val_loss, 'b', label='Validation loss')\n",
    "plt.title('Training and validation loss')\n",
    "plt.xlabel('Epochs')\n",
    "plt.ylabel('Loss')\n",
    "plt.legend()\n",
    "plt.axvline(x=25,color='red',linestyle='--')\n",
    "\n",
    "plt.show()"
   ]
  },
  {
   "cell_type": "code",
   "execution_count": 8,
   "metadata": {
    "ExecuteTime": {
     "end_time": "2021-06-18T09:12:47.461997Z",
     "start_time": "2021-06-18T09:12:47.257745Z"
    },
    "pycharm": {
     "name": "#%%\n"
    }
   },
   "outputs": [
    {
     "data": {
      "text/plain": [
       "<Figure size 432x288 with 0 Axes>"
      ]
     },
     "metadata": {},
     "output_type": "display_data"
    },
    {
     "data": {
      "image/png": "[encoded data removed]",
      "text/plain": [
       "<Figure size 432x288 with 1 Axes>"
      ]
     },
     "metadata": {},
     "output_type": "display_data"
    }
   ],
   "source": [
    "plt.clf()   # clear figure\n",
    "\n",
    "f1_train = history.history['f1_m']\n",
    "f1_val = history.history['val_f1_m']\n",
    "\n",
    "fig = plt.figure()\n",
    "fig.patch.set_facecolor('w')\n",
    "plt.plot(epochs, f1_train, 'bo', label='Training acc')\n",
    "plt.plot(epochs, f1_val, 'b', label='Validation acc')\n",
    "plt.title('Training and validation accuracy')\n",
    "plt.xlabel('Epochs')\n",
    "plt.ylabel('F1 Score')\n",
    "plt.legend()\n",
    "plt.axvline(x=25,color='red',linestyle='--')\n",
    "\n",
    "plt.show()"
   ]
  },
  {
   "cell_type": "code",
   "execution_count": 9,
   "metadata": {
    "ExecuteTime": {
     "end_time": "2021-06-18T09:12:47.565798Z",
     "start_time": "2021-06-18T09:12:47.463008Z"
    },
    "pycharm": {
     "name": "#%%\n"
    }
   },
   "outputs": [
    {
     "name": "stdout",
     "output_type": "stream",
     "text": [
      "Loss :  0.05626441538333893\n",
      "Accuracy :  0.9679999947547913\n",
      "f1 Score :  0.8281728625297546\n",
      "precision :  0.9290321469306946\n",
      "recall :  0.749347448348999\n"
     ]
    }
   ],
   "source": [
    "loss, accuracy, f1_score, precision, recall = model.evaluate(X_test, Y_test, verbose=0)\n",
    "\n",
    "print('Loss : ',loss)\n",
    "print('Accuracy : ',accuracy)\n",
    "print('f1 Score : ',f1_score)\n",
    "print('precision : ',precision)\n",
    "print('recall : ',recall)"
   ]
  },
  {
   "cell_type": "code",
   "execution_count": 10,
   "metadata": {
    "ExecuteTime": {
     "end_time": "2021-06-18T09:12:48.248932Z",
     "start_time": "2021-06-18T09:12:47.566793Z"
    },
    "pycharm": {
     "name": "#%%\n"
    }
   },
   "outputs": [],
   "source": [
    "Y_predict = model.predict(X_train_padded)"
   ]
  },
  {
   "cell_type": "code",
   "execution_count": 11,
   "metadata": {
    "ExecuteTime": {
     "end_time": "2021-06-18T09:12:48.254934Z",
     "start_time": "2021-06-18T09:12:48.249937Z"
    },
    "pycharm": {
     "name": "#%%\n"
    },
    "scrolled": true
   },
   "outputs": [
    {
     "data": {
      "text/plain": [
       "array([    0, 10089,  3926,   822,   623,   568,   507,   416,   355,\n",
       "         296,   353,   272,   265,   259,   273,   226,   170,   224,\n",
       "         184,   159,   188,   181,   170,   133,   105,   145,   123,\n",
       "         146,   102,    79,   119,    92,   112])"
      ]
     },
     "execution_count": 11,
     "metadata": {},
     "output_type": "execute_result"
    }
   ],
   "source": [
    "Y_predict_ones = (Y_predict>0.5).astype(int)\n",
    "np.sum(Y_predict_ones,axis=0)"
   ]
  },
  {
   "cell_type": "markdown",
   "metadata": {},
   "source": [
    "## modèle regularisé avec early stopping"
   ]
  },
  {
   "cell_type": "code",
   "execution_count": 12,
   "metadata": {
    "ExecuteTime": {
     "end_time": "2021-06-18T09:12:54.485409Z",
     "start_time": "2021-06-18T09:12:48.256004Z"
    },
    "pycharm": {
     "name": "#%%\n"
    },
    "scrolled": true
   },
   "outputs": [
    {
     "name": "stdout",
     "output_type": "stream",
     "text": [
      "Epoch 1/25\n",
      "24/24 [==============================] - 1s 16ms/step - loss: 0.3289 - acc: 0.5289 - f1_m: 0.4084 - precision_m: 0.5596 - recall_m: 0.3638 - val_loss: 0.1394 - val_acc: 0.7220 - val_f1_m: 0.5573 - val_precision_m: 0.7228 - val_recall_m: 0.4535\n",
      "Epoch 2/25\n",
      "24/24 [==============================] - 0s 9ms/step - loss: 0.1298 - acc: 0.7238 - f1_m: 0.5487 - precision_m: 0.7233 - recall_m: 0.4420 - val_loss: 0.1195 - val_acc: 0.7220 - val_f1_m: 0.5573 - val_precision_m: 0.7228 - val_recall_m: 0.4535\n",
      "Epoch 3/25\n",
      "24/24 [==============================] - 0s 9ms/step - loss: 0.1187 - acc: 0.7524 - f1_m: 0.5751 - precision_m: 0.7473 - recall_m: 0.4677 - val_loss: 0.1096 - val_acc: 0.8050 - val_f1_m: 0.6267 - val_precision_m: 0.7919 - val_recall_m: 0.5186\n",
      "Epoch 4/25\n",
      "24/24 [==============================] - 0s 9ms/step - loss: 0.1062 - acc: 0.8891 - f1_m: 0.6808 - precision_m: 0.8796 - recall_m: 0.5553 - val_loss: 0.0978 - val_acc: 0.9140 - val_f1_m: 0.7073 - val_precision_m: 0.9098 - val_recall_m: 0.5785\n",
      "Epoch 5/25\n",
      "24/24 [==============================] - 0s 9ms/step - loss: 0.0947 - acc: 0.9608 - f1_m: 0.7332 - precision_m: 0.9617 - recall_m: 0.5925 - val_loss: 0.0896 - val_acc: 0.9480 - val_f1_m: 0.7342 - val_precision_m: 0.9486 - val_recall_m: 0.5989\n",
      "Epoch 6/25\n",
      "24/24 [==============================] - 0s 9ms/step - loss: 0.0874 - acc: 0.9806 - f1_m: 0.7492 - precision_m: 0.9837 - recall_m: 0.6051 - val_loss: 0.0846 - val_acc: 0.9650 - val_f1_m: 0.7466 - val_precision_m: 0.9633 - val_recall_m: 0.6095\n",
      "Epoch 7/25\n",
      "24/24 [==============================] - 0s 9ms/step - loss: 0.0825 - acc: 0.9886 - f1_m: 0.7563 - precision_m: 0.9922 - recall_m: 0.6111 - val_loss: 0.0810 - val_acc: 0.9700 - val_f1_m: 0.7546 - val_precision_m: 0.9713 - val_recall_m: 0.6169\n",
      "Epoch 8/25\n",
      "24/24 [==============================] - 0s 9ms/step - loss: 0.0782 - acc: 0.9918 - f1_m: 0.7677 - precision_m: 0.9954 - recall_m: 0.6248 - val_loss: 0.0776 - val_acc: 0.9740 - val_f1_m: 0.7684 - val_precision_m: 0.9721 - val_recall_m: 0.6354\n",
      "Epoch 9/25\n",
      "24/24 [==============================] - 0s 9ms/step - loss: 0.0738 - acc: 0.9935 - f1_m: 0.7844 - precision_m: 0.9972 - recall_m: 0.6467 - val_loss: 0.0742 - val_acc: 0.9740 - val_f1_m: 0.7780 - val_precision_m: 0.9736 - val_recall_m: 0.6480\n",
      "Epoch 10/25\n",
      "24/24 [==============================] - 0s 9ms/step - loss: 0.0691 - acc: 0.9941 - f1_m: 0.7934 - precision_m: 0.9969 - recall_m: 0.6590 - val_loss: 0.0705 - val_acc: 0.9780 - val_f1_m: 0.7840 - val_precision_m: 0.9739 - val_recall_m: 0.6562\n",
      "Epoch 11/25\n",
      "24/24 [==============================] - 0s 9ms/step - loss: 0.0640 - acc: 0.9959 - f1_m: 0.8042 - precision_m: 0.9965 - recall_m: 0.6742 - val_loss: 0.0669 - val_acc: 0.9810 - val_f1_m: 0.7940 - val_precision_m: 0.9744 - val_recall_m: 0.6701\n",
      "Epoch 12/25\n",
      "24/24 [==============================] - 0s 8ms/step - loss: 0.0589 - acc: 0.9951 - f1_m: 0.8150 - precision_m: 0.9954 - recall_m: 0.6901 - val_loss: 0.0637 - val_acc: 0.9790 - val_f1_m: 0.8013 - val_precision_m: 0.9740 - val_recall_m: 0.6809\n",
      "Epoch 13/25\n",
      "24/24 [==============================] - 0s 9ms/step - loss: 0.0539 - acc: 0.9963 - f1_m: 0.8257 - precision_m: 0.9950 - recall_m: 0.7058 - val_loss: 0.0611 - val_acc: 0.9820 - val_f1_m: 0.8058 - val_precision_m: 0.9708 - val_recall_m: 0.6890\n",
      "Epoch 14/25\n",
      "24/24 [==============================] - 0s 9ms/step - loss: 0.0493 - acc: 0.9956 - f1_m: 0.8375 - precision_m: 0.9946 - recall_m: 0.7235 - val_loss: 0.0587 - val_acc: 0.9790 - val_f1_m: 0.8091 - val_precision_m: 0.9693 - val_recall_m: 0.6946\n",
      "Epoch 15/25\n",
      "24/24 [==============================] - 0s 9ms/step - loss: 0.0450 - acc: 0.9966 - f1_m: 0.8510 - precision_m: 0.9942 - recall_m: 0.7440 - val_loss: 0.0568 - val_acc: 0.9810 - val_f1_m: 0.8142 - val_precision_m: 0.9647 - val_recall_m: 0.7045\n",
      "Epoch 16/25\n",
      "24/24 [==============================] - 0s 9ms/step - loss: 0.0410 - acc: 0.9961 - f1_m: 0.8676 - precision_m: 0.9948 - recall_m: 0.7694 - val_loss: 0.0553 - val_acc: 0.9820 - val_f1_m: 0.8159 - val_precision_m: 0.9601 - val_recall_m: 0.7096\n",
      "Epoch 17/25\n",
      "24/24 [==============================] - 0s 9ms/step - loss: 0.0374 - acc: 0.9964 - f1_m: 0.8839 - precision_m: 0.9941 - recall_m: 0.7957 - val_loss: 0.0543 - val_acc: 0.9810 - val_f1_m: 0.8207 - val_precision_m: 0.9597 - val_recall_m: 0.7171\n",
      "Epoch 18/25\n",
      "24/24 [==============================] - 0s 9ms/step - loss: 0.0341 - acc: 0.9961 - f1_m: 0.8979 - precision_m: 0.9946 - recall_m: 0.8185 - val_loss: 0.0535 - val_acc: 0.9780 - val_f1_m: 0.8255 - val_precision_m: 0.9494 - val_recall_m: 0.7304\n",
      "Epoch 19/25\n",
      "24/24 [==============================] - 0s 9ms/step - loss: 0.0312 - acc: 0.9960 - f1_m: 0.9063 - precision_m: 0.9947 - recall_m: 0.8325 - val_loss: 0.0530 - val_acc: 0.9770 - val_f1_m: 0.8260 - val_precision_m: 0.9436 - val_recall_m: 0.7347\n",
      "Epoch 20/25\n",
      "24/24 [==============================] - 0s 9ms/step - loss: 0.0285 - acc: 0.9958 - f1_m: 0.9155 - precision_m: 0.9951 - recall_m: 0.8478 - val_loss: 0.0530 - val_acc: 0.9780 - val_f1_m: 0.8288 - val_precision_m: 0.9468 - val_recall_m: 0.7371\n",
      "Epoch 21/25\n",
      "24/24 [==============================] - 0s 8ms/step - loss: 0.0261 - acc: 0.9961 - f1_m: 0.9252 - precision_m: 0.9957 - recall_m: 0.8641 - val_loss: 0.0531 - val_acc: 0.9760 - val_f1_m: 0.8279 - val_precision_m: 0.9402 - val_recall_m: 0.7397\n",
      "Epoch 22/25\n",
      "24/24 [==============================] - 0s 9ms/step - loss: 0.0239 - acc: 0.9954 - f1_m: 0.9335 - precision_m: 0.9962 - recall_m: 0.8784 - val_loss: 0.0531 - val_acc: 0.9760 - val_f1_m: 0.8288 - val_precision_m: 0.9367 - val_recall_m: 0.7434\n",
      "Epoch 23/25\n",
      "24/24 [==============================] - 0s 9ms/step - loss: 0.0218 - acc: 0.9955 - f1_m: 0.9416 - precision_m: 0.9961 - recall_m: 0.8929 - val_loss: 0.0532 - val_acc: 0.9760 - val_f1_m: 0.8276 - val_precision_m: 0.9345 - val_recall_m: 0.7428\n",
      "Epoch 24/25\n",
      "24/24 [==============================] - 0s 9ms/step - loss: 0.0200 - acc: 0.9953 - f1_m: 0.9497 - precision_m: 0.9970 - recall_m: 0.9067 - val_loss: 0.0538 - val_acc: 0.9750 - val_f1_m: 0.8272 - val_precision_m: 0.9344 - val_recall_m: 0.7422\n",
      "Epoch 25/25\n",
      "24/24 [==============================] - 0s 9ms/step - loss: 0.0183 - acc: 0.9946 - f1_m: 0.9559 - precision_m: 0.9970 - recall_m: 0.9182 - val_loss: 0.0537 - val_acc: 0.9740 - val_f1_m: 0.8264 - val_precision_m: 0.9240 - val_recall_m: 0.7477\n",
      "Model: \"sequential_1\"\n",
      "_________________________________________________________________\n",
      "Layer (type)                 Output Shape              Param #   \n",
      "=================================================================\n",
      "dense_3 (Dense)              (None, 100)               1000100   \n",
      "_________________________________________________________________\n",
      "dense_4 (Dense)              (None, 100)               10100     \n",
      "_________________________________________________________________\n",
      "dense_5 (Dense)              (None, 33)                3333      \n",
      "=================================================================\n",
      "Total params: 1,013,533\n",
      "Trainable params: 1,013,533\n",
      "Non-trainable params: 0\n",
      "_________________________________________________________________\n"
     ]
    }
   ],
   "source": [
    "# On re entraine le modèle du début pour 25 epoch\n",
    "model = models.Sequential()\n",
    "model.add(layers.Dense(100, activation='tanh'))\n",
    "model.add(layers.Dense(100, activation='tanh'))\n",
    "model.add(layers.Dense(label_len, activation='sigmoid'))\n",
    "\n",
    "model.compile(optimizer='adam',\n",
    "              loss='binary_crossentropy',\n",
    "              metrics=['acc',f1_m,precision_m, recall_m])\n",
    "\n",
    "history = model.fit(partial_X_train,\n",
    "                    partial_Y_train,\n",
    "                    epochs=25,\n",
    "                    batch_size=512,\n",
    "                    validation_data=(X_val, Y_val),\n",
    "                    )\n",
    "model.summary()"
   ]
  },
  {
   "cell_type": "code",
   "execution_count": 13,
   "metadata": {
    "ExecuteTime": {
     "end_time": "2021-06-18T09:12:54.579054Z",
     "start_time": "2021-06-18T09:12:54.486400Z"
    },
    "pycharm": {
     "name": "#%%\n"
    }
   },
   "outputs": [
    {
     "name": "stdout",
     "output_type": "stream",
     "text": [
      "Loss :  0.054083582013845444\n",
      "Accuracy :  0.9729999899864197\n",
      "f1 Score :  0.8270686864852905\n",
      "precision :  0.9347876906394958\n",
      "recall :  0.7449369430541992\n"
     ]
    }
   ],
   "source": [
    "loss, accuracy, f1_score, precision, recall = model.evaluate(X_test, Y_test, verbose=0)\n",
    "\n",
    "print('Loss : ',loss)\n",
    "print('Accuracy : ',accuracy)\n",
    "print('f1 Score : ',f1_score)\n",
    "print('precision : ',precision)\n",
    "print('recall : ',recall)"
   ]
  },
  {
   "cell_type": "code",
   "execution_count": 14,
   "metadata": {
    "ExecuteTime": {
     "end_time": "2021-06-18T09:12:55.226891Z",
     "start_time": "2021-06-18T09:12:54.580114Z"
    },
    "pycharm": {
     "name": "#%%\n"
    }
   },
   "outputs": [],
   "source": [
    "Y_predict = model.predict(X_train_padded)"
   ]
  },
  {
   "cell_type": "code",
   "execution_count": 15,
   "metadata": {
    "ExecuteTime": {
     "end_time": "2021-06-18T09:12:55.230525Z",
     "start_time": "2021-06-18T09:12:55.228074Z"
    },
    "pycharm": {
     "name": "#%%\n"
    }
   },
   "outputs": [],
   "source": [
    "def vector_to_list_of_tags(vect_tag,reverse_word_ind):\n",
    "    tag_list=[]\n",
    "    for i in range(len(vect_tag)):\n",
    "        if vect_tag[i]>0 :\n",
    "            tag_list.append(reverse_word_ind.get(i,'?'))\n",
    "    return tag_list"
   ]
  },
  {
   "cell_type": "code",
   "execution_count": 16,
   "metadata": {
    "ExecuteTime": {
     "end_time": "2021-06-18T09:12:55.243412Z",
     "start_time": "2021-06-18T09:12:55.231683Z"
    },
    "pycharm": {
     "name": "#%%\n"
    }
   },
   "outputs": [
    {
     "name": "stdout",
     "output_type": "stream",
     "text": [
      "Text before vectoring : \n",
      " Python print unicode strings in arrays as characters, not code points <p>If I've got a dictionary of the form:</p>\n",
      "\n",
      "<p><code>a = {u\"foo\": u\"ááá \"}</code></p>\n",
      "\n",
      "<p>and I write </p>\n",
      "\n",
      "<p><code>&gt;&gt;&gt; print a[u\"foo\"]</code></p>\n",
      "\n",
      "<p>I get</p>\n",
      "\n",
      "<p><code>ááá </code></p>\n",
      "\n",
      "<p>as expected. But if I write</p>\n",
      "\n",
      "<p><code>&gt;&gt;&gt; print a</code></p>\n",
      "\n",
      "<p>I get</p>\n",
      "\n",
      "<p><code>{u'foo': u'\\u10d1\\u10d0\\u10e0'}</code>, but I would prefer the characters themselves to be printed.</p>\n",
      "\n",
      "<p>All the data will ultimately get dumped into a database anyway, so it's not critical to solve this problem, but for debugging it would be nice if I could get readable output when I print the entire dictionary. Is there any way to do this?</p>\n",
      "\n",
      "<p>For those who are curious, the script is Georgian, and yes, it says \"bar\".</p>\n",
      " \n",
      "\n",
      "Tags before vectoring :  python unicode\n",
      "Tags vectorize matrix :  [0 1 0 0 0 0 0 0 0 0 0 0 0 0 0 0 0 0 0 0 0 0 0 0 0 0 0 0 0 0 0 0 0]\n",
      "Tags vectorized :  ['python']\n",
      "Tags predicted matrix:  [0. 1. 0. 0. 0. 0. 0. 0. 0. 0. 0. 0. 0. 0. 0. 0. 0. 0. 0. 0. 0. 0. 0. 0.\n",
      " 0. 0. 0. 0. 0. 0. 0. 0. 0.]\n",
      "Tags predicted :  ['python']\n"
     ]
    }
   ],
   "source": [
    "id_sample = 100\n",
    "\n",
    "#print('reverse word index Y : ',reverse_word_index_Y)\n",
    "print('Text before vectoring : \\n',text_train[id_sample],'\\n')\n",
    "print('Tags before vectoring : ',tag_train[id_sample])\n",
    "print('Tags vectorize matrix : ',Y_train_padded[id_sample])\n",
    "\n",
    "sample_tag = vector_to_list_of_tags(Y_train_padded[id_sample],reverse_word_index_Y)\n",
    "print('Tags vectorized : ',sample_tag)\n",
    "\n",
    "Y_predict_ones = (Y_predict>0.5).astype(int)\n",
    "sample_tag_pred = vector_to_list_of_tags(Y_predict_ones[id_sample],reverse_word_index_Y)\n",
    "print('Tags predicted matrix: ',np.around(Y_predict[id_sample], decimals=1))\n",
    "print('Tags predicted : ',sample_tag_pred)"
   ]
  },
  {
   "cell_type": "code",
   "execution_count": 17,
   "metadata": {
    "ExecuteTime": {
     "end_time": "2021-06-18T09:12:55.251223Z",
     "start_time": "2021-06-18T09:12:55.244496Z"
    },
    "pycharm": {
     "name": "#%%\n"
    }
   },
   "outputs": [
    {
     "data": {
      "text/plain": [
       "array([    0, 10090,  3918,   823,   628,   560,   506,   390,   311,\n",
       "         325,   345,   261,   224,   260,   262,   207,   100,   225,\n",
       "         126,    60,   182,   183,   148,   132,     7,   139,    71,\n",
       "         140,    32,     0,    82,    44,    68])"
      ]
     },
     "execution_count": 17,
     "metadata": {},
     "output_type": "execute_result"
    }
   ],
   "source": [
    "np.sum(Y_predict_ones,axis=0)"
   ]
  },
  {
   "cell_type": "markdown",
   "metadata": {
    "pycharm": {
     "name": "#%% md\n"
    }
   },
   "source": [
    "# Embedding"
   ]
  },
  {
   "cell_type": "code",
   "execution_count": 18,
   "metadata": {
    "ExecuteTime": {
     "end_time": "2021-06-18T09:12:57.823427Z",
     "start_time": "2021-06-18T09:12:55.252141Z"
    },
    "pycharm": {
     "name": "#%%\n"
    }
   },
   "outputs": [],
   "source": [
    "from keras.layers import Embedding, Flatten\n",
    "\n",
    "tokenizer_X = Tokenizer(num_words=10000)\n",
    "tokenizer_Y = Tokenizer(num_words=100)  # 100 tags posible avec embedding avec des résultats corrects\n",
    "\n",
    "tokenizer_X.fit_on_texts(text_train)\n",
    "tokenizer_Y.fit_on_texts(tag_train)\n",
    "\n",
    "X_train = tokenizer_X.texts_to_sequences(text_train)\n",
    "Y_train = tokenizer_Y.texts_to_matrix(tag_train,mode='binary')\n",
    "\n",
    "X_train_padded = pad_sequences(X_train, padding=\"post\",maxlen=1000)\n",
    "Y_train_padded = pad_sequences(Y_train, padding=\"post\")\n",
    "\n",
    "#X_train_padded = X_train_padded/len(word_index_X) #normalisation\n",
    "\n",
    "text_len = len(X_train_padded[0])\n",
    "label_len=len(Y_train_padded[0])\n",
    "\n",
    "X_val = X_train_padded[:1000]\n",
    "X_test = X_train_padded[1000:2000]\n",
    "partial_X_train = X_train_padded[2000:]\n",
    "\n",
    "Y_val = Y_train_padded[:1000]\n",
    "Y_test = Y_train_padded[1000:2000]\n",
    "partial_Y_train = Y_train_padded[2000:]"
   ]
  },
  {
   "cell_type": "code",
   "execution_count": 19,
   "metadata": {
    "ExecuteTime": {
     "end_time": "2021-06-18T09:13:09.367040Z",
     "start_time": "2021-06-18T09:12:57.824513Z"
    },
    "pycharm": {
     "name": "#%%\n"
    }
   },
   "outputs": [
    {
     "name": "stdout",
     "output_type": "stream",
     "text": [
      "Epoch 1/15\n",
      "24/24 [==============================] - 1s 36ms/step - loss: 0.1260 - acc: 0.6831 - f1_m: 0.4491 - precision_m: 0.6764 - recall_m: 0.3594 - val_loss: 0.0766 - val_acc: 0.7220 - val_f1_m: 0.4788 - val_precision_m: 0.7228 - val_recall_m: 0.3579\n",
      "Epoch 2/15\n",
      "24/24 [==============================] - 1s 29ms/step - loss: 0.0682 - acc: 0.7340 - f1_m: 0.4807 - precision_m: 0.7351 - recall_m: 0.3571 - val_loss: 0.0639 - val_acc: 0.8040 - val_f1_m: 0.5339 - val_precision_m: 0.8009 - val_recall_m: 0.4005\n",
      "Epoch 3/15\n",
      "24/24 [==============================] - 1s 29ms/step - loss: 0.0605 - acc: 0.8445 - f1_m: 0.5547 - precision_m: 0.8463 - recall_m: 0.4127 - val_loss: 0.0582 - val_acc: 0.8760 - val_f1_m: 0.5813 - val_precision_m: 0.8766 - val_recall_m: 0.4348\n",
      "Epoch 4/15\n",
      "24/24 [==============================] - 1s 30ms/step - loss: 0.0541 - acc: 0.9194 - f1_m: 0.6077 - precision_m: 0.9213 - recall_m: 0.4534 - val_loss: 0.0540 - val_acc: 0.9320 - val_f1_m: 0.6205 - val_precision_m: 0.9283 - val_recall_m: 0.4660\n",
      "Epoch 5/15\n",
      "24/24 [==============================] - 1s 29ms/step - loss: 0.0485 - acc: 0.9619 - f1_m: 0.6432 - precision_m: 0.9626 - recall_m: 0.4830 - val_loss: 0.0509 - val_acc: 0.9520 - val_f1_m: 0.6386 - val_precision_m: 0.9448 - val_recall_m: 0.4823\n",
      "Epoch 6/15\n",
      "24/24 [==============================] - 1s 30ms/step - loss: 0.0427 - acc: 0.9777 - f1_m: 0.6661 - precision_m: 0.9781 - recall_m: 0.5051 - val_loss: 0.0481 - val_acc: 0.9650 - val_f1_m: 0.6568 - val_precision_m: 0.9583 - val_recall_m: 0.4996\n",
      "Epoch 7/15\n",
      "24/24 [==============================] - 1s 30ms/step - loss: 0.0362 - acc: 0.9855 - f1_m: 0.6974 - precision_m: 0.9842 - recall_m: 0.5401 - val_loss: 0.0453 - val_acc: 0.9690 - val_f1_m: 0.6698 - val_precision_m: 0.9509 - val_recall_m: 0.5170\n",
      "Epoch 8/15\n",
      "24/24 [==============================] - 1s 30ms/step - loss: 0.0294 - acc: 0.9882 - f1_m: 0.7409 - precision_m: 0.9872 - recall_m: 0.5933 - val_loss: 0.0434 - val_acc: 0.9730 - val_f1_m: 0.6836 - val_precision_m: 0.9524 - val_recall_m: 0.5332\n",
      "Epoch 9/15\n",
      "24/24 [==============================] - 1s 30ms/step - loss: 0.0232 - acc: 0.9884 - f1_m: 0.7875 - precision_m: 0.9892 - recall_m: 0.6544 - val_loss: 0.0422 - val_acc: 0.9710 - val_f1_m: 0.6887 - val_precision_m: 0.9425 - val_recall_m: 0.5427\n",
      "Epoch 10/15\n",
      "24/24 [==============================] - 1s 31ms/step - loss: 0.0180 - acc: 0.9884 - f1_m: 0.8406 - precision_m: 0.9916 - recall_m: 0.7298 - val_loss: 0.0417 - val_acc: 0.9700 - val_f1_m: 0.6893 - val_precision_m: 0.9418 - val_recall_m: 0.5435\n",
      "Epoch 11/15\n",
      "24/24 [==============================] - 1s 31ms/step - loss: 0.0139 - acc: 0.9861 - f1_m: 0.8876 - precision_m: 0.9944 - recall_m: 0.8017 - val_loss: 0.0425 - val_acc: 0.9680 - val_f1_m: 0.6913 - val_precision_m: 0.9405 - val_recall_m: 0.5465\n",
      "Epoch 12/15\n",
      "24/24 [==============================] - 1s 31ms/step - loss: 0.0107 - acc: 0.9851 - f1_m: 0.9196 - precision_m: 0.9955 - recall_m: 0.8545 - val_loss: 0.0429 - val_acc: 0.9670 - val_f1_m: 0.6905 - val_precision_m: 0.9374 - val_recall_m: 0.5466\n",
      "Epoch 13/15\n",
      "24/24 [==============================] - 1s 31ms/step - loss: 0.0084 - acc: 0.9843 - f1_m: 0.9449 - precision_m: 0.9972 - recall_m: 0.8978 - val_loss: 0.0441 - val_acc: 0.9690 - val_f1_m: 0.6908 - val_precision_m: 0.9358 - val_recall_m: 0.5475\n",
      "Epoch 14/15\n",
      "24/24 [==============================] - 1s 32ms/step - loss: 0.0067 - acc: 0.9820 - f1_m: 0.9618 - precision_m: 0.9980 - recall_m: 0.9281 - val_loss: 0.0453 - val_acc: 0.9690 - val_f1_m: 0.6904 - val_precision_m: 0.9357 - val_recall_m: 0.5470\n",
      "Epoch 15/15\n",
      "24/24 [==============================] - 1s 32ms/step - loss: 0.0054 - acc: 0.9814 - f1_m: 0.9727 - precision_m: 0.9985 - recall_m: 0.9481 - val_loss: 0.0465 - val_acc: 0.9690 - val_f1_m: 0.6918 - val_precision_m: 0.9366 - val_recall_m: 0.5485\n",
      "Model: \"sequential_2\"\n",
      "_________________________________________________________________\n",
      "Layer (type)                 Output Shape              Param #   \n",
      "=================================================================\n",
      "embedding (Embedding)        (None, 1000, 100)         1000000   \n",
      "_________________________________________________________________\n",
      "flatten (Flatten)            (None, 100000)            0         \n",
      "_________________________________________________________________\n",
      "dense_6 (Dense)              (None, 100)               10000100  \n",
      "=================================================================\n",
      "Total params: 11,000,100\n",
      "Trainable params: 11,000,100\n",
      "Non-trainable params: 0\n",
      "_________________________________________________________________\n"
     ]
    }
   ],
   "source": [
    "\n",
    "model = models.Sequential()\n",
    "model.add(Embedding(10000, 100, input_length=text_len))\n",
    "# our activations have shape `(samples, text_len, 20)`.\n",
    "# We flatten the 3D tensor of embeddings\n",
    "# into a 2D tensor of shape `(samples, text_len * 100)`\n",
    "model.add(Flatten())\n",
    "model.add(layers.Dense(label_len, activation='sigmoid'))\n",
    "\n",
    "model.compile(optimizer='adam',\n",
    "              loss='binary_crossentropy',\n",
    "              metrics=['acc',f1_m,precision_m, recall_m])\n",
    "\n",
    "history = model.fit(partial_X_train,\n",
    "                    partial_Y_train,\n",
    "                    epochs=15,\n",
    "                    batch_size=512,\n",
    "                    validation_data=(X_val, Y_val),\n",
    "                    )\n",
    "\n",
    "model.summary()"
   ]
  },
  {
   "cell_type": "code",
   "execution_count": 20,
   "metadata": {
    "ExecuteTime": {
     "end_time": "2021-06-18T09:13:09.490939Z",
     "start_time": "2021-06-18T09:13:09.368023Z"
    },
    "pycharm": {
     "name": "#%%\n"
    }
   },
   "outputs": [
    {
     "data": {
      "image/png": "[encoded data removed]",
      "text/plain": [
       "<Figure size 432x288 with 1 Axes>"
      ]
     },
     "metadata": {},
     "output_type": "display_data"
    }
   ],
   "source": [
    "import matplotlib.pyplot as plt\n",
    "\n",
    "loss = history.history['loss']\n",
    "val_loss = history.history['val_loss']\n",
    "\n",
    "epochs = range(1, len(loss) + 1)\n",
    "\n",
    "fig = plt.figure()\n",
    "fig.patch.set_facecolor('w')\n",
    "plt.plot(epochs, loss, 'bo', label='Training loss')\n",
    "plt.plot(epochs, val_loss, 'b', label='Validation loss')\n",
    "plt.title('Training and validation loss')\n",
    "plt.xlabel('Epochs')\n",
    "plt.ylabel('Loss')\n",
    "plt.legend()\n",
    "plt.axvline(x=11,color='red',linestyle='--')\n",
    "\n",
    "plt.show()"
   ]
  },
  {
   "cell_type": "code",
   "execution_count": 21,
   "metadata": {
    "ExecuteTime": {
     "end_time": "2021-06-18T09:13:09.632320Z",
     "start_time": "2021-06-18T09:13:09.494016Z"
    },
    "pycharm": {
     "name": "#%%\n"
    }
   },
   "outputs": [
    {
     "data": {
      "text/plain": [
       "<Figure size 432x288 with 0 Axes>"
      ]
     },
     "metadata": {},
     "output_type": "display_data"
    },
    {
     "data": {
      "image/png": "[encoded data removed]",
      "text/plain": [
       "<Figure size 432x288 with 1 Axes>"
      ]
     },
     "metadata": {},
     "output_type": "display_data"
    }
   ],
   "source": [
    "plt.clf()   # clear figure\n",
    "\n",
    "f1_train = history.history['f1_m']\n",
    "f1_val = history.history['val_f1_m']\n",
    "\n",
    "fig = plt.figure()\n",
    "fig.patch.set_facecolor('w')\n",
    "plt.plot(epochs, f1_train, 'bo', label='Training acc')\n",
    "plt.plot(epochs, f1_val, 'b', label='Validation acc')\n",
    "plt.title('Training and validation accuracy')\n",
    "plt.xlabel('Epochs')\n",
    "plt.ylabel('F1 Score')\n",
    "plt.legend()\n",
    "plt.axvline(x=11,color='red',linestyle='--')\n",
    "\n",
    "plt.show()"
   ]
  },
  {
   "cell_type": "markdown",
   "metadata": {
    "pycharm": {
     "name": "#%% md\n"
    }
   },
   "source": [
    "Nous observons un fort overfiting du modèle, nous allons ajouter\n",
    "des couches dropout pour régulariser le modèle"
   ]
  },
  {
   "cell_type": "code",
   "execution_count": 22,
   "metadata": {
    "ExecuteTime": {
     "end_time": "2021-06-18T09:13:09.873558Z",
     "start_time": "2021-06-18T09:13:09.634925Z"
    },
    "pycharm": {
     "name": "#%%\n"
    }
   },
   "outputs": [
    {
     "name": "stdout",
     "output_type": "stream",
     "text": [
      "Loss :  0.04849623888731003\n",
      "Accuracy :  0.9800000190734863\n",
      "f1 Score :  0.6907984018325806\n",
      "precision :  0.9522290229797363\n",
      "recall :  0.5441045761108398\n"
     ]
    }
   ],
   "source": [
    "loss, accuracy, f1_score, precision, recall = model.evaluate(X_test, Y_test, verbose=0)\n",
    "\n",
    "print('Loss : ',loss)\n",
    "print('Accuracy : ',accuracy)\n",
    "print('f1 Score : ',f1_score)\n",
    "print('precision : ',precision)\n",
    "print('recall : ',recall)"
   ]
  },
  {
   "cell_type": "markdown",
   "metadata": {},
   "source": [
    "## Ajout de regularisation Dropout et early stopping"
   ]
  },
  {
   "cell_type": "code",
   "execution_count": 23,
   "metadata": {
    "ExecuteTime": {
     "end_time": "2021-06-18T09:13:15.398026Z",
     "start_time": "2021-06-18T09:13:09.874719Z"
    },
    "pycharm": {
     "name": "#%%\n"
    }
   },
   "outputs": [
    {
     "name": "stdout",
     "output_type": "stream",
     "text": [
      "Epoch 1/11\n",
      "24/24 [==============================] - 1s 24ms/step - loss: 0.1375 - acc: 0.6939 - f1_m: 0.4521 - precision_m: 0.6800 - recall_m: 0.3607 - val_loss: 0.0835 - val_acc: 0.7220 - val_f1_m: 0.4788 - val_precision_m: 0.7228 - val_recall_m: 0.3579\n",
      "Epoch 2/11\n",
      "24/24 [==============================] - 0s 18ms/step - loss: 0.0750 - acc: 0.7238 - f1_m: 0.4727 - precision_m: 0.7236 - recall_m: 0.3510 - val_loss: 0.0675 - val_acc: 0.7220 - val_f1_m: 0.4788 - val_precision_m: 0.7228 - val_recall_m: 0.3579\n",
      "Epoch 3/11\n",
      "24/24 [==============================] - 0s 18ms/step - loss: 0.0664 - acc: 0.7284 - f1_m: 0.4767 - precision_m: 0.7283 - recall_m: 0.3544 - val_loss: 0.0645 - val_acc: 0.7470 - val_f1_m: 0.4960 - val_precision_m: 0.7468 - val_recall_m: 0.3713\n",
      "Epoch 4/11\n",
      "24/24 [==============================] - 0s 19ms/step - loss: 0.0631 - acc: 0.8091 - f1_m: 0.5311 - precision_m: 0.8099 - recall_m: 0.3952 - val_loss: 0.0611 - val_acc: 0.8320 - val_f1_m: 0.5534 - val_precision_m: 0.8302 - val_recall_m: 0.4151\n",
      "Epoch 5/11\n",
      "24/24 [==============================] - 0s 19ms/step - loss: 0.0593 - acc: 0.8741 - f1_m: 0.5753 - precision_m: 0.8750 - recall_m: 0.4286 - val_loss: 0.0578 - val_acc: 0.8770 - val_f1_m: 0.5831 - val_precision_m: 0.8746 - val_recall_m: 0.4374\n",
      "Epoch 6/11\n",
      "24/24 [==============================] - 0s 18ms/step - loss: 0.0559 - acc: 0.9147 - f1_m: 0.6017 - precision_m: 0.9115 - recall_m: 0.4492 - val_loss: 0.0554 - val_acc: 0.9170 - val_f1_m: 0.6117 - val_precision_m: 0.9144 - val_recall_m: 0.4595\n",
      "Epoch 7/11\n",
      "24/24 [==============================] - 0s 19ms/step - loss: 0.0532 - acc: 0.9454 - f1_m: 0.6264 - precision_m: 0.9427 - recall_m: 0.4692 - val_loss: 0.0537 - val_acc: 0.9390 - val_f1_m: 0.6274 - val_precision_m: 0.9319 - val_recall_m: 0.4729\n",
      "Epoch 8/11\n",
      "24/24 [==============================] - 0s 18ms/step - loss: 0.0508 - acc: 0.9611 - f1_m: 0.6382 - precision_m: 0.9604 - recall_m: 0.4780 - val_loss: 0.0523 - val_acc: 0.9500 - val_f1_m: 0.6343 - val_precision_m: 0.9435 - val_recall_m: 0.4778\n",
      "Epoch 9/11\n",
      "24/24 [==============================] - 0s 18ms/step - loss: 0.0485 - acc: 0.9702 - f1_m: 0.6475 - precision_m: 0.9669 - recall_m: 0.4868 - val_loss: 0.0510 - val_acc: 0.9600 - val_f1_m: 0.6429 - val_precision_m: 0.9526 - val_recall_m: 0.4852\n",
      "Epoch 10/11\n",
      "24/24 [==============================] - 0s 18ms/step - loss: 0.0459 - acc: 0.9768 - f1_m: 0.6575 - precision_m: 0.9741 - recall_m: 0.4962 - val_loss: 0.0496 - val_acc: 0.9640 - val_f1_m: 0.6477 - val_precision_m: 0.9565 - val_recall_m: 0.4896\n",
      "Epoch 11/11\n",
      "24/24 [==============================] - 0s 18ms/step - loss: 0.0431 - acc: 0.9805 - f1_m: 0.6685 - precision_m: 0.9786 - recall_m: 0.5078 - val_loss: 0.0481 - val_acc: 0.9660 - val_f1_m: 0.6534 - val_precision_m: 0.9589 - val_recall_m: 0.4956\n",
      "Model: \"sequential_3\"\n",
      "_________________________________________________________________\n",
      "Layer (type)                 Output Shape              Param #   \n",
      "=================================================================\n",
      "embedding_1 (Embedding)      (None, 1000, 30)          300000    \n",
      "_________________________________________________________________\n",
      "dropout (Dropout)            (None, 1000, 30)          0         \n",
      "_________________________________________________________________\n",
      "flatten_1 (Flatten)          (None, 30000)             0         \n",
      "_________________________________________________________________\n",
      "dense_7 (Dense)              (None, 100)               3000100   \n",
      "=================================================================\n",
      "Total params: 3,300,100\n",
      "Trainable params: 3,300,100\n",
      "Non-trainable params: 0\n",
      "_________________________________________________________________\n"
     ]
    }
   ],
   "source": [
    "\n",
    "model = models.Sequential()\n",
    "model.add(Embedding(10000, 30, input_length=text_len))\n",
    "model.add(layers.Dropout(0.5))\n",
    "model.add(Flatten())\n",
    "# ajout de la régularisation par Dropout des 50% des unités\n",
    "model.add(layers.Dense(label_len, activation='sigmoid'))\n",
    "\n",
    "model.compile(optimizer='adam',\n",
    "              loss='binary_crossentropy',\n",
    "              metrics=['acc',f1_m,precision_m, recall_m])\n",
    "\n",
    "history = model.fit(partial_X_train,\n",
    "                    partial_Y_train,\n",
    "                    epochs=11,\n",
    "                    batch_size=512,\n",
    "                    validation_data=(X_val, Y_val),\n",
    "                    )\n",
    "\n",
    "model.summary()"
   ]
  },
  {
   "cell_type": "code",
   "execution_count": 24,
   "metadata": {
    "ExecuteTime": {
     "end_time": "2021-06-18T09:13:15.538206Z",
     "start_time": "2021-06-18T09:13:15.399075Z"
    },
    "pycharm": {
     "name": "#%%\n"
    }
   },
   "outputs": [
    {
     "data": {
      "image/png": "[encoded data removed]",
      "text/plain": [
       "<Figure size 432x288 with 1 Axes>"
      ]
     },
     "metadata": {},
     "output_type": "display_data"
    }
   ],
   "source": [
    "import matplotlib.pyplot as plt\n",
    "\n",
    "loss = history.history['loss']\n",
    "val_loss = history.history['val_loss']\n",
    "\n",
    "epochs = range(1, len(loss) + 1)\n",
    "\n",
    "fig = plt.figure()\n",
    "fig.patch.set_facecolor('w')\n",
    "plt.plot(epochs, loss, 'bo', label='Training loss')\n",
    "plt.plot(epochs, val_loss, 'b', label='Validation loss')\n",
    "plt.title('Training and validation loss')\n",
    "plt.xlabel('Epochs')\n",
    "plt.ylabel('Loss')\n",
    "plt.legend()\n",
    "plt.axvline(x=20,color='red',linestyle='--')\n",
    "\n",
    "plt.show()"
   ]
  },
  {
   "cell_type": "code",
   "execution_count": 25,
   "metadata": {
    "ExecuteTime": {
     "end_time": "2021-06-18T09:13:15.670450Z",
     "start_time": "2021-06-18T09:13:15.540438Z"
    },
    "pycharm": {
     "name": "#%%\n"
    }
   },
   "outputs": [
    {
     "data": {
      "text/plain": [
       "<Figure size 432x288 with 0 Axes>"
      ]
     },
     "metadata": {},
     "output_type": "display_data"
    },
    {
     "data": {
      "image/png": "[encoded data removed]",
      "text/plain": [
       "<Figure size 432x288 with 1 Axes>"
      ]
     },
     "metadata": {},
     "output_type": "display_data"
    }
   ],
   "source": [
    "plt.clf()   # clear figure\n",
    "\n",
    "f1_train = history.history['f1_m']\n",
    "f1_val = history.history['val_f1_m']\n",
    "\n",
    "fig = plt.figure()\n",
    "fig.patch.set_facecolor('w')\n",
    "plt.plot(epochs, f1_train, 'bo', label='Training acc')\n",
    "plt.plot(epochs, f1_val, 'b', label='Validation acc')\n",
    "plt.title('Training and validation accuracy')\n",
    "plt.xlabel('Epochs')\n",
    "plt.ylabel('F1 Score')\n",
    "plt.legend()\n",
    "plt.axvline(x=20,color='red',linestyle='--')\n",
    "\n",
    "plt.show()"
   ]
  },
  {
   "cell_type": "markdown",
   "metadata": {},
   "source": [
    "Nous n'observons plus un fort overfiting du modèle, après l'ajout\n",
    "des couches dropout pour régulariser le modèle"
   ]
  },
  {
   "cell_type": "code",
   "execution_count": 26,
   "metadata": {
    "ExecuteTime": {
     "end_time": "2021-06-18T09:13:15.740688Z",
     "start_time": "2021-06-18T09:13:15.671616Z"
    },
    "pycharm": {
     "name": "#%%\n"
    }
   },
   "outputs": [
    {
     "name": "stdout",
     "output_type": "stream",
     "text": [
      "Loss :  0.050873737782239914\n",
      "Accuracy :  0.9739999771118164\n",
      "f1 Score :  0.6410643458366394\n",
      "precision :  0.9637022018432617\n",
      "recall :  0.4814072847366333\n"
     ]
    }
   ],
   "source": [
    "loss, accuracy, f1_score, precision, recall = model.evaluate(X_test, Y_test, verbose=0)\n",
    "\n",
    "print('Loss : ',loss)\n",
    "print('Accuracy : ',accuracy)\n",
    "print('f1 Score : ',f1_score)\n",
    "print('precision : ',precision)\n",
    "print('recall : ',recall)"
   ]
  },
  {
   "cell_type": "code",
   "execution_count": 27,
   "metadata": {
    "ExecuteTime": {
     "end_time": "2021-06-18T09:13:24.907382Z",
     "start_time": "2021-06-18T09:13:15.741760Z"
    },
    "pycharm": {
     "name": "#%%\n"
    }
   },
   "outputs": [
    {
     "name": "stdout",
     "output_type": "stream",
     "text": [
      "Epoch 1/20\n",
      "24/24 [==============================] - 1s 22ms/step - loss: 0.1433 - acc: 0.6935 - val_loss: 0.0825 - val_acc: 0.7220\n",
      "Epoch 2/20\n",
      "24/24 [==============================] - 0s 18ms/step - loss: 0.0748 - acc: 0.7238 - val_loss: 0.0675 - val_acc: 0.7210\n",
      "Epoch 3/20\n",
      "24/24 [==============================] - 0s 18ms/step - loss: 0.0664 - acc: 0.7302 - val_loss: 0.0647 - val_acc: 0.7460\n",
      "Epoch 4/20\n",
      "24/24 [==============================] - 0s 18ms/step - loss: 0.0634 - acc: 0.7989 - val_loss: 0.0615 - val_acc: 0.8300\n",
      "Epoch 5/20\n",
      "24/24 [==============================] - 0s 18ms/step - loss: 0.0597 - acc: 0.8674 - val_loss: 0.0583 - val_acc: 0.8750\n",
      "Epoch 6/20\n",
      "24/24 [==============================] - 0s 18ms/step - loss: 0.0563 - acc: 0.9068 - val_loss: 0.0558 - val_acc: 0.9100\n",
      "Epoch 7/20\n",
      "24/24 [==============================] - 0s 18ms/step - loss: 0.0535 - acc: 0.9337 - val_loss: 0.0541 - val_acc: 0.9260\n",
      "Epoch 8/20\n",
      "24/24 [==============================] - 0s 18ms/step - loss: 0.0510 - acc: 0.9536 - val_loss: 0.0526 - val_acc: 0.9470\n",
      "Epoch 9/20\n",
      "24/24 [==============================] - 0s 18ms/step - loss: 0.0486 - acc: 0.9659 - val_loss: 0.0512 - val_acc: 0.9590\n",
      "Epoch 10/20\n",
      "24/24 [==============================] - 0s 18ms/step - loss: 0.0460 - acc: 0.9728 - val_loss: 0.0497 - val_acc: 0.9620\n",
      "Epoch 11/20\n",
      "24/24 [==============================] - 0s 18ms/step - loss: 0.0430 - acc: 0.9777 - val_loss: 0.0481 - val_acc: 0.9660\n",
      "Epoch 12/20\n",
      "24/24 [==============================] - 0s 18ms/step - loss: 0.0399 - acc: 0.9803 - val_loss: 0.0467 - val_acc: 0.9650\n",
      "Epoch 13/20\n",
      "24/24 [==============================] - 0s 18ms/step - loss: 0.0368 - acc: 0.9835 - val_loss: 0.0454 - val_acc: 0.9690\n",
      "Epoch 14/20\n",
      "24/24 [==============================] - 0s 18ms/step - loss: 0.0338 - acc: 0.9840 - val_loss: 0.0444 - val_acc: 0.9660\n",
      "Epoch 15/20\n",
      "24/24 [==============================] - 0s 18ms/step - loss: 0.0309 - acc: 0.9845 - val_loss: 0.0436 - val_acc: 0.9690\n",
      "Epoch 16/20\n",
      "24/24 [==============================] - 0s 18ms/step - loss: 0.0283 - acc: 0.9847 - val_loss: 0.0429 - val_acc: 0.9710\n",
      "Epoch 17/20\n",
      "24/24 [==============================] - 0s 18ms/step - loss: 0.0259 - acc: 0.9860 - val_loss: 0.0424 - val_acc: 0.9720\n",
      "Epoch 18/20\n",
      "24/24 [==============================] - 0s 18ms/step - loss: 0.0237 - acc: 0.9851 - val_loss: 0.0420 - val_acc: 0.9710\n",
      "Epoch 19/20\n",
      "24/24 [==============================] - 0s 18ms/step - loss: 0.0217 - acc: 0.9824 - val_loss: 0.0418 - val_acc: 0.9710\n",
      "Epoch 20/20\n",
      "24/24 [==============================] - 0s 18ms/step - loss: 0.0199 - acc: 0.9826 - val_loss: 0.0419 - val_acc: 0.9690\n",
      "Model: \"sequential_4\"\n",
      "_________________________________________________________________\n",
      "Layer (type)                 Output Shape              Param #   \n",
      "=================================================================\n",
      "embedding_2 (Embedding)      (None, 1000, 30)          300000    \n",
      "_________________________________________________________________\n",
      "dropout_1 (Dropout)          (None, 1000, 30)          0         \n",
      "_________________________________________________________________\n",
      "flatten_2 (Flatten)          (None, 30000)             0         \n",
      "_________________________________________________________________\n",
      "dense_8 (Dense)              (None, 100)               3000100   \n",
      "=================================================================\n",
      "Total params: 3,300,100\n",
      "Trainable params: 3,300,100\n",
      "Non-trainable params: 0\n",
      "_________________________________________________________________\n"
     ]
    }
   ],
   "source": [
    "# On re entraine le modèle du début pour 20 epoch\n",
    "model = models.Sequential()\n",
    "model.add(Embedding(10000, 30, input_length=text_len))\n",
    "# diminution de la dimension des embedings\n",
    "model.add(layers.Dropout(0.5))\n",
    "model.add(Flatten())\n",
    "# ajout de la régularisation par Dropout des 50% des unités\n",
    "model.add(layers.Dense(label_len, activation='sigmoid'))\n",
    "\n",
    "model.compile(optimizer='adam',\n",
    "              loss='binary_crossentropy',\n",
    "              metrics=['acc']) #,f1_m,precision_m, recall_m]) je supprime le metric pour pouvoir exporter le modele\n",
    "\n",
    "history = model.fit(partial_X_train,\n",
    "                    partial_Y_train,\n",
    "                    epochs=20,\n",
    "                    batch_size=512,\n",
    "                    validation_data=(X_val, Y_val),\n",
    "                    )\n",
    "model.summary()"
   ]
  },
  {
   "cell_type": "code",
   "execution_count": 28,
   "metadata": {
    "ExecuteTime": {
     "end_time": "2021-06-18T09:13:24.974914Z",
     "start_time": "2021-06-18T09:13:24.908337Z"
    },
    "pycharm": {
     "name": "#%%\n"
    }
   },
   "outputs": [],
   "source": [
    "embedd_predict = model.predict(X_test)\n",
    "embedd_predict_ones = (embedd_predict>0.4).astype(int)"
   ]
  },
  {
   "cell_type": "code",
   "execution_count": 29,
   "metadata": {
    "ExecuteTime": {
     "end_time": "2021-06-18T09:13:25.312396Z",
     "start_time": "2021-06-18T09:13:24.976015Z"
    }
   },
   "outputs": [
    {
     "name": "stdout",
     "output_type": "stream",
     "text": [
      "Nombre de Tags pour l'entrainement:  100\n",
      "f1-score: 0.69\n",
      "precision_score: 0.95\n",
      "recall_score: 0.54\n"
     ]
    }
   ],
   "source": [
    "from sklearn.metrics import f1_score , precision_score, recall_score\n",
    "\n",
    "f1_score_model        = f1_score(Y_test, embedd_predict_ones, average=\"micro\")\n",
    "precision_score_model = precision_score(Y_test, embedd_predict_ones, average=\"micro\")\n",
    "recall_score_model    = recall_score(Y_test, embedd_predict_ones, average=\"micro\")\n",
    "\n",
    "nb_tag = len(Y_test[0])\n",
    "\n",
    "print(\"Nombre de Tags pour l'entrainement: \", nb_tag)\n",
    "print(\"f1-score: {:.2f}\".format(f1_score_model))\n",
    "print(\"precision_score: {:.2f}\".format(precision_score_model))\n",
    "print(\"recall_score: {:.2f}\".format(recall_score_model))\n"
   ]
  },
  {
   "cell_type": "code",
   "execution_count": 30,
   "metadata": {
    "ExecuteTime": {
     "end_time": "2021-06-18T09:13:25.316590Z",
     "start_time": "2021-06-18T09:13:25.313487Z"
    },
    "pycharm": {
     "name": "#%%\n"
    },
    "scrolled": true
   },
   "outputs": [
    {
     "data": {
      "text/plain": [
       "array([  0, 738, 273,  56,  39,  21,  22,  13,   9,   0,  17,   0,   0,\n",
       "         1,   5,   1,   0,   4,   4,   0,   0,   2,   6,   0,   0,   1,\n",
       "         2,   0,   0,   0,   0,   0,   0,   1,   0,   0,   0,   0,   0,\n",
       "         0,   0,   0,   0,   0,   0,   0,   0,   0,   0,   1,   0,   0,\n",
       "         0,   0,   0,   0,   0,   0,   0,   0,   0,   0,   0,   0,   0,\n",
       "         0,   0,   0,   0,   0,   0,   0,   0,   0,   0,   0,   0,   0,\n",
       "         0,   0,   0,   0,   0,   0,   0,   0,   0,   0,   0,   0,   0,\n",
       "         0,   0,   0,   0,   0,   0,   0,   0,   0])"
      ]
     },
     "execution_count": 30,
     "metadata": {},
     "output_type": "execute_result"
    }
   ],
   "source": [
    "np.sum(embedd_predict_ones,axis=0)"
   ]
  },
  {
   "cell_type": "code",
   "execution_count": 31,
   "metadata": {
    "ExecuteTime": {
     "end_time": "2021-06-18T09:13:25.328513Z",
     "start_time": "2021-06-18T09:13:25.318028Z"
    },
    "pycharm": {
     "name": "#%%\n"
    },
    "scrolled": true
   },
   "outputs": [
    {
     "data": {
      "text/plain": [
       "array([  0, 724, 280,  76,  41,  39,  38,  28,  32,  30,  33,  27,  25,\n",
       "        16,  20,  21,  19,  15,  24,  21,  16,   9,  19,   9,  19,   9,\n",
       "         8,  14,   6,  10,  10,  14,  10,  13,  13,   8,  10,   9,   7,\n",
       "        11,   7,  10,   9,   5,  11,  10,   7,   6,  10,   8,   7,  10,\n",
       "        11,   2,   7,  10,   4,   6,   6,   6,   5,  10,   9,   5,   4,\n",
       "         9,   6,   6,   6,   9,   8,   8,   6,   9,   3,   5,   3,   6,\n",
       "         4,   6,   3,   5,   5,   8,   5,   5,   5,   3,   4,   5,   8,\n",
       "         9,   5,   5,   7,   4,   4,   5,   4,   4])"
      ]
     },
     "execution_count": 31,
     "metadata": {},
     "output_type": "execute_result"
    }
   ],
   "source": [
    "np.sum(Y_test,axis=0)"
   ]
  },
  {
   "cell_type": "code",
   "execution_count": 32,
   "metadata": {
    "ExecuteTime": {
     "end_time": "2021-06-18T09:13:25.539628Z",
     "start_time": "2021-06-18T09:13:25.329620Z"
    },
    "pycharm": {
     "name": "#%%\n"
    }
   },
   "outputs": [],
   "source": [
    "embedd_predict = model.predict(partial_X_train)\n",
    "embedd_predict_ones = (embedd_predict>0.5).astype(int)"
   ]
  },
  {
   "cell_type": "code",
   "execution_count": 33,
   "metadata": {
    "ExecuteTime": {
     "end_time": "2021-06-18T09:13:25.545393Z",
     "start_time": "2021-06-18T09:13:25.540871Z"
    },
    "pycharm": {
     "name": "#%%\n"
    }
   },
   "outputs": [
    {
     "data": {
      "text/plain": [
       "array([   0, 8627, 3355,  626,  488,  366,  396,  198,  225,   90,  253,\n",
       "         80,   47,  173,  121,   82,   61,  169,   80,   26,  117,  154,\n",
       "         94,   71,   29,   74,   44,   66,   36,   26,   56,   44,   40,\n",
       "         82,   66,   37,   53,   37,   59,   67,   58,   35,   25,   42,\n",
       "         19,   49,   19,   42,   28,   25,   16,   30,   66,   42,   24,\n",
       "         22,   34,   12,   33,   23,   18,   42,   32,   30,   11,   24,\n",
       "         36,   35,   27,   14,   15,   17,   21,   23,   17,   18,   42,\n",
       "         17,   33,   17,   16,   39,    8,   12,   24,   21,   10,   37,\n",
       "         18,   12,   13,   12,   24,    7,    8,   21,   18,   16,   14,\n",
       "         17])"
      ]
     },
     "execution_count": 33,
     "metadata": {},
     "output_type": "execute_result"
    }
   ],
   "source": [
    "np.sum(embedd_predict_ones,axis=0)"
   ]
  },
  {
   "cell_type": "code",
   "execution_count": 34,
   "metadata": {
    "ExecuteTime": {
     "end_time": "2021-06-18T09:13:25.555106Z",
     "start_time": "2021-06-18T09:13:25.546539Z"
    },
    "pycharm": {
     "name": "#%%\n"
    },
    "scrolled": true
   },
   "outputs": [
    {
     "data": {
      "text/plain": [
       "array([   0, 8618, 3380,  713,  552,  509,  449,  392,  334,  312,  309,\n",
       "        269,  277,  276,  251,  218,  194,  206,  192,  182,  168,  181,\n",
       "        163,  136,  150,  141,  136,  131,  118,  136,  132,  131,  119,\n",
       "        126,  120,  110,  116,  102,  111,   91,  104,   97,  105,   99,\n",
       "         89,   87,   94,   98,   86,   94,   81,   86,   87,   83,   86,\n",
       "         73,   78,   78,   83,   80,   84,   73,   80,   78,   74,   74,\n",
       "         80,   78,   65,   66,   71,   66,   65,   58,   72,   63,   69,\n",
       "         68,   66,   64,   62,   63,   58,   55,   59,   60,   58,   60,\n",
       "         60,   58,   58,   56,   56,   55,   50,   53,   54,   53,   54,\n",
       "         48])"
      ]
     },
     "execution_count": 34,
     "metadata": {},
     "output_type": "execute_result"
    }
   ],
   "source": [
    "np.sum(partial_Y_train,axis=0)"
   ]
  },
  {
   "cell_type": "code",
   "execution_count": 35,
   "metadata": {
    "ExecuteTime": {
     "end_time": "2021-06-18T09:13:25.564018Z",
     "start_time": "2021-06-18T09:13:25.556187Z"
    },
    "scrolled": true
   },
   "outputs": [
    {
     "name": "stdout",
     "output_type": "stream",
     "text": [
      "Text before vectoring : \n",
      " Is it possible to define global variables in a function in Python <p>How do I declare a global variable in a function in Python? </p>\n",
      "\n",
      "<p>That is, so that it doesn't have to be declared before but can be used outside of the function.</p>\n",
      " \n",
      "\n",
      "Tags before vectoring :  python function global-variables\n",
      "Tags vectorize matrix :  [0 1 0 0 0 0 0 0 0 0 0 0 0 0 0 0 0 0 0 0 0 0 0 0 0 0 0 0 0 1 0 0 0 0 0 0 0\n",
      " 0 0 0 0 0 0 0 1 0 0 0 0 0 0 0 0 0 0 0 0 0 0 0 0 0 0 0 0 0 0 0 0 0 0 0 0 0\n",
      " 0 0 0 0 0 0 0 0 0 0 0 0 0 0 0 0 0 0 0 0 0 0 0 0 0 0]\n",
      "Tags vectorized :  ['python', 'function', 'variables']\n",
      "Tags predicted matrix:  [0. 1. 0. 1. 0. 0. 0. 0. 0. 0. 0. 0. 0. 0. 0. 0. 0. 0. 0. 0. 0. 0. 0. 0.\n",
      " 0. 0. 0. 0. 0. 0. 0. 0. 0. 0. 0. 0. 0. 0. 0. 0. 0. 0. 0. 0. 0. 0. 0. 0.\n",
      " 0. 0. 0. 0. 0. 0. 0. 0. 0. 0. 0. 0. 0. 0. 0. 0. 0. 0. 0. 0. 0. 0. 0. 0.\n",
      " 0. 0. 0. 0. 0. 0. 0. 0. 0. 0. 0. 0. 0. 0. 0. 0. 0. 0. 0. 0. 0. 0. 0. 0.\n",
      " 0. 0. 0. 0.]\n",
      "Tags predicted :  ['python', 'django']\n"
     ]
    }
   ],
   "source": [
    "id_sample = 900\n",
    "\n",
    "#print('reverse word index Y : ',reverse_word_index_Y)\n",
    "print('Text before vectoring : \\n',text_train[id_sample],'\\n')\n",
    "print('Tags before vectoring : ',tag_train[id_sample])\n",
    "print('Tags vectorize matrix : ',Y_train_padded[id_sample])\n",
    "\n",
    "sample_tag = vector_to_list_of_tags(Y_train_padded[id_sample],reverse_word_index_Y)\n",
    "print('Tags vectorized : ',sample_tag)\n",
    "\n",
    "sample_tag_pred = vector_to_list_of_tags(embedd_predict_ones[id_sample],reverse_word_index_Y)\n",
    "print('Tags predicted matrix: ',np.around(embedd_predict[id_sample], decimals=1))\n",
    "print('Tags predicted : ',sample_tag_pred)"
   ]
  },
  {
   "cell_type": "markdown",
   "metadata": {},
   "source": [
    "## Exportation pour l'API"
   ]
  },
  {
   "cell_type": "code",
   "execution_count": 36,
   "metadata": {
    "ExecuteTime": {
     "end_time": "2021-06-18T09:13:25.607731Z",
     "start_time": "2021-06-18T09:13:25.565024Z"
    }
   },
   "outputs": [],
   "source": [
    "import pickle # pour exporter les modèles entrainés\n",
    "\n",
    "pickle.dump(tokenizer_X, open('API/models/keras_tokenizer_X.pickle', 'wb')) # enregistre le modeèle de transformation X\n",
    "pickle.dump(tokenizer_Y, open('API/models/keras_tokenizer_Y.pickle', 'wb')) # enregistre le modeèle de transformation X"
   ]
  },
  {
   "cell_type": "code",
   "execution_count": 37,
   "metadata": {
    "ExecuteTime": {
     "end_time": "2021-06-18T09:13:25.693340Z",
     "start_time": "2021-06-18T09:13:25.609006Z"
    },
    "pycharm": {
     "name": "#%%\n"
    }
   },
   "outputs": [],
   "source": [
    "model.save('API/models/keras_embedding.h5')"
   ]
  },
  {
   "cell_type": "code",
   "execution_count": 38,
   "metadata": {
    "ExecuteTime": {
     "end_time": "2021-06-18T09:13:25.898117Z",
     "start_time": "2021-06-18T09:13:25.694473Z"
    },
    "pycharm": {
     "name": "#%%\n"
    },
    "scrolled": true
   },
   "outputs": [
    {
     "data": {
      "text/plain": [
       "['?',\n",
       " 'python',\n",
       " 'r',\n",
       " 'django',\n",
       " 'ggplot2',\n",
       " 'list',\n",
       " 'numpy',\n",
       " 'string',\n",
       " 'dataframe',\n",
       " 'x',\n",
       " 'matplotlib',\n",
       " '3',\n",
       " '2',\n",
       " 'data',\n",
       " 'dictionary',\n",
       " 'regex',\n",
       " 'file',\n",
       " 'pandas',\n",
       " 'plot',\n",
       " '7',\n",
       " 'dplyr',\n",
       " 'table',\n",
       " 'datetime',\n",
       " 'testing',\n",
       " 'faq',\n",
       " 'flask',\n",
       " 'class',\n",
       " 'sqlalchemy',\n",
       " 'c',\n",
       " 'function',\n",
       " 'import',\n",
       " 'performance',\n",
       " 'windows',\n",
       " 'models',\n",
       " 'scipy',\n",
       " 'exception',\n",
       " 'arrays',\n",
       " 'unicode',\n",
       " 'unit',\n",
       " 'markdown',\n",
       " 'csv',\n",
       " 'date',\n",
       " 'sorting',\n",
       " 'matrix',\n",
       " 'variables',\n",
       " 'shiny',\n",
       " 'linux',\n",
       " 'json',\n",
       " 'io',\n",
       " 'time',\n",
       " 'multithreading',\n",
       " 'module',\n",
       " 'knitr',\n",
       " 'image',\n",
       " 'tkinter',\n",
       " 'mysql',\n",
       " 'memory',\n",
       " 'formatting',\n",
       " 'pip',\n",
       " 'statistics',\n",
       " 'oop',\n",
       " 'rstudio',\n",
       " 'package',\n",
       " 'processing',\n",
       " 'syntax',\n",
       " 'algorithm',\n",
       " 'virtualenv',\n",
       " 'logging',\n",
       " 'google',\n",
       " 'line',\n",
       " 'random',\n",
       " 'parsing',\n",
       " 'sql',\n",
       " 'xml',\n",
       " 'tuples',\n",
       " 'html',\n",
       " 'comprehension',\n",
       " 'math',\n",
       " 'subprocess',\n",
       " 'java',\n",
       " 'path',\n",
       " 'library',\n",
       " 'http',\n",
       " 'command',\n",
       " 'inheritance',\n",
       " 'database',\n",
       " 'vector',\n",
       " 'imaging',\n",
       " 'handling',\n",
       " 'web',\n",
       " 'statement',\n",
       " 'loop',\n",
       " 'templates',\n",
       " 'loops',\n",
       " 'text',\n",
       " 'engine',\n",
       " 'split',\n",
       " 'macos',\n",
       " 'methods',\n",
       " 'language']"
      ]
     },
     "execution_count": 38,
     "metadata": {},
     "output_type": "execute_result"
    }
   ],
   "source": [
    "import pickle  as p# pour exporter les modèles entrainés\n",
    "from tensorflow.keras.models import load_model\n",
    "tokenizer_X = p.load(open('API/models/keras_tokenizer_X.pickle', 'rb'))\n",
    "tokenizer_Y = p.load(open('API/models/keras_tokenizer_Y.pickle', 'rb'))\n",
    "model = load_model('API/models/keras_embedding.h5')\n",
    "\n",
    "X_train = tokenizer_X.texts_to_sequences('python')\n",
    "X_train_padded = pad_sequences(X_train, padding=\"post\",maxlen=1000)\n",
    "y_predict = (model.predict(X_train_padded))\n",
    "sample_tag = [y_predict.tolist()]\n",
    "tag = vector_to_list_of_tags(y_predict[0], reverse_word_index_Y)"
   ]
  },
  {
   "cell_type": "markdown",
   "metadata": {
    "heading_collapsed": true,
    "pycharm": {
     "name": "#%% md\n"
    }
   },
   "source": [
    "# Utilisation d'un embedding pré entrainé Glove\n",
    "Nous avons aussi testé l'embedding pre-entrainé Glove, mais les resultats ne sont pas meilleures que l'embedding entrainé avec le modèle"
   ]
  },
  {
   "cell_type": "code",
   "execution_count": 40,
   "metadata": {
    "ExecuteTime": {
     "end_time": "2021-06-18T09:13:30.090917Z",
     "start_time": "2021-06-18T09:13:25.903089Z"
    },
    "hidden": true,
    "pycharm": {
     "name": "#%%\n"
    }
   },
   "outputs": [
    {
     "name": "stdout",
     "output_type": "stream",
     "text": [
      "Found 400000 word vectors.\n"
     ]
    }
   ],
   "source": [
    "import os\n",
    "# fichier téléchargé de https://nlp.stanford.edu/projects/glove/\n",
    "glove_dir = 'embedding/glove.6B/'\n",
    "\n",
    "embeddings_index = {}\n",
    "f = open(os.path.join(glove_dir, 'glove.6B.50d.txt'))\n",
    "for line in f:\n",
    "    values = line.split()\n",
    "    word = values[0]\n",
    "    coefs = np.asarray(values[1:], dtype='float32')\n",
    "    embeddings_index[word] = coefs\n",
    "f.close()\n",
    "\n",
    "print('Found %s word vectors.' % len(embeddings_index))"
   ]
  },
  {
   "cell_type": "code",
   "execution_count": 41,
   "metadata": {
    "ExecuteTime": {
     "end_time": "2021-06-18T09:13:30.123958Z",
     "start_time": "2021-06-18T09:13:30.091955Z"
    },
    "hidden": true,
    "pycharm": {
     "name": "#%%\n"
    }
   },
   "outputs": [],
   "source": [
    "max_words = 10000\n",
    "embedding_dim = 50 # dimension du embedding importé glove.6B.50d.txt\n",
    "\n",
    "embedding_matrix = np.zeros((max_words, embedding_dim))\n",
    "for word, i in word_index_X.items():\n",
    "    embedding_vector = embeddings_index.get(word)\n",
    "    if i < max_words:\n",
    "        if embedding_vector is not None:\n",
    "            # Words not found in embedding index will be all-zeros.\n",
    "            embedding_matrix[i] = embedding_vector"
   ]
  },
  {
   "cell_type": "code",
   "execution_count": 42,
   "metadata": {
    "ExecuteTime": {
     "end_time": "2021-06-18T09:13:35.929343Z",
     "start_time": "2021-06-18T09:13:30.126089Z"
    },
    "hidden": true,
    "pycharm": {
     "name": "#%%\n"
    }
   },
   "outputs": [
    {
     "name": "stdout",
     "output_type": "stream",
     "text": [
      "Model: \"sequential_5\"\n",
      "_________________________________________________________________\n",
      "Layer (type)                 Output Shape              Param #   \n",
      "=================================================================\n",
      "embedding_3 (Embedding)      (None, 1000, 50)          500000    \n",
      "_________________________________________________________________\n",
      "flatten_3 (Flatten)          (None, 50000)             0         \n",
      "_________________________________________________________________\n",
      "dense_9 (Dense)              (None, 128)               6400128   \n",
      "_________________________________________________________________\n",
      "dense_10 (Dense)             (None, 100)               12900     \n",
      "=================================================================\n",
      "Total params: 6,913,028\n",
      "Trainable params: 6,913,028\n",
      "Non-trainable params: 0\n",
      "_________________________________________________________________\n",
      "Epoch 1/10\n",
      "24/24 [==============================] - 1s 28ms/step - loss: 0.1743 - acc: 0.6702 - f1_m: 0.4106 - precision_m: 0.5994 - recall_m: 0.3944 - val_loss: 0.0883 - val_acc: 0.7820 - val_f1_m: 0.4786 - val_precision_m: 0.7951 - val_recall_m: 0.3425\n",
      "Epoch 2/10\n",
      "24/24 [==============================] - 0s 21ms/step - loss: 0.0726 - acc: 0.8292 - f1_m: 0.5419 - precision_m: 0.8195 - recall_m: 0.4053 - val_loss: 0.0667 - val_acc: 0.8200 - val_f1_m: 0.5436 - val_precision_m: 0.8118 - val_recall_m: 0.4086\n",
      "Epoch 3/10\n",
      "24/24 [==============================] - 0s 20ms/step - loss: 0.0558 - acc: 0.8722 - f1_m: 0.5941 - precision_m: 0.8805 - recall_m: 0.4484 - val_loss: 0.0620 - val_acc: 0.8590 - val_f1_m: 0.5583 - val_precision_m: 0.8624 - val_recall_m: 0.4128\n",
      "Epoch 4/10\n",
      "24/24 [==============================] - 0s 20ms/step - loss: 0.0474 - acc: 0.9101 - f1_m: 0.6387 - precision_m: 0.9233 - recall_m: 0.4884 - val_loss: 0.0602 - val_acc: 0.8750 - val_f1_m: 0.5778 - val_precision_m: 0.8656 - val_recall_m: 0.4336\n",
      "Epoch 5/10\n",
      "24/24 [==============================] - 0s 21ms/step - loss: 0.0413 - acc: 0.9294 - f1_m: 0.6764 - precision_m: 0.9481 - recall_m: 0.5258 - val_loss: 0.0593 - val_acc: 0.8930 - val_f1_m: 0.5960 - val_precision_m: 0.8808 - val_recall_m: 0.4505\n",
      "Epoch 6/10\n",
      "24/24 [==============================] - 1s 21ms/step - loss: 0.0364 - acc: 0.9509 - f1_m: 0.7126 - precision_m: 0.9672 - recall_m: 0.5643 - val_loss: 0.0587 - val_acc: 0.9080 - val_f1_m: 0.6057 - val_precision_m: 0.8872 - val_recall_m: 0.4599\n",
      "Epoch 7/10\n",
      "24/24 [==============================] - 0s 21ms/step - loss: 0.0323 - acc: 0.9597 - f1_m: 0.7418 - precision_m: 0.9754 - recall_m: 0.5986 - val_loss: 0.0581 - val_acc: 0.9170 - val_f1_m: 0.6174 - val_precision_m: 0.9020 - val_recall_m: 0.4693\n",
      "Epoch 8/10\n",
      "24/24 [==============================] - 0s 20ms/step - loss: 0.0288 - acc: 0.9672 - f1_m: 0.7684 - precision_m: 0.9823 - recall_m: 0.6311 - val_loss: 0.0579 - val_acc: 0.9150 - val_f1_m: 0.6208 - val_precision_m: 0.9117 - val_recall_m: 0.4707\n",
      "Epoch 9/10\n",
      "24/24 [==============================] - 0s 20ms/step - loss: 0.0257 - acc: 0.9727 - f1_m: 0.7940 - precision_m: 0.9866 - recall_m: 0.6643 - val_loss: 0.0582 - val_acc: 0.9240 - val_f1_m: 0.6241 - val_precision_m: 0.9001 - val_recall_m: 0.4777\n",
      "Epoch 10/10\n",
      "24/24 [==============================] - 0s 20ms/step - loss: 0.0231 - acc: 0.9749 - f1_m: 0.8154 - precision_m: 0.9881 - recall_m: 0.6942 - val_loss: 0.0587 - val_acc: 0.9250 - val_f1_m: 0.6249 - val_precision_m: 0.9067 - val_recall_m: 0.4768\n"
     ]
    }
   ],
   "source": [
    "from keras.models import Sequential\n",
    "from keras.layers import Embedding, Flatten, Dense\n",
    "\n",
    "model = Sequential()\n",
    "model.add(Embedding(10000, embedding_dim, input_length=text_len))\n",
    "model.add(Flatten())\n",
    "model.add(Dense(128, activation='relu'))\n",
    "model.add(Dense(label_len, activation='sigmoid'))\n",
    "model.summary()\n",
    "\n",
    "# charger l'embedding entrainé\n",
    "model.layers[0].set_weights([embedding_matrix])\n",
    "model.layers[0].trainable = True\n",
    "\n",
    "\n",
    "model.compile(optimizer='adam',\n",
    "              loss='binary_crossentropy',\n",
    "              metrics=['acc',f1_m,precision_m, recall_m])\n",
    "\n",
    "\n",
    "history = model.fit(partial_X_train,\n",
    "                    partial_Y_train,\n",
    "                    epochs=10,\n",
    "                    batch_size=512,\n",
    "                    validation_data=(X_val, Y_val),\n",
    "                    )\n",
    "\n",
    "model.save_weights('pre_trained_glove_model.h5')\n"
   ]
  },
  {
   "cell_type": "code",
   "execution_count": 43,
   "metadata": {
    "ExecuteTime": {
     "end_time": "2021-06-18T09:13:36.055993Z",
     "start_time": "2021-06-18T09:13:35.930444Z"
    },
    "hidden": true,
    "pycharm": {
     "name": "#%%\n"
    }
   },
   "outputs": [
    {
     "data": {
      "image/png": "[encoded data removed]",
      "text/plain": [
       "<Figure size 432x288 with 1 Axes>"
      ]
     },
     "metadata": {},
     "output_type": "display_data"
    }
   ],
   "source": [
    "import matplotlib.pyplot as plt\n",
    "\n",
    "loss = history.history['loss']\n",
    "val_loss = history.history['val_loss']\n",
    "\n",
    "epochs = range(1, len(loss) + 1)\n",
    "\n",
    "fig = plt.figure()\n",
    "fig.patch.set_facecolor('w')\n",
    "plt.plot(epochs, loss, 'bo', label='Training loss')\n",
    "plt.plot(epochs, val_loss, 'b', label='Validation loss')\n",
    "plt.title('Training and validation loss')\n",
    "plt.xlabel('Epochs')\n",
    "plt.ylabel('Loss')\n",
    "plt.legend()\n",
    "plt.axvline(x=9,color='red',linestyle='--')\n",
    "\n",
    "plt.show()"
   ]
  },
  {
   "cell_type": "code",
   "execution_count": 44,
   "metadata": {
    "ExecuteTime": {
     "end_time": "2021-06-18T09:13:36.183816Z",
     "start_time": "2021-06-18T09:13:36.057396Z"
    },
    "hidden": true,
    "pycharm": {
     "name": "#%%\n"
    }
   },
   "outputs": [
    {
     "data": {
      "text/plain": [
       "<Figure size 432x288 with 0 Axes>"
      ]
     },
     "metadata": {},
     "output_type": "display_data"
    },
    {
     "data": {
      "image/png": "[encoded data removed]",
      "text/plain": [
       "<Figure size 432x288 with 1 Axes>"
      ]
     },
     "metadata": {},
     "output_type": "display_data"
    }
   ],
   "source": [
    "plt.clf()   # clear figure\n",
    "\n",
    "f1_train = history.history['f1_m']\n",
    "f1_val = history.history['val_f1_m']\n",
    "\n",
    "fig = plt.figure()\n",
    "fig.patch.set_facecolor('w')\n",
    "plt.plot(epochs, f1_train, 'bo', label='Training acc')\n",
    "plt.plot(epochs, f1_val, 'b', label='Validation acc')\n",
    "plt.title('Training and validation accuracy')\n",
    "plt.xlabel('Epochs')\n",
    "plt.ylabel('F1 Score')\n",
    "plt.legend()\n",
    "plt.axvline(x=9,color='red',linestyle='--')\n",
    "\n",
    "plt.show()"
   ]
  },
  {
   "cell_type": "code",
   "execution_count": 45,
   "metadata": {
    "ExecuteTime": {
     "end_time": "2021-06-18T09:13:36.255077Z",
     "start_time": "2021-06-18T09:13:36.185015Z"
    },
    "hidden": true,
    "pycharm": {
     "name": "#%%\n"
    }
   },
   "outputs": [
    {
     "name": "stdout",
     "output_type": "stream",
     "text": [
      "Loss :  0.06274358183145523\n",
      "Accuracy :  0.921999990940094\n",
      "f1 Score :  0.601466953754425\n",
      "precision :  0.912826657295227\n",
      "recall :  0.4500977694988251\n"
     ]
    }
   ],
   "source": [
    "loss, accuracy, f1_score, precision, recall = model.evaluate(X_test, Y_test, verbose=0)\n",
    "\n",
    "print('Loss : ',loss)\n",
    "print('Accuracy : ',accuracy)\n",
    "print('f1 Score : ',f1_score)\n",
    "print('precision : ',precision)\n",
    "print('recall : ',recall)"
   ]
  }
 ],
 "metadata": {
  "kernelspec": {
   "display_name": "PyCharm (P5_StackOverflow)",
   "language": "python",
   "name": "pycharm-b70b49f9"
  },
  "language_info": {
   "codemirror_mode": {
    "name": "ipython",
    "version": 3
   },
   "file_extension": ".py",
   "mimetype": "text/x-python",
   "name": "python",
   "nbconvert_exporter": "python",
   "pygments_lexer": "ipython3",
   "version": "3.8.5"
  },
  "toc": {
   "base_numbering": 1,
   "nav_menu": {},
   "number_sections": true,
   "sideBar": true,
   "skip_h1_title": false,
   "title_cell": "Table of Contents",
   "title_sidebar": "Contents",
   "toc_cell": false,
   "toc_position": {
    "height": "calc(100% - 180px)",
    "left": "10px",
    "top": "150px",
    "width": "295.675px"
   },
   "toc_section_display": true,
   "toc_window_display": false
  },
  "varInspector": {
   "cols": {
    "lenName": 16,
    "lenType": 16,
    "lenVar": 40
   },
   "kernels_config": {
    "python": {
     "delete_cmd_postfix": "",
     "delete_cmd_prefix": "del ",
     "library": "var_list.py",
     "varRefreshCmd": "print(var_dic_list())"
    },
    "r": {
     "delete_cmd_postfix": ") ",
     "delete_cmd_prefix": "rm(",
     "library": "var_list.r",
     "varRefreshCmd": "cat(var_dic_list()) "
    }
   },
   "types_to_exclude": [
    "module",
    "function",
    "builtin_function_or_method",
    "instance",
    "_Feature"
   ],
   "window_display": false
  }
 },
 "nbformat": 4,
 "nbformat_minor": 1
}