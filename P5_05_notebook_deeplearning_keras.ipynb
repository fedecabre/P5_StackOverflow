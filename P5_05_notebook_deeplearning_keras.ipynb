{
 "cells": [
  {
   "cell_type": "markdown",
   "metadata": {
    "collapsed": true,
    "pycharm": {
     "name": "#%% md\n"
    }
   },
   "source": [
    "Avec les mêmes données des post Python et R nous allons entrainer deux modèles des réseau de neurones\n",
    "avec Keras et TensorFlow"
   ]
  },
  {
   "cell_type": "markdown",
   "source": [
    "# importation du dataset et conversion"
   ],
   "metadata": {
    "collapsed": false,
    "pycharm": {
     "name": "#%% md\n"
    }
   }
  },
  {
   "cell_type": "code",
   "execution_count": 68,
   "outputs": [],
   "source": [
    "import numpy as np\n",
    "import pandas as pd\n",
    "\n",
    "dtypes_questions = {'Id':'int32', 'Score': 'int16', 'Title': 'str',\n",
    "                    'Body': 'str', 'Title_raw': 'str', 'Text': 'str',\n",
    "                    'Tags': 'str'}\n",
    "\n",
    "nrows = 20000\n",
    "\n",
    "df_questions = pd.read_csv('df_questions_fullclean.csv',\n",
    "                           usecols=dtypes_questions.keys(),\n",
    "                           encoding = \"utf-8\",\n",
    "                           dtype=dtypes_questions,\n",
    "                           nrows=nrows\n",
    "                          )\n",
    "\n",
    "\n",
    "text_train, tag_train = df_questions.Text, df_questions.Tags"
   ],
   "metadata": {
    "collapsed": false,
    "pycharm": {
     "name": "#%%\n"
    }
   }
  },
  {
   "cell_type": "code",
   "execution_count": 80,
   "outputs": [
    {
     "name": "stdout",
     "output_type": "stream",
     "text": [
      "Found 11778 unique tokens in the posts.\n",
      "Found 1151 unique tokens in the tags.\n"
     ]
    }
   ],
   "source": [
    "from keras.preprocessing.text import Tokenizer\n",
    "from keras.preprocessing.sequence import pad_sequences\n",
    "\n",
    "# We create a tokenizer, configured to only take\n",
    "# into account the top-1000 most common words\n",
    "tokenizer_X = Tokenizer(num_words=10000)\n",
    "tokenizer_Y = Tokenizer(num_words=1000)\n",
    "# This builds the word index\n",
    "tokenizer_X.fit_on_texts(text_train)\n",
    "tokenizer_Y.fit_on_texts(tag_train)\n",
    "\n",
    "X_train = tokenizer_X.texts_to_sequences(text_train)\n",
    "Y_train = tokenizer_Y.texts_to_sequences(tag_train)\n",
    "\n",
    "X_train_padded = pad_sequences(X_train, padding=\"post\")\n",
    "Y_train_padded = pad_sequences(Y_train, padding=\"post\")\n",
    "\n",
    "word_index_X = tokenizer_X.word_index\n",
    "word_index_Y = tokenizer_Y.word_index\n",
    "\n",
    "print('Found %s unique tokens in the posts.' % len(word_index_X))\n",
    "print('Found %s unique tokens in the tags.' % len(word_index_Y))"
   ],
   "metadata": {
    "collapsed": false,
    "pycharm": {
     "name": "#%%\n"
    }
   }
  },
  {
   "cell_type": "code",
   "execution_count": 85,
   "outputs": [],
   "source": [
    "from keras import models\n",
    "from keras import layers\n",
    "\n",
    "model = models.Sequential()\n",
    "model.add(layers.Dense(64, activation='relu'))\n",
    "model.add(layers.Dense(64, activation='relu'))\n",
    "model.add(layers.Dense(9, activation='softmax'))"
   ],
   "metadata": {
    "collapsed": false,
    "pycharm": {
     "name": "#%%\n"
    }
   }
  },
  {
   "cell_type": "code",
   "execution_count": 86,
   "outputs": [],
   "source": [
    "model.compile(optimizer='adam',\n",
    "              loss='categorical_crossentropy',\n",
    "              metrics=['accuracy'])"
   ],
   "metadata": {
    "collapsed": false,
    "pycharm": {
     "name": "#%%\n"
    }
   }
  },
  {
   "cell_type": "code",
   "execution_count": 87,
   "outputs": [],
   "source": [
    "X_val = X_train_padded[:1000]\n",
    "partial_X_train = X_train_padded[1000:]\n",
    "\n",
    "Y_val = Y_train_padded[:1000]\n",
    "partial_Y_train = Y_train_padded[1000:]"
   ],
   "metadata": {
    "collapsed": false,
    "pycharm": {
     "name": "#%%\n"
    }
   }
  },
  {
   "cell_type": "code",
   "execution_count": 92,
   "outputs": [
    {
     "name": "stdout",
     "output_type": "stream",
     "text": [
      "Epoch 1/200\n",
      "2/2 [==============================] - 0s 195ms/step - loss: 2329219584.0000 - accuracy: 0.2770 - val_loss: 2699946240.0000 - val_accuracy: 0.2520\b\b\b\b\b\b\b\b\b\b\b\b\b\b\b\b\b\b\b\b\b\b\b\b\b\b\b\b\b\b\b\b\n",
      "Epoch 2/200\n",
      "2/2 [==============================] - 0s 92ms/step - loss: 2352410624.0000 - accuracy: 0.2770 - val_loss: 2727339264.0000 - val_accuracy: 0.2520\b\b\b\b\b\b\b\b\b\b\b\b\b\b\b\b\b\b\b\b\b\b\b\b\b\b\b\b\b\b\b\b\b\n",
      "Epoch 3/200\n",
      "2/2 [==============================] - 0s 99ms/step - loss: 2376636928.0000 - accuracy: 0.2770 - val_loss: 2756315648.0000 - val_accuracy: 0.2520\b\b\b\b\b\b\b\b\b\b\b\b\b\b\b\b\b\b\b\b\b\b\b\b\b\b\b\b\b\b\b\b\b\n",
      "Epoch 4/200\n",
      "2/2 [==============================] - 0s 145ms/step - loss: 2402145536.0000 - accuracy: 0.2770 - val_loss: 2784445952.0000 - val_accuracy: 0.2520\b\b\b\b\b\b\b\b\b\b\b\b\b\b\b\b\b\b\b\b\b\b\b\b\b\b\b\b\b\b\b\b\n",
      "Epoch 5/200\n",
      "2/2 [==============================] - 0s 114ms/step - loss: 2427352576.0000 - accuracy: 0.2770 - val_loss: 2813857536.0000 - val_accuracy: 0.2520\b\b\b\b\b\b\b\b\b\b\b\b\b\b\b\b\b\b\b\b\b\b\b\b\b\b\b\b\b\b\b\b\n",
      "Epoch 6/200\n",
      "2/2 [==============================] - 0s 62ms/step - loss: 2449572352.0000 - accuracy: 0.2770 - val_loss: 2841936640.0000 - val_accuracy: 0.2520\b\b\b\b\b\b\b\b\b\b\b\b\b\b\b\b\b\b\b\b\b\b\b\b\b\b\b\b\b\b\b\b\b\n",
      "Epoch 7/200\n",
      "2/2 [==============================] - 0s 66ms/step - loss: 2476431104.0000 - accuracy: 0.2770 - val_loss: 2871140096.0000 - val_accuracy: 0.2520\b\b\b\b\b\b\b\b\b\b\b\b\b\b\b\b\b\b\b\b\b\b\b\b\b\b\b\b\b\b\b\b\b\n",
      "Epoch 8/200\n",
      "2/2 [==============================] - 0s 95ms/step - loss: 2501453056.0000 - accuracy: 0.2770 - val_loss: 2900171520.0000 - val_accuracy: 0.2520\b\b\b\b\b\b\b\b\b\b\b\b\b\b\b\b\b\b\b\b\b\b\b\b\b\b\b\b\b\b\b\b\b\n",
      "Epoch 9/200\n",
      "2/2 [==============================] - 0s 111ms/step - loss: 2524958464.0000 - accuracy: 0.2770 - val_loss: 2927886336.0000 - val_accuracy: 0.2520\b\b\b\b\b\b\b\b\b\b\b\b\b\b\b\b\b\b\b\b\b\b\b\b\b\b\b\b\b\b\b\b\n",
      "Epoch 10/200\n",
      "2/2 [==============================] - 0s 92ms/step - loss: 2549001216.0000 - accuracy: 0.2770 - val_loss: 2956392960.0000 - val_accuracy: 0.2520\b\b\b\b\b\b\b\b\b\b\b\b\b\b\b\b\b\b\b\b\b\b\b\b\b\b\b\b\b\b\b\b\b\n",
      "Epoch 11/200\n",
      "2/2 [==============================] - 0s 74ms/step - loss: 2574622208.0000 - accuracy: 0.2770 - val_loss: 2985461248.0000 - val_accuracy: 0.2520\b\b\b\b\b\b\b\b\b\b\b\b\b\b\b\b\b\b\b\b\b\b\b\b\b\b\b\b\b\b\b\b\b\n",
      "Epoch 12/200\n",
      "2/2 [==============================] - 0s 49ms/step - loss: 2598909696.0000 - accuracy: 0.2770 - val_loss: 3015434496.0000 - val_accuracy: 0.2520\b\b\b\b\b\b\b\b\b\b\b\b\b\b\b\b\b\b\b\b\b\b\b\b\b\b\b\b\b\b\b\b\b\n",
      "Epoch 13/200\n",
      "2/2 [==============================] - 0s 54ms/step - loss: 2625581824.0000 - accuracy: 0.2770 - val_loss: 3044310528.0000 - val_accuracy: 0.2520\b\b\b\b\b\b\b\b\b\b\b\b\b\b\b\b\b\b\b\b\b\b\b\b\b\b\b\b\b\b\b\b\b\n",
      "Epoch 14/200\n",
      "2/2 [==============================] - 0s 96ms/step - loss: 2650880768.0000 - accuracy: 0.2770 - val_loss: 3074425856.0000 - val_accuracy: 0.2520\b\b\b\b\b\b\b\b\b\b\b\b\b\b\b\b\b\b\b\b\b\b\b\b\b\b\b\b\b\b\b\b\b\n",
      "Epoch 15/200\n",
      "2/2 [==============================] - 0s 54ms/step - loss: 2677599744.0000 - accuracy: 0.2770 - val_loss: 3105648896.0000 - val_accuracy: 0.2520\b\b\b\b\b\b\b\b\b\b\b\b\b\b\b\b\b\b\b\b\b\b\b\b\b\b\b\b\b\b\b\b\b\n",
      "Epoch 16/200\n",
      "2/2 [==============================] - 0s 80ms/step - loss: 2703332864.0000 - accuracy: 0.2770 - val_loss: 3135293440.0000 - val_accuracy: 0.2520\b\b\b\b\b\b\b\b\b\b\b\b\b\b\b\b\b\b\b\b\b\b\b\b\b\b\b\b\b\b\b\b\b\n",
      "Epoch 17/200\n",
      "2/2 [==============================] - 0s 103ms/step - loss: 2729078784.0000 - accuracy: 0.2770 - val_loss: 3165653248.0000 - val_accuracy: 0.2520\b\b\b\b\b\b\b\b\b\b\b\b\b\b\b\b\b\b\b\b\b\b\b\b\b\b\b\b\b\b\b\b\n",
      "Epoch 18/200\n",
      "2/2 [==============================] - 0s 75ms/step - loss: 2756369152.0000 - accuracy: 0.2770 - val_loss: 3195740160.0000 - val_accuracy: 0.2520\b\b\b\b\b\b\b\b\b\b\b\b\b\b\b\b\b\b\b\b\b\b\b\b\b\b\b\b\b\b\b\b\b\n",
      "Epoch 19/200\n",
      "2/2 [==============================] - 0s 88ms/step - loss: 2781697280.0000 - accuracy: 0.2770 - val_loss: 3226658048.0000 - val_accuracy: 0.2520\b\b\b\b\b\b\b\b\b\b\b\b\b\b\b\b\b\b\b\b\b\b\b\b\b\b\b\b\b\b\b\b\b\n",
      "Epoch 20/200\n",
      "2/2 [==============================] - 0s 101ms/step - loss: 2807951360.0000 - accuracy: 0.2770 - val_loss: 3256214016.0000 - val_accuracy: 0.2520\b\b\b\b\b\b\b\b\b\b\b\b\b\b\b\b\b\b\b\b\b\b\b\b\b\b\b\b\b\b\b\b\n",
      "Epoch 21/200\n",
      "2/2 [==============================] - 0s 99ms/step - loss: 2833683456.0000 - accuracy: 0.2770 - val_loss: 3286749696.0000 - val_accuracy: 0.2520\b\b\b\b\b\b\b\b\b\b\b\b\b\b\b\b\b\b\b\b\b\b\b\b\b\b\b\b\b\b\b\b\b\n",
      "Epoch 22/200\n",
      "2/2 [==============================] - 0s 100ms/step - loss: 2859208960.0000 - accuracy: 0.2770 - val_loss: 3317756672.0000 - val_accuracy: 0.2520\b\b\b\b\b\b\b\b\b\b\b\b\b\b\b\b\b\b\b\b\b\b\b\b\b\b\b\b\b\b\b\b\n",
      "Epoch 23/200\n",
      "2/2 [==============================] - 0s 97ms/step - loss: 2888071936.0000 - accuracy: 0.2770 - val_loss: 3349716992.0000 - val_accuracy: 0.2520\b\b\b\b\b\b\b\b\b\b\b\b\b\b\b\b\b\b\b\b\b\b\b\b\b\b\b\b\b\b\b\b\b\n",
      "Epoch 24/200\n",
      "2/2 [==============================] - 0s 107ms/step - loss: 2914816512.0000 - accuracy: 0.2770 - val_loss: 3381174528.0000 - val_accuracy: 0.2520\b\b\b\b\b\b\b\b\b\b\b\b\b\b\b\b\b\b\b\b\b\b\b\b\b\b\b\b\b\b\b\b\n",
      "Epoch 25/200\n",
      "2/2 [==============================] - 0s 97ms/step - loss: 2939807232.0000 - accuracy: 0.2770 - val_loss: 3411902976.0000 - val_accuracy: 0.2520\b\b\b\b\b\b\b\b\b\b\b\b\b\b\b\b\b\b\b\b\b\b\b\b\b\b\b\b\b\b\b\b\b\n",
      "Epoch 26/200\n",
      "2/2 [==============================] - 0s 99ms/step - loss: 2969246464.0000 - accuracy: 0.2770 - val_loss: 3444426496.0000 - val_accuracy: 0.2520\b\b\b\b\b\b\b\b\b\b\b\b\b\b\b\b\b\b\b\b\b\b\b\b\b\b\b\b\b\b\b\b\b\n",
      "Epoch 27/200\n",
      "2/2 [==============================] - 0s 103ms/step - loss: 2996075264.0000 - accuracy: 0.2770 - val_loss: 3476145664.0000 - val_accuracy: 0.2520\b\b\b\b\b\b\b\b\b\b\b\b\b\b\b\b\b\b\b\b\b\b\b\b\b\b\b\b\b\b\b\b\n",
      "Epoch 28/200\n",
      "2/2 [==============================] - 0s 125ms/step - loss: 3023886848.0000 - accuracy: 0.2770 - val_loss: 3508339712.0000 - val_accuracy: 0.2520\b\b\b\b\b\b\b\b\b\b\b\b\b\b\b\b\b\b\b\b\b\b\b\b\b\b\b\b\b\b\b\b\n",
      "Epoch 29/200\n",
      "2/2 [==============================] - 0s 103ms/step - loss: 3050124544.0000 - accuracy: 0.2770 - val_loss: 3539331328.0000 - val_accuracy: 0.2520\b\b\b\b\b\b\b\b\b\b\b\b\b\b\b\b\b\b\b\b\b\b\b\b\b\b\b\b\b\b\b\b\n",
      "Epoch 30/200\n",
      "2/2 [==============================] - 0s 148ms/step - loss: 3079087872.0000 - accuracy: 0.2770 - val_loss: 3573062400.0000 - val_accuracy: 0.2520\b\b\b\b\b\b\b\b\b\b\b\b\b\b\b\b\b\b\b\b\b\b\b\b\b\b\b\b\b\b\b\b\n",
      "Epoch 31/200\n",
      "2/2 [==============================] - 0s 164ms/step - loss: 3105515008.0000 - accuracy: 0.2770 - val_loss: 3604499968.0000 - val_accuracy: 0.2520\b\b\b\b\b\b\b\b\b\b\b\b\b\b\b\b\b\b\b\b\b\b\b\b\b\b\b\b\b\b\b\b\b\b\b\b\b\b\b\b\b\b\b\b\b\b\b\b\b\b\b\b\b\b\b\b\b\b\b\b\b\b\b\b\b\b\b\b\b\b\b\b\b\b\b\b\b\b\b\b\b\b\b\b\b\b\b\b\b\b\b\b\b\b\b\b\b\b\b\b\b\b\b\b\b\b\b\b\b\b\b\b\b\b\b\b\b\b\b\b\b\n",
      "Epoch 32/200\n",
      "2/2 [==============================] - 0s 90ms/step - loss: 3133412352.0000 - accuracy: 0.2770 - val_loss: 3636849920.0000 - val_accuracy: 0.2520\b\b\b\b\b\b\b\b\b\b\b\b\b\b\b\b\b\b\b\b\b\b\b\b\b\b\b\b\b\b\b\b\b\n",
      "Epoch 33/200\n",
      "2/2 [==============================] - 0s 120ms/step - loss: 3160443648.0000 - accuracy: 0.2770 - val_loss: 3668860672.0000 - val_accuracy: 0.2520\b\b\b\b\b\b\b\b\b\b\b\b\b\b\b\b\b\b\b\b\b\b\b\b\b\b\b\b\b\b\b\b\n",
      "Epoch 34/200\n",
      "2/2 [==============================] - 0s 109ms/step - loss: 3189262336.0000 - accuracy: 0.2770 - val_loss: 3701364480.0000 - val_accuracy: 0.2520\b\b\b\b\b\b\b\b\b\b\b\b\b\b\b\b\b\b\b\b\b\b\b\b\b\b\b\b\b\b\b\b\n",
      "Epoch 35/200\n",
      "2/2 [==============================] - 0s 113ms/step - loss: 3218277376.0000 - accuracy: 0.2770 - val_loss: 3734749440.0000 - val_accuracy: 0.2520\b\b\b\b\b\b\b\b\b\b\b\b\b\b\b\b\b\b\b\b\b\b\b\b\b\b\b\b\b\b\b\b\n",
      "Epoch 36/200\n",
      "2/2 [==============================] - 0s 98ms/step - loss: 3246512896.0000 - accuracy: 0.2770 - val_loss: 3767740672.0000 - val_accuracy: 0.2520\b\b\b\b\b\b\b\b\b\b\b\b\b\b\b\b\b\b\b\b\b\b\b\b\b\b\b\b\b\b\b\b\b\n",
      "Epoch 37/200\n",
      "2/2 [==============================] - 0s 101ms/step - loss: 3275464192.0000 - accuracy: 0.2770 - val_loss: 3801234688.0000 - val_accuracy: 0.2520\b\b\b\b\b\b\b\b\b\b\b\b\b\b\b\b\b\b\b\b\b\b\b\b\b\b\b\b\b\b\b\b\n",
      "Epoch 38/200\n",
      "2/2 [==============================] - 0s 122ms/step - loss: 3303681792.0000 - accuracy: 0.2770 - val_loss: 3834742016.0000 - val_accuracy: 0.2520\b\b\b\b\b\b\b\b\b\b\b\b\b\b\b\b\b\b\b\b\b\b\b\b\b\b\b\b\b\b\b\b\n",
      "Epoch 39/200\n",
      "2/2 [==============================] - 0s 94ms/step - loss: 3331982080.0000 - accuracy: 0.2770 - val_loss: 3868397824.0000 - val_accuracy: 0.2520\b\b\b\b\b\b\b\b\b\b\b\b\b\b\b\b\b\b\b\b\b\b\b\b\b\b\b\b\b\b\b\b\b\n",
      "Epoch 40/200\n",
      "2/2 [==============================] - 0s 101ms/step - loss: 3360981504.0000 - accuracy: 0.2770 - val_loss: 3901614592.0000 - val_accuracy: 0.2520\b\b\b\b\b\b\b\b\b\b\b\b\b\b\b\b\b\b\b\b\b\b\b\b\b\b\b\b\b\b\b\b\n",
      "Epoch 41/200\n",
      "2/2 [==============================] - 0s 82ms/step - loss: 3390591488.0000 - accuracy: 0.2770 - val_loss: 3934992384.0000 - val_accuracy: 0.2520\b\b\b\b\b\b\b\b\b\b\b\b\b\b\b\b\b\b\b\b\b\b\b\b\b\b\b\b\b\b\b\b\b\n",
      "Epoch 42/200\n",
      "2/2 [==============================] - 0s 134ms/step - loss: 3418853632.0000 - accuracy: 0.2770 - val_loss: 3968771328.0000 - val_accuracy: 0.2520\b\b\b\b\b\b\b\b\b\b\b\b\b\b\b\b\b\b\b\b\b\b\b\b\b\b\b\b\b\b\b\b\n",
      "Epoch 43/200\n",
      "2/2 [==============================] - 0s 119ms/step - loss: 3448239104.0000 - accuracy: 0.2770 - val_loss: 4002338560.0000 - val_accuracy: 0.2520\b\b\b\b\b\b\b\b\b\b\b\b\b\b\b\b\b\b\b\b\b\b\b\b\b\b\b\b\b\b\b\b\n",
      "Epoch 44/200\n",
      "2/2 [==============================] - 0s 154ms/step - loss: 3476351232.0000 - accuracy: 0.2770 - val_loss: 4037176320.0000 - val_accuracy: 0.2520\b\b\b\b\b\b\b\b\b\b\b\b\b\b\b\b\b\b\b\b\b\b\b\b\b\b\b\b\b\b\b\b\n",
      "Epoch 45/200\n",
      "2/2 [==============================] - 0s 100ms/step - loss: 3506392576.0000 - accuracy: 0.2770 - val_loss: 4071241472.0000 - val_accuracy: 0.2520\b\b\b\b\b\b\b\b\b\b\b\b\b\b\b\b\b\b\b\b\b\b\b\b\b\b\b\b\b\b\b\b\n",
      "Epoch 46/200\n",
      "2/2 [==============================] - 0s 107ms/step - loss: 3534661632.0000 - accuracy: 0.2770 - val_loss: 4104761856.0000 - val_accuracy: 0.2520\b\b\b\b\b\b\b\b\b\b\b\b\b\b\b\b\b\b\b\b\b\b\b\b\b\b\b\b\b\b\b\b\n",
      "Epoch 47/200\n",
      "2/2 [==============================] - 0s 139ms/step - loss: 3566401792.0000 - accuracy: 0.2770 - val_loss: 4141205760.0000 - val_accuracy: 0.2520\b\b\b\b\b\b\b\b\b\b\b\b\b\b\b\b\b\b\b\b\b\b\b\b\b\b\b\b\b\b\b\b\n",
      "Epoch 48/200\n",
      "2/2 [==============================] - 0s 111ms/step - loss: 3597897472.0000 - accuracy: 0.2770 - val_loss: 4176541184.0000 - val_accuracy: 0.2520\b\b\b\b\b\b\b\b\b\b\b\b\b\b\b\b\b\b\b\b\b\b\b\b\b\b\b\b\b\b\b\b\n",
      "Epoch 49/200\n",
      "2/2 [==============================] - 0s 94ms/step - loss: 3627068416.0000 - accuracy: 0.2770 - val_loss: 4211573504.0000 - val_accuracy: 0.2520\b\b\b\b\b\b\b\b\b\b\b\b\b\b\b\b\b\b\b\b\b\b\b\b\b\b\b\b\b\b\b\b\b\n",
      "Epoch 50/200\n",
      "2/2 [==============================] - 0s 101ms/step - loss: 3655217920.0000 - accuracy: 0.2770 - val_loss: 4245827328.0000 - val_accuracy: 0.2520\b\b\b\b\b\b\b\b\b\b\b\b\b\b\b\b\b\b\b\b\b\b\b\b\b\b\b\b\b\b\b\b\n",
      "Epoch 51/200\n",
      "2/2 [==============================] - 0s 64ms/step - loss: 3686007808.0000 - accuracy: 0.2770 - val_loss: 4280533248.0000 - val_accuracy: 0.2520\b\b\b\b\b\b\b\b\b\b\b\b\b\b\b\b\b\b\b\b\b\b\b\b\b\b\b\b\b\b\b\b\b\n",
      "Epoch 52/200\n",
      "2/2 [==============================] - 0s 102ms/step - loss: 3715562496.0000 - accuracy: 0.2770 - val_loss: 4315637760.0000 - val_accuracy: 0.2520\b\b\b\b\b\b\b\b\b\b\b\b\b\b\b\b\b\b\b\b\b\b\b\b\b\b\b\b\b\b\b\b\n",
      "Epoch 53/200\n",
      "2/2 [==============================] - 0s 90ms/step - loss: 3744862208.0000 - accuracy: 0.2770 - val_loss: 4351349248.0000 - val_accuracy: 0.2520\b\b\b\b\b\b\b\b\b\b\b\b\b\b\b\b\b\b\b\b\b\b\b\b\b\b\b\b\b\b\b\b\b\n",
      "Epoch 54/200\n",
      "2/2 [==============================] - 0s 124ms/step - loss: 3775863040.0000 - accuracy: 0.2770 - val_loss: 4387465728.0000 - val_accuracy: 0.2520\b\b\b\b\b\b\b\b\b\b\b\b\b\b\b\b\b\b\b\b\b\b\b\b\b\b\b\b\b\b\b\b\n",
      "Epoch 55/200\n",
      "2/2 [==============================] - 0s 121ms/step - loss: 3806576896.0000 - accuracy: 0.2770 - val_loss: 4423268864.0000 - val_accuracy: 0.2520\b\b\b\b\b\b\b\b\b\b\b\b\b\b\b\b\b\b\b\b\b\b\b\b\b\b\b\b\b\b\b\b\n",
      "Epoch 56/200\n",
      "2/2 [==============================] - 0s 98ms/step - loss: 3840980480.0000 - accuracy: 0.2770 - val_loss: 4460994560.0000 - val_accuracy: 0.2520\b\b\b\b\b\b\b\b\b\b\b\b\b\b\b\b\b\b\b\b\b\b\b\b\b\b\b\b\b\b\b\b\b\n",
      "Epoch 57/200\n",
      "2/2 [==============================] - 0s 129ms/step - loss: 3872432640.0000 - accuracy: 0.2770 - val_loss: 4498321920.0000 - val_accuracy: 0.2520\b\b\b\b\b\b\b\b\b\b\b\b\b\b\b\b\b\b\b\b\b\b\b\b\b\b\b\b\b\b\b\b\n",
      "Epoch 58/200\n",
      "2/2 [==============================] - 0s 104ms/step - loss: 3903120128.0000 - accuracy: 0.2770 - val_loss: 4535492096.0000 - val_accuracy: 0.2520\b\b\b\b\b\b\b\b\b\b\b\b\b\b\b\b\b\b\b\b\b\b\b\b\b\b\b\b\b\b\b\b\n",
      "Epoch 59/200\n",
      "2/2 [==============================] - 0s 118ms/step - loss: 3934401280.0000 - accuracy: 0.2770 - val_loss: 4572841984.0000 - val_accuracy: 0.2520\b\b\b\b\b\b\b\b\b\b\b\b\b\b\b\b\b\b\b\b\b\b\b\b\b\b\b\b\b\b\b\b\n",
      "Epoch 60/200\n",
      "2/2 [==============================] - 0s 144ms/step - loss: 3968750336.0000 - accuracy: 0.2770 - val_loss: 4610101248.0000 - val_accuracy: 0.2520\b\b\b\b\b\b\b\b\b\b\b\b\b\b\b\b\b\b\b\b\b\b\b\b\b\b\b\b\b\b\b\b\n",
      "Epoch 61/200\n",
      "2/2 [==============================] - 0s 117ms/step - loss: 3997883648.0000 - accuracy: 0.2770 - val_loss: 4645807104.0000 - val_accuracy: 0.2520\b\b\b\b\b\b\b\b\b\b\b\b\b\b\b\b\b\b\b\b\b\b\b\b\b\b\b\b\b\b\b\b\n",
      "Epoch 62/200\n",
      "2/2 [==============================] - 0s 140ms/step - loss: 4029890304.0000 - accuracy: 0.2770 - val_loss: 4682146816.0000 - val_accuracy: 0.2520\b\b\b\b\b\b\b\b\b\b\b\b\b\b\b\b\b\b\b\b\b\b\b\b\b\b\b\b\b\b\b\b\n",
      "Epoch 63/200\n",
      "2/2 [==============================] - 0s 129ms/step - loss: 4061578752.0000 - accuracy: 0.2770 - val_loss: 4719831040.0000 - val_accuracy: 0.2520\b\b\b\b\b\b\b\b\b\b\b\b\b\b\b\b\b\b\b\b\b\b\b\b\b\b\b\b\b\b\b\b\n",
      "Epoch 64/200\n",
      "2/2 [==============================] - 0s 145ms/step - loss: 4094423808.0000 - accuracy: 0.2770 - val_loss: 4759613440.0000 - val_accuracy: 0.2520\b\b\b\b\b\b\b\b\b\b\b\b\b\b\b\b\b\b\b\b\b\b\b\b\b\b\b\b\b\b\b\b\n",
      "Epoch 65/200\n",
      "2/2 [==============================] - 0s 63ms/step - loss: 4127087616.0000 - accuracy: 0.2770 - val_loss: 4796573696.0000 - val_accuracy: 0.2520\b\b\b\b\b\b\b\b\b\b\b\b\b\b\b\b\b\b\b\b\b\b\b\b\b\b\b\b\b\b\b\b\b\n",
      "Epoch 66/200\n",
      "2/2 [==============================] - 0s 94ms/step - loss: 4159972608.0000 - accuracy: 0.2770 - val_loss: 4834198016.0000 - val_accuracy: 0.2520\b\b\b\b\b\b\b\b\b\b\b\b\b\b\b\b\b\b\b\b\b\b\b\b\b\b\b\b\b\b\b\b\b\n",
      "Epoch 67/200\n",
      "2/2 [==============================] - 0s 107ms/step - loss: 4189939456.0000 - accuracy: 0.2770 - val_loss: 4870665728.0000 - val_accuracy: 0.2520\b\b\b\b\b\b\b\b\b\b\b\b\b\b\b\b\b\b\b\b\b\b\b\b\b\b\b\b\b\b\b\b\n",
      "Epoch 68/200\n",
      "2/2 [==============================] - 0s 77ms/step - loss: 4223193344.0000 - accuracy: 0.2770 - val_loss: 4908865536.0000 - val_accuracy: 0.2520\b\b\b\b\b\b\b\b\b\b\b\b\b\b\b\b\b\b\b\b\b\b\b\b\b\b\b\b\b\b\b\b\b\n",
      "Epoch 69/200\n",
      "2/2 [==============================] - ETA: 0s - loss: 4743062528.0000 - accuracy: 0.2949\b\b\b\b\b\b\b\b\b\b\b\b\b\b\b\b\b\b\b\b\b\b\b\b\b\b\b\b\b\b\b\b\b\b\b\b\b\b\b\b\b\b\b\b\b\b\b\b\b\b\b\b\b\b\b\b\b\b\b\b\b\b\b\b\b\b\b\b\b\b\b\b\b\b\b\b\b\b\b\b\b\b\b\b\b\b\b\b\b - 0s 98ms/step - loss: 4255025920.0000 - accuracy: 0.2770 - val_loss: 4947397632.0000 - val_accuracy: 0.2520\n",
      "Epoch 70/200\n",
      "2/2 [==============================] - 0s 141ms/step - loss: 4290024192.0000 - accuracy: 0.2770 - val_loss: 4985403392.0000 - val_accuracy: 0.2520\b\b\b\b\b\b\b\b\b\b\b\b\b\b\b\b\b\b\b\b\b\b\b\b\b\b\b\b\b\b\b\b\n",
      "Epoch 71/200\n",
      "2/2 [==============================] - 0s 105ms/step - loss: 4322007040.0000 - accuracy: 0.2770 - val_loss: 5022944256.0000 - val_accuracy: 0.2520\b\b\b\b\b\b\b\b\b\b\b\b\b\b\b\b\b\b\b\b\b\b\b\b\b\b\b\b\b\b\b\b\n",
      "Epoch 72/200\n",
      "2/2 [==============================] - 0s 90ms/step - loss: 4353820672.0000 - accuracy: 0.2770 - val_loss: 5062320640.0000 - val_accuracy: 0.2520\b\b\b\b\b\b\b\b\b\b\b\b\b\b\b\b\b\b\b\b\b\b\b\b\b\b\b\b\b\b\b\b\b\n",
      "Epoch 73/200\n",
      "2/2 [==============================] - 0s 88ms/step - loss: 4386629632.0000 - accuracy: 0.2770 - val_loss: 5101165056.0000 - val_accuracy: 0.2520\b\b\b\b\b\b\b\b\b\b\b\b\b\b\b\b\b\b\b\b\b\b\b\b\b\b\b\b\b\b\b\b\b\n",
      "Epoch 74/200\n",
      "2/2 [==============================] - 0s 75ms/step - loss: 4421462016.0000 - accuracy: 0.2770 - val_loss: 5139856384.0000 - val_accuracy: 0.2520\b\b\b\b\b\b\b\b\b\b\b\b\b\b\b\b\b\b\b\b\b\b\b\b\b\b\b\b\b\b\b\b\b\n",
      "Epoch 75/200\n",
      "2/2 [==============================] - 0s 64ms/step - loss: 4453746176.0000 - accuracy: 0.2770 - val_loss: 5177703424.0000 - val_accuracy: 0.2520\b\b\b\b\b\b\b\b\b\b\b\b\b\b\b\b\b\b\b\b\b\b\b\b\b\b\b\b\b\b\b\b\b\n",
      "Epoch 76/200\n",
      "2/2 [==============================] - 0s 93ms/step - loss: 4486420992.0000 - accuracy: 0.2770 - val_loss: 5216395264.0000 - val_accuracy: 0.2520\b\b\b\b\b\b\b\b\b\b\b\b\b\b\b\b\b\b\b\b\b\b\b\b\b\b\b\b\b\b\b\b\b\n",
      "Epoch 77/200\n",
      "2/2 [==============================] - 0s 93ms/step - loss: 4521753088.0000 - accuracy: 0.2770 - val_loss: 5256733696.0000 - val_accuracy: 0.2520\b\b\b\b\b\b\b\b\b\b\b\b\b\b\b\b\b\b\b\b\b\b\b\b\b\b\b\b\b\b\b\b\b\n",
      "Epoch 78/200\n",
      "2/2 [==============================] - 0s 73ms/step - loss: 4553667584.0000 - accuracy: 0.2770 - val_loss: 5294580224.0000 - val_accuracy: 0.2520\b\b\b\b\b\b\b\b\b\b\b\b\b\b\b\b\b\b\b\b\b\b\b\b\b\b\b\b\b\b\b\b\b\n",
      "Epoch 79/200\n",
      "2/2 [==============================] - 0s 108ms/step - loss: 4587064832.0000 - accuracy: 0.2770 - val_loss: 5334043136.0000 - val_accuracy: 0.2520\b\b\b\b\b\b\b\b\b\b\b\b\b\b\b\b\b\b\b\b\b\b\b\b\b\b\b\b\b\b\b\b\n",
      "Epoch 80/200\n",
      "2/2 [==============================] - 0s 69ms/step - loss: 4618327040.0000 - accuracy: 0.2770 - val_loss: 5371830272.0000 - val_accuracy: 0.2520\b\b\b\b\b\b\b\b\b\b\b\b\b\b\b\b\b\b\b\b\b\b\b\b\b\b\b\b\b\b\b\b\b\n",
      "Epoch 81/200\n",
      "2/2 [==============================] - 0s 91ms/step - loss: 4651856896.0000 - accuracy: 0.2770 - val_loss: 5411525632.0000 - val_accuracy: 0.2520\b\b\b\b\b\b\b\b\b\b\b\b\b\b\b\b\b\b\b\b\b\b\b\b\b\b\b\b\b\b\b\b\b\n",
      "Epoch 82/200\n",
      "2/2 [==============================] - 0s 137ms/step - loss: 4688370176.0000 - accuracy: 0.2770 - val_loss: 5452962304.0000 - val_accuracy: 0.2520\b\b\b\b\b\b\b\b\b\b\b\b\b\b\b\b\b\b\b\b\b\b\b\b\b\b\b\b\b\b\b\b\n",
      "Epoch 83/200\n",
      "2/2 [==============================] - 0s 99ms/step - loss: 4722855424.0000 - accuracy: 0.2770 - val_loss: 5493788160.0000 - val_accuracy: 0.2520\b\b\b\b\b\b\b\b\b\b\b\b\b\b\b\b\b\b\b\b\b\b\b\b\b\b\b\b\b\b\b\b\b\n",
      "Epoch 84/200\n",
      "2/2 [==============================] - 0s 143ms/step - loss: 4757870592.0000 - accuracy: 0.2770 - val_loss: 5534671360.0000 - val_accuracy: 0.2520\b\b\b\b\b\b\b\b\b\b\b\b\b\b\b\b\b\b\b\b\b\b\b\b\b\b\b\b\b\b\b\b\n",
      "Epoch 85/200\n",
      "2/2 [==============================] - 0s 134ms/step - loss: 4792446976.0000 - accuracy: 0.2770 - val_loss: 5573387264.0000 - val_accuracy: 0.2520\b\b\b\b\b\b\b\b\b\b\b\b\b\b\b\b\b\b\b\b\b\b\b\b\b\b\b\b\b\b\b\b\n",
      "Epoch 86/200\n",
      "2/2 [==============================] - 0s 103ms/step - loss: 4827805696.0000 - accuracy: 0.2770 - val_loss: 5615474688.0000 - val_accuracy: 0.2520\b\b\b\b\b\b\b\b\b\b\b\b\b\b\b\b\b\b\b\b\b\b\b\b\b\b\b\b\b\b\b\b\n",
      "Epoch 87/200\n",
      "2/2 [==============================] - 0s 68ms/step - loss: 4860977664.0000 - accuracy: 0.2770 - val_loss: 5655585792.0000 - val_accuracy: 0.2520\b\b\b\b\b\b\b\b\b\b\b\b\b\b\b\b\b\b\b\b\b\b\b\b\b\b\b\b\b\b\b\b\b\n",
      "Epoch 88/200\n",
      "2/2 [==============================] - 0s 75ms/step - loss: 4897261568.0000 - accuracy: 0.2770 - val_loss: 5697364480.0000 - val_accuracy: 0.2520\b\b\b\b\b\b\b\b\b\b\b\b\b\b\b\b\b\b\b\b\b\b\b\b\b\b\b\b\b\b\b\b\b\n",
      "Epoch 89/200\n",
      "2/2 [==============================] - 0s 100ms/step - loss: 4931602944.0000 - accuracy: 0.2770 - val_loss: 5737721344.0000 - val_accuracy: 0.2520\b\b\b\b\b\b\b\b\b\b\b\b\b\b\b\b\b\b\b\b\b\b\b\b\b\b\b\b\b\b\b\b\n",
      "Epoch 90/200\n",
      "2/2 [==============================] - 0s 81ms/step - loss: 4968755200.0000 - accuracy: 0.2770 - val_loss: 5779117568.0000 - val_accuracy: 0.2520\b\b\b\b\b\b\b\b\b\b\b\b\b\b\b\b\b\b\b\b\b\b\b\b\b\b\b\b\b\b\b\b\b\n",
      "Epoch 91/200\n",
      "2/2 [==============================] - 0s 124ms/step - loss: 5001081344.0000 - accuracy: 0.2770 - val_loss: 5820039168.0000 - val_accuracy: 0.2520\b\b\b\b\b\b\b\b\b\b\b\b\b\b\b\b\b\b\b\b\b\b\b\b\b\b\b\b\b\b\b\b\n",
      "Epoch 92/200\n",
      "2/2 [==============================] - 0s 91ms/step - loss: 5039161856.0000 - accuracy: 0.2770 - val_loss: 5862163968.0000 - val_accuracy: 0.2520\b\b\b\b\b\b\b\b\b\b\b\b\b\b\b\b\b\b\b\b\b\b\b\b\b\b\b\b\b\b\b\b\b\n",
      "Epoch 93/200\n",
      "2/2 [==============================] - 0s 96ms/step - loss: 5073874944.0000 - accuracy: 0.2770 - val_loss: 5904485376.0000 - val_accuracy: 0.2520\b\b\b\b\b\b\b\b\b\b\b\b\b\b\b\b\b\b\b\b\b\b\b\b\b\b\b\b\b\b\b\b\b\n",
      "Epoch 94/200\n",
      "2/2 [==============================] - 0s 113ms/step - loss: 5109113856.0000 - accuracy: 0.2770 - val_loss: 5945537024.0000 - val_accuracy: 0.2520\b\b\b\b\b\b\b\b\b\b\b\b\b\b\b\b\b\b\b\b\b\b\b\b\b\b\b\b\b\b\b\b\n",
      "Epoch 95/200\n",
      "2/2 [==============================] - 0s 83ms/step - loss: 5145945600.0000 - accuracy: 0.2770 - val_loss: 5988623360.0000 - val_accuracy: 0.2520\b\b\b\b\b\b\b\b\b\b\b\b\b\b\b\b\b\b\b\b\b\b\b\b\b\b\b\b\b\b\b\b\b\n",
      "Epoch 96/200\n",
      "2/2 [==============================] - 0s 112ms/step - loss: 5180984320.0000 - accuracy: 0.2770 - val_loss: 6028416512.0000 - val_accuracy: 0.2520\b\b\b\b\b\b\b\b\b\b\b\b\b\b\b\b\b\b\b\b\b\b\b\b\b\b\b\b\b\b\b\b\n",
      "Epoch 97/200\n",
      "2/2 [==============================] - 0s 120ms/step - loss: 5215421440.0000 - accuracy: 0.2770 - val_loss: 6069775360.0000 - val_accuracy: 0.2520\b\b\b\b\b\b\b\b\b\b\b\b\b\b\b\b\b\b\b\b\b\b\b\b\b\b\b\b\b\b\b\b\n",
      "Epoch 98/200\n",
      "2/2 [==============================] - 0s 95ms/step - loss: 5250562048.0000 - accuracy: 0.2770 - val_loss: 6111846400.0000 - val_accuracy: 0.2520\b\b\b\b\b\b\b\b\b\b\b\b\b\b\b\b\b\b\b\b\b\b\b\b\b\b\b\b\b\b\b\b\b\n",
      "Epoch 99/200\n",
      "2/2 [==============================] - 0s 73ms/step - loss: 5288152064.0000 - accuracy: 0.2770 - val_loss: 6154201600.0000 - val_accuracy: 0.2520\b\b\b\b\b\b\b\b\b\b\b\b\b\b\b\b\b\b\b\b\b\b\b\b\b\b\b\b\b\b\b\b\b\n",
      "Epoch 100/200\n",
      "2/2 [==============================] - 0s 99ms/step - loss: 5322527232.0000 - accuracy: 0.2770 - val_loss: 6195551232.0000 - val_accuracy: 0.2520\b\b\b\b\b\b\b\b\b\b\b\b\b\b\b\b\b\b\b\b\b\b\b\b\b\b\b\b\b\b\b\b\b\n",
      "Epoch 101/200\n",
      "2/2 [==============================] - 0s 84ms/step - loss: 5359443968.0000 - accuracy: 0.2770 - val_loss: 6238390784.0000 - val_accuracy: 0.2520\b\b\b\b\b\b\b\b\b\b\b\b\b\b\b\b\b\b\b\b\b\b\b\b\b\b\b\b\b\b\b\b\b\n",
      "Epoch 102/200\n",
      "2/2 [==============================] - 0s 101ms/step - loss: 5395590656.0000 - accuracy: 0.2770 - val_loss: 6282219520.0000 - val_accuracy: 0.2520\b\b\b\b\b\b\b\b\b\b\b\b\b\b\b\b\b\b\b\b\b\b\b\b\b\b\b\b\b\b\b\b\n",
      "Epoch 103/200\n",
      "2/2 [==============================] - 0s 101ms/step - loss: 5435481088.0000 - accuracy: 0.2770 - val_loss: 6327065600.0000 - val_accuracy: 0.2520\b\b\b\b\b\b\b\b\b\b\b\b\b\b\b\b\b\b\b\b\b\b\b\b\b\b\b\b\b\b\b\b\n",
      "Epoch 104/200\n",
      "2/2 [==============================] - 0s 94ms/step - loss: 5471581184.0000 - accuracy: 0.2770 - val_loss: 6369894912.0000 - val_accuracy: 0.2520\b\b\b\b\b\b\b\b\b\b\b\b\b\b\b\b\b\b\b\b\b\b\b\b\b\b\b\b\b\b\b\b\b\n",
      "Epoch 105/200\n",
      "2/2 [==============================] - 0s 54ms/step - loss: 5511032320.0000 - accuracy: 0.2770 - val_loss: 6414539776.0000 - val_accuracy: 0.2520\b\b\b\b\b\b\b\b\b\b\b\b\b\b\b\b\b\b\b\b\b\b\b\b\b\b\b\b\b\b\b\b\b\n",
      "Epoch 106/200\n",
      "2/2 [==============================] - 0s 49ms/step - loss: 5549008384.0000 - accuracy: 0.2770 - val_loss: 6459718656.0000 - val_accuracy: 0.2520\b\b\b\b\b\b\b\b\b\b\b\b\b\b\b\b\b\b\b\b\b\b\b\b\b\b\b\b\b\b\b\b\b\n",
      "Epoch 107/200\n",
      "2/2 [==============================] - 0s 83ms/step - loss: 5582345216.0000 - accuracy: 0.2770 - val_loss: 6501648896.0000 - val_accuracy: 0.2520\b\b\b\b\b\b\b\b\b\b\b\b\b\b\b\b\b\b\b\b\b\b\b\b\b\b\b\b\b\b\b\b\b\n",
      "Epoch 108/200\n",
      "2/2 [==============================] - 0s 91ms/step - loss: 5619741184.0000 - accuracy: 0.2770 - val_loss: 6545393664.0000 - val_accuracy: 0.2520\b\b\b\b\b\b\b\b\b\b\b\b\b\b\b\b\b\b\b\b\b\b\b\b\b\b\b\b\b\b\b\b\b\n",
      "Epoch 109/200\n",
      "2/2 [==============================] - 0s 69ms/step - loss: 5657030144.0000 - accuracy: 0.2770 - val_loss: 6588094976.0000 - val_accuracy: 0.2520\b\b\b\b\b\b\b\b\b\b\b\b\b\b\b\b\b\b\b\b\b\b\b\b\b\b\b\b\b\b\b\b\b\n",
      "Epoch 110/200\n",
      "2/2 [==============================] - 0s 102ms/step - loss: 5695148032.0000 - accuracy: 0.2770 - val_loss: 6632568320.0000 - val_accuracy: 0.2520\b\b\b\b\b\b\b\b\b\b\b\b\b\b\b\b\b\b\b\b\b\b\b\b\b\b\b\b\b\b\b\b\n",
      "Epoch 111/200\n",
      "2/2 [==============================] - 0s 106ms/step - loss: 5734899200.0000 - accuracy: 0.2770 - val_loss: 6679209984.0000 - val_accuracy: 0.2520\b\b\b\b\b\b\b\b\b\b\b\b\b\b\b\b\b\b\b\b\b\b\b\b\b\b\b\b\b\b\b\b\n",
      "Epoch 112/200\n",
      "2/2 [==============================] - 0s 65ms/step - loss: 5770843136.0000 - accuracy: 0.2770 - val_loss: 6722126848.0000 - val_accuracy: 0.2520\b\b\b\b\b\b\b\b\b\b\b\b\b\b\b\b\b\b\b\b\b\b\b\b\b\b\b\b\b\b\b\b\b\n",
      "Epoch 113/200\n",
      "2/2 [==============================] - 0s 89ms/step - loss: 5809932288.0000 - accuracy: 0.2770 - val_loss: 6768039424.0000 - val_accuracy: 0.2520\b\b\b\b\b\b\b\b\b\b\b\b\b\b\b\b\b\b\b\b\b\b\b\b\b\b\b\b\b\b\b\b\b\n",
      "Epoch 114/200\n",
      "2/2 [==============================] - 0s 102ms/step - loss: 5846443520.0000 - accuracy: 0.2770 - val_loss: 6811110400.0000 - val_accuracy: 0.2520\b\b\b\b\b\b\b\b\b\b\b\b\b\b\b\b\b\b\b\b\b\b\b\b\b\b\b\b\b\b\b\b\n",
      "Epoch 115/200\n",
      "2/2 [==============================] - 0s 98ms/step - loss: 5887301632.0000 - accuracy: 0.2770 - val_loss: 6858161152.0000 - val_accuracy: 0.2520\b\b\b\b\b\b\b\b\b\b\b\b\b\b\b\b\b\b\b\b\b\b\b\b\b\b\b\b\b\b\b\b\b\n",
      "Epoch 116/200\n",
      "2/2 [==============================] - 0s 83ms/step - loss: 5924726272.0000 - accuracy: 0.2770 - val_loss: 6903455232.0000 - val_accuracy: 0.2520\b\b\b\b\b\b\b\b\b\b\b\b\b\b\b\b\b\b\b\b\b\b\b\b\b\b\b\b\b\b\b\b\b\n",
      "Epoch 117/200\n",
      "2/2 [==============================] - 0s 143ms/step - loss: 5963279872.0000 - accuracy: 0.2770 - val_loss: 6949950464.0000 - val_accuracy: 0.2520\b\b\b\b\b\b\b\b\b\b\b\b\b\b\b\b\b\b\b\b\b\b\b\b\b\b\b\b\b\b\b\b\n",
      "Epoch 118/200\n",
      "2/2 [==============================] - 0s 89ms/step - loss: 6003061248.0000 - accuracy: 0.2770 - val_loss: 6996477440.0000 - val_accuracy: 0.2520\b\b\b\b\b\b\b\b\b\b\b\b\b\b\b\b\b\b\b\b\b\b\b\b\b\b\b\b\b\b\b\b\b\n",
      "Epoch 119/200\n",
      "2/2 [==============================] - 0s 121ms/step - loss: 6044971520.0000 - accuracy: 0.2770 - val_loss: 7042591744.0000 - val_accuracy: 0.2520\b\b\b\b\b\b\b\b\b\b\b\b\b\b\b\b\b\b\b\b\b\b\b\b\b\b\b\b\b\b\b\b\n",
      "Epoch 120/200\n",
      "2/2 [==============================] - 0s 123ms/step - loss: 6083085312.0000 - accuracy: 0.2770 - val_loss: 7089395200.0000 - val_accuracy: 0.2520\b\b\b\b\b\b\b\b\b\b\b\b\b\b\b\b\b\b\b\b\b\b\b\b\b\b\b\b\b\b\b\b\n",
      "Epoch 121/200\n",
      "2/2 [==============================] - 0s 127ms/step - loss: 6124317184.0000 - accuracy: 0.2770 - val_loss: 7136072192.0000 - val_accuracy: 0.2520\b\b\b\b\b\b\b\b\b\b\b\b\b\b\b\b\b\b\b\b\b\b\b\b\b\b\b\b\b\b\b\b\n",
      "Epoch 122/200\n",
      "2/2 [==============================] - 0s 99ms/step - loss: 6163596288.0000 - accuracy: 0.2770 - val_loss: 7181962752.0000 - val_accuracy: 0.2520\b\b\b\b\b\b\b\b\b\b\b\b\b\b\b\b\b\b\b\b\b\b\b\b\b\b\b\b\b\b\b\b\b\n",
      "Epoch 123/200\n",
      "2/2 [==============================] - 0s 138ms/step - loss: 6203560960.0000 - accuracy: 0.2770 - val_loss: 7229480960.0000 - val_accuracy: 0.2520\b\b\b\b\b\b\b\b\b\b\b\b\b\b\b\b\b\b\b\b\b\b\b\b\b\b\b\b\b\b\b\b\n",
      "Epoch 124/200\n",
      "2/2 [==============================] - 0s 143ms/step - loss: 6241655296.0000 - accuracy: 0.2770 - val_loss: 7275462656.0000 - val_accuracy: 0.2520\b\b\b\b\b\b\b\b\b\b\b\b\b\b\b\b\b\b\b\b\b\b\b\b\b\b\b\b\b\b\b\b\n",
      "Epoch 125/200\n",
      "2/2 [==============================] - 0s 89ms/step - loss: 6282448896.0000 - accuracy: 0.2770 - val_loss: 7322577920.0000 - val_accuracy: 0.2520\b\b\b\b\b\b\b\b\b\b\b\b\b\b\b\b\b\b\b\b\b\b\b\b\b\b\b\b\b\b\b\b\b\n",
      "Epoch 126/200\n",
      "2/2 [==============================] - 0s 91ms/step - loss: 6323542528.0000 - accuracy: 0.2770 - val_loss: 7371468288.0000 - val_accuracy: 0.2520\b\b\b\b\b\b\b\b\b\b\b\b\b\b\b\b\b\b\b\b\b\b\b\b\b\b\b\b\b\b\b\b\b\n",
      "Epoch 127/200\n",
      "2/2 [==============================] - 0s 94ms/step - loss: 6365934592.0000 - accuracy: 0.2770 - val_loss: 7418767360.0000 - val_accuracy: 0.2520\b\b\b\b\b\b\b\b\b\b\b\b\b\b\b\b\b\b\b\b\b\b\b\b\b\b\b\b\b\b\b\b\b\n",
      "Epoch 128/200\n",
      "2/2 [==============================] - 0s 146ms/step - loss: 6406992896.0000 - accuracy: 0.2770 - val_loss: 7467422208.0000 - val_accuracy: 0.2520\b\b\b\b\b\b\b\b\b\b\b\b\b\b\b\b\b\b\b\b\b\b\b\b\b\b\b\b\b\b\b\b\n",
      "Epoch 129/200\n",
      "2/2 [==============================] - 0s 108ms/step - loss: 6449449984.0000 - accuracy: 0.2770 - val_loss: 7516992000.0000 - val_accuracy: 0.2520\b\b\b\b\b\b\b\b\b\b\b\b\b\b\b\b\b\b\b\b\b\b\b\b\b\b\b\b\b\b\b\b\n",
      "Epoch 130/200\n",
      "2/2 [==============================] - 0s 125ms/step - loss: 6488659456.0000 - accuracy: 0.2770 - val_loss: 7563398656.0000 - val_accuracy: 0.2520\b\b\b\b\b\b\b\b\b\b\b\b\b\b\b\b\b\b\b\b\b\b\b\b\b\b\b\b\b\b\b\b\n",
      "Epoch 131/200\n",
      "2/2 [==============================] - 0s 125ms/step - loss: 6528851456.0000 - accuracy: 0.2770 - val_loss: 7610908672.0000 - val_accuracy: 0.2520\b\b\b\b\b\b\b\b\b\b\b\b\b\b\b\b\b\b\b\b\b\b\b\b\b\b\b\b\b\b\b\b\n",
      "Epoch 132/200\n",
      "2/2 [==============================] - 0s 97ms/step - loss: 6568969216.0000 - accuracy: 0.2770 - val_loss: 7657980416.0000 - val_accuracy: 0.2520\b\b\b\b\b\b\b\b\b\b\b\b\b\b\b\b\b\b\b\b\b\b\b\b\b\b\b\b\b\b\b\b\b\n",
      "Epoch 133/200\n",
      "2/2 [==============================] - 0s 87ms/step - loss: 6610319872.0000 - accuracy: 0.2770 - val_loss: 7707082240.0000 - val_accuracy: 0.2520\b\b\b\b\b\b\b\b\b\b\b\b\b\b\b\b\b\b\b\b\b\b\b\b\b\b\b\b\b\b\b\b\b\n",
      "Epoch 134/200\n",
      "2/2 [==============================] - 0s 118ms/step - loss: 6649632256.0000 - accuracy: 0.2770 - val_loss: 7755500032.0000 - val_accuracy: 0.2520\b\b\b\b\b\b\b\b\b\b\b\b\b\b\b\b\b\b\b\b\b\b\b\b\b\b\b\b\b\b\b\b\n",
      "Epoch 135/200\n",
      "2/2 [==============================] - 0s 116ms/step - loss: 6692215808.0000 - accuracy: 0.2770 - val_loss: 7802753024.0000 - val_accuracy: 0.2520\b\b\b\b\b\b\b\b\b\b\b\b\b\b\b\b\b\b\b\b\b\b\b\b\b\b\b\b\b\b\b\b\n",
      "Epoch 136/200\n",
      "2/2 [==============================] - 0s 124ms/step - loss: 6731818496.0000 - accuracy: 0.2770 - val_loss: 7852767744.0000 - val_accuracy: 0.2520\b\b\b\b\b\b\b\b\b\b\b\b\b\b\b\b\b\b\b\b\b\b\b\b\b\b\b\b\b\b\b\b\n",
      "Epoch 137/200\n",
      "2/2 [==============================] - 0s 108ms/step - loss: 6776589312.0000 - accuracy: 0.2770 - val_loss: 7903353856.0000 - val_accuracy: 0.2520\b\b\b\b\b\b\b\b\b\b\b\b\b\b\b\b\b\b\b\b\b\b\b\b\b\b\b\b\b\b\b\b\n",
      "Epoch 138/200\n",
      "2/2 [==============================] - 0s 137ms/step - loss: 6818530304.0000 - accuracy: 0.2770 - val_loss: 7949791744.0000 - val_accuracy: 0.2520\b\b\b\b\b\b\b\b\b\b\b\b\b\b\b\b\b\b\b\b\b\b\b\b\b\b\b\b\b\b\b\b\n",
      "Epoch 139/200\n",
      "2/2 [==============================] - 0s 117ms/step - loss: 6860921856.0000 - accuracy: 0.2770 - val_loss: 8000667136.0000 - val_accuracy: 0.2520\b\b\b\b\b\b\b\b\b\b\b\b\b\b\b\b\b\b\b\b\b\b\b\b\b\b\b\b\b\b\b\b\n",
      "Epoch 140/200\n",
      "2/2 [==============================] - 0s 112ms/step - loss: 6903057920.0000 - accuracy: 0.2770 - val_loss: 8050397184.0000 - val_accuracy: 0.2520\b\b\b\b\b\b\b\b\b\b\b\b\b\b\b\b\b\b\b\b\b\b\b\b\b\b\b\b\b\b\b\b\n",
      "Epoch 141/200\n",
      "2/2 [==============================] - 0s 98ms/step - loss: 6944647168.0000 - accuracy: 0.2770 - val_loss: 8098290688.0000 - val_accuracy: 0.2520\b\b\b\b\b\b\b\b\b\b\b\b\b\b\b\b\b\b\b\b\b\b\b\b\b\b\b\b\b\b\b\b\b\n",
      "Epoch 142/200\n",
      "2/2 [==============================] - 0s 101ms/step - loss: 6987267584.0000 - accuracy: 0.2770 - val_loss: 8149527552.0000 - val_accuracy: 0.2520\b\b\b\b\b\b\b\b\b\b\b\b\b\b\b\b\b\b\b\b\b\b\b\b\b\b\b\b\b\b\b\b\n",
      "Epoch 143/200\n",
      "2/2 [==============================] - 0s 112ms/step - loss: 7030239744.0000 - accuracy: 0.2770 - val_loss: 8199508992.0000 - val_accuracy: 0.2520\b\b\b\b\b\b\b\b\b\b\b\b\b\b\b\b\b\b\b\b\b\b\b\b\b\b\b\b\b\b\b\b\n",
      "Epoch 144/200\n",
      "2/2 [==============================] - 0s 103ms/step - loss: 7070527488.0000 - accuracy: 0.2770 - val_loss: 8249945600.0000 - val_accuracy: 0.2520\b\b\b\b\b\b\b\b\b\b\b\b\b\b\b\b\b\b\b\b\b\b\b\b\b\b\b\b\b\b\b\b\n",
      "Epoch 145/200\n",
      "2/2 [==============================] - 0s 130ms/step - loss: 7112807424.0000 - accuracy: 0.2770 - val_loss: 8297996288.0000 - val_accuracy: 0.2520\b\b\b\b\b\b\b\b\b\b\b\b\b\b\b\b\b\b\b\b\b\b\b\b\b\b\b\b\b\b\b\b\n",
      "Epoch 146/200\n",
      "2/2 [==============================] - 0s 130ms/step - loss: 7157853696.0000 - accuracy: 0.2770 - val_loss: 8348891136.0000 - val_accuracy: 0.2520\b\b\b\b\b\b\b\b\b\b\b\b\b\b\b\b\b\b\b\b\b\b\b\b\b\b\b\b\b\b\b\b\n",
      "Epoch 147/200\n",
      "2/2 [==============================] - 0s 134ms/step - loss: 7198469120.0000 - accuracy: 0.2770 - val_loss: 8398532096.0000 - val_accuracy: 0.2520\b\b\b\b\b\b\b\b\b\b\b\b\b\b\b\b\b\b\b\b\b\b\b\b\b\b\b\b\b\b\b\b\n",
      "Epoch 148/200\n",
      "2/2 [==============================] - 0s 131ms/step - loss: 7240849920.0000 - accuracy: 0.2770 - val_loss: 8448058880.0000 - val_accuracy: 0.2520\b\b\b\b\b\b\b\b\b\b\b\b\b\b\b\b\b\b\b\b\b\b\b\b\b\b\b\b\b\b\b\b\n",
      "Epoch 149/200\n",
      "2/2 [==============================] - 0s 100ms/step - loss: 7287022080.0000 - accuracy: 0.2770 - val_loss: 8500182016.0000 - val_accuracy: 0.2520\b\b\b\b\b\b\b\b\b\b\b\b\b\b\b\b\b\b\b\b\b\b\b\b\b\b\b\b\b\b\b\b\n",
      "Epoch 150/200\n",
      "2/2 [==============================] - 0s 105ms/step - loss: 7329561088.0000 - accuracy: 0.2770 - val_loss: 8552550912.0000 - val_accuracy: 0.2520\b\b\b\b\b\b\b\b\b\b\b\b\b\b\b\b\b\b\b\b\b\b\b\b\b\b\b\b\b\b\b\b\n",
      "Epoch 151/200\n",
      "2/2 [==============================] - 0s 94ms/step - loss: 7373512704.0000 - accuracy: 0.2770 - val_loss: 8603276288.0000 - val_accuracy: 0.2520\b\b\b\b\b\b\b\b\b\b\b\b\b\b\b\b\b\b\b\b\b\b\b\b\b\b\b\b\b\b\b\b\b\n",
      "Epoch 152/200\n",
      "2/2 [==============================] - 0s 123ms/step - loss: 7416498176.0000 - accuracy: 0.2770 - val_loss: 8652791808.0000 - val_accuracy: 0.2520\b\b\b\b\b\b\b\b\b\b\b\b\b\b\b\b\b\b\b\b\b\b\b\b\b\b\b\b\b\b\b\b\n",
      "Epoch 153/200\n",
      "2/2 [==============================] - 0s 119ms/step - loss: 7458058752.0000 - accuracy: 0.2770 - val_loss: 8703149056.0000 - val_accuracy: 0.2520\b\b\b\b\b\b\b\b\b\b\b\b\b\b\b\b\b\b\b\b\b\b\b\b\b\b\b\b\b\b\b\b\n",
      "Epoch 154/200\n",
      "2/2 [==============================] - 0s 122ms/step - loss: 7503672832.0000 - accuracy: 0.2770 - val_loss: 8755200000.0000 - val_accuracy: 0.2520\b\b\b\b\b\b\b\b\b\b\b\b\b\b\b\b\b\b\b\b\b\b\b\b\b\b\b\b\b\b\b\b\n",
      "Epoch 155/200\n",
      "2/2 [==============================] - 0s 101ms/step - loss: 7546055168.0000 - accuracy: 0.2770 - val_loss: 8804360192.0000 - val_accuracy: 0.2520\b\b\b\b\b\b\b\b\b\b\b\b\b\b\b\b\b\b\b\b\b\b\b\b\b\b\b\b\b\b\b\b\n",
      "Epoch 156/200\n",
      "2/2 [==============================] - 0s 56ms/step - loss: 7588375552.0000 - accuracy: 0.2770 - val_loss: 8855981056.0000 - val_accuracy: 0.2520\b\b\b\b\b\b\b\b\b\b\b\b\b\b\b\b\b\b\b\b\b\b\b\b\b\b\b\b\b\b\b\b\b\n",
      "Epoch 157/200\n",
      "2/2 [==============================] - 0s 69ms/step - loss: 7632270336.0000 - accuracy: 0.2770 - val_loss: 8908207104.0000 - val_accuracy: 0.2520\b\b\b\b\b\b\b\b\b\b\b\b\b\b\b\b\b\b\b\b\b\b\b\b\b\b\b\b\b\b\b\b\b\n",
      "Epoch 158/200\n",
      "2/2 [==============================] - 0s 112ms/step - loss: 7676481024.0000 - accuracy: 0.2770 - val_loss: 8959610880.0000 - val_accuracy: 0.2520\b\b\b\b\b\b\b\b\b\b\b\b\b\b\b\b\b\b\b\b\b\b\b\b\b\b\b\b\b\b\b\b\n",
      "Epoch 159/200\n",
      "2/2 [==============================] - 0s 105ms/step - loss: 7722521088.0000 - accuracy: 0.2770 - val_loss: 9013175296.0000 - val_accuracy: 0.2520\b\b\b\b\b\b\b\b\b\b\b\b\b\b\b\b\b\b\b\b\b\b\b\b\b\b\b\b\b\b\b\b\n",
      "Epoch 160/200\n",
      "2/2 [==============================] - 0s 91ms/step - loss: 7767703552.0000 - accuracy: 0.2770 - val_loss: 9067109376.0000 - val_accuracy: 0.2520\b\b\b\b\b\b\b\b\b\b\b\b\b\b\b\b\b\b\b\b\b\b\b\b\b\b\b\b\b\b\b\b\b\n",
      "Epoch 161/200\n",
      "2/2 [==============================] - 0s 104ms/step - loss: 7809522688.0000 - accuracy: 0.2770 - val_loss: 9117998080.0000 - val_accuracy: 0.2520\b\b\b\b\b\b\b\b\b\b\b\b\b\b\b\b\b\b\b\b\b\b\b\b\b\b\b\b\b\b\b\b\n",
      "Epoch 162/200\n",
      "2/2 [==============================] - 0s 122ms/step - loss: 7858361856.0000 - accuracy: 0.2770 - val_loss: 9171817472.0000 - val_accuracy: 0.2520\b\b\b\b\b\b\b\b\b\b\b\b\b\b\b\b\b\b\b\b\b\b\b\b\b\b\b\b\b\b\b\b\n",
      "Epoch 163/200\n",
      "2/2 [==============================] - 0s 102ms/step - loss: 7904267264.0000 - accuracy: 0.2770 - val_loss: 9225575424.0000 - val_accuracy: 0.2520\b\b\b\b\b\b\b\b\b\b\b\b\b\b\b\b\b\b\b\b\b\b\b\b\b\b\b\b\b\b\b\b\n",
      "Epoch 164/200\n",
      "2/2 [==============================] - 0s 73ms/step - loss: 7948880384.0000 - accuracy: 0.2770 - val_loss: 9279557632.0000 - val_accuracy: 0.2520\b\b\b\b\b\b\b\b\b\b\b\b\b\b\b\b\b\b\b\b\b\b\b\b\b\b\b\b\b\b\b\b\b\n",
      "Epoch 165/200\n",
      "2/2 [==============================] - 0s 108ms/step - loss: 7994067456.0000 - accuracy: 0.2770 - val_loss: 9333699584.0000 - val_accuracy: 0.2520\b\b\b\b\b\b\b\b\b\b\b\b\b\b\b\b\b\b\b\b\b\b\b\b\b\b\b\b\b\b\b\b\n",
      "Epoch 166/200\n",
      "2/2 [==============================] - 0s 98ms/step - loss: 8040069120.0000 - accuracy: 0.2770 - val_loss: 9384497152.0000 - val_accuracy: 0.2520\b\b\b\b\b\b\b\b\b\b\b\b\b\b\b\b\b\b\b\b\b\b\b\b\b\b\b\b\b\b\b\b\b\n",
      "Epoch 167/200\n",
      "2/2 [==============================] - 0s 104ms/step - loss: 8084145664.0000 - accuracy: 0.2770 - val_loss: 9439610880.0000 - val_accuracy: 0.2520\b\b\b\b\b\b\b\b\b\b\b\b\b\b\b\b\b\b\b\b\b\b\b\b\b\b\b\b\b\b\b\b\n",
      "Epoch 168/200\n",
      "2/2 [==============================] - 0s 98ms/step - loss: 8133121024.0000 - accuracy: 0.2770 - val_loss: 9490946048.0000 - val_accuracy: 0.2520\b\b\b\b\b\b\b\b\b\b\b\b\b\b\b\b\b\b\b\b\b\b\b\b\b\b\b\b\b\b\b\b\b\n",
      "Epoch 169/200\n",
      "2/2 [==============================] - 0s 81ms/step - loss: 8170880000.0000 - accuracy: 0.2770 - val_loss: 9542254592.0000 - val_accuracy: 0.2520\b\b\b\b\b\b\b\b\b\b\b\b\b\b\b\b\b\b\b\b\b\b\b\b\b\b\b\b\b\b\b\b\b\b\b\n",
      "Epoch 170/200\n",
      "2/2 [==============================] - 0s 92ms/step - loss: 8218569728.0000 - accuracy: 0.2770 - val_loss: 9595699200.0000 - val_accuracy: 0.2520\b\b\b\b\b\b\b\b\b\b\b\b\b\b\b\b\b\b\b\b\b\b\b\b\b\b\b\b\b\b\b\b\b\n",
      "Epoch 171/200\n",
      "2/2 [==============================] - 0s 121ms/step - loss: 8260840960.0000 - accuracy: 0.2770 - val_loss: 9645466624.0000 - val_accuracy: 0.2520\b\b\b\b\b\b\b\b\b\b\b\b\b\b\b\b\b\b\b\b\b\b\b\b\b\b\b\b\b\b\b\b\n",
      "Epoch 172/200\n",
      "2/2 [==============================] - 0s 85ms/step - loss: 8310062592.0000 - accuracy: 0.2770 - val_loss: 9702651904.0000 - val_accuracy: 0.2520\b\b\b\b\b\b\b\b\b\b\b\b\b\b\b\b\b\b\b\b\b\b\b\b\b\b\b\b\b\b\b\b\b\n",
      "Epoch 173/200\n",
      "2/2 [==============================] - 0s 98ms/step - loss: 8354720256.0000 - accuracy: 0.2770 - val_loss: 9757339648.0000 - val_accuracy: 0.2520\b\b\b\b\b\b\b\b\b\b\b\b\b\b\b\b\b\b\b\b\b\b\b\b\b\b\b\b\b\b\b\b\b\n",
      "Epoch 174/200\n",
      "2/2 [==============================] - 0s 89ms/step - loss: 8403506176.0000 - accuracy: 0.2770 - val_loss: 9813018624.0000 - val_accuracy: 0.2520\b\b\b\b\b\b\b\b\b\b\b\b\b\b\b\b\b\b\b\b\b\b\b\b\b\b\b\b\b\b\b\b\b\n",
      "Epoch 175/200\n",
      "2/2 [==============================] - 0s 106ms/step - loss: 8451039232.0000 - accuracy: 0.2770 - val_loss: 9866806272.0000 - val_accuracy: 0.2520\b\b\b\b\b\b\b\b\b\b\b\b\b\b\b\b\b\b\b\b\b\b\b\b\b\b\b\b\b\b\b\b\n",
      "Epoch 176/200\n",
      "2/2 [==============================] - 0s 92ms/step - loss: 8493504512.0000 - accuracy: 0.2770 - val_loss: 9919469568.0000 - val_accuracy: 0.2520\b\b\b\b\b\b\b\b\b\b\b\b\b\b\b\b\b\b\b\b\b\b\b\b\b\b\b\b\b\b\b\b\b\n",
      "Epoch 177/200\n",
      "2/2 [==============================] - 0s 78ms/step - loss: 8538789888.0000 - accuracy: 0.2770 - val_loss: 9973504000.0000 - val_accuracy: 0.2520\b\b\b\b\b\b\b\b\b\b\b\b\b\b\b\b\b\b\b\b\b\b\b\b\b\b\b\b\b\b\b\b\b\n",
      "Epoch 178/200\n",
      "2/2 [==============================] - 0s 102ms/step - loss: 8585088000.0000 - accuracy: 0.2770 - val_loss: 10026326016.0000 - val_accuracy: 0.2520\b\b\b\b\b\b\b\b\b\b\b\b\b\b\b\b\b\b\b\b\b\b\b\b\b\b\b\b\b\b\b\n",
      "Epoch 179/200\n",
      "2/2 [==============================] - 0s 83ms/step - loss: 8631355392.0000 - accuracy: 0.2770 - val_loss: 10079282176.0000 - val_accuracy: 0.2520\b\b\b\b\b\b\b\b\b\b\b\b\b\b\b\b\b\b\b\b\b\b\b\b\b\b\b\b\b\b\b\b\n",
      "Epoch 180/200\n",
      "2/2 [==============================] - 0s 114ms/step - loss: 8674574336.0000 - accuracy: 0.2770 - val_loss: 10133970944.0000 - val_accuracy: 0.2520\b\b\b\b\b\b\b\b\b\b\b\b\b\b\b\b\b\b\b\b\b\b\b\b\b\b\b\b\b\b\b\n",
      "Epoch 181/200\n",
      "2/2 [==============================] - 0s 116ms/step - loss: 8724668416.0000 - accuracy: 0.2770 - val_loss: 10189185024.0000 - val_accuracy: 0.2520\b\b\b\b\b\b\b\b\b\b\b\b\b\b\b\b\b\b\b\b\b\b\b\b\b\b\b\b\b\b\b\n",
      "Epoch 182/200\n",
      "2/2 [==============================] - 0s 105ms/step - loss: 8768344064.0000 - accuracy: 0.2770 - val_loss: 10244495360.0000 - val_accuracy: 0.2520\b\b\b\b\b\b\b\b\b\b\b\b\b\b\b\b\b\b\b\b\b\b\b\b\b\b\b\b\b\b\b\n",
      "Epoch 183/200\n",
      "2/2 [==============================] - 0s 66ms/step - loss: 8818466816.0000 - accuracy: 0.2770 - val_loss: 10302644224.0000 - val_accuracy: 0.2520\b\b\b\b\b\b\b\b\b\b\b\b\b\b\b\b\b\b\b\b\b\b\b\b\b\b\b\b\b\b\b\b\n",
      "Epoch 184/200\n",
      "2/2 [==============================] - 0s 108ms/step - loss: 8868675584.0000 - accuracy: 0.2770 - val_loss: 10360285184.0000 - val_accuracy: 0.2520\b\b\b\b\b\b\b\b\b\b\b\b\b\b\b\b\b\b\b\b\b\b\b\b\b\b\b\b\b\b\b\n",
      "Epoch 185/200\n",
      "2/2 [==============================] - 0s 105ms/step - loss: 8919052288.0000 - accuracy: 0.2770 - val_loss: 10417693696.0000 - val_accuracy: 0.2520\b\b\b\b\b\b\b\b\b\b\b\b\b\b\b\b\b\b\b\b\b\b\b\b\b\b\b\b\b\b\b\n",
      "Epoch 186/200\n",
      "2/2 [==============================] - 0s 108ms/step - loss: 8963812352.0000 - accuracy: 0.2770 - val_loss: 10473468928.0000 - val_accuracy: 0.2520\b\b\b\b\b\b\b\b\b\b\b\b\b\b\b\b\b\b\b\b\b\b\b\b\b\b\b\b\b\b\b\n",
      "Epoch 187/200\n",
      "2/2 [==============================] - 0s 99ms/step - loss: 9013386240.0000 - accuracy: 0.2770 - val_loss: 10531637248.0000 - val_accuracy: 0.2520\b\b\b\b\b\b\b\b\b\b\b\b\b\b\b\b\b\b\b\b\b\b\b\b\b\b\b\b\b\b\b\b\n",
      "Epoch 188/200\n",
      "2/2 [==============================] - 0s 96ms/step - loss: 9061160960.0000 - accuracy: 0.2770 - val_loss: 10587830272.0000 - val_accuracy: 0.2520\b\b\b\b\b\b\b\b\b\b\b\b\b\b\b\b\b\b\b\b\b\b\b\b\b\b\b\b\b\b\b\b\b\b\n",
      "Epoch 189/200\n",
      "2/2 [==============================] - 0s 90ms/step - loss: 9110416384.0000 - accuracy: 0.2770 - val_loss: 10644363264.0000 - val_accuracy: 0.2520\b\b\b\b\b\b\b\b\b\b\b\b\b\b\b\b\b\b\b\b\b\b\b\b\b\b\b\b\b\b\b\b\n",
      "Epoch 190/200\n",
      "2/2 [==============================] - 0s 89ms/step - loss: 9157078016.0000 - accuracy: 0.2770 - val_loss: 10697776128.0000 - val_accuracy: 0.2520\b\b\b\b\b\b\b\b\b\b\b\b\b\b\b\b\b\b\b\b\b\b\b\b\b\b\b\b\b\b\b\b\n",
      "Epoch 191/200\n",
      "2/2 [==============================] - 0s 83ms/step - loss: 9206746112.0000 - accuracy: 0.2770 - val_loss: 10757594112.0000 - val_accuracy: 0.2520\b\b\b\b\b\b\b\b\b\b\b\b\b\b\b\b\b\b\b\b\b\b\b\b\b\b\b\b\b\b\b\b\n",
      "Epoch 192/200\n",
      "2/2 [==============================] - 0s 102ms/step - loss: 9255043072.0000 - accuracy: 0.2770 - val_loss: 10815099904.0000 - val_accuracy: 0.2520\b\b\b\b\b\b\b\b\b\b\b\b\b\b\b\b\b\b\b\b\b\b\b\b\b\b\b\b\b\b\b\n",
      "Epoch 193/200\n",
      "2/2 [==============================] - 0s 86ms/step - loss: 9303644160.0000 - accuracy: 0.2770 - val_loss: 10872608768.0000 - val_accuracy: 0.2520\b\b\b\b\b\b\b\b\b\b\b\b\b\b\b\b\b\b\b\b\b\b\b\b\b\b\b\b\b\b\b\b\b\b\n",
      "Epoch 194/200\n",
      "2/2 [==============================] - 0s 100ms/step - loss: 9351006208.0000 - accuracy: 0.2770 - val_loss: 10928175104.0000 - val_accuracy: 0.2520\b\b\b\b\b\b\b\b\b\b\b\b\b\b\b\b\b\b\b\b\b\b\b\b\b\b\b\b\b\b\b\b\b\n",
      "Epoch 195/200\n",
      "2/2 [==============================] - 0s 101ms/step - loss: 9398953984.0000 - accuracy: 0.2770 - val_loss: 10984238080.0000 - val_accuracy: 0.2520\b\b\b\b\b\b\b\b\b\b\b\b\b\b\b\b\b\b\b\b\b\b\b\b\b\b\b\b\b\b\b\n",
      "Epoch 196/200\n",
      "2/2 [==============================] - 0s 68ms/step - loss: 9448474624.0000 - accuracy: 0.2770 - val_loss: 11041993728.0000 - val_accuracy: 0.2520\b\b\b\b\b\b\b\b\b\b\b\b\b\b\b\b\b\b\b\b\b\b\b\b\b\b\b\b\b\b\b\b\n",
      "Epoch 197/200\n",
      "2/2 [==============================] - 0s 72ms/step - loss: 9496503296.0000 - accuracy: 0.2770 - val_loss: 11100764160.0000 - val_accuracy: 0.2520\b\b\b\b\b\b\b\b\b\b\b\b\b\b\b\b\b\b\b\b\b\b\b\b\b\b\b\b\b\b\b\b\b\b\n",
      "Epoch 198/200\n",
      "2/2 [==============================] - 0s 53ms/step - loss: 9549188096.0000 - accuracy: 0.2770 - val_loss: 11160187904.0000 - val_accuracy: 0.2520\b\b\b\b\b\b\b\b\b\b\b\b\b\b\b\b\b\b\b\b\b\b\b\b\b\b\b\b\b\b\b\b\n",
      "Epoch 199/200\n",
      "2/2 [==============================] - 0s 54ms/step - loss: 9599938560.0000 - accuracy: 0.2770 - val_loss: 11221099520.0000 - val_accuracy: 0.2520\b\b\b\b\b\b\b\b\b\b\b\b\b\b\b\b\b\b\b\b\b\b\b\b\b\b\b\b\b\b\b\b\n",
      "Epoch 200/200\n",
      "2/2 [==============================] - 0s 53ms/step - loss: 9648643072.0000 - accuracy: 0.2770 - val_loss: 11277266944.0000 - val_accuracy: 0.2520\b\b\b\b\b\b\b\b\b\b\b\b\b\b\b\b\b\b\b\b\b\b\b\b\b\b\b\b\b\b\b\b\b\b\n"
     ]
    }
   ],
   "source": [
    "history = model.fit(partial_X_train,\n",
    "                    partial_Y_train,\n",
    "                    epochs=20,\n",
    "                    batch_size=512,\n",
    "                    validation_data=(X_val, Y_val))"
   ],
   "metadata": {
    "collapsed": false,
    "pycharm": {
     "name": "#%%\n"
    }
   }
  },
  {
   "cell_type": "code",
   "execution_count": 91,
   "outputs": [
    {
     "name": "stderr",
     "output_type": "stream",
     "text": [
      "/home/fedecabre/anaconda3/envs/P5_StackOverflow/lib/python3.9/site-packages/numpy/core/_asarray.py:102: VisibleDeprecationWarning: Creating an ndarray from ragged nested sequences (which is a list-or-tuple of lists-or-tuples-or ndarrays with different lengths or shapes) is deprecated. If you meant to do this, you must specify 'dtype=object' when creating the ndarray.\n",
      "  return array(a, dtype, copy=False, order=order)\n"
     ]
    },
    {
     "data": {
      "text/plain": "(2000,)"
     },
     "execution_count": 91,
     "metadata": {},
     "output_type": "execute_result"
    }
   ],
   "source": [
    "import numpy as np\n",
    "\n",
    "np.shape(Y_train)"
   ],
   "metadata": {
    "collapsed": false,
    "pycharm": {
     "name": "#%%\n"
    }
   }
  },
  {
   "cell_type": "code",
   "execution_count": null,
   "outputs": [],
   "source": [
    "X_train_padded.astype('float32')"
   ],
   "metadata": {
    "collapsed": false,
    "pycharm": {
     "name": "#%%\n"
    }
   }
  },
  {
   "cell_type": "code",
   "execution_count": 78,
   "outputs": [
    {
     "data": {
      "text/plain": "array([[1, 0, 0, 0, 0, 0],\n       [1, 0, 0, 0, 0, 0],\n       [1, 0, 0, 0, 0, 0],\n       ...,\n       [2, 3, 3, 0, 0, 0],\n       [2, 0, 0, 0, 0, 0],\n       [1, 0, 0, 0, 0, 0]], dtype=int32)"
     },
     "execution_count": 78,
     "metadata": {},
     "output_type": "execute_result"
    }
   ],
   "source": [
    "Y_val"
   ],
   "metadata": {
    "collapsed": false,
    "pycharm": {
     "name": "#%%\n"
    }
   }
  },
  {
   "cell_type": "code",
   "execution_count": 79,
   "outputs": [
    {
     "data": {
      "text/plain": "{'r': 1,\n 'python': 2,\n 'django': 3,\n 'ggplot2': 4,\n 'dataframe': 5,\n 'faq': 6,\n 'list': 7,\n 'string': 8,\n 'plot': 9,\n 'file': 10,\n 'data': 11,\n 'regex': 12,\n 'statistics': 13,\n 'matrix': 14,\n 'windows': 15,\n 'c': 16,\n 'function': 17,\n 'dictionary': 18,\n 'datetime': 19,\n 'performance': 20,\n 'vector': 21,\n 'models': 22,\n 'time': 23,\n 'class': 24,\n 'exception': 25,\n 'x': 26,\n 'date': 27,\n 'memory': 28,\n 'table': 29,\n 'oop': 30,\n 'csv': 31,\n 'unicode': 32,\n 'package': 33,\n 'xml': 34,\n 'testing': 35,\n 'math': 36,\n '2': 37,\n 'variables': 38,\n 'java': 39,\n 'graphics': 40,\n 'command': 41,\n 'import': 42,\n 'indexing': 43,\n 'line': 44,\n 'multithreading': 45,\n 'google': 46,\n 'module': 47,\n 'html': 48,\n 'sql': 49,\n 'unit': 50,\n 'debugging': 51,\n 'methods': 52,\n 'forms': 53,\n 'loops': 54,\n 'sorting': 55,\n 'templates': 56,\n 'operators': 57,\n 'image': 58,\n 'handling': 59,\n 'linux': 60,\n 'programming': 61,\n '3': 62,\n 'apply': 63,\n 'perl': 64,\n 'parsing': 65,\n 'floating': 66,\n 'processing': 67,\n 'web': 68,\n 'encoding': 69,\n 'text': 70,\n 'packages': 71,\n 'arrays': 72,\n 'numpy': 73,\n 'subset': 74,\n 'algorithm': 75,\n 'attributes': 76,\n 'point': 77,\n 'pdf': 78,\n 'regression': 79,\n 'syntax': 80,\n 'engine': 81,\n 'merge': 82,\n 'directory': 83,\n 'path': 84,\n 'graph': 85,\n 'namespaces': 86,\n 'comprehension': 87,\n 'management': 88,\n 'subprocess': 89,\n 'database': 90,\n 'design': 91,\n 'object': 92,\n 'series': 93,\n 'language': 94,\n 'split': 95,\n 'http': 96,\n 'interface': 97,\n 'mysql': 98,\n 'inheritance': 99,\n 'logging': 100,\n 'emacs': 101,\n 'ascii': 102,\n 'analysis': 103,\n 'io': 104,\n 'operator': 105,\n 'roxygen': 106,\n 'ruby': 107,\n 'user': 108,\n 'formatting': 109,\n 'scope': 110,\n 'app': 111,\n 'visualization': 112,\n 'tuples': 113,\n 'statement': 114,\n 'imaging': 115,\n 'library': 116,\n 'random': 117,\n 'macos': 118,\n 'integer': 119,\n 'type': 120,\n 'loop': 121,\n 'style': 122,\n 'boxplot': 123,\n 'variable': 124,\n 'assignment': 125,\n 'platform': 126,\n 'code': 127,\n 'files': 128,\n 'generator': 129,\n 'factor': 130,\n 'installation': 131,\n 'decorator': 132,\n 'character': 133,\n 'shell': 134,\n 'introspection': 135,\n 'documentation': 136,\n 'wxpython': 137,\n 'tkinter': 138,\n 'arguments': 139,\n 's4': 140,\n 'count': 141,\n 'optimization': 142,\n 'plyr': 143,\n 'types': 144,\n 'rcpp': 145,\n 'names': 146,\n 'zip': 147,\n 'javascript': 148,\n 'closures': 149,\n 'comparison': 150,\n 'rows': 151,\n 'format': 152,\n 'case': 153,\n 'process': 154,\n 'conversion': 155,\n 'error': 156,\n 'coding': 157,\n 'scripting': 158,\n 'profiling': 159,\n 'ide': 160,\n 'cross': 161,\n 'warnings': 162,\n 'reference': 163,\n 'copy': 164,\n 'na': 165,\n 'url': 166,\n 'concatenation': 167,\n 'functional': 168,\n 'setuptools': 169,\n 'histogram': 170,\n 'ess': 171,\n 'vim': 172,\n 'scraping': 173,\n 'serialization': 174,\n 'if': 175,\n 'matplotlib': 176,\n 'urllib2': 177,\n 'read': 178,\n 'postgresql': 179,\n 'search': 180,\n 'comments': 181,\n 'utf': 182,\n '8': 183,\n 'generation': 184,\n 'json': 185,\n 'unique': 186,\n 'cran': 187,\n 'latex': 188,\n 'jython': 189,\n 'ellipsis': 190,\n 'sqlalchemy': 191,\n 'address': 192,\n 'iterator': 193,\n 'plotmath': 194,\n 'return': 195,\n 'linear': 196,\n 'parallel': 197,\n 'static': 198,\n 'services': 199,\n 'sqlite': 200,\n 'system': 201,\n 'lapply': 202,\n 'printing': 203,\n 'distribution': 204,\n 'server': 205,\n 'labels': 206,\n 'distance': 207,\n 'sapply': 208,\n 'vectorization': 209,\n 'swig': 210,\n 'reflection': 211,\n 'metaprogramming': 212,\n 'php': 213,\n 'join': 214,\n 'timezone': 215,\n 'scipy': 216,\n 'admin': 217,\n 'conventions': 218,\n 'roxygen2': 219,\n 'rounding': 220,\n 'iteration': 221,\n 'matlab': 222,\n 'legend': 223,\n 'languages': 224,\n 'idioms': 225,\n 'while': 226,\n 'xhtml': 227,\n 'sweave': 228,\n 'machine': 229,\n 'learning': 230,\n 'try': 231,\n 'cgi': 232,\n 'wsgi': 233,\n 'ip': 234,\n 'self': 235,\n 'eval': 236,\n 'message': 237,\n 'recursion': 238,\n 'lm': 239,\n 'properties': 240,\n 'terminal': 241,\n 'soap': 242,\n 'structures': 243,\n 'benchmarking': 244,\n 'lambda': 245,\n 'boolean': 246,\n 'append': 247,\n 'daemon': 248,\n 'api': 249,\n 'packaging': 250,\n 'pywin32': 251,\n 'executable': 252,\n 'iterable': 253,\n 'datamodel': 254,\n 'curve': 255,\n 'fitting': 256,\n 'ubuntu': 257,\n 'scatter': 258,\n 'export': 259,\n 'security': 260,\n 'in': 261,\n 'deployment': 262,\n 'continuous': 263,\n 'environment': 264,\n 'parameters': 265,\n 'console': 266,\n 'rpy2': 267,\n 'integration': 268,\n 'paste': 269,\n 'filesystems': 270,\n 'naming': 271,\n 'ironpython': 272,\n 'sequence': 273,\n 'duplicates': 274,\n 'formula': 275,\n 'filter': 276,\n 'patterns': 277,\n 'missing': 278,\n 'networking': 279,\n 'audio': 280,\n 'excel': 281,\n 'print': 282,\n 'reshape': 283,\n 'bash': 284,\n 'for': 285,\n 'ssh': 286,\n 'numerical': 287,\n 'manipulation': 288,\n 'repeat': 289,\n 'catch': 290,\n 'visual': 291,\n 'asynchronous': 292,\n 'trim': 293,\n '3d': 294,\n 'passing': 295,\n 'casting': 296,\n 'dynamic': 297,\n 'whitespace': 298,\n 'diff': 299,\n 'lattice': 300,\n '7': 301,\n 'passwords': 302,\n 'newline': 303,\n 'agnostic': 304,\n 'aggregate': 305,\n 'escaping': 306,\n 'strptime': 307,\n 'label': 308,\n 'bar': 309,\n 'axis': 310,\n 'docstring': 311,\n 'word': 312,\n 'global': 313,\n 'hashmap': 314,\n 'orm': 315,\n 'logical': 316,\n 'protocol': 317,\n 'buffers': 318,\n 'complexity': 319,\n 'numeric': 320,\n 'xts': 321,\n 'migration': 322,\n 'range': 323,\n 'compiler': 324,\n 'construction': 325,\n 'precision': 326,\n 'insensitive': 327,\n 'seq': 328,\n '5': 329,\n 'timedelta': 330,\n 'built': 331,\n 'psycopg2': 332,\n 'input': 333,\n 'sockets': 334,\n 'locking': 335,\n 'value': 336,\n 'interpreter': 337,\n 'ipython': 338,\n 'authentication': 339,\n 'structure': 340,\n 'organization': 341,\n 'project': 342,\n 'geometry': 343,\n 'multiline': 344,\n 'large': 345,\n 'compare': 346,\n 'nested': 347,\n 'dependencies': 348,\n 'forest': 349,\n 'multiple': 350,\n 'select': 351,\n 'slug': 352,\n 'distutils': 353,\n 'diagram': 354,\n 'conditional': 355,\n 'sensitive': 356,\n 'unix': 357,\n 'queue': 358,\n 'model': 359,\n 'row': 360,\n 'session': 361,\n 'super': 362,\n 'unpacking': 363,\n 'stdout': 364,\n 'rowname': 365,\n 'bit': 366,\n 'mining': 367,\n 'title': 368,\n 'exit': 369,\n 'signal': 370,\n 'binary': 371,\n 'correlation': 372,\n 'literals': 373,\n 'multidimensional': 374,\n 'array': 375,\n 's': 376,\n 'levels': 377,\n 'typechecking': 378,\n 'relative': 379,\n 'execution': 380,\n 'do': 381,\n 'xpath': 382,\n 'classification': 383,\n 'encode': 384,\n 'open': 385,\n 'source': 386,\n 'sentiment': 387,\n 'interop': 388,\n 'studio': 389,\n '2008': 390,\n 'application': 391,\n 'facet': 392,\n 'punctuation': 393,\n 'browser': 394,\n 'rgl': 395,\n 'filtering': 396,\n 'parameter': 397,\n 'argv': 398,\n 'libraries': 399,\n 'suppress': 400,\n 'par': 401,\n 'rjava': 402,\n 'comparisons': 403,\n 'metadata': 404,\n 'null': 405,\n 'compilation': 406,\n 'sparse': 407,\n 'transparency': 408,\n 'pygame': 409,\n 'email': 410,\n 'primes': 411,\n 'beautifulsoup': 412,\n 'pipe': 413,\n 'applications': 414,\n 'ftp': 415,\n 'tray': 416,\n 'dataset': 417,\n 'specific': 418,\n 'mouse': 419,\n 'validation': 420,\n 'status': 421,\n 'permissions': 422,\n 'zipfile': 423,\n 'gis': 424,\n 'dom': 425,\n 'stata': 426,\n 'frequency': 427,\n 'connection': 428,\n 'analytics': 429,\n 'colon': 430,\n 'equals': 431,\n 'urls': 432,\n 'tar': 433,\n 'chart': 434,\n 'ms': 435,\n 'explorer': 436,\n 'egg': 437,\n 'max': 438,\n 'hash': 439,\n 'persistence': 440,\n 'redirect': 441,\n 'screen': 442,\n 'and': 443,\n 'internals': 444,\n 'memcached': 445,\n 'theory': 446,\n 'urllib': 447,\n 'zoo': 448,\n 'monkeypatching': 449,\n 'editor': 450,\n 'xrange': 451,\n 'debian': 452,\n 'css': 453,\n 'dll': 454,\n 'equality': 455,\n 'pyglet': 456,\n 'constructor': 457,\n 'overloading': 458,\n 'rodbc': 459,\n 'operating': 460,\n 'to': 461,\n 'write': 462,\n 'stdin': 463,\n 'readline': 464,\n 'pyopengl': 465,\n 'encryption': 466,\n 'chunks': 467,\n 'iis': 468,\n 'coroutine': 469,\n 'optparse': 470,\n 'kill': 471,\n 'spss': 472,\n 'instance': 473,\n 'lisp': 474,\n 'pattern': 475,\n 'matching': 476,\n 'ignore': 477,\n 'strsplit': 478,\n 'foxpro': 479,\n 'cookies': 480,\n 'tree': 481,\n 'garbage': 482,\n 'collection': 483,\n 'rbind': 484,\n 'volumes': 485,\n 'sequences': 486,\n 'elementtree': 487,\n 'net': 488,\n 'set': 489,\n 'temporary': 490,\n 'instantiation': 491,\n 'method': 492,\n 'filenames': 493,\n 'configuration': 494,\n 'gmail': 495,\n 'dendrogram': 496,\n 'extension': 497,\n 'keyword': 498,\n 'initialization': 499,\n 'popen': 500,\n 'os': 501,\n 'metaclass': 502,\n 'version': 503,\n 'autocomplete': 504,\n 'sleep': 505,\n 'mocking': 506,\n 'break': 507,\n 'jenkins': 508,\n 'x11': 509,\n 'cocoa': 510,\n 'switch': 511,\n 'thread': 512,\n 'glm': 513,\n 'multiplication': 514,\n 'control': 515,\n 'output': 516,\n 'numbers': 517,\n 'rstudio': 518,\n 'polymorphism': 519,\n 'charts': 520,\n 'timer': 521,\n 'interactive': 522,\n 'ctypes': 523,\n 'sudo': 524,\n 'colors': 525,\n 'maps': 526,\n 'geocoding': 527,\n 'new': 528,\n 'scoping': 529,\n 'lexical': 530,\n 'build': 531,\n 'automation': 532,\n 'pyinstaller': 533,\n 'standard': 534,\n 'lubridate': 535,\n 'match': 536,\n 'pretty': 537,\n 'video': 538,\n 'venn': 539,\n 'product': 540,\n 'average': 541,\n 'mean': 542,\n 'posixct': 543,\n 'fields': 544,\n 'events': 545,\n 'workflow': 546,\n 'rmysql': 547,\n 'active': 548,\n 'ldap': 549,\n 'coercion': 550,\n 'lua': 551,\n 'scientific': 552,\n 'computing': 553,\n 'cloud': 554,\n 'views': 555,\n 'evaluation': 556,\n 'nan': 557,\n 'rdata': 558,\n 'paramiko': 559,\n 'transpose': 560,\n 'webserver': 561,\n 'load': 562,\n 'duplicate': 563,\n 'docs': 564,\n 'auc': 565,\n 'extend': 566,\n 'combinations': 567,\n 'probability': 568,\n 'simplejson': 569,\n '6': 570,\n 'oracle': 571,\n 'replace': 572,\n 'factors': 573,\n 'eclipse': 574,\n 'pydev': 575,\n 'littler': 576,\n 'isset': 577,\n 'main': 578,\n 'lxml': 579,\n 'svm': 580,\n 'mod': 581,\n 'nlp': 582,\n 'batch': 583,\n 'coverage': 584,\n 'common': 585,\n 'apache': 586,\n 'scheduler': 587,\n 'multiplatform': 588,\n 'network': 589,\n 'member': 590,\n 'heatmap': 591,\n 'symbols': 592,\n 'rotation': 593,\n 'checkbox': 594,\n 'clipboard': 595,\n 'igraph': 596,\n 'verbosity': 597,\n 'layout': 598,\n 'bioinformatics': 599,\n 'sed': 600,\n 'awk': 601,\n 'repr': 602,\n 'symbolic': 603,\n 'decorators': 604,\n 'typing': 605,\n 'yaml': 606,\n 'except': 607,\n 'nth': 608,\n 'root': 609,\n 'tooltip': 610,\n 'animation': 611,\n 'infinity': 612,\n 'permutation': 613,\n 'combinatorics': 614,\n 'soappy': 615,\n 'zsi': 616,\n 'broken': 617,\n 'scheduled': 618,\n 'tasks': 619,\n 'endings': 620,\n 'portability': 621,\n 'prototype': 622,\n 'button': 623,\n 'submit': 624,\n 'ggmap': 625,\n 'y': 626,\n 'combinator': 627,\n 'base64': 628,\n 'pass': 629,\n 'by': 630,\n 'xsd': 631,\n 'statusbar': 632,\n 'increment': 633,\n 'tee': 634,\n 'grid': 635,\n 'arcgis': 636,\n 'js': 637,\n 'proj4js': 638,\n 'frame': 639,\n 'minidom': 640,\n 'blas': 641,\n 'flush': 642,\n 'skew': 643,\n 'pip': 644,\n 'exchange': 645,\n 'interpolation': 646,\n 'mobile': 647,\n 'website': 648,\n 'middleware': 649,\n 'openxml': 650,\n 'docx': 651,\n 'inotify': 652,\n 'crawler': 653,\n 'jinja2': 654,\n 'mako': 655,\n 'elisp': 656,\n 'big': 657,\n 'o': 658,\n 'py2exe': 659,\n 'alphabet': 660,\n 'minimum': 661,\n 'hashtable': 662,\n 'boost': 663,\n 'scaletransform': 664,\n 'template': 665,\n 'operations': 666,\n 'or': 667,\n 'markdown': 668,\n 'knitr': 669,\n 'polynomial': 670,\n 'dump': 671,\n '2to3': 672,\n 'winapi': 673,\n 'reverse': 674,\n 'use': 675,\n 'strict': 676,\n 'zero': 677,\n 'categorical': 678,\n 'contrast': 679,\n 'hdf5': 680,\n 'netcdf': 681,\n 'length': 682,\n 'tail': 683,\n 'logfile': 684,\n 'client': 685,\n 'levenshtein': 686,\n 'stringdist': 687,\n 'managers': 688,\n 'opengl': 689,\n 'removing': 690,\n 'parametric': 691,\n 'equations': 692,\n 'dpapi': 693,\n 'remote': 694,\n 'bind': 695,\n 'pid': 696,\n 'undefined': 697,\n 'behavior': 698,\n 'insertion': 699,\n 'named': 700,\n 'vacuum': 701,\n 'release': 702,\n 'arithmetic': 703,\n 'gtk': 704,\n 'pygtk': 705,\n 'glade': 706,\n 'gtk2': 707,\n 'modules': 708,\n 'coredump': 709,\n 'yield': 710,\n 'lowercase': 711,\n 'timeout': 712,\n 'anonymous': 713,\n 'upgrade': 714,\n 'scrape': 715,\n 'plus': 716,\n 'utc': 717,\n 'pytz': 718,\n 'terminate': 719,\n 'uuid': 720,\n 'guid': 721,\n 'uniqueidentifier': 722,\n 'surface': 723,\n 'p': 724,\n 'outliers': 725,\n 'curl': 726,\n 'pycurl': 727,\n 'vi': 728,\n 'efficient': 729,\n 'pypy': 730,\n 'roc': 731,\n 'char': 732,\n 'concurrency': 733,\n 'multicore': 734,\n 'stackless': 735,\n 'emacs23': 736,\n 'translation': 737,\n 'human': 738,\n 'readable': 739,\n 'humanize': 740,\n 'py': 741,\n 'thumbnails': 742,\n 'pyrserve': 743,\n 'pyper': 744,\n 'dbf': 745,\n 'aspect': 746,\n 'ratio': 747,\n 'enums': 748,\n 'doctest': 749,\n 'constants': 750,\n 'ggdendro': 751,\n 'natural': 752,\n 'sort': 753,\n 'tapply': 754,\n 'subdirectory': 755,\n 'svn': 756,\n 'precompiled': 757,\n 'locale': 758,\n 'architecture': 759,\n 'plugins': 760,\n 'partial': 761,\n 'fibonacci': 762,\n 'stack': 763,\n 'trace': 764,\n 'lists': 765,\n 'mutable': 766,\n 'preprocessor': 767,\n 'equivalent': 768,\n 'directive': 769,\n 'keep': 770,\n 'alive': 771,\n 'variadic': 772,\n 'yaxis': 773,\n 'cpython': 774,\n 'embedded': 775,\n 'pca': 776,\n 'exif': 777,\n 'argument': 778,\n 'optional': 779,\n 'tcp': 780,\n 'twisted': 781,\n 'protocols': 782,\n 'polygon': 783,\n 'spatial': 784,\n 'shellexecute': 785,\n 'mixins': 786,\n 'continuations': 787,\n 'window': 788,\n 'media': 789,\n 'sanitize': 790,\n 'reshape2': 791,\n 'left': 792,\n 'generate': 793,\n 'distinct': 794,\n 'values': 795,\n 'illegal': 796,\n 'characters': 797,\n 'imap': 798,\n 'hclust': 799,\n 'pylons': 800,\n 'dendextend': 801,\n 'md5': 802,\n 'final': 803,\n 'negation': 804,\n 'internationalization': 805,\n 'administration': 806,\n 'aio': 807,\n 'svg': 808,\n 'report': 809,\n 'replicate': 810,\n 'insets': 811,\n 'transform': 812,\n 'execl': 813,\n 'clojure': 814,\n 'incanter': 815,\n 'stderr': 816,\n 'request': 817,\n 'referrer': 818,\n 'usb': 819,\n 'png': 820,\n 'enumerate': 821,\n 'licensing': 822,\n 'obfuscation': 823,\n 'protection': 824,\n 'uppercase': 825,\n 'entities': 826,\n 'basehttpserver': 827,\n 'cd': 828,\n 'headers': 829,\n 'content': 830,\n 'hasattr': 831,\n 'software': 832,\n 'hudson': 833,\n 'frameworks': 834,\n 'turbogears': 835,\n 'astronomy': 836,\n 'azimuth': 837,\n 'tiff': 838,\n 'iphone': 839,\n 'touch': 840,\n 'swap': 841,\n 'finance': 842,\n 'foreign': 843,\n 'keys': 844,\n 'local': 845,\n 'non': 846,\n 'printable': 847,\n 'parser': 848,\n 'quotes': 849,\n 'finally': 850,\n 'flow': 851,\n 'single': 852,\n 'arff': 853,\n 'autovivification': 854,\n 'post': 855,\n 'get': 856,\n 'editing': 857,\n 'normal': 858,\n 'ajax': 859,\n 'independent': 860,\n 'similarity': 861,\n 'trigonometry': 862,\n 'polynomials': 863,\n 'tilde': 864,\n 'modeling': 865,\n 'submatrix': 866,\n 'zipcode': 867,\n 'shuffle': 868,\n 'gridlines': 869,\n 'digits': 870,\n 'exe': 871,\n 'bytecode': 872,\n '404': 873,\n 'runtime': 874,\n 'schema': 875,\n 'caching': 876,\n 'rules': 877,\n 'ffi': 878,\n 'alpha': 879,\n 'caret': 880,\n 'tdd': 881,\n 'brython': 882,\n 'transcrypt': 883,\n 'rapydscript': 884,\n 'scaling': 885,\n 'algebra': 886,\n 'extract': 887,\n 'xtable': 888,\n 'alignment': 889,\n 'rename': 890,\n 'quantmod': 891,\n 'com': 892,\n 'favicon': 893,\n 'ternary': 894,\n 'syntactic': 895,\n 'sugar': 896,\n 'deviation': 897,\n 'zombie': 898,\n 'reduce': 899,\n 'knn': 900,\n 'zooming': 901,\n 'timestamp': 902,\n 'buildbot': 903,\n 'blocking': 904,\n 'event': 905,\n 'private': 906,\n 'reset': 907,\n 'decimal': 908,\n 'animated': 909,\n 'gif': 910,\n 'ggproto': 911,\n 'configure': 912,\n 'homebrew': 913,\n 'aspell': 914,\n 'shortcut': 915,\n 'target': 916,\n 'lnk': 917,\n 'fluent': 918,\n 'popup': 919,\n 'cartesian': 920,\n 'instanceof': 921,\n 'openid': 922,\n 'signals': 923,\n 'thrift': 924,\n 'location': 925,\n 'moving': 926,\n 'weighted': 927,\n 'find': 928,\n 'pandas': 929,\n 'rest': 930,\n 'intersection': 931,\n 'external': 932,\n 'cython': 933,\n 'getattr': 934,\n 'fractions': 935,\n 'reuse': 936,\n '4': 937,\n 'udp': 938,\n 'bits': 939,\n 'deprecated': 940,\n 'e': 941,\n 'commerce': 942,\n 'satchmo': 943,\n 'piracy': 944,\n 'prevention': 945,\n 'customization': 946,\n 'rprofile': 947,\n 'anova': 948,\n 'movieclip': 949,\n 'movies': 950,\n 'graphing': 951,\n 'milliseconds': 952,\n 'largenumber': 953,\n 'publish': 954,\n 'subscribe': 955,\n 'pypubsub': 956,\n 'gfortran': 957,\n 'llvm': 958,\n 'unladen': 959,\n 'swallow': 960,\n 'information': 961,\n 'workspace': 962,\n 'compatibility': 963,\n 'agent': 964,\n 'textmate': 965,\n 'tab': 966,\n 'completion': 967,\n 'indicator': 968,\n 'pickle': 969,\n 'margins': 970,\n 'expression': 971,\n 'stored': 972,\n 'procedures': 973,\n 'generics': 974,\n 'declaration': 975,\n 'unified': 976,\n 'cat': 977,\n 'torch': 978,\n 'datastore': 979,\n 'buffered': 980,\n 'lazy': 981,\n 'late': 982,\n 'binding': 983,\n 'lookup': 984,\n 'extreme': 985,\n 'overflow': 986,\n 'int': 987,\n 'gsub': 988,\n 'copying': 989,\n 'bpgsql': 990,\n 'porting': 991,\n 'gnuplot': 992,\n 'flat': 993,\n 'rrdtool': 994,\n 'assign': 995,\n 'log4j': 996,\n 'forge': 997,\n 'exec': 998,\n 'ftplib': 999,\n 'walk': 1000,\n ...}"
     },
     "execution_count": 79,
     "metadata": {},
     "output_type": "execute_result"
    }
   ],
   "source": [
    "word_index_Y"
   ],
   "metadata": {
    "collapsed": false,
    "pycharm": {
     "name": "#%%\n"
    }
   }
  },
  {
   "cell_type": "code",
   "execution_count": null,
   "outputs": [],
   "source": [],
   "metadata": {
    "collapsed": false,
    "pycharm": {
     "name": "#%%\n"
    }
   }
  }
 ],
 "metadata": {
  "kernelspec": {
   "display_name": "Python 3",
   "language": "python",
   "name": "python3"
  },
  "language_info": {
   "codemirror_mode": {
    "name": "ipython",
    "version": 2
   },
   "file_extension": ".py",
   "mimetype": "text/x-python",
   "name": "python",
   "nbconvert_exporter": "python",
   "pygments_lexer": "ipython2",
   "version": "2.7.6"
  }
 },
 "nbformat": 4,
 "nbformat_minor": 0
}