{
 "cells": [
  {
   "cell_type": "markdown",
   "id": "ecc3bee7",
   "metadata": {},
   "source": [
    "Dans ce notebook nous allons analyser la base de donées des post Python et R pour un entrainement de modèles supervisés.\n",
    "\n",
    "Nous allons commencer avec une regresion logistique pour une clasification entre les posts Python et R, nous allons par la suite ajouter les autres tags disponibles et faire une classifaction One vs All \n",
    "\n",
    "Une fois le modèle entrainé nous allons le comparer avec un modèle RNN"
   ]
  },
  {
   "cell_type": "markdown",
   "id": "3bce7668",
   "metadata": {},
   "source": [
    "# Importation des bibliothèques"
   ]
  },
  {
   "cell_type": "code",
   "execution_count": 80,
   "id": "cdfef178",
   "metadata": {
    "ExecuteTime": {
     "end_time": "2021-06-03T15:39:30.889268Z",
     "start_time": "2021-06-03T15:39:30.881106Z"
    }
   },
   "outputs": [],
   "source": [
    "import pandas as pd\n",
    "import numpy as np\n",
    "from nltk.corpus import stopwords\n",
    "import re\n",
    "from wordcloud import WordCloud , STOPWORDS\n",
    "import matplotlib.pyplot as plt\n",
    "from transformers import (GPT2Config,GPT2LMHeadModel,GPT2Tokenizer)\n",
    "from tqdm.notebook import tqdm\n",
    "import torch\n",
    "\n",
    "pd.set_option('display.max_colwidth', None)"
   ]
  },
  {
   "cell_type": "markdown",
   "id": "7e2dbaef",
   "metadata": {},
   "source": [
    "# Importation des données "
   ]
  },
  {
   "cell_type": "code",
   "execution_count": 81,
   "id": "8b8e2d2e",
   "metadata": {
    "ExecuteTime": {
     "end_time": "2021-06-03T15:40:45.473647Z",
     "start_time": "2021-06-03T15:40:45.430867Z"
    }
   },
   "outputs": [
    {
     "name": "stdout",
     "output_type": "stream",
     "text": [
      "2000\n"
     ]
    },
    {
     "data": {
      "text/plain": "        Id                                    Title  \\\n0  6590630                       way subset v mysql   \n1  9620155            csv file contain apostrophe r   \n2   204017  program python ossystem fail space path   \n3  6424856                 r function return factor   \n4   117800              get autofields start number   \n\n                                                                                                                                                                                                                                                                                                                                                                                                                                                                                                                                                                                    Body  \\\n0    r frequently find function require subsetting datasets million row apply function number observation get time consume implement sometimes used package provide much speed subsetting use data frame recently start experiment package like rmysql push table mysql use package run query return result find performance improvement datasets million seem load data set key make subsetting datasets million appear send query move wonder anyone insight technique return subsetting aggregation query whether size data understand set key somewhat create index intuition beyond   \n1                                                                                                                                          difficulty get r read csv file contain apostrophe columns contain text attend customer need sheriff deputy file open correctly data appear cell row miss data ask r read file happens data readtabledatafilecsv sep error scanfile sep dec quote skip nlines nastrings line element line first line contains apostrophe go csv file manually remove apostrophe read file correctly however would rather keep apostrophe r would grateful help   \n2  script need program reason fail follow script import o ossystemctempa b cnotepadexe rawinput fail follow error ctempa recognize command program batch file escape program quote import ossystemctempa b cnotepadexe rawinput work however parameter stop work import o ossystemctempa b cnotepadexe ctesttxt rawinput way program wait need read output program job exit need wait also note move program nonspaced path option either work either os ossystemctempa b cnotepadexe rawinput note swap quote without parameter notepad fail message name volume label syntax incorrect   \n3                                                                                                                                                                                                                                                                                                                                            search foo fail try find function return factor integer package factorize function gmp confdesign however function return factor would like function return factor obviously search make since r construct call factor put lot noise search   \n4                                                                                                                                                                                                                                                                                                                                                                                                                                                                                                                                         django app would like get number seem way idea   \n\n                        Tags  Score  \\\n0  mysql r rmysql data.table     20   \n1          r csv punctuation     36   \n2        python shellexecute    289   \n3            r factorization     36   \n4    python django autofield     22   \n\n                                                                       Title_raw  \\\n0                                   Fastest way to subset - data.table vs. MySQL   \n1                         How to read a .csv file containing apostrophes into R?   \n2  How do I execute a program from Python? os.system fails due to spaces in path   \n3                                           R Function for returning ALL factors   \n4                       How to get Django AutoFields to start at a higher number   \n\n                                                                                                                                                                                                                                                                                                                                                                                                                                                                                                                                                                                                                            Text  \n0                         way subset v mysql r frequently find function require subsetting datasets million row apply function number observation get time consume implement sometimes used package provide much speed subsetting use data frame recently start experiment package like rmysql push table mysql use package run query return result find performance improvement datasets million seem load data set key make subsetting datasets million appear send query move wonder anyone insight technique return subsetting aggregation query whether size data understand set key somewhat create index intuition beyond  \n1                                                                                                                                                    csv file contain apostrophe r difficulty get r read csv file contain apostrophe columns contain text attend customer need sheriff deputy file open correctly data appear cell row miss data ask r read file happens data readtabledatafilecsv sep error scanfile sep dec quote skip nlines nastrings line element line first line contains apostrophe go csv file manually remove apostrophe read file correctly however would rather keep apostrophe r would grateful help  \n2  program python ossystem fail space path script need program reason fail follow script import o ossystemctempa b cnotepadexe rawinput fail follow error ctempa recognize command program batch file escape program quote import ossystemctempa b cnotepadexe rawinput work however parameter stop work import o ossystemctempa b cnotepadexe ctesttxt rawinput way program wait need read output program job exit need wait also note move program nonspaced path option either work either os ossystemctempa b cnotepadexe rawinput note swap quote without parameter notepad fail message name volume label syntax incorrect  \n3                                                                                                                                                                                                                                                                                                                                                           r function return factor search foo fail try find function return factor integer package factorize function gmp confdesign however function return factor would like function return factor obviously search make since r construct call factor put lot noise search  \n4                                                                                                                                                                                                                                                                                                                                                                                                                                                                                                                                                     get autofields start number django app would like get number seem way idea  ",
      "text/html": "<div>\n<style scoped>\n    .dataframe tbody tr th:only-of-type {\n        vertical-align: middle;\n    }\n\n    .dataframe tbody tr th {\n        vertical-align: top;\n    }\n\n    .dataframe thead th {\n        text-align: right;\n    }\n</style>\n<table border=\"1\" class=\"dataframe\">\n  <thead>\n    <tr style=\"text-align: right;\">\n      <th></th>\n      <th>Id</th>\n      <th>Title</th>\n      <th>Body</th>\n      <th>Tags</th>\n      <th>Score</th>\n      <th>Title_raw</th>\n      <th>Text</th>\n    </tr>\n  </thead>\n  <tbody>\n    <tr>\n      <th>0</th>\n      <td>6590630</td>\n      <td>way subset v mysql</td>\n      <td>r frequently find function require subsetting datasets million row apply function number observation get time consume implement sometimes used package provide much speed subsetting use data frame recently start experiment package like rmysql push table mysql use package run query return result find performance improvement datasets million seem load data set key make subsetting datasets million appear send query move wonder anyone insight technique return subsetting aggregation query whether size data understand set key somewhat create index intuition beyond</td>\n      <td>mysql r rmysql data.table</td>\n      <td>20</td>\n      <td>Fastest way to subset - data.table vs. MySQL</td>\n      <td>way subset v mysql r frequently find function require subsetting datasets million row apply function number observation get time consume implement sometimes used package provide much speed subsetting use data frame recently start experiment package like rmysql push table mysql use package run query return result find performance improvement datasets million seem load data set key make subsetting datasets million appear send query move wonder anyone insight technique return subsetting aggregation query whether size data understand set key somewhat create index intuition beyond</td>\n    </tr>\n    <tr>\n      <th>1</th>\n      <td>9620155</td>\n      <td>csv file contain apostrophe r</td>\n      <td>difficulty get r read csv file contain apostrophe columns contain text attend customer need sheriff deputy file open correctly data appear cell row miss data ask r read file happens data readtabledatafilecsv sep error scanfile sep dec quote skip nlines nastrings line element line first line contains apostrophe go csv file manually remove apostrophe read file correctly however would rather keep apostrophe r would grateful help</td>\n      <td>r csv punctuation</td>\n      <td>36</td>\n      <td>How to read a .csv file containing apostrophes into R?</td>\n      <td>csv file contain apostrophe r difficulty get r read csv file contain apostrophe columns contain text attend customer need sheriff deputy file open correctly data appear cell row miss data ask r read file happens data readtabledatafilecsv sep error scanfile sep dec quote skip nlines nastrings line element line first line contains apostrophe go csv file manually remove apostrophe read file correctly however would rather keep apostrophe r would grateful help</td>\n    </tr>\n    <tr>\n      <th>2</th>\n      <td>204017</td>\n      <td>program python ossystem fail space path</td>\n      <td>script need program reason fail follow script import o ossystemctempa b cnotepadexe rawinput fail follow error ctempa recognize command program batch file escape program quote import ossystemctempa b cnotepadexe rawinput work however parameter stop work import o ossystemctempa b cnotepadexe ctesttxt rawinput way program wait need read output program job exit need wait also note move program nonspaced path option either work either os ossystemctempa b cnotepadexe rawinput note swap quote without parameter notepad fail message name volume label syntax incorrect</td>\n      <td>python shellexecute</td>\n      <td>289</td>\n      <td>How do I execute a program from Python? os.system fails due to spaces in path</td>\n      <td>program python ossystem fail space path script need program reason fail follow script import o ossystemctempa b cnotepadexe rawinput fail follow error ctempa recognize command program batch file escape program quote import ossystemctempa b cnotepadexe rawinput work however parameter stop work import o ossystemctempa b cnotepadexe ctesttxt rawinput way program wait need read output program job exit need wait also note move program nonspaced path option either work either os ossystemctempa b cnotepadexe rawinput note swap quote without parameter notepad fail message name volume label syntax incorrect</td>\n    </tr>\n    <tr>\n      <th>3</th>\n      <td>6424856</td>\n      <td>r function return factor</td>\n      <td>search foo fail try find function return factor integer package factorize function gmp confdesign however function return factor would like function return factor obviously search make since r construct call factor put lot noise search</td>\n      <td>r factorization</td>\n      <td>36</td>\n      <td>R Function for returning ALL factors</td>\n      <td>r function return factor search foo fail try find function return factor integer package factorize function gmp confdesign however function return factor would like function return factor obviously search make since r construct call factor put lot noise search</td>\n    </tr>\n    <tr>\n      <th>4</th>\n      <td>117800</td>\n      <td>get autofields start number</td>\n      <td>django app would like get number seem way idea</td>\n      <td>python django autofield</td>\n      <td>22</td>\n      <td>How to get Django AutoFields to start at a higher number</td>\n      <td>get autofields start number django app would like get number seem way idea</td>\n    </tr>\n  </tbody>\n</table>\n</div>"
     },
     "metadata": {},
     "output_type": "display_data"
    }
   ],
   "source": [
    "dtypes_questions = {'Id':'int32', 'Score': 'int16', 'Title': 'str',\n",
    "                    'Body': 'str', 'Title_raw': 'str', 'Text': 'str',\n",
    "                    'Tags': 'str'}\n",
    "\n",
    "nrows = 2000\n",
    "\n",
    "df_questions = pd.read_csv('df_questions_fullclean.csv',\n",
    "                           usecols=dtypes_questions.keys(),\n",
    "                           encoding = \"utf-8\",\n",
    "                           dtype=dtypes_questions,\n",
    "                           nrows=nrows\n",
    "                          )\n",
    "\n",
    "print(len(df_questions))\n",
    "display(df_questions.head(5))\n"
   ]
  },
  {
   "cell_type": "code",
   "execution_count": 82,
   "id": "47355cd6",
   "metadata": {},
   "outputs": [
    {
     "name": "stdout",
     "output_type": "stream",
     "text": [
      "type of text_train: <class 'pandas.core.series.Series'>\n",
      "length of text_train: 2000\n",
      "text_train[6]:\n",
      "function r function write quite package share throw mine destring factor string ischaracterx else asnumericlevelsxx else x else convert pad functionxmxnullfill pad var string specify size lx mxcalc maxlxnarmtrue isnullmx mxmxcalc stopnumber maxchar else mxcalc px mxlx pastesapplypxfunctionx pasterepfillxcollapsexsep eval functionevaltextenvirsysframe evaluate string r code envirenvir spacetabs mareks version trimfunctions gsubspacespaces\n"
     ]
    }
   ],
   "source": [
    "# création des labels python et r\n",
    "text_train, tag_train = df_questions.Text, df_questions.Tags\n",
    "print(\"type of text_train: {}\".format(type(text_train)))\n",
    "print(\"length of text_train: {}\".format(len(text_train)))\n",
    "print(\"text_train[6]:\\n{}\".format(text_train[6]))"
   ]
  },
  {
   "cell_type": "code",
   "execution_count": 83,
   "outputs": [
    {
     "data": {
      "text/plain": "pandas.core.series.Series"
     },
     "execution_count": 83,
     "metadata": {},
     "output_type": "execute_result"
    }
   ],
   "source": [
    "type(text_train)"
   ],
   "metadata": {
    "collapsed": false,
    "pycharm": {
     "name": "#%%\n"
    }
   }
  },
  {
   "cell_type": "code",
   "execution_count": 84,
   "outputs": [
    {
     "data": {
      "text/plain": "pandas.core.series.Series"
     },
     "execution_count": 84,
     "metadata": {},
     "output_type": "execute_result"
    }
   ],
   "source": [
    "type(tag_train)"
   ],
   "metadata": {
    "collapsed": false,
    "pycharm": {
     "name": "#%%\n"
    }
   }
  },
  {
   "cell_type": "code",
   "execution_count": 85,
   "outputs": [],
   "source": [
    "# ajouter les fichiers pour test"
   ],
   "metadata": {
    "collapsed": false,
    "pycharm": {
     "name": "#%%\n"
    }
   }
  },
  {
   "cell_type": "markdown",
   "source": [
    "### Répresenter les données textuelles comme un bag-of-words"
   ],
   "metadata": {
    "collapsed": false,
    "pycharm": {
     "name": "#%% md\n"
    }
   }
  },
  {
   "cell_type": "code",
   "execution_count": 164,
   "outputs": [
    {
     "name": "stdout",
     "output_type": "stream",
     "text": [
      "X_train:\n",
      "<2000x11756 sparse matrix of type '<class 'numpy.int64'>'\n",
      "\twith 61287 stored elements in Compressed Sparse Row format>\n"
     ]
    }
   ],
   "source": [
    "from sklearn.feature_extraction.text import CountVectorizer\n",
    "\n",
    "vect_X = CountVectorizer().fit(text_train)\n",
    "X_train = vect_X.transform(text_train)\n",
    "print(\"X_train:\\n{}\".format(repr(X_train)))"
   ],
   "metadata": {
    "collapsed": false,
    "pycharm": {
     "name": "#%%\n"
    }
   }
  },
  {
   "cell_type": "code",
   "execution_count": 87,
   "outputs": [
    {
     "name": "stdout",
     "output_type": "stream",
     "text": [
      "Number of features: 11756\n",
      "First 20 features:\n",
      "['aa', 'aaa', 'aaaaa', 'aaaarghxxx', 'aaardvark', 'aaaxxx', 'aabbcdefg', 'aabsiddfdfdatatg', 'aacute', 'aardvark', 'aavec', 'aazqmaso', 'ab', 'abbrach', 'abbreche', 'abbreviation', 'abc', 'abca', 'abcabcdefabcd', 'abcdc']\n",
      "Features 20010 to 20030:\n",
      "[]\n",
      "Every 2000th feature:\n",
      "['aa', 'counter', 'functionlm', 'lstlengthlst', 'promise', 'striph']\n"
     ]
    }
   ],
   "source": [
    "feature_names_X = vect_X.get_feature_names()\n",
    "print(\"Number of features: {}\".format(len(feature_names_X)))\n",
    "print(\"First 20 features:\\n{}\".format(feature_names_X[:20]))\n",
    "print(\"Features 20010 to 20030:\\n{}\".format(feature_names_X[20010:20030]))\n",
    "print(\"Every 2000th feature:\\n{}\".format(feature_names_X[::2000]))"
   ],
   "metadata": {
    "collapsed": false,
    "pycharm": {
     "name": "#%%\n"
    }
   }
  },
  {
   "cell_type": "code",
   "execution_count": 165,
   "outputs": [
    {
     "name": "stdout",
     "output_type": "stream",
     "text": [
      "Y_train:\n",
      "array([[0, 0, 0, ..., 0, 0, 0],\n",
      "       [0, 0, 0, ..., 0, 0, 0],\n",
      "       [0, 0, 0, ..., 0, 0, 0],\n",
      "       ...,\n",
      "       [0, 0, 0, ..., 0, 0, 0],\n",
      "       [0, 0, 0, ..., 0, 0, 0],\n",
      "       [0, 0, 0, ..., 0, 0, 0]])\n"
     ]
    }
   ],
   "source": [
    "vect_Y = CountVectorizer(binary=True, max_features=None, token_pattern= \"(?u)\\\\b\\\\w+\\\\b\").fit(tag_train)\n",
    "# nous avons laissé l'option binary true car il est inutile d'avoir plus d'une fois le même token\n",
    "# nous allons limiter le nombre de de features car le F1 Score avec tous les tags pour le modèle KNN est 0.013\n",
    "# avec 10 features nous arrivons à un F1 Score de 37,8%\n",
    "# On utilise un token_pattern different pour pouvoir récupérer le tag r\n",
    "Y_train = vect_Y.transform(text_train).toarray()\n",
    "print(\"Y_train:\\n{}\".format(repr(Y_train)))"
   ],
   "metadata": {
    "collapsed": false,
    "pycharm": {
     "name": "#%%\n"
    }
   }
  },
  {
   "cell_type": "code",
   "execution_count": 172,
   "outputs": [
    {
     "name": "stdout",
     "output_type": "stream",
     "text": [
      "Number of features: 1151\n",
      "First 20 features:\n",
      "['2', '2008', '2to3', '3', '3d', '4', '404', '5', '6', '7', '8', 'access', 'accuracy', 'active', 'address', 'admin', 'administration', 'aes', 'agent', 'aggregate']\n",
      "Features 210 to 230:\n",
      "['pyrserve', 'python', 'pytz', 'pywin32', 'qt', 'quantmod', 'queryset', 'queue', 'quotes', 'r', 'random', 'range', 'rapydscript', 'raster', 'ratio', 'rawstring', 'rbind', 'rcpp', 'rdata', 'rdbms']\n",
      "Every 2000th feature:\n",
      "['2', 'css', 'global', 'migration', 'pyrserve', 'tab']\n"
     ]
    }
   ],
   "source": [
    "feature_names_Y = vect_Y.get_feature_names()\n",
    "print(\"Number of features: {}\".format(len(feature_names_Y)))\n",
    "print(\"First 20 features:\\n{}\".format(feature_names_Y[:20]))\n",
    "print(\"Features 210 to 230:\\n{}\".format(feature_names_Y[800:820]))\n",
    "print(\"Every 2000th feature:\\n{}\".format(feature_names_Y[::200]))"
   ],
   "metadata": {
    "collapsed": false,
    "pycharm": {
     "name": "#%%\n"
    }
   }
  },
  {
   "cell_type": "code",
   "execution_count": 135,
   "outputs": [
    {
     "data": {
      "text/plain": "KNeighborsClassifier()"
     },
     "execution_count": 135,
     "metadata": {},
     "output_type": "execute_result"
    }
   ],
   "source": [
    "from sklearn.model_selection import cross_val_score\n",
    "from sklearn.neighbors import KNeighborsClassifier\n",
    "\n",
    "knn_clf = KNeighborsClassifier()\n",
    "knn_clf.fit(X_train, Y_train)"
   ],
   "metadata": {
    "collapsed": false,
    "pycharm": {
     "name": "#%%\n"
    }
   }
  },
  {
   "cell_type": "code",
   "execution_count": 136,
   "outputs": [
    {
     "name": "stdout",
     "output_type": "stream",
     "text": [
      "Unseen factor levels when appending new records with unseen string values to a dataframe, cause Warning and result in NA \n",
      "\n",
      "dataframe k row columns contain billing data append data alltime rbindalltimeall unfortunately generate warn warn message factortmp ri value cna na na na na na na factor level nas generate patient whose name dataframe therefore would know level give similarly names refer doctor column solution \n",
      "\n",
      "factor level append record string value dataframe warn result na dataframe k row columns contain billing data append data alltime rbindalltimeall unfortunately generate warn warn message factortmp ri value cna na na na na na na factor level nas generate patient whose name dataframe therefore would know level give similarly names refer doctor column solution\n",
      "dataframe 1\n"
     ]
    }
   ],
   "source": [
    "id_sample = 55\n",
    "new_post = text_train[id_sample]\n",
    "new_post_vect = vect_X.transform([new_post])\n",
    "y_predict = knn_clf.predict(new_post_vect)\n",
    "\n",
    "tags = np.argsort(y_predict[0,:])[::-1][:10].tolist()\n",
    "scores = np.sort(y_predict[0,:])[::-1][:10]\n",
    "print(df_questions.Title_raw[id_sample],'\\n')\n",
    "print(df_questions.Body[id_sample],'\\n')\n",
    "print(text_train[id_sample])\n",
    "for tag,score in zip(tags,scores) :\n",
    "    if score > 0  :\n",
    "        print(feature_names_Y[tag],score)"
   ],
   "metadata": {
    "collapsed": false,
    "pycharm": {
     "name": "#%%\n"
    }
   }
  },
  {
   "cell_type": "markdown",
   "source": [
    "### Cross validation du modèle"
   ],
   "metadata": {
    "collapsed": false,
    "pycharm": {
     "name": "#%% md\n"
    }
   }
  },
  {
   "cell_type": "code",
   "execution_count": 137,
   "outputs": [
    {
     "name": "stdout",
     "output_type": "stream",
     "text": [
      "CPU times: user 553 ms, sys: 3.92 ms, total: 557 ms\n",
      "Wall time: 556 ms\n"
     ]
    }
   ],
   "source": [
    "%%time\n",
    "# 50 secondes pour calculer 2000 lignes\n",
    "\n",
    "from sklearn.model_selection import cross_val_predict\n",
    "\n",
    "y_train_knn_pred = cross_val_predict(knn_clf, X_train, Y_train, cv=3)\n"
   ],
   "metadata": {
    "collapsed": false,
    "pycharm": {
     "name": "#%%\n"
    }
   }
  },
  {
   "cell_type": "code",
   "execution_count": 138,
   "outputs": [
    {
     "name": "stderr",
     "output_type": "stream",
     "text": [
      "/home/fedecabre/anaconda3/envs/P5_StackOverflow/lib/python3.9/site-packages/sklearn/metrics/_classification.py:1495: UndefinedMetricWarning: F-score is ill-defined and being set to 0.0 in labels with no true nor predicted samples. Use `zero_division` parameter to control this behavior.\n",
      "  _warn_prf(\n"
     ]
    },
    {
     "data": {
      "text/plain": "0.3780668019908112"
     },
     "execution_count": 138,
     "metadata": {},
     "output_type": "execute_result"
    }
   ],
   "source": [
    "from sklearn.metrics import f1_score\n",
    "\n",
    "y_train_knn_pred_ones = (y_train_knn_pred >0).astype(int)\n",
    "f1_score(Y_train, y_train_knn_pred_ones, average=\"macro\")"
   ],
   "metadata": {
    "collapsed": false,
    "pycharm": {
     "name": "#%%\n"
    }
   }
  },
  {
   "cell_type": "markdown",
   "source": [
    "## Création d'une pipeline pour choisir le meilleurs parametre pour ce modèle"
   ],
   "metadata": {
    "collapsed": false,
    "pycharm": {
     "name": "#%% md\n"
    }
   }
  },
  {
   "cell_type": "code",
   "execution_count": 174,
   "outputs": [
    {
     "name": "stdout",
     "output_type": "stream",
     "text": [
      "Best cross-validation score: 0.67\n",
      "Best parameters:  {'n_neighbors': 128}\n",
      "Best nombre de features:  2\n",
      "['python', 'r'] \n",
      "\n",
      "Best cross-validation score: 0.62\n",
      "Best parameters:  {'n_neighbors': 128}\n",
      "Best nombre de features:  4\n",
      "['django', 'ggplot2', 'python', 'r'] \n",
      "\n",
      "Best cross-validation score: 0.59\n",
      "Best parameters:  {'n_neighbors': 128}\n",
      "Best nombre de features:  6\n",
      "['dataframe', 'django', 'faq', 'ggplot2', 'python', 'r'] \n",
      "\n",
      "Best cross-validation score: 0.45\n",
      "Best parameters:  {'n_neighbors': 8}\n",
      "Best nombre de features:  8\n",
      "['dataframe', 'django', 'faq', 'ggplot2', 'list', 'python', 'r', 'string'] \n",
      "\n",
      "Best cross-validation score: 0.28\n",
      "Best parameters:  {'n_neighbors': 8}\n",
      "Best nombre de features:  16\n",
      "['c', 'data', 'dataframe', 'django', 'faq', 'file', 'ggplot2', 'list', 'matrix', 'plot', 'python', 'r', 'regex', 'statistics', 'string', 'windows'] \n",
      "\n",
      "Best cross-validation score: 0.16\n",
      "Best parameters:  {'n_neighbors': 8}\n",
      "Best nombre de features:  32\n",
      "['c', 'class', 'data', 'dataframe', 'date', 'datetime', 'dictionary', 'django', 'exception', 'faq', 'file', 'function', 'ggplot2', 'list', 'matrix', 'memory', 'models', 'oop', 'performance', 'plot', 'python', 'r', 'regex', 'statistics', 'string', 'table', 'time', 'unicode', 'vector', 'windows', 'x', 'xml'] \n",
      "\n"
     ]
    }
   ],
   "source": [
    "from sklearn.model_selection import GridSearchCV\n",
    "param_grid = {'n_neighbors' : [6, 8,32,64,128]}\n",
    "grid = GridSearchCV(KNeighborsClassifier(), param_grid, cv=5)\n",
    "\n",
    "best_score = 0\n",
    "best_param = {}\n",
    "best_feature_number = 0\n",
    "\n",
    "for i in [2,4,6,8,16,32]:\n",
    "    vect_Y = CountVectorizer(binary=True, token_pattern= \"(?u)\\\\b\\\\w+\\\\b\", max_features=i).fit(tag_train)\n",
    "    Y_train = vect_Y.transform(text_train).toarray()\n",
    "    grid.fit(X_train, Y_train)\n",
    "    #if grid.best_score_>best_score:\n",
    "    best_score = grid.best_score_\n",
    "    best_param = grid.best_params_\n",
    "    best_feature_number = i\n",
    "    print(\"Best cross-validation score: {:.2f}\".format(best_score))\n",
    "    print(\"Best parameters: \", best_param)\n",
    "    print(\"Best nombre de features: \", best_feature_number)\n",
    "    print(vect_Y.get_feature_names(),'\\n')\n"
   ],
   "metadata": {
    "collapsed": false,
    "pycharm": {
     "name": "#%%\n"
    }
   }
  },
  {
   "cell_type": "code",
   "execution_count": 161,
   "outputs": [
    {
     "data": {
      "text/plain": "0        mysql r rmysql data.table\n1                r csv punctuation\n2              python shellexecute\n3                  r factorization\n4          python django autofield\n                   ...            \n1995    python while-loop do-while\n1996        r installation package\n1997     r graphics ggplot2 insets\n1998            r string substring\n1999              list r dataframe\nName: Tags, Length: 2000, dtype: object"
     },
     "execution_count": 161,
     "metadata": {},
     "output_type": "execute_result"
    }
   ],
   "source": [
    "tag_train"
   ],
   "metadata": {
    "collapsed": false,
    "pycharm": {
     "name": "#%%\n"
    }
   }
  },
  {
   "cell_type": "code",
   "execution_count": null,
   "outputs": [],
   "source": [],
   "metadata": {
    "collapsed": false,
    "pycharm": {
     "name": "#%%\n"
    }
   }
  }
 ],
 "metadata": {
  "kernelspec": {
   "display_name": "Python 3",
   "language": "python",
   "name": "python3"
  },
  "toc": {
   "base_numbering": 1,
   "nav_menu": {},
   "number_sections": true,
   "sideBar": true,
   "skip_h1_title": false,
   "title_cell": "Table of Contents",
   "title_sidebar": "Contents",
   "toc_cell": false,
   "toc_position": {},
   "toc_section_display": true,
   "toc_window_display": false
  },
  "varInspector": {
   "cols": {
    "lenName": 16,
    "lenType": 16,
    "lenVar": 40
   },
   "kernels_config": {
    "python": {
     "delete_cmd_postfix": "",
     "delete_cmd_prefix": "del ",
     "library": "var_list.py",
     "varRefreshCmd": "print(var_dic_list())"
    },
    "r": {
     "delete_cmd_postfix": ") ",
     "delete_cmd_prefix": "rm(",
     "library": "var_list.r",
     "varRefreshCmd": "cat(var_dic_list()) "
    }
   },
   "types_to_exclude": [
    "module",
    "function",
    "builtin_function_or_method",
    "instance",
    "_Feature"
   ],
   "window_display": false
  }
 },
 "nbformat": 4,
 "nbformat_minor": 5
}