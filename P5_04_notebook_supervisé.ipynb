{
 "cells": [
  {
   "cell_type": "markdown",
   "id": "ecc3bee7",
   "metadata": {},
   "source": [
    "Dans ce notebook nous allons analyser la base de donées des post Python et R pour un entrainement de modèles supervisés.\n",
    "\n",
    "Nous allons commencer avec une regresion logistique pour une clasification entre les posts Python et R, nous allons par la suite ajouter les autres tags disponibles et faire une classifaction One vs All \n",
    "\n",
    "Une fois le modèle entrainé nous allons le comparer avec un modèle RNN"
   ]
  },
  {
   "cell_type": "markdown",
   "id": "3bce7668",
   "metadata": {},
   "source": [
    "# Importation des bibliothèques"
   ]
  },
  {
   "cell_type": "code",
   "execution_count": 187,
   "id": "cdfef178",
   "metadata": {
    "ExecuteTime": {
     "end_time": "2021-06-03T15:39:30.889268Z",
     "start_time": "2021-06-03T15:39:30.881106Z"
    }
   },
   "outputs": [],
   "source": [
    "import pandas as pd\n",
    "import numpy as np\n",
    "\n",
    "\n",
    "pd.set_option('display.max_colwidth', None)"
   ]
  },
  {
   "cell_type": "markdown",
   "id": "7e2dbaef",
   "metadata": {},
   "source": [
    "# Importation des données "
   ]
  },
  {
   "cell_type": "code",
   "execution_count": 188,
   "id": "8b8e2d2e",
   "metadata": {
    "ExecuteTime": {
     "end_time": "2021-06-03T15:40:45.473647Z",
     "start_time": "2021-06-03T15:40:45.430867Z"
    }
   },
   "outputs": [
    {
     "name": "stdout",
     "output_type": "stream",
     "text": [
      "13913\n"
     ]
    },
    {
     "data": {
      "text/plain": "         Id                             Title  \\\n0   7033844   write complicate business logic   \n1  13960657  python evaluate condition lazily   \n2  16632568               remove column numpy   \n3    285061    programmatically set attribute   \n4  16729574          get value cell dataframe   \n\n                                                                                                                                                                                                                                                      Body  \\\n0  recently get cool package like express jade question consistently knock door pick nodejs build website use serverside complicate think compare javascript java python serverside code library nodejs really mean miss something call java python nodejs   \n1                                                                                                                                                                                                  example follow statement foo python check condition foo   \n2                                                                                                                                                                              nparray array delete column nphstacknpdeletearr array way consider question   \n3                                                                                                                                                                       python object string set x x myattr magic go goal incidentally cache call xgetattr   \n4                          construct condition extract exactly one row data frame dfitemitem dfwnwn dfwd would like take value column val dcolname result get data frame contain one row one column ie one cell need need one value one float number panda   \n\n                       Tags  Score  \\\n0       java python node.js     38   \n1    python lazy-evaluation     76   \n2              python numpy     24   \n3  python attributes object    231   \n4   python pandas dataframe    490   \n\n                                                   Title_raw  \\\n0  Nodejs: Where or How to write complicated business logic?   \n1               Does Python evaluate if's conditions lazily?   \n2                          remove a specific column in numpy   \n3              How do you programmatically set an attribute?   \n4             How to get a value from a cell of a dataframe?   \n\n                                                                                                                                                                                                                                                                                      Text  \n0  write complicate business logic recently get cool package like express jade question consistently knock door pick nodejs build website use serverside complicate think compare javascript java python serverside code library nodejs really mean miss something call java python nodejs  \n1                                                                                                                                                                                                 python evaluate condition lazily example follow statement foo python check condition foo  \n2                                                                                                                                                                                          remove column numpy nparray array delete column nphstacknpdeletearr array way consider question  \n3                                                                                                                                                                        programmatically set attribute python object string set x x myattr magic go goal incidentally cache call xgetattr  \n4                                 get value cell dataframe construct condition extract exactly one row data frame dfitemitem dfwnwn dfwd would like take value column val dcolname result get data frame contain one row one column ie one cell need need one value one float number panda  ",
      "text/html": "<div>\n<style scoped>\n    .dataframe tbody tr th:only-of-type {\n        vertical-align: middle;\n    }\n\n    .dataframe tbody tr th {\n        vertical-align: top;\n    }\n\n    .dataframe thead th {\n        text-align: right;\n    }\n</style>\n<table border=\"1\" class=\"dataframe\">\n  <thead>\n    <tr style=\"text-align: right;\">\n      <th></th>\n      <th>Id</th>\n      <th>Title</th>\n      <th>Body</th>\n      <th>Tags</th>\n      <th>Score</th>\n      <th>Title_raw</th>\n      <th>Text</th>\n    </tr>\n  </thead>\n  <tbody>\n    <tr>\n      <th>0</th>\n      <td>7033844</td>\n      <td>write complicate business logic</td>\n      <td>recently get cool package like express jade question consistently knock door pick nodejs build website use serverside complicate think compare javascript java python serverside code library nodejs really mean miss something call java python nodejs</td>\n      <td>java python node.js</td>\n      <td>38</td>\n      <td>Nodejs: Where or How to write complicated business logic?</td>\n      <td>write complicate business logic recently get cool package like express jade question consistently knock door pick nodejs build website use serverside complicate think compare javascript java python serverside code library nodejs really mean miss something call java python nodejs</td>\n    </tr>\n    <tr>\n      <th>1</th>\n      <td>13960657</td>\n      <td>python evaluate condition lazily</td>\n      <td>example follow statement foo python check condition foo</td>\n      <td>python lazy-evaluation</td>\n      <td>76</td>\n      <td>Does Python evaluate if's conditions lazily?</td>\n      <td>python evaluate condition lazily example follow statement foo python check condition foo</td>\n    </tr>\n    <tr>\n      <th>2</th>\n      <td>16632568</td>\n      <td>remove column numpy</td>\n      <td>nparray array delete column nphstacknpdeletearr array way consider question</td>\n      <td>python numpy</td>\n      <td>24</td>\n      <td>remove a specific column in numpy</td>\n      <td>remove column numpy nparray array delete column nphstacknpdeletearr array way consider question</td>\n    </tr>\n    <tr>\n      <th>3</th>\n      <td>285061</td>\n      <td>programmatically set attribute</td>\n      <td>python object string set x x myattr magic go goal incidentally cache call xgetattr</td>\n      <td>python attributes object</td>\n      <td>231</td>\n      <td>How do you programmatically set an attribute?</td>\n      <td>programmatically set attribute python object string set x x myattr magic go goal incidentally cache call xgetattr</td>\n    </tr>\n    <tr>\n      <th>4</th>\n      <td>16729574</td>\n      <td>get value cell dataframe</td>\n      <td>construct condition extract exactly one row data frame dfitemitem dfwnwn dfwd would like take value column val dcolname result get data frame contain one row one column ie one cell need need one value one float number panda</td>\n      <td>python pandas dataframe</td>\n      <td>490</td>\n      <td>How to get a value from a cell of a dataframe?</td>\n      <td>get value cell dataframe construct condition extract exactly one row data frame dfitemitem dfwnwn dfwd would like take value column val dcolname result get data frame contain one row one column ie one cell need need one value one float number panda</td>\n    </tr>\n  </tbody>\n</table>\n</div>"
     },
     "metadata": {},
     "output_type": "display_data"
    }
   ],
   "source": [
    "dtypes_questions = {'Id':'int32', 'Score': 'int16', 'Title': 'str',\n",
    "                    'Body': 'str', 'Title_raw': 'str', 'Text': 'str',\n",
    "                    'Tags': 'str'}\n",
    "\n",
    "nrows = 20000\n",
    "\n",
    "df_questions = pd.read_csv('df_questions_fullclean.csv',\n",
    "                           usecols=dtypes_questions.keys(),\n",
    "                           encoding = \"utf-8\",\n",
    "                           dtype=dtypes_questions,\n",
    "                           nrows=nrows\n",
    "                          )\n",
    "\n",
    "print(len(df_questions))\n",
    "display(df_questions.head(5))\n"
   ]
  },
  {
   "cell_type": "code",
   "execution_count": 189,
   "id": "47355cd6",
   "metadata": {},
   "outputs": [
    {
     "name": "stdout",
     "output_type": "stream",
     "text": [
      "type of text_train: <class 'pandas.core.series.Series'>\n",
      "length of text_train: 13913\n",
      "text_train[6]:\n",
      "collapse run number string range let u say follow vector number vec look function create string summarize number way would run number collapsed end value r\n"
     ]
    }
   ],
   "source": [
    "# création des labels python et r\n",
    "text_train, tag_train = df_questions.Text, df_questions.Tags\n",
    "print(\"type of text_train: {}\".format(type(text_train)))\n",
    "print(\"length of text_train: {}\".format(len(text_train)))\n",
    "print(\"text_train[6]:\\n{}\".format(text_train[6]))"
   ]
  },
  {
   "cell_type": "code",
   "execution_count": 190,
   "outputs": [
    {
     "data": {
      "text/plain": "pandas.core.series.Series"
     },
     "execution_count": 190,
     "metadata": {},
     "output_type": "execute_result"
    }
   ],
   "source": [
    "type(text_train)"
   ],
   "metadata": {
    "collapsed": false,
    "pycharm": {
     "name": "#%%\n"
    }
   }
  },
  {
   "cell_type": "code",
   "execution_count": 191,
   "outputs": [
    {
     "data": {
      "text/plain": "pandas.core.series.Series"
     },
     "execution_count": 191,
     "metadata": {},
     "output_type": "execute_result"
    }
   ],
   "source": [
    "type(tag_train)"
   ],
   "metadata": {
    "collapsed": false,
    "pycharm": {
     "name": "#%%\n"
    }
   }
  },
  {
   "cell_type": "code",
   "execution_count": 192,
   "outputs": [],
   "source": [
    "# ajouter les fichiers pour test"
   ],
   "metadata": {
    "collapsed": false,
    "pycharm": {
     "name": "#%%\n"
    }
   }
  },
  {
   "cell_type": "markdown",
   "source": [
    "### Répresenter les données textuelles comme un bag-of-words"
   ],
   "metadata": {
    "collapsed": false,
    "pycharm": {
     "name": "#%% md\n"
    }
   }
  },
  {
   "cell_type": "code",
   "execution_count": 193,
   "outputs": [
    {
     "name": "stdout",
     "output_type": "stream",
     "text": [
      "X_train:\n",
      "<13913x66997 sparse matrix of type '<class 'numpy.int64'>'\n",
      "\twith 469464 stored elements in Compressed Sparse Row format>\n"
     ]
    }
   ],
   "source": [
    "from sklearn.feature_extraction.text import CountVectorizer\n",
    "\n",
    "vect_X = CountVectorizer().fit(text_train)\n",
    "X_train = vect_X.transform(text_train)\n",
    "print(\"X_train:\\n{}\".format(repr(X_train)))"
   ],
   "metadata": {
    "collapsed": false,
    "pycharm": {
     "name": "#%%\n"
    }
   }
  },
  {
   "cell_type": "code",
   "execution_count": 194,
   "outputs": [
    {
     "name": "stdout",
     "output_type": "stream",
     "text": [
      "Number of features: 66997\n",
      "First 20 features:\n",
      "['aa', 'aaa', 'aaaa', 'aaaaa', 'aaaaaa', 'aaaaaaaaa', 'aaaaaaaaaa', 'aaaaaaaaaaaaaaaaaaaaaaaaaaaaaaaaaaaaaaaaaaaaaaaa', 'aaaaaaaaaaaaaaaaaadwpwaaaaaaaabaaaaaaaaaceaaaaaaaaaqqaaaaaaaabraaaaaaaaageaaaaaaaaacqaaaaaaaacbaaaaaaaaaikaaaaaaaaakqaaaaaaaaczaaaaaaaaakeaaaaaaaaaqqaaaaaaaacxaaaaaaaaalkaaaaaaaaawqaaaaaaaadfaaaaaaaaamkaaaaaaaaazqaaaaaaaadraaaaaaaaanuaaaaaaaaaqaaaaaaaaddaaaaaaaaaoea', 'aaaab', 'aaaabbcccdddddd', 'aaaarghxxx', 'aaab', 'aaabbb', 'aaabbbcccdddeee', 'aaabbcc', 'aaabbzzyy', 'aaabcabccd', 'aaadcabdcaeafd', 'aaadcabdcaeafdaeeeaaaaabecaebeeddecacfffffdbebefcefdbccbbed']\n",
      "Features 20010 to 20030:\n",
      "['foobarclass', 'foobarcom', 'foobarfoo', 'foobarinfoneeded', 'foobarinfoneededhereddd', 'foobarmysettings', 'foobarnamedtuplef', 'foobarobject', 'foobarparam', 'foobarpy', 'foobarself', 'foobaseclass', 'foobaz', 'foobo', 'foobyidvalues', 'fooc', 'foochecklist', 'fooclass', 'foocleancsv', 'foocls']\n",
      "Every 2000th feature:\n",
      "['aa', 'applicability', 'ballyhoo', 'cable', 'climxy', 'copyneither', 'datafoo', 'devnew', 'dstrftimefmt', 'expandcxlabnull', 'fooarray', 'geompolygonaesx', 'handlestarttag', 'httpurlcomblablah', 'interrelate', 'labsxnull', 'lmformula', 'mdec', 'mtcarsnrowmtcars', 'newlinknewlinkreplaceextrachars', 'openlogtxtxreadlines', 'pathappendcparrangement', 'ppt', 'pythonbz', 'registered', 'rotcharc', 'selfcontactmouseover', 'showurlsentryurlpatterns', 'startstop', 'sysconfig', 'thumanrating', 'unittesttexttestrunner', 'widespread', 'yetanotherstring']\n"
     ]
    }
   ],
   "source": [
    "feature_names_X = vect_X.get_feature_names()\n",
    "print(\"Number of features: {}\".format(len(feature_names_X)))\n",
    "print(\"First 20 features:\\n{}\".format(feature_names_X[:20]))\n",
    "print(\"Features 20010 to 20030:\\n{}\".format(feature_names_X[20010:20030]))\n",
    "print(\"Every 2000th feature:\\n{}\".format(feature_names_X[::2000]))"
   ],
   "metadata": {
    "collapsed": false,
    "pycharm": {
     "name": "#%%\n"
    }
   }
  },
  {
   "cell_type": "code",
   "execution_count": 195,
   "outputs": [
    {
     "name": "stdout",
     "output_type": "stream",
     "text": [
      "Y_train:\n",
      "array([[0, 0, 0, ..., 0, 0, 0],\n",
      "       [0, 0, 0, ..., 0, 0, 0],\n",
      "       [0, 0, 0, ..., 0, 0, 0],\n",
      "       ...,\n",
      "       [0, 0, 0, ..., 0, 0, 0],\n",
      "       [0, 0, 0, ..., 0, 0, 0],\n",
      "       [0, 0, 0, ..., 0, 0, 0]])\n"
     ]
    }
   ],
   "source": [
    "vect_Y = CountVectorizer(binary=True, max_features=None, token_pattern= \"(?u)\\\\b\\\\w+\\\\b\").fit(tag_train)\n",
    "# nous avons laissé l'option binary true car il est inutile d'avoir plus d'une fois le même token\n",
    "# nous allons limiter le nombre de de features car le F1 Score avec tous les tags pour le modèle KNN est 0.013\n",
    "# avec 10 features nous arrivons à un F1 Score de 37,8%\n",
    "# On utilise un token_pattern different pour pouvoir récupérer le tag r\n",
    "Y_train = vect_Y.transform(text_train).toarray()\n",
    "print(\"Y_train:\\n{}\".format(repr(Y_train)))"
   ],
   "metadata": {
    "collapsed": false,
    "pycharm": {
     "name": "#%%\n"
    }
   }
  },
  {
   "cell_type": "code",
   "execution_count": 196,
   "outputs": [
    {
     "name": "stdout",
     "output_type": "stream",
     "text": [
      "Number of features: 2966\n",
      "First 20 features:\n",
      "['0', '04', '1', '10', '11', '12', '14', '16', '2', '2003', '2008', '2010', '2d', '2to3', '3', '32bit', '3d', '4', '403', '404']\n",
      "Features 210 to 230:\n",
      "['espeak', 'ess', 'euclidean', 'eulers', 'eval', 'evaluation', 'event', 'eventlet', 'events', 'excel', 'except', 'exception', 'exceptions', 'exchange', 'exclusion', 'exe', 'exec', 'execfile', 'execl', 'executable']\n",
      "Every 2000th feature:\n",
      "['0', 'beamer', 'coin', 'delegates', 'espeak', 'geosphere', 'independent', 'lion', 'multilinestring', 'paste', 'pyopengl', 'rolling', 'skype', 'tar', 'uuid']\n"
     ]
    }
   ],
   "source": [
    "feature_names_Y = vect_Y.get_feature_names()\n",
    "print(\"Number of features: {}\".format(len(feature_names_Y)))\n",
    "print(\"First 20 features:\\n{}\".format(feature_names_Y[:20]))\n",
    "print(\"Features 210 to 230:\\n{}\".format(feature_names_Y[800:820]))\n",
    "print(\"Every 2000th feature:\\n{}\".format(feature_names_Y[::200]))"
   ],
   "metadata": {
    "collapsed": false,
    "pycharm": {
     "name": "#%%\n"
    }
   }
  },
  {
   "cell_type": "markdown",
   "source": [],
   "metadata": {
    "collapsed": false,
    "pycharm": {
     "name": "#%% md\n"
    }
   }
  },
  {
   "cell_type": "code",
   "execution_count": 197,
   "outputs": [
    {
     "data": {
      "text/plain": "KNeighborsClassifier()"
     },
     "execution_count": 197,
     "metadata": {},
     "output_type": "execute_result"
    }
   ],
   "source": [
    "from sklearn.model_selection import cross_val_score\n",
    "from sklearn.neighbors import KNeighborsClassifier\n",
    "\n",
    "knn_clf = KNeighborsClassifier()\n",
    "knn_clf.fit(X_train, Y_train)"
   ],
   "metadata": {
    "collapsed": false,
    "pycharm": {
     "name": "#%%\n"
    }
   }
  },
  {
   "cell_type": "code",
   "execution_count": 198,
   "outputs": [
    {
     "name": "stdout",
     "output_type": "stream",
     "text": [
      "Consistently create same random numpy array \n",
      "\n",
      "wait another developer finish piece code return array shape value either meantime want randomly create array characteristic get start development test thing want randomly create array time test keep change value time rerun process array like way time wonder another way nprandomrandint size \n",
      "\n",
      "consistently array wait another developer finish piece code return array shape value either meantime want randomly create array characteristic get start development test thing want randomly create array time test keep change value time rerun process array like way time wonder another way nprandomrandint size\n",
      "value 1\n",
      "array 1\n"
     ]
    }
   ],
   "source": [
    "id_sample = 55\n",
    "new_post = text_train[id_sample]\n",
    "new_post_vect = vect_X.transform([new_post])\n",
    "y_predict = knn_clf.predict(new_post_vect)\n",
    "\n",
    "tags = np.argsort(y_predict[0,:])[::-1][:10].tolist()\n",
    "scores = np.sort(y_predict[0,:])[::-1][:10]\n",
    "print(df_questions.Title_raw[id_sample],'\\n')\n",
    "print(df_questions.Body[id_sample],'\\n')\n",
    "print(text_train[id_sample])\n",
    "for tag,score in zip(tags,scores) :\n",
    "    if score > 0  :\n",
    "        print(feature_names_Y[tag],score)"
   ],
   "metadata": {
    "collapsed": false,
    "pycharm": {
     "name": "#%%\n"
    }
   }
  },
  {
   "cell_type": "markdown",
   "source": [
    "### Cross validation du modèle"
   ],
   "metadata": {
    "collapsed": false,
    "pycharm": {
     "name": "#%% md\n"
    }
   }
  },
  {
   "cell_type": "code",
   "execution_count": 137,
   "outputs": [
    {
     "name": "stdout",
     "output_type": "stream",
     "text": [
      "CPU times: user 553 ms, sys: 3.92 ms, total: 557 ms\n",
      "Wall time: 556 ms\n"
     ]
    }
   ],
   "source": [
    "%%time\n",
    "# 50 secondes pour calculer 2000 lignes\n",
    "\n",
    "from sklearn.model_selection import cross_val_predict\n",
    "\n",
    "y_train_knn_pred = cross_val_predict(knn_clf, X_train, Y_train, cv=3)\n"
   ],
   "metadata": {
    "collapsed": false,
    "pycharm": {
     "name": "#%%\n"
    }
   }
  },
  {
   "cell_type": "code",
   "execution_count": 199,
   "outputs": [
    {
     "ename": "ValueError",
     "evalue": "Found input variables with inconsistent numbers of samples: [13913, 2000]",
     "output_type": "error",
     "traceback": [
      "\u001B[0;31m---------------------------------------------------------------------------\u001B[0m",
      "\u001B[0;31mValueError\u001B[0m                                Traceback (most recent call last)",
      "\u001B[0;32m<ipython-input-199-8d2fd53d62d1>\u001B[0m in \u001B[0;36m<module>\u001B[0;34m\u001B[0m\n\u001B[1;32m      2\u001B[0m \u001B[0;34m\u001B[0m\u001B[0m\n\u001B[1;32m      3\u001B[0m \u001B[0my_train_knn_pred_ones\u001B[0m \u001B[0;34m=\u001B[0m \u001B[0;34m(\u001B[0m\u001B[0my_train_knn_pred\u001B[0m \u001B[0;34m>\u001B[0m\u001B[0;36m0\u001B[0m\u001B[0;34m)\u001B[0m\u001B[0;34m.\u001B[0m\u001B[0mastype\u001B[0m\u001B[0;34m(\u001B[0m\u001B[0mint\u001B[0m\u001B[0;34m)\u001B[0m\u001B[0;34m\u001B[0m\u001B[0;34m\u001B[0m\u001B[0m\n\u001B[0;32m----> 4\u001B[0;31m \u001B[0mf1_score\u001B[0m\u001B[0;34m(\u001B[0m\u001B[0mY_train\u001B[0m\u001B[0;34m,\u001B[0m \u001B[0my_train_knn_pred_ones\u001B[0m\u001B[0;34m,\u001B[0m \u001B[0maverage\u001B[0m\u001B[0;34m=\u001B[0m\u001B[0;34m\"macro\"\u001B[0m\u001B[0;34m)\u001B[0m\u001B[0;34m\u001B[0m\u001B[0;34m\u001B[0m\u001B[0m\n\u001B[0m\u001B[1;32m      5\u001B[0m \u001B[0;34m\u001B[0m\u001B[0m\n",
      "\u001B[0;32m~/anaconda3/envs/P5_StackOverflow/lib/python3.9/site-packages/sklearn/utils/validation.py\u001B[0m in \u001B[0;36minner_f\u001B[0;34m(*args, **kwargs)\u001B[0m\n\u001B[1;32m     61\u001B[0m             \u001B[0mextra_args\u001B[0m \u001B[0;34m=\u001B[0m \u001B[0mlen\u001B[0m\u001B[0;34m(\u001B[0m\u001B[0margs\u001B[0m\u001B[0;34m)\u001B[0m \u001B[0;34m-\u001B[0m \u001B[0mlen\u001B[0m\u001B[0;34m(\u001B[0m\u001B[0mall_args\u001B[0m\u001B[0;34m)\u001B[0m\u001B[0;34m\u001B[0m\u001B[0;34m\u001B[0m\u001B[0m\n\u001B[1;32m     62\u001B[0m             \u001B[0;32mif\u001B[0m \u001B[0mextra_args\u001B[0m \u001B[0;34m<=\u001B[0m \u001B[0;36m0\u001B[0m\u001B[0;34m:\u001B[0m\u001B[0;34m\u001B[0m\u001B[0;34m\u001B[0m\u001B[0m\n\u001B[0;32m---> 63\u001B[0;31m                 \u001B[0;32mreturn\u001B[0m \u001B[0mf\u001B[0m\u001B[0;34m(\u001B[0m\u001B[0;34m*\u001B[0m\u001B[0margs\u001B[0m\u001B[0;34m,\u001B[0m \u001B[0;34m**\u001B[0m\u001B[0mkwargs\u001B[0m\u001B[0;34m)\u001B[0m\u001B[0;34m\u001B[0m\u001B[0;34m\u001B[0m\u001B[0m\n\u001B[0m\u001B[1;32m     64\u001B[0m \u001B[0;34m\u001B[0m\u001B[0m\n\u001B[1;32m     65\u001B[0m             \u001B[0;31m# extra_args > 0\u001B[0m\u001B[0;34m\u001B[0m\u001B[0;34m\u001B[0m\u001B[0;34m\u001B[0m\u001B[0m\n",
      "\u001B[0;32m~/anaconda3/envs/P5_StackOverflow/lib/python3.9/site-packages/sklearn/metrics/_classification.py\u001B[0m in \u001B[0;36mf1_score\u001B[0;34m(y_true, y_pred, labels, pos_label, average, sample_weight, zero_division)\u001B[0m\n\u001B[1;32m   1069\u001B[0m     \u001B[0mmodified\u001B[0m \u001B[0;32mwith\u001B[0m\u001B[0;31m \u001B[0m\u001B[0;31m`\u001B[0m\u001B[0;31m`\u001B[0m\u001B[0mzero_division\u001B[0m\u001B[0;31m`\u001B[0m\u001B[0;31m`\u001B[0m\u001B[0;34m.\u001B[0m\u001B[0;34m\u001B[0m\u001B[0;34m\u001B[0m\u001B[0m\n\u001B[1;32m   1070\u001B[0m     \"\"\"\n\u001B[0;32m-> 1071\u001B[0;31m     return fbeta_score(y_true, y_pred, beta=1, labels=labels,\n\u001B[0m\u001B[1;32m   1072\u001B[0m                        \u001B[0mpos_label\u001B[0m\u001B[0;34m=\u001B[0m\u001B[0mpos_label\u001B[0m\u001B[0;34m,\u001B[0m \u001B[0maverage\u001B[0m\u001B[0;34m=\u001B[0m\u001B[0maverage\u001B[0m\u001B[0;34m,\u001B[0m\u001B[0;34m\u001B[0m\u001B[0;34m\u001B[0m\u001B[0m\n\u001B[1;32m   1073\u001B[0m                        \u001B[0msample_weight\u001B[0m\u001B[0;34m=\u001B[0m\u001B[0msample_weight\u001B[0m\u001B[0;34m,\u001B[0m\u001B[0;34m\u001B[0m\u001B[0;34m\u001B[0m\u001B[0m\n",
      "\u001B[0;32m~/anaconda3/envs/P5_StackOverflow/lib/python3.9/site-packages/sklearn/utils/validation.py\u001B[0m in \u001B[0;36minner_f\u001B[0;34m(*args, **kwargs)\u001B[0m\n\u001B[1;32m     61\u001B[0m             \u001B[0mextra_args\u001B[0m \u001B[0;34m=\u001B[0m \u001B[0mlen\u001B[0m\u001B[0;34m(\u001B[0m\u001B[0margs\u001B[0m\u001B[0;34m)\u001B[0m \u001B[0;34m-\u001B[0m \u001B[0mlen\u001B[0m\u001B[0;34m(\u001B[0m\u001B[0mall_args\u001B[0m\u001B[0;34m)\u001B[0m\u001B[0;34m\u001B[0m\u001B[0;34m\u001B[0m\u001B[0m\n\u001B[1;32m     62\u001B[0m             \u001B[0;32mif\u001B[0m \u001B[0mextra_args\u001B[0m \u001B[0;34m<=\u001B[0m \u001B[0;36m0\u001B[0m\u001B[0;34m:\u001B[0m\u001B[0;34m\u001B[0m\u001B[0;34m\u001B[0m\u001B[0m\n\u001B[0;32m---> 63\u001B[0;31m                 \u001B[0;32mreturn\u001B[0m \u001B[0mf\u001B[0m\u001B[0;34m(\u001B[0m\u001B[0;34m*\u001B[0m\u001B[0margs\u001B[0m\u001B[0;34m,\u001B[0m \u001B[0;34m**\u001B[0m\u001B[0mkwargs\u001B[0m\u001B[0;34m)\u001B[0m\u001B[0;34m\u001B[0m\u001B[0;34m\u001B[0m\u001B[0m\n\u001B[0m\u001B[1;32m     64\u001B[0m \u001B[0;34m\u001B[0m\u001B[0m\n\u001B[1;32m     65\u001B[0m             \u001B[0;31m# extra_args > 0\u001B[0m\u001B[0;34m\u001B[0m\u001B[0;34m\u001B[0m\u001B[0;34m\u001B[0m\u001B[0m\n",
      "\u001B[0;32m~/anaconda3/envs/P5_StackOverflow/lib/python3.9/site-packages/sklearn/metrics/_classification.py\u001B[0m in \u001B[0;36mfbeta_score\u001B[0;34m(y_true, y_pred, beta, labels, pos_label, average, sample_weight, zero_division)\u001B[0m\n\u001B[1;32m   1193\u001B[0m     \"\"\"\n\u001B[1;32m   1194\u001B[0m \u001B[0;34m\u001B[0m\u001B[0m\n\u001B[0;32m-> 1195\u001B[0;31m     _, _, f, _ = precision_recall_fscore_support(y_true, y_pred,\n\u001B[0m\u001B[1;32m   1196\u001B[0m                                                  \u001B[0mbeta\u001B[0m\u001B[0;34m=\u001B[0m\u001B[0mbeta\u001B[0m\u001B[0;34m,\u001B[0m\u001B[0;34m\u001B[0m\u001B[0;34m\u001B[0m\u001B[0m\n\u001B[1;32m   1197\u001B[0m                                                  \u001B[0mlabels\u001B[0m\u001B[0;34m=\u001B[0m\u001B[0mlabels\u001B[0m\u001B[0;34m,\u001B[0m\u001B[0;34m\u001B[0m\u001B[0;34m\u001B[0m\u001B[0m\n",
      "\u001B[0;32m~/anaconda3/envs/P5_StackOverflow/lib/python3.9/site-packages/sklearn/utils/validation.py\u001B[0m in \u001B[0;36minner_f\u001B[0;34m(*args, **kwargs)\u001B[0m\n\u001B[1;32m     61\u001B[0m             \u001B[0mextra_args\u001B[0m \u001B[0;34m=\u001B[0m \u001B[0mlen\u001B[0m\u001B[0;34m(\u001B[0m\u001B[0margs\u001B[0m\u001B[0;34m)\u001B[0m \u001B[0;34m-\u001B[0m \u001B[0mlen\u001B[0m\u001B[0;34m(\u001B[0m\u001B[0mall_args\u001B[0m\u001B[0;34m)\u001B[0m\u001B[0;34m\u001B[0m\u001B[0;34m\u001B[0m\u001B[0m\n\u001B[1;32m     62\u001B[0m             \u001B[0;32mif\u001B[0m \u001B[0mextra_args\u001B[0m \u001B[0;34m<=\u001B[0m \u001B[0;36m0\u001B[0m\u001B[0;34m:\u001B[0m\u001B[0;34m\u001B[0m\u001B[0;34m\u001B[0m\u001B[0m\n\u001B[0;32m---> 63\u001B[0;31m                 \u001B[0;32mreturn\u001B[0m \u001B[0mf\u001B[0m\u001B[0;34m(\u001B[0m\u001B[0;34m*\u001B[0m\u001B[0margs\u001B[0m\u001B[0;34m,\u001B[0m \u001B[0;34m**\u001B[0m\u001B[0mkwargs\u001B[0m\u001B[0;34m)\u001B[0m\u001B[0;34m\u001B[0m\u001B[0;34m\u001B[0m\u001B[0m\n\u001B[0m\u001B[1;32m     64\u001B[0m \u001B[0;34m\u001B[0m\u001B[0m\n\u001B[1;32m     65\u001B[0m             \u001B[0;31m# extra_args > 0\u001B[0m\u001B[0;34m\u001B[0m\u001B[0;34m\u001B[0m\u001B[0;34m\u001B[0m\u001B[0m\n",
      "\u001B[0;32m~/anaconda3/envs/P5_StackOverflow/lib/python3.9/site-packages/sklearn/metrics/_classification.py\u001B[0m in \u001B[0;36mprecision_recall_fscore_support\u001B[0;34m(y_true, y_pred, beta, labels, pos_label, average, warn_for, sample_weight, zero_division)\u001B[0m\n\u001B[1;32m   1462\u001B[0m     \u001B[0;32mif\u001B[0m \u001B[0mbeta\u001B[0m \u001B[0;34m<\u001B[0m \u001B[0;36m0\u001B[0m\u001B[0;34m:\u001B[0m\u001B[0;34m\u001B[0m\u001B[0;34m\u001B[0m\u001B[0m\n\u001B[1;32m   1463\u001B[0m         \u001B[0;32mraise\u001B[0m \u001B[0mValueError\u001B[0m\u001B[0;34m(\u001B[0m\u001B[0;34m\"beta should be >=0 in the F-beta score\"\u001B[0m\u001B[0;34m)\u001B[0m\u001B[0;34m\u001B[0m\u001B[0;34m\u001B[0m\u001B[0m\n\u001B[0;32m-> 1464\u001B[0;31m     labels = _check_set_wise_labels(y_true, y_pred, average, labels,\n\u001B[0m\u001B[1;32m   1465\u001B[0m                                     pos_label)\n\u001B[1;32m   1466\u001B[0m \u001B[0;34m\u001B[0m\u001B[0m\n",
      "\u001B[0;32m~/anaconda3/envs/P5_StackOverflow/lib/python3.9/site-packages/sklearn/metrics/_classification.py\u001B[0m in \u001B[0;36m_check_set_wise_labels\u001B[0;34m(y_true, y_pred, average, labels, pos_label)\u001B[0m\n\u001B[1;32m   1275\u001B[0m                          str(average_options))\n\u001B[1;32m   1276\u001B[0m \u001B[0;34m\u001B[0m\u001B[0m\n\u001B[0;32m-> 1277\u001B[0;31m     \u001B[0my_type\u001B[0m\u001B[0;34m,\u001B[0m \u001B[0my_true\u001B[0m\u001B[0;34m,\u001B[0m \u001B[0my_pred\u001B[0m \u001B[0;34m=\u001B[0m \u001B[0m_check_targets\u001B[0m\u001B[0;34m(\u001B[0m\u001B[0my_true\u001B[0m\u001B[0;34m,\u001B[0m \u001B[0my_pred\u001B[0m\u001B[0;34m)\u001B[0m\u001B[0;34m\u001B[0m\u001B[0;34m\u001B[0m\u001B[0m\n\u001B[0m\u001B[1;32m   1278\u001B[0m     \u001B[0;31m# Convert to Python primitive type to avoid NumPy type / Python str\u001B[0m\u001B[0;34m\u001B[0m\u001B[0;34m\u001B[0m\u001B[0;34m\u001B[0m\u001B[0m\n\u001B[1;32m   1279\u001B[0m     \u001B[0;31m# comparison. See https://github.com/numpy/numpy/issues/6784\u001B[0m\u001B[0;34m\u001B[0m\u001B[0;34m\u001B[0m\u001B[0;34m\u001B[0m\u001B[0m\n",
      "\u001B[0;32m~/anaconda3/envs/P5_StackOverflow/lib/python3.9/site-packages/sklearn/metrics/_classification.py\u001B[0m in \u001B[0;36m_check_targets\u001B[0;34m(y_true, y_pred)\u001B[0m\n\u001B[1;32m     81\u001B[0m     \u001B[0my_pred\u001B[0m \u001B[0;34m:\u001B[0m \u001B[0marray\u001B[0m \u001B[0;32mor\u001B[0m \u001B[0mindicator\u001B[0m \u001B[0mmatrix\u001B[0m\u001B[0;34m\u001B[0m\u001B[0;34m\u001B[0m\u001B[0m\n\u001B[1;32m     82\u001B[0m     \"\"\"\n\u001B[0;32m---> 83\u001B[0;31m     \u001B[0mcheck_consistent_length\u001B[0m\u001B[0;34m(\u001B[0m\u001B[0my_true\u001B[0m\u001B[0;34m,\u001B[0m \u001B[0my_pred\u001B[0m\u001B[0;34m)\u001B[0m\u001B[0;34m\u001B[0m\u001B[0;34m\u001B[0m\u001B[0m\n\u001B[0m\u001B[1;32m     84\u001B[0m     \u001B[0mtype_true\u001B[0m \u001B[0;34m=\u001B[0m \u001B[0mtype_of_target\u001B[0m\u001B[0;34m(\u001B[0m\u001B[0my_true\u001B[0m\u001B[0;34m)\u001B[0m\u001B[0;34m\u001B[0m\u001B[0;34m\u001B[0m\u001B[0m\n\u001B[1;32m     85\u001B[0m     \u001B[0mtype_pred\u001B[0m \u001B[0;34m=\u001B[0m \u001B[0mtype_of_target\u001B[0m\u001B[0;34m(\u001B[0m\u001B[0my_pred\u001B[0m\u001B[0;34m)\u001B[0m\u001B[0;34m\u001B[0m\u001B[0;34m\u001B[0m\u001B[0m\n",
      "\u001B[0;32m~/anaconda3/envs/P5_StackOverflow/lib/python3.9/site-packages/sklearn/utils/validation.py\u001B[0m in \u001B[0;36mcheck_consistent_length\u001B[0;34m(*arrays)\u001B[0m\n\u001B[1;32m    317\u001B[0m     \u001B[0muniques\u001B[0m \u001B[0;34m=\u001B[0m \u001B[0mnp\u001B[0m\u001B[0;34m.\u001B[0m\u001B[0munique\u001B[0m\u001B[0;34m(\u001B[0m\u001B[0mlengths\u001B[0m\u001B[0;34m)\u001B[0m\u001B[0;34m\u001B[0m\u001B[0;34m\u001B[0m\u001B[0m\n\u001B[1;32m    318\u001B[0m     \u001B[0;32mif\u001B[0m \u001B[0mlen\u001B[0m\u001B[0;34m(\u001B[0m\u001B[0muniques\u001B[0m\u001B[0;34m)\u001B[0m \u001B[0;34m>\u001B[0m \u001B[0;36m1\u001B[0m\u001B[0;34m:\u001B[0m\u001B[0;34m\u001B[0m\u001B[0;34m\u001B[0m\u001B[0m\n\u001B[0;32m--> 319\u001B[0;31m         raise ValueError(\"Found input variables with inconsistent numbers of\"\n\u001B[0m\u001B[1;32m    320\u001B[0m                          \" samples: %r\" % [int(l) for l in lengths])\n\u001B[1;32m    321\u001B[0m \u001B[0;34m\u001B[0m\u001B[0m\n",
      "\u001B[0;31mValueError\u001B[0m: Found input variables with inconsistent numbers of samples: [13913, 2000]"
     ]
    }
   ],
   "source": [
    "from sklearn.metrics import f1_score\n",
    "\n",
    "y_train_knn_pred_ones = (y_train_knn_pred >0).astype(int)\n",
    "f1_score(Y_train, y_train_knn_pred_ones, average=\"macro\")"
   ],
   "metadata": {
    "collapsed": false,
    "pycharm": {
     "name": "#%%\n"
    }
   }
  },
  {
   "cell_type": "markdown",
   "source": [
    "## Création d'une pipeline pour choisir le meilleurs parametre pour ce modèle"
   ],
   "metadata": {
    "collapsed": false,
    "pycharm": {
     "name": "#%% md\n"
    }
   }
  },
  {
   "cell_type": "code",
   "execution_count": null,
   "outputs": [
    {
     "name": "stdout",
     "output_type": "stream",
     "text": [
      "Best cross-validation score: 0.78\n",
      "Best parameters:  {'n_neighbors': 255}\n",
      "Best nombre de features:  2\n",
      "['python', 'r'] \n",
      "\n",
      "Best cross-validation score: 0.75\n",
      "Best parameters:  {'n_neighbors': 255}\n",
      "Best nombre de features:  4\n",
      "['django', 'ggplot2', 'python', 'r'] \n",
      "\n",
      "Best cross-validation score: 0.71\n",
      "Best parameters:  {'n_neighbors': 64}\n",
      "Best nombre de features:  6\n",
      "['django', 'ggplot2', 'list', 'numpy', 'python', 'r'] \n",
      "\n"
     ]
    }
   ],
   "source": [
    "%%time\n",
    "from sklearn.model_selection import GridSearchCV\n",
    "param_grid = {'n_neighbors' : [6, 8,32,64,128,255,500]}\n",
    "grid = GridSearchCV(KNeighborsClassifier(), param_grid, cv=5, scoring='f1_micro')\n",
    "\n",
    "best_score = 0\n",
    "best_param = {}\n",
    "best_feature_number = 0\n",
    "\n",
    "for i in [2,4,6,8,16,32]:\n",
    "    vect_Y = CountVectorizer(binary=True, token_pattern= \"(?u)\\\\b\\\\w+\\\\b\", max_features=i).fit(tag_train)\n",
    "    Y_train = vect_Y.transform(text_train).toarray()\n",
    "    grid.fit(X_train, Y_train)\n",
    "    #if grid.best_score_>best_score:\n",
    "    best_score = grid.best_score_\n",
    "    best_param = grid.best_params_\n",
    "    best_feature_number = i\n",
    "    print(\"Best cross-validation score: {:.2f}\".format(best_score))\n",
    "    print(\"Best parameters: \", best_param)\n",
    "    print(\"Best nombre de features: \", best_feature_number)\n",
    "    print(vect_Y.get_feature_names(),'\\n')\n"
   ],
   "metadata": {
    "collapsed": false,
    "pycharm": {
     "name": "#%%\n",
     "is_executing": true
    }
   }
  },
  {
   "cell_type": "markdown",
   "source": [
    "## Random Forest"
   ],
   "metadata": {
    "collapsed": false,
    "pycharm": {
     "name": "#%% md\n"
    }
   }
  },
  {
   "cell_type": "code",
   "execution_count": null,
   "outputs": [],
   "source": [
    "%%time\n",
    "from sklearn.ensemble import RandomForestClassifier\n",
    "\n",
    "param_grid = {'n_estimators' : [100,500,1000],\n",
    "              }\n",
    "grid = GridSearchCV(RandomForestClassifier(n_jobs=-1), param_grid, cv=5, scoring='f1_micro')\n",
    "\n",
    "best_score = 0\n",
    "best_param = {}\n",
    "best_feature_number = 0\n",
    "\n",
    "for i in [2,4,8,16,32]:\n",
    "    vect_Y = CountVectorizer(binary=True, token_pattern= \"(?u)\\\\b\\\\w+\\\\b\", max_features=i).fit(tag_train)\n",
    "    Y_train = vect_Y.transform(text_train).toarray()\n",
    "    grid.fit(X_train, Y_train)\n",
    "    #if grid.best_score_>best_score:\n",
    "    best_score = grid.best_score_\n",
    "    best_param = grid.best_params_\n",
    "    best_feature_number = i\n",
    "    print(\"Best cross-validation score: {:.2f}\".format(best_score))\n",
    "    print(\"Best parameters: \", best_param)\n",
    "    print(\"Best nombre de features: \", best_feature_number)\n",
    "    print(vect_Y.get_feature_names(),'\\n')"
   ],
   "metadata": {
    "collapsed": false,
    "pycharm": {
     "name": "#%%\n",
     "is_executing": true
    }
   }
  },
  {
   "cell_type": "markdown",
   "source": [
    "## Multilayer Perceptron classifier"
   ],
   "metadata": {
    "collapsed": false,
    "pycharm": {
     "name": "#%% md\n"
    }
   }
  },
  {
   "cell_type": "code",
   "execution_count": null,
   "outputs": [],
   "source": [
    "%%time\n",
    "from sklearn.neural_network import MLPClassifier\n",
    "from sklearn.model_selection import RandomizedSearchCV\n",
    "\n",
    "param_grid = {'alpha' : [0.001,0.01,0.1],\n",
    "              'learning_rate_init' : [0.0001,0.001,0.01] }\n",
    "grid = RandomizedSearchCV(MLPClassifier(max_iter=500), param_grid, cv=5, scoring='f1_micro')\n",
    "\n",
    "best_score = 0\n",
    "best_param = {}\n",
    "best_feature_number = 0\n",
    "\n",
    "for i in [2,4,8,16,32]:\n",
    "    vect_Y = CountVectorizer(binary=True, token_pattern= \"(?u)\\\\b\\\\w+\\\\b\", max_features=i).fit(tag_train)\n",
    "    Y_train = vect_Y.transform(text_train).toarray()\n",
    "    grid.fit(X_train, Y_train)\n",
    "    #if grid.best_score_>best_score:\n",
    "    best_score = grid.best_score_\n",
    "    best_param = grid.best_params_\n",
    "    best_feature_number = i\n",
    "    print(\"Best cross-validation score: {:.2f}\".format(best_score))\n",
    "    print(\"Best parameters: \", best_param)\n",
    "    print(\"Best nombre de features: \", best_feature_number)\n",
    "    print(vect_Y.get_feature_names(),'\\n')"
   ],
   "metadata": {
    "collapsed": false,
    "pycharm": {
     "name": "#%%\n",
     "is_executing": true
    }
   }
  },
  {
   "cell_type": "code",
   "execution_count": null,
   "outputs": [],
   "source": [],
   "metadata": {
    "collapsed": false,
    "pycharm": {
     "name": "#%%\n"
    }
   }
  }
 ],
 "metadata": {
  "kernelspec": {
   "display_name": "Python 3",
   "language": "python",
   "name": "python3"
  },
  "toc": {
   "base_numbering": 1,
   "nav_menu": {},
   "number_sections": true,
   "sideBar": true,
   "skip_h1_title": false,
   "title_cell": "Table of Contents",
   "title_sidebar": "Contents",
   "toc_cell": false,
   "toc_position": {},
   "toc_section_display": true,
   "toc_window_display": false
  },
  "varInspector": {
   "cols": {
    "lenName": 16,
    "lenType": 16,
    "lenVar": 40
   },
   "kernels_config": {
    "python": {
     "delete_cmd_postfix": "",
     "delete_cmd_prefix": "del ",
     "library": "var_list.py",
     "varRefreshCmd": "print(var_dic_list())"
    },
    "r": {
     "delete_cmd_postfix": ") ",
     "delete_cmd_prefix": "rm(",
     "library": "var_list.r",
     "varRefreshCmd": "cat(var_dic_list()) "
    }
   },
   "types_to_exclude": [
    "module",
    "function",
    "builtin_function_or_method",
    "instance",
    "_Feature"
   ],
   "window_display": false
  }
 },
 "nbformat": 4,
 "nbformat_minor": 5
}