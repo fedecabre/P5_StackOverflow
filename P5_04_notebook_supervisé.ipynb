{
 "cells": [
  {
   "cell_type": "markdown",
   "id": "ecc3bee7",
   "metadata": {},
   "source": [
    "Dans ce notebook nous allons analyser la base de donées des post Python et R pour un\n",
    "entrainement de modèles supervisés.\n",
    "\n",
    "Nous allons commencer avec un modèle KNN, puis RandomForest et un Multi Layer Perceptron\n",
    "pour une classification entre les posts Python et R, nous allons utiliser plusieurs tags par post\n",
    "avec la strategie One vs All\n",
    "\n",
    "Une fois le modèle entrainé nous allons comparer leurs scores F1 et choisir le meilleur pour\n",
    "l'utiliser dans notre API"
   ]
  },
  {
   "cell_type": "markdown",
   "id": "3bce7668",
   "metadata": {},
   "source": [
    "# Importation des bibliothèques"
   ]
  },
  {
   "cell_type": "code",
   "execution_count": 1,
   "id": "cdfef178",
   "metadata": {
    "ExecuteTime": {
     "end_time": "2021-06-15T14:46:30.890439Z",
     "start_time": "2021-06-15T14:46:30.687438Z"
    }
   },
   "outputs": [],
   "source": [
    "import pandas as pd\n",
    "import numpy as np\n",
    "from IPython.core.display import display\n",
    "import pickle # pour exporter les modèles entrainés\n",
    "\n",
    "\n",
    "\n",
    "pd.set_option('display.max_colwidth', None)"
   ]
  },
  {
   "cell_type": "markdown",
   "id": "7e2dbaef",
   "metadata": {},
   "source": [
    "# Importation des données "
   ]
  },
  {
   "cell_type": "code",
   "execution_count": 2,
   "id": "8b8e2d2e",
   "metadata": {
    "ExecuteTime": {
     "end_time": "2021-06-15T14:46:30.964061Z",
     "start_time": "2021-06-15T14:46:30.891671Z"
    }
   },
   "outputs": [
    {
     "name": "stdout",
     "output_type": "stream",
     "text": [
      "4000\n"
     ]
    },
    {
     "data": {
      "text/html": [
       "<div>\n",
       "<style scoped>\n",
       "    .dataframe tbody tr th:only-of-type {\n",
       "        vertical-align: middle;\n",
       "    }\n",
       "\n",
       "    .dataframe tbody tr th {\n",
       "        vertical-align: top;\n",
       "    }\n",
       "\n",
       "    .dataframe thead th {\n",
       "        text-align: right;\n",
       "    }\n",
       "</style>\n",
       "<table border=\"1\" class=\"dataframe\">\n",
       "  <thead>\n",
       "    <tr style=\"text-align: right;\">\n",
       "      <th></th>\n",
       "      <th>Id</th>\n",
       "      <th>Title</th>\n",
       "      <th>Body</th>\n",
       "      <th>Tags</th>\n",
       "      <th>Score</th>\n",
       "      <th>Title_raw</th>\n",
       "      <th>Text</th>\n",
       "    </tr>\n",
       "  </thead>\n",
       "  <tbody>\n",
       "    <tr>\n",
       "      <th>0</th>\n",
       "      <td>3366506</td>\n",
       "      <td>pvalue aov</td>\n",
       "      <td>look pvalue generate r run test aovasq asq yield df sum sq f value prf asq residual signif code observation delete look structure see usually work list get need time one google search also seem reveal simpler structure get note asq data frame list coefficient name num name chr asq residual name num name effect name num name chr intercept asq int fittedvalues name num name chr int list qr num dimnameslist chr chr intercept assign int qraux num pivot int tol num e rank int attr class chr qr int naaction class omit name int attr name chr xlevels list language aovformula asq term class term formula length asq asq attr variable language listasq factor int dimnameslist chr asq asq chr asq attr termlabels chr order int attr intercept int attr response int attr environmentenvironment rglobalenv attr predvars language listasq attr dataclasses name attr name chr model dataframe variable asq int asq int attr termsclasses term length asq asq attr variable language listasq factor int dimnameslist chr asq asq chr asq attr termlabels chr order int attr intercept int attr response int attr environmentenvironment rglobalenv attr predvars language listasq attr dataclasses name attr name chr asq attr naactionclass omit name int attr name chr class chr aov lm</td>\n",
       "      <td>r anova</td>\n",
       "      <td>65</td>\n",
       "      <td>Extract p-value from aov</td>\n",
       "      <td>pvalue aov look pvalue generate r run test aovasq asq yield df sum sq f value prf asq residual signif code observation delete look structure see usually work list get need time one google search also seem reveal simpler structure get note asq data frame list coefficient name num name chr asq residual name num name effect name num name chr intercept asq int fittedvalues name num name chr int list qr num dimnameslist chr chr intercept assign int qraux num pivot int tol num e rank int attr class chr qr int naaction class omit name int attr name chr xlevels list language aovformula asq term class term formula length asq asq attr variable language listasq factor int dimnameslist chr asq asq chr asq attr termlabels chr order int attr intercept int attr response int attr environmentenvironment rglobalenv attr predvars language listasq attr dataclasses name attr name chr model dataframe variable asq int asq int attr termsclasses term length asq asq attr variable language listasq factor int dimnameslist chr asq asq chr asq attr termlabels chr order int attr intercept int attr response int attr environmentenvironment rglobalenv attr predvars language listasq attr dataclasses name attr name chr asq attr naactionclass omit name int attr name chr class chr aov lm</td>\n",
       "    </tr>\n",
       "    <tr>\n",
       "      <th>1</th>\n",
       "      <td>3995546</td>\n",
       "      <td>define constant class self really need</td>\n",
       "      <td>define set constant class like class fooobject nonexistingvagueconfirmed initself selfstatus vague however get name vague define way define constant class without resort selfnonexisting etc</td>\n",
       "      <td>python constants visibility</td>\n",
       "      <td>29</td>\n",
       "      <td>Defining constants in python class, is self really needed?</td>\n",
       "      <td>define constant class self really need define set constant class like class fooobject nonexistingvagueconfirmed initself selfstatus vague however get name vague define way define constant class without resort selfnonexisting etc</td>\n",
       "    </tr>\n",
       "    <tr>\n",
       "      <th>2</th>\n",
       "      <td>195534</td>\n",
       "      <td>production apache modwsgi nginx modwsgi</td>\n",
       "      <td>use medium python wsgi application apache modwsgi modwsgi combination need memory cpu time one faster know also think use cherrypys wsgi server hear highload application know note use python web framework write thing scratch note suggestion also welcome</td>\n",
       "      <td>python apache nginx mod-wsgi</td>\n",
       "      <td>68</td>\n",
       "      <td>In production, Apache + mod_wsgi or Nginx + mod_wsgi?</td>\n",
       "      <td>production apache modwsgi nginx modwsgi use medium python wsgi application apache modwsgi modwsgi combination need memory cpu time one faster know also think use cherrypys wsgi server hear highload application know note use python web framework write thing scratch note suggestion also welcome</td>\n",
       "    </tr>\n",
       "    <tr>\n",
       "      <th>3</th>\n",
       "      <td>14237018</td>\n",
       "      <td>method consistency warn building r package roxygen</td>\n",
       "      <td>create roxygen file function use class roxygenize build check get warn check consistency warn functionwordlist overlap equalor see section function method write r extension spend time study httpcranrprojectorgdocmanualsrextshtmlgenericfunctionsandmethods figure do file function work expect warn occur make go away find word group find word group variable eg people param list name chacter vector param minimumexact amount overlap param equalor character vector codegreater codemore codeless dot liu user may input number character vector rdname return return dataframe word match criterion set codeoverlap codeequalor export example ca cat dog b ccorn chicken chouse feed chicken commona b overlap commona b overlap lista b commonr commonr functionwordlist return codenull rdname method list list functionwordlist overlap equalor ifoverlapall lengthwordlist else overlap lis df asdataframetableunlistlis stringsasfactors namesdf cword freq df dforderdffreq dfword df switchequalor dfdffreq dfdffreq dfdffreq rownamesdf nrowdf returndf return codenull rdname method default default commondefault function overlap equalor list returncommonlistlis overlap equalor</td>\n",
       "      <td>r r-s3</td>\n",
       "      <td>32</td>\n",
       "      <td>S3 method consistency warning when building R package with Roxygen</td>\n",
       "      <td>method consistency warn building r package roxygen create roxygen file function use class roxygenize build check get warn check consistency warn functionwordlist overlap equalor see section function method write r extension spend time study httpcranrprojectorgdocmanualsrextshtmlgenericfunctionsandmethods figure do file function work expect warn occur make go away find word group find word group variable eg people param list name chacter vector param minimumexact amount overlap param equalor character vector codegreater codemore codeless dot liu user may input number character vector rdname return return dataframe word match criterion set codeoverlap codeequalor export example ca cat dog b ccorn chicken chouse feed chicken commona b overlap commona b overlap lista b commonr commonr functionwordlist return codenull rdname method list list functionwordlist overlap equalor ifoverlapall lengthwordlist else overlap lis df asdataframetableunlistlis stringsasfactors namesdf cword freq df dforderdffreq dfword df switchequalor dfdffreq dfdffreq dfdffreq rownamesdf nrowdf returndf return codenull rdname method default default commondefault function overlap equalor list returncommonlistlis overlap equalor</td>\n",
       "    </tr>\n",
       "    <tr>\n",
       "      <th>4</th>\n",
       "      <td>11748384</td>\n",
       "      <td>format date x axis ggplot</td>\n",
       "      <td>time get look correct graphs data generate via dput structure label class factor avgvisits name cmonthavgvisits rownames cna class dataframe chart try graph ggplotdf month avgvisits geombar month visit per chart work want adjust format date believe add scalexdatelabels dateformatmy try make date label mmmyyyy month avgvisits geombar month visit per user scalexdatelabels dateformatmy plot continue get statbin binwidth default range use binwidth x adjust despite hour research format geombar fix anyone explain edit followup think use date factor use asdate date column</td>\n",
       "      <td>r ggplot2</td>\n",
       "      <td>61</td>\n",
       "      <td>Formatting dates on X axis in ggplot2</td>\n",
       "      <td>format date x axis ggplot time get look correct graphs data generate via dput structure label class factor avgvisits name cmonthavgvisits rownames cna class dataframe chart try graph ggplotdf month avgvisits geombar month visit per chart work want adjust format date believe add scalexdatelabels dateformatmy try make date label mmmyyyy month avgvisits geombar month visit per user scalexdatelabels dateformatmy plot continue get statbin binwidth default range use binwidth x adjust despite hour research format geombar fix anyone explain edit followup think use date factor use asdate date column</td>\n",
       "    </tr>\n",
       "  </tbody>\n",
       "</table>\n",
       "</div>"
      ],
      "text/plain": [
       "         Id                                               Title  \\\n",
       "0   3366506                                          pvalue aov   \n",
       "1   3995546              define constant class self really need   \n",
       "2    195534             production apache modwsgi nginx modwsgi   \n",
       "3  14237018  method consistency warn building r package roxygen   \n",
       "4  11748384                           format date x axis ggplot   \n",
       "\n",
       "                                                                                                                                                                                                                                                                                                                                                                                                                                                                                                                                                                                                                                                                                                                                                                                                                                                                                                                                                                                                                                                                                                                                                                                                                                                                                                          Body  \\\n",
       "0  look pvalue generate r run test aovasq asq yield df sum sq f value prf asq residual signif code observation delete look structure see usually work list get need time one google search also seem reveal simpler structure get note asq data frame list coefficient name num name chr asq residual name num name effect name num name chr intercept asq int fittedvalues name num name chr int list qr num dimnameslist chr chr intercept assign int qraux num pivot int tol num e rank int attr class chr qr int naaction class omit name int attr name chr xlevels list language aovformula asq term class term formula length asq asq attr variable language listasq factor int dimnameslist chr asq asq chr asq attr termlabels chr order int attr intercept int attr response int attr environmentenvironment rglobalenv attr predvars language listasq attr dataclasses name attr name chr model dataframe variable asq int asq int attr termsclasses term length asq asq attr variable language listasq factor int dimnameslist chr asq asq chr asq attr termlabels chr order int attr intercept int attr response int attr environmentenvironment rglobalenv attr predvars language listasq attr dataclasses name attr name chr asq attr naactionclass omit name int attr name chr class chr aov lm   \n",
       "1                                                                                                                                                                                                                                                                                                                                                                                                                                                                                                                                                                                                                                                                                                                                                                                                                                                                                                                                                                                                                                                                                                                define set constant class like class fooobject nonexistingvagueconfirmed initself selfstatus vague however get name vague define way define constant class without resort selfnonexisting etc   \n",
       "2                                                                                                                                                                                                                                                                                                                                                                                                                                                                                                                                                                                                                                                                                                                                                                                                                                                                                                                                                                                                                                                use medium python wsgi application apache modwsgi modwsgi combination need memory cpu time one faster know also think use cherrypys wsgi server hear highload application know note use python web framework write thing scratch note suggestion also welcome   \n",
       "3                                                                                                    create roxygen file function use class roxygenize build check get warn check consistency warn functionwordlist overlap equalor see section function method write r extension spend time study httpcranrprojectorgdocmanualsrextshtmlgenericfunctionsandmethods figure do file function work expect warn occur make go away find word group find word group variable eg people param list name chacter vector param minimumexact amount overlap param equalor character vector codegreater codemore codeless dot liu user may input number character vector rdname return return dataframe word match criterion set codeoverlap codeequalor export example ca cat dog b ccorn chicken chouse feed chicken commona b overlap commona b overlap lista b commonr commonr functionwordlist return codenull rdname method list list functionwordlist overlap equalor ifoverlapall lengthwordlist else overlap lis df asdataframetableunlistlis stringsasfactors namesdf cword freq df dforderdffreq dfword df switchequalor dfdffreq dfdffreq dfdffreq rownamesdf nrowdf returndf return codenull rdname method default default commondefault function overlap equalor list returncommonlistlis overlap equalor   \n",
       "4                                                                                                                                                                                                                                                                                                                                                                                                                                                                                                                                                                                                                                                                                                                  time get look correct graphs data generate via dput structure label class factor avgvisits name cmonthavgvisits rownames cna class dataframe chart try graph ggplotdf month avgvisits geombar month visit per chart work want adjust format date believe add scalexdatelabels dateformatmy try make date label mmmyyyy month avgvisits geombar month visit per user scalexdatelabels dateformatmy plot continue get statbin binwidth default range use binwidth x adjust despite hour research format geombar fix anyone explain edit followup think use date factor use asdate date column   \n",
       "\n",
       "                           Tags  Score  \\\n",
       "0                       r anova     65   \n",
       "1   python constants visibility     29   \n",
       "2  python apache nginx mod-wsgi     68   \n",
       "3                        r r-s3     32   \n",
       "4                     r ggplot2     61   \n",
       "\n",
       "                                                            Title_raw  \\\n",
       "0                                            Extract p-value from aov   \n",
       "1          Defining constants in python class, is self really needed?   \n",
       "2               In production, Apache + mod_wsgi or Nginx + mod_wsgi?   \n",
       "3  S3 method consistency warning when building R package with Roxygen   \n",
       "4                               Formatting dates on X axis in ggplot2   \n",
       "\n",
       "                                                                                                                                                                                                                                                                                                                                                                                                                                                                                                                                                                                                                                                                                                                                                                                                                                                                                                                                                                                                                                                                                                                                                                                                                                                                                                                     Text  \n",
       "0  pvalue aov look pvalue generate r run test aovasq asq yield df sum sq f value prf asq residual signif code observation delete look structure see usually work list get need time one google search also seem reveal simpler structure get note asq data frame list coefficient name num name chr asq residual name num name effect name num name chr intercept asq int fittedvalues name num name chr int list qr num dimnameslist chr chr intercept assign int qraux num pivot int tol num e rank int attr class chr qr int naaction class omit name int attr name chr xlevels list language aovformula asq term class term formula length asq asq attr variable language listasq factor int dimnameslist chr asq asq chr asq attr termlabels chr order int attr intercept int attr response int attr environmentenvironment rglobalenv attr predvars language listasq attr dataclasses name attr name chr model dataframe variable asq int asq int attr termsclasses term length asq asq attr variable language listasq factor int dimnameslist chr asq asq chr asq attr termlabels chr order int attr intercept int attr response int attr environmentenvironment rglobalenv attr predvars language listasq attr dataclasses name attr name chr asq attr naactionclass omit name int attr name chr class chr aov lm  \n",
       "1                                                                                                                                                                                                                                                                                                                                                                                                                                                                                                                                                                                                                                                                                                                                                                                                                                                                                                                                                                                                                                                                                    define constant class self really need define set constant class like class fooobject nonexistingvagueconfirmed initself selfstatus vague however get name vague define way define constant class without resort selfnonexisting etc  \n",
       "2                                                                                                                                                                                                                                                                                                                                                                                                                                                                                                                                                                                                                                                                                                                                                                                                                                                                                                                                                                                                                   production apache modwsgi nginx modwsgi use medium python wsgi application apache modwsgi modwsgi combination need memory cpu time one faster know also think use cherrypys wsgi server hear highload application know note use python web framework write thing scratch note suggestion also welcome  \n",
       "3                                                            method consistency warn building r package roxygen create roxygen file function use class roxygenize build check get warn check consistency warn functionwordlist overlap equalor see section function method write r extension spend time study httpcranrprojectorgdocmanualsrextshtmlgenericfunctionsandmethods figure do file function work expect warn occur make go away find word group find word group variable eg people param list name chacter vector param minimumexact amount overlap param equalor character vector codegreater codemore codeless dot liu user may input number character vector rdname return return dataframe word match criterion set codeoverlap codeequalor export example ca cat dog b ccorn chicken chouse feed chicken commona b overlap commona b overlap lista b commonr commonr functionwordlist return codenull rdname method list list functionwordlist overlap equalor ifoverlapall lengthwordlist else overlap lis df asdataframetableunlistlis stringsasfactors namesdf cword freq df dforderdffreq dfword df switchequalor dfdffreq dfdffreq dfdffreq rownamesdf nrowdf returndf return codenull rdname method default default commondefault function overlap equalor list returncommonlistlis overlap equalor  \n",
       "4                                                                                                                                                                                                                                                                                                                                                                                                                                                                                                                                                                                                                                                                                                   format date x axis ggplot time get look correct graphs data generate via dput structure label class factor avgvisits name cmonthavgvisits rownames cna class dataframe chart try graph ggplotdf month avgvisits geombar month visit per chart work want adjust format date believe add scalexdatelabels dateformatmy try make date label mmmyyyy month avgvisits geombar month visit per user scalexdatelabels dateformatmy plot continue get statbin binwidth default range use binwidth x adjust despite hour research format geombar fix anyone explain edit followup think use date factor use asdate date column  "
      ]
     },
     "metadata": {},
     "output_type": "display_data"
    }
   ],
   "source": [
    "dtypes_questions = {'Id':'int32', 'Score': 'int16', 'Title': 'str',\n",
    "                    'Body': 'str', 'Title_raw': 'str', 'Text': 'str',\n",
    "                    'Tags': 'str'}\n",
    "\n",
    "nrows = 4000\n",
    "\n",
    "df_questions = pd.read_csv('df_questions_fullclean.csv',\n",
    "                           usecols=dtypes_questions.keys(),\n",
    "                           encoding = \"utf-8\",\n",
    "                           dtype=dtypes_questions,\n",
    "                           nrows=nrows\n",
    "                          )\n",
    "\n",
    "print(len(df_questions))\n",
    "display(df_questions.head(5))\n"
   ]
  },
  {
   "cell_type": "code",
   "execution_count": 3,
   "id": "47355cd6",
   "metadata": {
    "ExecuteTime": {
     "end_time": "2021-06-15T14:46:30.968016Z",
     "start_time": "2021-06-15T14:46:30.965103Z"
    }
   },
   "outputs": [
    {
     "name": "stdout",
     "output_type": "stream",
     "text": [
      "type of text_train: <class 'pandas.core.series.Series'>\n",
      "length of text_train: 4000\n",
      "text_train[6]:\n",
      "generate permutation repetition know itertools seem permutation without repetition example would like generate dice roll dice need permutation size include repetition etc want scratch\n"
     ]
    }
   ],
   "source": [
    "# création des labels python et r\n",
    "text, tag = df_questions.Text, df_questions.Tags\n",
    "print(\"type of text_train: {}\".format(type(text)))\n",
    "print(\"length of text_train: {}\".format(len(text)))\n",
    "print(\"text_train[6]:\\n{}\".format(text[6]))"
   ]
  },
  {
   "cell_type": "code",
   "execution_count": 4,
   "id": "c7821be9",
   "metadata": {
    "ExecuteTime": {
     "end_time": "2021-06-15T14:46:30.977228Z",
     "start_time": "2021-06-15T14:46:30.968902Z"
    },
    "pycharm": {
     "name": "#%%\n"
    }
   },
   "outputs": [
    {
     "data": {
      "text/plain": [
       "pandas.core.series.Series"
      ]
     },
     "execution_count": 4,
     "metadata": {},
     "output_type": "execute_result"
    }
   ],
   "source": [
    "type(text)"
   ]
  },
  {
   "cell_type": "code",
   "execution_count": 5,
   "id": "107f0c04",
   "metadata": {
    "ExecuteTime": {
     "end_time": "2021-06-15T14:46:30.985968Z",
     "start_time": "2021-06-15T14:46:30.978153Z"
    },
    "pycharm": {
     "name": "#%%\n"
    }
   },
   "outputs": [
    {
     "data": {
      "text/plain": [
       "pandas.core.series.Series"
      ]
     },
     "execution_count": 5,
     "metadata": {},
     "output_type": "execute_result"
    }
   ],
   "source": [
    "type(tag)"
   ]
  },
  {
   "cell_type": "code",
   "execution_count": 6,
   "id": "f3df73fb",
   "metadata": {
    "ExecuteTime": {
     "end_time": "2021-06-15T14:46:30.993976Z",
     "start_time": "2021-06-15T14:46:30.986902Z"
    },
    "pycharm": {
     "name": "#%%\n"
    }
   },
   "outputs": [],
   "source": [
    "# ajouter les fichiers pour test"
   ]
  },
  {
   "cell_type": "markdown",
   "id": "5d9eb760",
   "metadata": {
    "pycharm": {
     "name": "#%% md\n"
    }
   },
   "source": [
    "### Répresenter les données textuelles comme un bag-of-words"
   ]
  },
  {
   "cell_type": "code",
   "execution_count": 7,
   "id": "6e8b1191",
   "metadata": {
    "ExecuteTime": {
     "end_time": "2021-06-15T14:46:31.697389Z",
     "start_time": "2021-06-15T14:46:30.995747Z"
    },
    "pycharm": {
     "name": "#%%\n"
    }
   },
   "outputs": [
    {
     "name": "stdout",
     "output_type": "stream",
     "text": [
      "X_train:\n",
      "<2000x26268 sparse matrix of type '<class 'numpy.int64'>'\n",
      "\twith 67490 stored elements in Compressed Sparse Row format>\n"
     ]
    }
   ],
   "source": [
    "from sklearn.feature_extraction.text import CountVectorizer\n",
    "\n",
    "vect_X = CountVectorizer().fit(text)\n",
    "X = vect_X.transform(text)\n",
    "\n",
    "# Les posts ont été randomisés dans le prétraitement, nous utilisons les premiers 1000 post\n",
    "# comme Validation et les suivants 1000 comme notre test set le restant de notre dataset\n",
    "# sera utilisé pour entrainement du modèle\n",
    "\n",
    "X_val = X[:1000]\n",
    "X_test = X[1000:2000]\n",
    "X_train = X[2000:]\n",
    "\n",
    "pickle.dump(vect_X, open('API/models/vect_X.pickle', 'wb')) # enregistre le modeèle de transformation X\n",
    "\n",
    "print(\"X_train:\\n{}\".format(repr(X_train)))"
   ]
  },
  {
   "cell_type": "code",
   "execution_count": 8,
   "id": "56034ecd",
   "metadata": {
    "ExecuteTime": {
     "end_time": "2021-06-15T14:46:31.712111Z",
     "start_time": "2021-06-15T14:46:31.698730Z"
    },
    "pycharm": {
     "name": "#%%\n"
    }
   },
   "outputs": [
    {
     "name": "stdout",
     "output_type": "stream",
     "text": [
      "Number of features: 26268\n",
      "First 20 features:\n",
      "['aa', 'aaa', 'aaaa', 'aaaaa', 'aaaaaa', 'aaaaaaaaa', 'aaaaaaaaaa', 'aaaaaaaaaaaaaaaaaaaaaaaaaaaaaaaaaaaaaaaaaaaaaaaa', 'aaaaaaaaaaaaaaaaaadwpwaaaaaaaabaaaaaaaaaceaaaaaaaaaqqaaaaaaaabraaaaaaaaageaaaaaaaaacqaaaaaaaacbaaaaaaaaaikaaaaaaaaakqaaaaaaaaczaaaaaaaaakeaaaaaaaaaqqaaaaaaaacxaaaaaaaaalkaaaaaaaaawqaaaaaaaadfaaaaaaaaamkaaaaaaaaazqaaaaaaaadraaaaaaaaanuaaaaaaaaaqaaaaaaaaddaaaaaaaaaoea', 'aaabbb', 'aaabcabccd', 'aaah', 'aab', 'aabbccccdd', 'aabsiddfdfdatatg', 'aac', 'aacute', 'aadjacencylist', 'aaf', 'aafaf']\n",
      "Features 20010 to 20030:\n",
      "['scaleyreverseexpandc', 'scan', 'scanfile', 'scaninfo', 'scanmyfileseptlisturlpopularitymintimemaxtime', 'scanstringmatchstring', 'scant', 'scatter', 'scatterplot', 'scatterplotdx', 'scatterplots', 'scatterxyczsdxmarkers', 'scd', 'scelerycamerr', 'scelerycamnohup', 'scenario', 'scene', 'sched', 'schedule', 'scheduler']\n",
      "Every 2000th feature:\n",
      "['aa', 'bone', 'cpnaturallanguagemyfiletxt', 'dogma', 'four', 'httpmyserverport', 'lensts', 'mta', 'overload', 'pythonunbuffered', 'scaleycontinuouslabels', 'staticurl', 'trace', 'ylabvelocidad']\n"
     ]
    }
   ],
   "source": [
    "feature_names_X = vect_X.get_feature_names()\n",
    "print(\"Number of features: {}\".format(len(feature_names_X)))\n",
    "print(\"First 20 features:\\n{}\".format(feature_names_X[:20]))\n",
    "print(\"Features 20010 to 20030:\\n{}\".format(feature_names_X[20010:20030]))\n",
    "print(\"Every 2000th feature:\\n{}\".format(feature_names_X[::2000]))"
   ]
  },
  {
   "cell_type": "code",
   "execution_count": 9,
   "id": "583a9926",
   "metadata": {
    "ExecuteTime": {
     "end_time": "2021-06-15T14:46:31.765591Z",
     "start_time": "2021-06-15T14:46:31.713308Z"
    },
    "pycharm": {
     "name": "#%%\n"
    }
   },
   "outputs": [
    {
     "name": "stdout",
     "output_type": "stream",
     "text": [
      "Y_train:\n",
      "array([[0, 0, 0, ..., 0, 0, 0],\n",
      "       [0, 0, 0, ..., 0, 0, 0],\n",
      "       [0, 0, 0, ..., 0, 0, 0],\n",
      "       ...,\n",
      "       [0, 0, 0, ..., 0, 0, 0],\n",
      "       [0, 0, 0, ..., 0, 0, 0],\n",
      "       [0, 0, 0, ..., 0, 0, 0]])\n"
     ]
    }
   ],
   "source": [
    "vect_Y = CountVectorizer(binary=True,\n",
    "                         max_features=None,\n",
    "                         token_pattern=\"(?u)\\\\b\\\\w+\\\\b\").fit(tag)\n",
    "# nous avons laissé l'option binary true car il est inutile d'avoir plus d'une fois le même token\n",
    "# nous allons limiter le nombre de de features car le F1 Score avec tous les tags pour le modèle KNN est 0.013\n",
    "# avec 10 features nous arrivons à un F1 Score de 37,8%\n",
    "# On utilise un token_pattern different pour pouvoir récupérer le tag r\n",
    "Y = vect_Y.transform(tag).toarray()\n",
    "\n",
    "Y_val = Y[:1000]\n",
    "Y_test = Y[1000:2000]\n",
    "Y_train = Y[2000:]\n",
    "\n",
    "pickle.dump(vect_Y, open('API/models/vect_Y.pickle',\n",
    "                         'wb'))  # enregistre le modèle de transformation Y\n",
    "\n",
    "print(\"Y_train:\\n{}\".format(repr(Y_train)))"
   ]
  },
  {
   "cell_type": "code",
   "execution_count": 10,
   "id": "20e6d5e7",
   "metadata": {
    "ExecuteTime": {
     "end_time": "2021-06-15T14:46:31.770389Z",
     "start_time": "2021-06-15T14:46:31.766637Z"
    },
    "pycharm": {
     "name": "#%%\n"
    }
   },
   "outputs": [
    {
     "name": "stdout",
     "output_type": "stream",
     "text": [
      "Number of features: 1733\n",
      "First 20 features:\n",
      "['04', '11', '12', '14', '16', '2', '2003', '2008', '3', '32bit', '3d', '4', '403', '5', '6', '64', '64bit', '7', '8', 'abc']\n",
      "Features 210 to 230:\n",
      "['legend', 'lemmatization', 'length', 'leopard', 'less', 'levenshtein', 'lexical', 'libcurl', 'libjpeg', 'libraries', 'library', 'libusb', 'libxml2', 'licensing', 'like', 'limits', 'line', 'linear', 'linguistics', 'linker']\n",
      "Every 200th feature:\n",
      "['04', 'click', 'docstring', 'git', 'legend', 'octave', 'qt4', 'single', 'typed']\n"
     ]
    }
   ],
   "source": [
    "feature_names_Y = vect_Y.get_feature_names()\n",
    "print(\"Number of features: {}\".format(len(feature_names_Y)))\n",
    "print(\"First 20 features:\\n{}\".format(feature_names_Y[:20]))\n",
    "print(\"Features 210 to 230:\\n{}\".format(feature_names_Y[800:820]))\n",
    "print(\"Every 200th feature:\\n{}\".format(feature_names_Y[::200]))"
   ]
  },
  {
   "cell_type": "markdown",
   "id": "6daf2e7a",
   "metadata": {
    "pycharm": {
     "name": "#%% md\n"
    }
   },
   "source": []
  },
  {
   "cell_type": "code",
   "execution_count": 11,
   "id": "699f4629",
   "metadata": {
    "ExecuteTime": {
     "end_time": "2021-06-15T14:46:32.024035Z",
     "start_time": "2021-06-15T14:46:31.771310Z"
    },
    "pycharm": {
     "name": "#%%\n"
    }
   },
   "outputs": [],
   "source": [
    "from sklearn.model_selection import cross_val_score\n",
    "from sklearn.neighbors import KNeighborsClassifier\n",
    "\n",
    "knn_clf = KNeighborsClassifier()\n",
    "knn_clf.fit(X_train, Y_train)\n",
    "\n",
    "pickle.dump(knn_clf, open('API/models/knn_clf.pickle', 'wb'))"
   ]
  },
  {
   "cell_type": "code",
   "execution_count": 12,
   "id": "d269a409",
   "metadata": {
    "ExecuteTime": {
     "end_time": "2021-06-15T14:46:32.030213Z",
     "start_time": "2021-06-15T14:46:32.025199Z"
    },
    "pycharm": {
     "name": "#%%\n"
    }
   },
   "outputs": [],
   "source": [
    "def text_prediction_labels(new_post, vect_X, vect_Y, model, df_questions):\n",
    "    feature_names_Y = vect_Y.get_feature_names() # liste des tags\n",
    "    Y_train = vect_Y.transform(df_questions.Tags) # liste des listes des Tags par post\n",
    "    new_post_vect = vect_X.transform([new_post]) # vectorisation du nouveau post pour prediction du modèle\n",
    "    y_predict = model.predict(new_post_vect) # prediction du modèle entrainé\n",
    "\n",
    "    tags = np.argsort(y_predict[0,:])[::-1][:10].tolist()\n",
    "    scores = np.sort(y_predict[0,:])[::-1][:10]\n",
    "\n",
    "    print(df_questions.Title_raw[id_sample],'\\n')\n",
    "    print(df_questions.Body[id_sample],'\\n')\n",
    "    print(df_questions.Text[id_sample])\n",
    "    print('\\n','Tags prediction : ', '\\n')\n",
    "    for tag,score in zip(tags,scores) :\n",
    "        if score > 0  :\n",
    "            print(feature_names_Y[tag],score)\n",
    "    print('\\n','Tags labels : ','\\n')\n",
    "    y_labels = Y_train[id_sample].toarray()\n",
    "    tags = np.argsort(y_labels[0,:])[::-1][:10].tolist()\n",
    "    scores = np.sort(y_labels[0,:])[::-1][:10]\n",
    "    for tag,score in zip(tags,scores) :\n",
    "        if score > 0  :\n",
    "            print(feature_names_Y[tag],score)"
   ]
  },
  {
   "cell_type": "code",
   "execution_count": 13,
   "id": "aafccdcd",
   "metadata": {
    "ExecuteTime": {
     "end_time": "2021-06-15T14:46:32.248697Z",
     "start_time": "2021-06-15T14:46:32.031414Z"
    },
    "pycharm": {
     "name": "#%%\n"
    }
   },
   "outputs": [
    {
     "name": "stdout",
     "output_type": "stream",
     "text": [
      "Rolling window for 1D arrays in Numpy? \n",
      "\n",
      "way efficiently roll window array example pure python code snippet calculate roll deviation list observation list value n standard deviation stdev data enumerateobservationsn observationsiin sumstrip stripn way completely within ie without python loop deviation numpystd roll part completely stump find blog post regard roll window numpy seem array \n",
      "\n",
      "roll window array numpy way efficiently roll window array example pure python code snippet calculate roll deviation list observation list value n standard deviation stdev data enumerateobservationsn observationsiin sumstrip stripn way completely within ie without python loop deviation numpystd roll part completely stump find blog post regard roll window numpy seem array\n",
      "\n",
      " Tags prediction :  \n",
      "\n",
      "python 1\n",
      "\n",
      " Tags labels :  \n",
      "\n",
      "python 1\n",
      "3 1\n",
      "numpy 1\n",
      "window 1\n",
      "x 1\n"
     ]
    }
   ],
   "source": [
    "id_sample = 35\n",
    "new_post = text[id_sample]\n",
    "text_prediction_labels(new_post,vect_X,vect_Y,knn_clf,df_questions)\n"
   ]
  },
  {
   "cell_type": "code",
   "execution_count": 14,
   "id": "35ba4035",
   "metadata": {
    "ExecuteTime": {
     "end_time": "2021-06-15T14:47:53.673657Z",
     "start_time": "2021-06-15T14:46:32.249847Z"
    },
    "pycharm": {
     "name": "#%%\n"
    }
   },
   "outputs": [
    {
     "name": "stdout",
     "output_type": "stream",
     "text": [
      "CPU times: user 1min 21s, sys: 79.1 ms, total: 1min 21s\n",
      "Wall time: 1min 21s\n"
     ]
    }
   ],
   "source": [
    "%%time\n",
    "# 50 secondes pour calculer 2000 lignes\n",
    "# 15min 57s pour 20 000 lignes\n",
    "\n",
    "from sklearn.model_selection import cross_val_predict\n",
    "\n",
    "y_train_knn_pred = cross_val_predict(knn_clf, X_train, Y_train, cv=3)\n"
   ]
  },
  {
   "cell_type": "code",
   "execution_count": 24,
   "id": "9b8a264d",
   "metadata": {
    "ExecuteTime": {
     "end_time": "2021-06-15T15:07:00.075512Z",
     "start_time": "2021-06-15T15:07:00.065238Z"
    },
    "pycharm": {
     "name": "#%%\n"
    }
   },
   "outputs": [],
   "source": [
    "from sklearn.metrics import f1_score\n",
    "\n",
    "y_train_knn_pred_ones = (y_train_knn_pred >0.5).astype(int)\n",
    "f1_score(Y_train, y_train_knn_pred_ones, average=\"micro\")\n"
   ]
  },
  {
   "cell_type": "code",
   "execution_count": 26,
   "id": "7040cd50",
   "metadata": {
    "ExecuteTime": {
     "end_time": "2021-06-15T15:07:58.742304Z",
     "start_time": "2021-06-15T15:07:58.735573Z"
    }
   },
   "outputs": [
    {
     "data": {
      "text/plain": [
       "(2000, 1733)"
      ]
     },
     "execution_count": 26,
     "metadata": {},
     "output_type": "execute_result"
    }
   ],
   "source": [
    "y_train_knn_pred_ones.shape"
   ]
  },
  {
   "cell_type": "markdown",
   "id": "02eb6493",
   "metadata": {
    "pycharm": {
     "name": "#%% md\n"
    }
   },
   "source": [
    "## Création d'une pipeline pour choisir le meilleurs parametre pour ce modèle"
   ]
  },
  {
   "cell_type": "code",
   "execution_count": 16,
   "id": "52b137c4",
   "metadata": {
    "ExecuteTime": {
     "end_time": "2021-06-15T14:48:25.063201Z",
     "start_time": "2021-06-15T14:47:53.929316Z"
    },
    "pycharm": {
     "name": "#%%\n"
    }
   },
   "outputs": [
    {
     "name": "stdout",
     "output_type": "stream",
     "text": [
      "['python', 'r'] \n",
      "\n",
      "Best cross-validation score: 0.78\n",
      "Best parameters:  {'n_neighbors': 6}\n",
      "Best nombre de features:  2\n",
      "['django', 'list', 'python', 'r'] \n",
      "\n",
      "Best cross-validation score: 0.75\n",
      "Best parameters:  {'n_neighbors': 6}\n",
      "Best nombre de features:  4\n",
      "['django', 'ggplot2', 'list', 'numpy', 'python', 'r'] \n",
      "\n",
      "Best cross-validation score: 0.72\n",
      "Best parameters:  {'n_neighbors': 6}\n",
      "Best nombre de features:  6\n",
      "['2', 'django', 'ggplot2', 'list', 'numpy', 'python', 'r', 'string'] \n",
      "\n",
      "Best cross-validation score: 0.71\n",
      "Best parameters:  {'n_neighbors': 6}\n",
      "Best nombre de features:  8\n",
      "['2', '3', 'data', 'dataframe', 'dictionary', 'django', 'ggplot2', 'list', 'matplotlib', 'numpy', 'pandas', 'python', 'r', 'regex', 'string', 'x'] \n",
      "\n",
      "Best cross-validation score: 0.65\n",
      "Best parameters:  {'n_neighbors': 6}\n",
      "Best nombre de features:  16\n",
      "['2', '3', '7', 'c', 'data', 'dataframe', 'datetime', 'dictionary', 'django', 'dplyr', 'exception', 'faq', 'file', 'ggplot2', 'import', 'list', 'markdown', 'matplotlib', 'matrix', 'numpy', 'pandas', 'plot', 'python', 'r', 'regex', 'scipy', 'sqlalchemy', 'string', 'table', 'testing', 'unit', 'x'] \n",
      "\n",
      "Best cross-validation score: 0.60\n",
      "Best parameters:  {'n_neighbors': 6}\n",
      "Best nombre de features:  32\n",
      "CPU times: user 31.1 s, sys: 27.9 ms, total: 31.2 s\n",
      "Wall time: 31.1 s\n"
     ]
    }
   ],
   "source": [
    "%%time\n",
    "# 6min 42s pour 20 000 post\n",
    "\n",
    "from sklearn.model_selection import GridSearchCV\n",
    "param_grid = {'n_neighbors' : [6, 8,32,64,128,256,512]}\n",
    "grid = GridSearchCV(KNeighborsClassifier(), param_grid, cv=5, scoring='f1_micro')\n",
    "\n",
    "best_score = 0\n",
    "best_param = {}\n",
    "best_feature_number = 0\n",
    "\n",
    "for i in [2,4,6,8,16,32]:\n",
    "    vect_Y = CountVectorizer(binary=True, token_pattern= \"(?u)\\\\b\\\\w+\\\\b\", max_features=i).fit(tag[2000:])\n",
    "    Y_train = vect_Y.transform(tag[2000:]).toarray()\n",
    "    grid.fit(X_train, Y_train)\n",
    "    best_score = grid.best_score_\n",
    "    best_param = grid.best_params_\n",
    "    best_feature_number = i\n",
    "    print(\"Nombre de features: \", best_feature_number)\n",
    "    print(vect_Y.get_feature_names())\n",
    "    print(\"Best cross-validation f1-score: {:.2f}\".format(best_score))\n",
    "    print(\"Best parameters: \", best_param,'\\n')\n",
    "    \n",
    "    "
   ]
  },
  {
   "cell_type": "code",
   "execution_count": 17,
   "id": "86eda506",
   "metadata": {
    "ExecuteTime": {
     "end_time": "2021-06-15T14:48:25.066377Z",
     "start_time": "2021-06-15T14:48:25.064115Z"
    }
   },
   "outputs": [
    {
     "data": {
      "text/plain": [
       "(2000, 32)"
      ]
     },
     "execution_count": 17,
     "metadata": {},
     "output_type": "execute_result"
    }
   ],
   "source": [
    "Y_train.shape"
   ]
  },
  {
   "cell_type": "code",
   "execution_count": 20,
   "id": "f7c9d961",
   "metadata": {
    "ExecuteTime": {
     "end_time": "2021-06-15T14:50:46.421712Z",
     "start_time": "2021-06-15T14:50:46.381679Z"
    },
    "pycharm": {
     "name": "#%%\n"
    }
   },
   "outputs": [
    {
     "name": "stdout",
     "output_type": "stream",
     "text": [
      "What you can do with a data.frame that you can't with a data.table? \n",
      "\n",
      "start use r come across find question ignore dataframe use confusion two package \n",
      "\n",
      "dataframe start use r come across find question ignore dataframe use confusion two package\n",
      "\n",
      " Tags prediction :  \n",
      "\n",
      "python 1\n",
      "\n",
      " Tags labels :  \n",
      "\n",
      "r 1\n",
      "table 1\n",
      "data 1\n",
      "dataframe 1\n"
     ]
    }
   ],
   "source": [
    "KNNmodel = grid.best_estimator_\n",
    "\n",
    "id_sample = 105\n",
    "new_post = text[id_sample]\n",
    "text_prediction_labels(new_post,vect_X,vect_Y,KNNmodel,df_questions)"
   ]
  },
  {
   "cell_type": "markdown",
   "id": "cbc18fbc",
   "metadata": {
    "pycharm": {
     "name": "#%% md\n"
    }
   },
   "source": [
    "### pour 20 000 post\n",
    "Cross validation CV=5\n",
    "KNeighborsClassifier(), param_grid, cv=5, scoring='f1_micro')\n",
    "\n",
    "Best cross-validation score: 0.78\n",
    "Best parameters:  {'n_neighbors': 255}\n",
    "Best nombre de features:  2\n",
    "['python', 'r']\n",
    "\n",
    "Best cross-validation score: 0.75\n",
    "Best parameters:  {'n_neighbors': 255}\n",
    "Best nombre de features:  4\n",
    "['django', 'ggplot2', 'python', 'r']\n",
    "\n",
    "Best cross-validation score: 0.71\n",
    "Best parameters:  {'n_neighbors': 64}\n",
    "Best nombre de features:  6\n",
    "['django', 'ggplot2', 'list', 'numpy', 'python', 'r']\n",
    "\n",
    "Best cross-validation score: 0.66\n",
    "Best parameters:  {'n_neighbors': 32}\n",
    "Best nombre de features:  8\n",
    "['dataframe', 'django', 'ggplot2', 'list', 'numpy', 'python', 'r', 'string']\n",
    "\n",
    "Best cross-validation score: 0.57\n",
    "Best parameters:  {'n_neighbors': 32}\n",
    "Best nombre de features:  16\n",
    "['2', '3', 'data', 'dataframe', 'dictionary', 'django', 'ggplot2', 'list', 'matplotlib', 'numpy', 'pandas', 'python', 'r', 'regex', 'string', 'x']\n",
    "\n",
    "Best cross-validation score: 0.50\n",
    "Best parameters:  {'n_neighbors': 8}\n",
    "Best nombre de features:  32\n",
    "['2', '3', '7', 'class', 'data', 'dataframe', 'datetime', 'dictionary', 'django', 'dplyr', 'faq', 'file', 'flask', 'function', 'ggplot2', 'import', 'list', 'matplotlib', 'models', 'numpy', 'pandas', 'performance', 'plot', 'python', 'r', 'regex', 'scipy', 'sqlalchemy', 'string', 'table', 'testing', 'x']\n",
    "\n",
    "CPU times: user 6min 17s, sys: 28.4 s, total: 6min 45s\n",
    "Wall time: 6min 45s"
   ]
  },
  {
   "cell_type": "markdown",
   "id": "754c00b3",
   "metadata": {
    "pycharm": {
     "name": "#%% md\n"
    }
   },
   "source": [
    "## Random Forest"
   ]
  },
  {
   "cell_type": "code",
   "execution_count": 21,
   "id": "31ec4f88",
   "metadata": {
    "ExecuteTime": {
     "end_time": "2021-06-15T14:59:26.337920Z",
     "start_time": "2021-06-15T14:53:01.510565Z"
    },
    "pycharm": {
     "name": "#%%\n"
    }
   },
   "outputs": [
    {
     "name": "stdout",
     "output_type": "stream",
     "text": [
      "Nombre de features:  2\n",
      "['python', 'r']\n",
      "Best cross-validation f1-score: 0.74\n",
      "Best parameters:  {'max_depth': 8, 'n_estimators': 100} \n",
      "\n",
      "Nombre de features:  4\n",
      "['django', 'list', 'python', 'r']\n",
      "Best cross-validation f1-score: 0.70\n",
      "Best parameters:  {'max_depth': 8, 'n_estimators': 100} \n",
      "\n",
      "Nombre de features:  8\n",
      "['2', 'django', 'ggplot2', 'list', 'numpy', 'python', 'r', 'string']\n",
      "Best cross-validation f1-score: 0.66\n",
      "Best parameters:  {'max_depth': 8, 'n_estimators': 100} \n",
      "\n",
      "Nombre de features:  16\n",
      "['2', '3', 'data', 'dataframe', 'dictionary', 'django', 'ggplot2', 'list', 'matplotlib', 'numpy', 'pandas', 'python', 'r', 'regex', 'string', 'x']\n",
      "Best cross-validation f1-score: 0.61\n",
      "Best parameters:  {'max_depth': 8, 'n_estimators': 500} \n",
      "\n",
      "Nombre de features:  32\n",
      "['2', '3', '7', 'c', 'data', 'dataframe', 'datetime', 'dictionary', 'django', 'dplyr', 'exception', 'faq', 'file', 'ggplot2', 'import', 'list', 'markdown', 'matplotlib', 'matrix', 'numpy', 'pandas', 'plot', 'python', 'r', 'regex', 'scipy', 'sqlalchemy', 'string', 'table', 'testing', 'unit', 'x']\n",
      "Best cross-validation f1-score: 0.56\n",
      "Best parameters:  {'max_depth': 8, 'n_estimators': 100} \n",
      "\n",
      "CPU times: user 6min 24s, sys: 483 ms, total: 6min 24s\n",
      "Wall time: 6min 24s\n"
     ]
    }
   ],
   "source": [
    "%%time\n",
    "# 4h 32min 57s pour 20 000 posts\n",
    "\n",
    "from sklearn.ensemble import RandomForestClassifier\n",
    "\n",
    "param_grid = {'n_estimators' : [100,500,1000],\n",
    "              'max_depth' : [2,4,8]\n",
    "              }\n",
    "grid = GridSearchCV(RandomForestClassifier(), param_grid, cv=5, scoring='f1_micro')\n",
    "\n",
    "best_score = 0\n",
    "best_param = {}\n",
    "best_feature_number = 0\n",
    "\n",
    "for i in [2,4,8,16,32]:\n",
    "    vect_Y = CountVectorizer(binary=True, token_pattern= \"(?u)\\\\b\\\\w+\\\\b\", max_features=i).fit(tag[2000:])\n",
    "    Y_train = vect_Y.transform(tag[2000:]).toarray()\n",
    "    grid.fit(X_train, Y_train)\n",
    "    best_score = grid.best_score_\n",
    "    best_param = grid.best_params_\n",
    "    best_feature_number = i\n",
    "    print(\"Nombre de features: \", best_feature_number)\n",
    "    print(vect_Y.get_feature_names())\n",
    "    print(\"Best cross-validation f1-score: {:.2f}\".format(best_score))\n",
    "    print(\"Best parameters: \", best_param,'\\n')"
   ]
  },
  {
   "cell_type": "code",
   "execution_count": null,
   "id": "8f425b5a",
   "metadata": {
    "ExecuteTime": {
     "end_time": "2021-06-15T14:48:25.149888Z",
     "start_time": "2021-06-15T14:46:30.702Z"
    },
    "pycharm": {
     "name": "#%%\n"
    }
   },
   "outputs": [],
   "source": [
    "RandomForestmodel = grid.best_estimator_\n",
    "\n",
    "id_sample = 10\n",
    "new_post = text[id_sample]\n",
    "text_prediction_labels(new_post,vect_X,vect_Y,RandomForestmodel,df_questions)"
   ]
  },
  {
   "cell_type": "markdown",
   "id": "e428198f",
   "metadata": {},
   "source": [
    "### pour 20 000 post\n",
    "Cross validation CV=5\n",
    "RandomForestClassifier(), param_grid, cv=5, scoring='f1_micro')\n",
    "\n",
    "Best cross-validation score: 0.83\n",
    "Best parameters:  {'n_estimators': 1000}\n",
    "Best nombre de features:  2\n",
    "['python', 'r']\n",
    "\n",
    "Best cross-validation score: 0.82\n",
    "Best parameters:  {'n_estimators': 500}\n",
    "Best nombre de features:  4\n",
    "['django', 'ggplot2', 'python', 'r']\n",
    "\n",
    "Best cross-validation score: 0.75\n",
    "Best parameters:  {'n_estimators': 1000}\n",
    "Best nombre de features:  8\n",
    "['dataframe', 'django', 'ggplot2', 'list', 'numpy', 'python', 'r', 'string']\n",
    "\n",
    "Best cross-validation score: 0.67\n",
    "Best parameters:  {'n_estimators': 100}\n",
    "Best nombre de features:  16\n",
    "['2', '3', 'data', 'dataframe', 'dictionary', 'django', 'ggplot2', 'list', 'matplotlib', 'numpy', 'pandas', 'python', 'r', 'regex', 'string', 'x']\n",
    "\n",
    "Best cross-validation score: 0.58\n",
    "Best parameters:  {'n_estimators': 100}\n",
    "Best nombre de features:  32\n",
    "['2', '3', '7', 'class', 'data', 'dataframe', 'datetime', 'dictionary', 'django', 'dplyr', 'faq', 'file', 'flask', 'function', 'ggplot2', 'import', 'list', 'matplotlib', 'models', 'numpy', 'pandas', 'performance', 'plot', 'python', 'r', 'regex', 'scipy', 'sqlalchemy', 'string', 'table', 'testing', 'x']\n",
    "\n",
    "CPU times: user 4h 32min 40s, sys: 16 s, total: 4h 32min 56s\n",
    "Wall time: 4h 32min 57s"
   ]
  },
  {
   "cell_type": "markdown",
   "id": "5f4f168f",
   "metadata": {},
   "source": [
    "## Multilayer Perceptron classifier"
   ]
  },
  {
   "cell_type": "code",
   "execution_count": 34,
   "id": "d71066f6",
   "metadata": {
    "ExecuteTime": {
     "end_time": "2021-06-15T15:23:42.333155Z",
     "start_time": "2021-06-15T15:19:43.421671Z"
    },
    "pycharm": {
     "is_executing": true,
     "name": "#%%\n"
    }
   },
   "outputs": [
    {
     "name": "stdout",
     "output_type": "stream",
     "text": [
      "CPU times: user 12min 47s, sys: 33min 32s, total: 46min 19s\n",
      "Wall time: 3min 58s\n"
     ]
    },
    {
     "name": "stderr",
     "output_type": "stream",
     "text": [
      "/home/fedecabre/anaconda3/lib/python3.8/site-packages/sklearn/neural_network/_multilayer_perceptron.py:614: ConvergenceWarning: Stochastic Optimizer: Maximum iterations (500) reached and the optimization hasn't converged yet.\n",
      "  warnings.warn(\n"
     ]
    },
    {
     "data": {
      "text/plain": [
       "MLPClassifier(alpha=0.1, hidden_layer_sizes=(100, 100),\n",
       "              learning_rate_init=0.0001, max_iter=500)"
      ]
     },
     "execution_count": 34,
     "metadata": {},
     "output_type": "execute_result"
    }
   ],
   "source": [
    "%%time\n",
    "# 2d 7h 36min 50s pour 20 000 posts\n",
    "# 3min 58s pour 2000 post et 32 tags\n",
    "\n",
    "from sklearn.neural_network import MLPClassifier\n",
    "from sklearn.model_selection import RandomizedSearchCV\n",
    "\n",
    "nb_tag = 32\n",
    "\n",
    "MLPC = MLPClassifier(hidden_layer_sizes=(100,100),\n",
    "                    max_iter=500,\n",
    "                    alpha=0.1, # L2 penalty (regularization term) parameter.\n",
    "                    learning_rate_init=0.0001) #The initial learning rate used. It controls the step-size in updating the weights. \n",
    "\n",
    "vect_Y = CountVectorizer(binary=True,\n",
    "                         token_pattern=\"(?u)\\\\b\\\\w+\\\\b\",\n",
    "                         max_features=nb_tag).fit(tag[2000:])\n",
    "Y_train = vect_Y.transform(tag[2000:]).toarray()\n",
    "\n",
    "MLPC.fit(X_train, Y_train)"
   ]
  },
  {
   "cell_type": "code",
   "execution_count": 37,
   "id": "cd5787ba",
   "metadata": {
    "ExecuteTime": {
     "end_time": "2021-06-15T15:27:47.190903Z",
     "start_time": "2021-06-15T15:27:47.158088Z"
    },
    "pycharm": {
     "is_executing": true,
     "name": "#%%\n"
    }
   },
   "outputs": [
    {
     "name": "stdout",
     "output_type": "stream",
     "text": [
      "Nombre de Tags pour l'entrainement:  32\n",
      "['2', '3', '7', 'c', 'data', 'dataframe', 'datetime', 'dictionary', 'django', 'dplyr', 'exception', 'faq', 'file', 'ggplot2', 'import', 'list', 'markdown', 'matplotlib', 'matrix', 'numpy', 'pandas', 'plot', 'python', 'r', 'regex', 'scipy', 'sqlalchemy', 'string', 'table', 'testing', 'unit', 'x'] \n",
      "\n",
      "f1-score: 0.76\n",
      "precision_score: 0.86\n",
      "recall_score: 0.68\n",
      "Model parameters:  <bound method BaseEstimator.get_params of MLPClassifier(alpha=0.1, hidden_layer_sizes=(100, 100),\n",
      "              learning_rate_init=0.0001, max_iter=500)> \n",
      "\n"
     ]
    }
   ],
   "source": [
    "best_param = MLPC.get_params\n",
    "\n",
    "Y_val = vect_Y.transform(tag[:1000]).toarray()\n",
    "y_val_MLPC_pred=MLPC.predict(X_val)\n",
    "\n",
    "from sklearn.metrics import f1_score , precision_score, recall_score\n",
    "\n",
    "y_val_MLPC_pred_ones = (y_val_MLPC_pred >0.5).astype(int)\n",
    "f1_score        = f1_score(Y_val, y_val_MLPC_pred_ones, average=\"micro\")\n",
    "precision_score = precision_score(Y_val, y_val_MLPC_pred_ones, average=\"micro\")\n",
    "recall_score    = recall_score(Y_val, y_val_MLPC_pred_ones, average=\"micro\")\n",
    "\n",
    "print(\"Nombre de Tags pour l'entrainement: \", nb_tag)\n",
    "print(vect_Y.get_feature_names(),'\\n')\n",
    "print(\"f1-score: {:.2f}\".format(f1_score))\n",
    "print(\"precision_score: {:.2f}\".format(precision_score))\n",
    "print(\"recall_score: {:.2f}\".format(recall_score))\n",
    "print(\"Model parameters: \", best_param,'\\n')"
   ]
  },
  {
   "cell_type": "code",
   "execution_count": null,
   "id": "1fe7a419",
   "metadata": {
    "ExecuteTime": {
     "start_time": "2021-06-15T15:33:04.679Z"
    },
    "pycharm": {
     "is_executing": true,
     "name": "#%%\n"
    }
   },
   "outputs": [
    {
     "name": "stderr",
     "output_type": "stream",
     "text": [
      "/home/fedecabre/anaconda3/lib/python3.8/site-packages/sklearn/neural_network/_multilayer_perceptron.py:614: ConvergenceWarning: Stochastic Optimizer: Maximum iterations (100) reached and the optimization hasn't converged yet.\n",
      "  warnings.warn(\n",
      "/home/fedecabre/anaconda3/lib/python3.8/site-packages/sklearn/neural_network/_multilayer_perceptron.py:614: ConvergenceWarning: Stochastic Optimizer: Maximum iterations (100) reached and the optimization hasn't converged yet.\n",
      "  warnings.warn(\n",
      "/home/fedecabre/anaconda3/lib/python3.8/site-packages/sklearn/neural_network/_multilayer_perceptron.py:614: ConvergenceWarning: Stochastic Optimizer: Maximum iterations (100) reached and the optimization hasn't converged yet.\n",
      "  warnings.warn(\n",
      "/home/fedecabre/anaconda3/lib/python3.8/site-packages/sklearn/neural_network/_multilayer_perceptron.py:614: ConvergenceWarning: Stochastic Optimizer: Maximum iterations (100) reached and the optimization hasn't converged yet.\n",
      "  warnings.warn(\n",
      "/home/fedecabre/anaconda3/lib/python3.8/site-packages/sklearn/neural_network/_multilayer_perceptron.py:614: ConvergenceWarning: Stochastic Optimizer: Maximum iterations (100) reached and the optimization hasn't converged yet.\n",
      "  warnings.warn(\n",
      "/home/fedecabre/anaconda3/lib/python3.8/site-packages/sklearn/neural_network/_multilayer_perceptron.py:614: ConvergenceWarning: Stochastic Optimizer: Maximum iterations (100) reached and the optimization hasn't converged yet.\n",
      "  warnings.warn(\n",
      "/home/fedecabre/anaconda3/lib/python3.8/site-packages/sklearn/neural_network/_multilayer_perceptron.py:614: ConvergenceWarning: Stochastic Optimizer: Maximum iterations (100) reached and the optimization hasn't converged yet.\n",
      "  warnings.warn(\n",
      "/home/fedecabre/anaconda3/lib/python3.8/site-packages/sklearn/neural_network/_multilayer_perceptron.py:614: ConvergenceWarning: Stochastic Optimizer: Maximum iterations (100) reached and the optimization hasn't converged yet.\n",
      "  warnings.warn(\n"
     ]
    },
    {
     "name": "stdout",
     "output_type": "stream",
     "text": [
      "Nombre de features:  2\n",
      "['python', 'r']\n",
      "Best cross-validation f1-score: 0.91\n",
      "Best parameters:  {'learning_rate_init': 0.01, 'hidden_layer_sizes': (30,), 'alpha': 0.001} \n",
      "\n"
     ]
    },
    {
     "name": "stderr",
     "output_type": "stream",
     "text": [
      "/home/fedecabre/anaconda3/lib/python3.8/site-packages/sklearn/neural_network/_multilayer_perceptron.py:614: ConvergenceWarning: Stochastic Optimizer: Maximum iterations (100) reached and the optimization hasn't converged yet.\n",
      "  warnings.warn(\n",
      "/home/fedecabre/anaconda3/lib/python3.8/site-packages/sklearn/neural_network/_multilayer_perceptron.py:614: ConvergenceWarning: Stochastic Optimizer: Maximum iterations (100) reached and the optimization hasn't converged yet.\n",
      "  warnings.warn(\n",
      "/home/fedecabre/anaconda3/lib/python3.8/site-packages/sklearn/neural_network/_multilayer_perceptron.py:614: ConvergenceWarning: Stochastic Optimizer: Maximum iterations (100) reached and the optimization hasn't converged yet.\n",
      "  warnings.warn(\n",
      "/home/fedecabre/anaconda3/lib/python3.8/site-packages/sklearn/neural_network/_multilayer_perceptron.py:614: ConvergenceWarning: Stochastic Optimizer: Maximum iterations (100) reached and the optimization hasn't converged yet.\n",
      "  warnings.warn(\n",
      "/home/fedecabre/anaconda3/lib/python3.8/site-packages/sklearn/neural_network/_multilayer_perceptron.py:614: ConvergenceWarning: Stochastic Optimizer: Maximum iterations (100) reached and the optimization hasn't converged yet.\n",
      "  warnings.warn(\n",
      "/home/fedecabre/anaconda3/lib/python3.8/site-packages/sklearn/neural_network/_multilayer_perceptron.py:614: ConvergenceWarning: Stochastic Optimizer: Maximum iterations (100) reached and the optimization hasn't converged yet.\n",
      "  warnings.warn(\n",
      "/home/fedecabre/anaconda3/lib/python3.8/site-packages/sklearn/neural_network/_multilayer_perceptron.py:614: ConvergenceWarning: Stochastic Optimizer: Maximum iterations (100) reached and the optimization hasn't converged yet.\n",
      "  warnings.warn(\n",
      "/home/fedecabre/anaconda3/lib/python3.8/site-packages/sklearn/neural_network/_multilayer_perceptron.py:614: ConvergenceWarning: Stochastic Optimizer: Maximum iterations (100) reached and the optimization hasn't converged yet.\n",
      "  warnings.warn(\n",
      "/home/fedecabre/anaconda3/lib/python3.8/site-packages/sklearn/neural_network/_multilayer_perceptron.py:614: ConvergenceWarning: Stochastic Optimizer: Maximum iterations (100) reached and the optimization hasn't converged yet.\n",
      "  warnings.warn(\n",
      "/home/fedecabre/anaconda3/lib/python3.8/site-packages/sklearn/neural_network/_multilayer_perceptron.py:614: ConvergenceWarning: Stochastic Optimizer: Maximum iterations (100) reached and the optimization hasn't converged yet.\n",
      "  warnings.warn(\n",
      "/home/fedecabre/anaconda3/lib/python3.8/site-packages/sklearn/neural_network/_multilayer_perceptron.py:614: ConvergenceWarning: Stochastic Optimizer: Maximum iterations (100) reached and the optimization hasn't converged yet.\n",
      "  warnings.warn(\n",
      "/home/fedecabre/anaconda3/lib/python3.8/site-packages/sklearn/neural_network/_multilayer_perceptron.py:614: ConvergenceWarning: Stochastic Optimizer: Maximum iterations (100) reached and the optimization hasn't converged yet.\n",
      "  warnings.warn(\n",
      "/home/fedecabre/anaconda3/lib/python3.8/site-packages/sklearn/neural_network/_multilayer_perceptron.py:614: ConvergenceWarning: Stochastic Optimizer: Maximum iterations (100) reached and the optimization hasn't converged yet.\n",
      "  warnings.warn(\n",
      "/home/fedecabre/anaconda3/lib/python3.8/site-packages/sklearn/neural_network/_multilayer_perceptron.py:614: ConvergenceWarning: Stochastic Optimizer: Maximum iterations (100) reached and the optimization hasn't converged yet.\n",
      "  warnings.warn(\n",
      "/home/fedecabre/anaconda3/lib/python3.8/site-packages/sklearn/neural_network/_multilayer_perceptron.py:614: ConvergenceWarning: Stochastic Optimizer: Maximum iterations (100) reached and the optimization hasn't converged yet.\n",
      "  warnings.warn(\n",
      "/home/fedecabre/anaconda3/lib/python3.8/site-packages/sklearn/neural_network/_multilayer_perceptron.py:614: ConvergenceWarning: Stochastic Optimizer: Maximum iterations (100) reached and the optimization hasn't converged yet.\n",
      "  warnings.warn(\n",
      "/home/fedecabre/anaconda3/lib/python3.8/site-packages/sklearn/neural_network/_multilayer_perceptron.py:614: ConvergenceWarning: Stochastic Optimizer: Maximum iterations (100) reached and the optimization hasn't converged yet.\n",
      "  warnings.warn(\n",
      "/home/fedecabre/anaconda3/lib/python3.8/site-packages/sklearn/neural_network/_multilayer_perceptron.py:614: ConvergenceWarning: Stochastic Optimizer: Maximum iterations (100) reached and the optimization hasn't converged yet.\n",
      "  warnings.warn(\n",
      "/home/fedecabre/anaconda3/lib/python3.8/site-packages/sklearn/neural_network/_multilayer_perceptron.py:614: ConvergenceWarning: Stochastic Optimizer: Maximum iterations (100) reached and the optimization hasn't converged yet.\n",
      "  warnings.warn(\n",
      "/home/fedecabre/anaconda3/lib/python3.8/site-packages/sklearn/neural_network/_multilayer_perceptron.py:614: ConvergenceWarning: Stochastic Optimizer: Maximum iterations (100) reached and the optimization hasn't converged yet.\n",
      "  warnings.warn(\n",
      "/home/fedecabre/anaconda3/lib/python3.8/site-packages/sklearn/neural_network/_multilayer_perceptron.py:614: ConvergenceWarning: Stochastic Optimizer: Maximum iterations (100) reached and the optimization hasn't converged yet.\n",
      "  warnings.warn(\n",
      "/home/fedecabre/anaconda3/lib/python3.8/site-packages/sklearn/neural_network/_multilayer_perceptron.py:614: ConvergenceWarning: Stochastic Optimizer: Maximum iterations (100) reached and the optimization hasn't converged yet.\n",
      "  warnings.warn(\n",
      "/home/fedecabre/anaconda3/lib/python3.8/site-packages/sklearn/neural_network/_multilayer_perceptron.py:614: ConvergenceWarning: Stochastic Optimizer: Maximum iterations (100) reached and the optimization hasn't converged yet.\n",
      "  warnings.warn(\n",
      "/home/fedecabre/anaconda3/lib/python3.8/site-packages/sklearn/neural_network/_multilayer_perceptron.py:614: ConvergenceWarning: Stochastic Optimizer: Maximum iterations (100) reached and the optimization hasn't converged yet.\n",
      "  warnings.warn(\n",
      "/home/fedecabre/anaconda3/lib/python3.8/site-packages/sklearn/neural_network/_multilayer_perceptron.py:614: ConvergenceWarning: Stochastic Optimizer: Maximum iterations (100) reached and the optimization hasn't converged yet.\n",
      "  warnings.warn(\n",
      "/home/fedecabre/anaconda3/lib/python3.8/site-packages/sklearn/neural_network/_multilayer_perceptron.py:614: ConvergenceWarning: Stochastic Optimizer: Maximum iterations (100) reached and the optimization hasn't converged yet.\n",
      "  warnings.warn(\n",
      "/home/fedecabre/anaconda3/lib/python3.8/site-packages/sklearn/neural_network/_multilayer_perceptron.py:614: ConvergenceWarning: Stochastic Optimizer: Maximum iterations (100) reached and the optimization hasn't converged yet.\n",
      "  warnings.warn(\n",
      "/home/fedecabre/anaconda3/lib/python3.8/site-packages/sklearn/neural_network/_multilayer_perceptron.py:614: ConvergenceWarning: Stochastic Optimizer: Maximum iterations (100) reached and the optimization hasn't converged yet.\n",
      "  warnings.warn(\n",
      "/home/fedecabre/anaconda3/lib/python3.8/site-packages/sklearn/neural_network/_multilayer_perceptron.py:614: ConvergenceWarning: Stochastic Optimizer: Maximum iterations (100) reached and the optimization hasn't converged yet.\n",
      "  warnings.warn(\n",
      "/home/fedecabre/anaconda3/lib/python3.8/site-packages/sklearn/neural_network/_multilayer_perceptron.py:614: ConvergenceWarning: Stochastic Optimizer: Maximum iterations (100) reached and the optimization hasn't converged yet.\n",
      "  warnings.warn(\n",
      "/home/fedecabre/anaconda3/lib/python3.8/site-packages/sklearn/neural_network/_multilayer_perceptron.py:614: ConvergenceWarning: Stochastic Optimizer: Maximum iterations (100) reached and the optimization hasn't converged yet.\n",
      "  warnings.warn(\n",
      "/home/fedecabre/anaconda3/lib/python3.8/site-packages/sklearn/neural_network/_multilayer_perceptron.py:614: ConvergenceWarning: Stochastic Optimizer: Maximum iterations (100) reached and the optimization hasn't converged yet.\n",
      "  warnings.warn(\n",
      "/home/fedecabre/anaconda3/lib/python3.8/site-packages/sklearn/neural_network/_multilayer_perceptron.py:614: ConvergenceWarning: Stochastic Optimizer: Maximum iterations (100) reached and the optimization hasn't converged yet.\n",
      "  warnings.warn(\n",
      "/home/fedecabre/anaconda3/lib/python3.8/site-packages/sklearn/neural_network/_multilayer_perceptron.py:614: ConvergenceWarning: Stochastic Optimizer: Maximum iterations (100) reached and the optimization hasn't converged yet.\n",
      "  warnings.warn(\n"
     ]
    },
    {
     "name": "stderr",
     "output_type": "stream",
     "text": [
      "/home/fedecabre/anaconda3/lib/python3.8/site-packages/sklearn/neural_network/_multilayer_perceptron.py:614: ConvergenceWarning: Stochastic Optimizer: Maximum iterations (100) reached and the optimization hasn't converged yet.\n",
      "  warnings.warn(\n",
      "/home/fedecabre/anaconda3/lib/python3.8/site-packages/sklearn/neural_network/_multilayer_perceptron.py:614: ConvergenceWarning: Stochastic Optimizer: Maximum iterations (100) reached and the optimization hasn't converged yet.\n",
      "  warnings.warn(\n",
      "/home/fedecabre/anaconda3/lib/python3.8/site-packages/sklearn/neural_network/_multilayer_perceptron.py:614: ConvergenceWarning: Stochastic Optimizer: Maximum iterations (100) reached and the optimization hasn't converged yet.\n",
      "  warnings.warn(\n",
      "/home/fedecabre/anaconda3/lib/python3.8/site-packages/sklearn/neural_network/_multilayer_perceptron.py:614: ConvergenceWarning: Stochastic Optimizer: Maximum iterations (100) reached and the optimization hasn't converged yet.\n",
      "  warnings.warn(\n",
      "/home/fedecabre/anaconda3/lib/python3.8/site-packages/sklearn/neural_network/_multilayer_perceptron.py:614: ConvergenceWarning: Stochastic Optimizer: Maximum iterations (100) reached and the optimization hasn't converged yet.\n",
      "  warnings.warn(\n",
      "/home/fedecabre/anaconda3/lib/python3.8/site-packages/sklearn/neural_network/_multilayer_perceptron.py:614: ConvergenceWarning: Stochastic Optimizer: Maximum iterations (100) reached and the optimization hasn't converged yet.\n",
      "  warnings.warn(\n"
     ]
    },
    {
     "name": "stdout",
     "output_type": "stream",
     "text": [
      "Nombre de features:  4\n",
      "['django', 'list', 'python', 'r']\n",
      "Best cross-validation f1-score: 0.89\n",
      "Best parameters:  {'learning_rate_init': 0.001, 'hidden_layer_sizes': (100, 100), 'alpha': 0.1} \n",
      "\n"
     ]
    },
    {
     "name": "stderr",
     "output_type": "stream",
     "text": [
      "/home/fedecabre/anaconda3/lib/python3.8/site-packages/sklearn/neural_network/_multilayer_perceptron.py:614: ConvergenceWarning: Stochastic Optimizer: Maximum iterations (100) reached and the optimization hasn't converged yet.\n",
      "  warnings.warn(\n",
      "/home/fedecabre/anaconda3/lib/python3.8/site-packages/sklearn/neural_network/_multilayer_perceptron.py:614: ConvergenceWarning: Stochastic Optimizer: Maximum iterations (100) reached and the optimization hasn't converged yet.\n",
      "  warnings.warn(\n",
      "/home/fedecabre/anaconda3/lib/python3.8/site-packages/sklearn/neural_network/_multilayer_perceptron.py:614: ConvergenceWarning: Stochastic Optimizer: Maximum iterations (100) reached and the optimization hasn't converged yet.\n",
      "  warnings.warn(\n",
      "/home/fedecabre/anaconda3/lib/python3.8/site-packages/sklearn/neural_network/_multilayer_perceptron.py:614: ConvergenceWarning: Stochastic Optimizer: Maximum iterations (100) reached and the optimization hasn't converged yet.\n",
      "  warnings.warn(\n",
      "/home/fedecabre/anaconda3/lib/python3.8/site-packages/sklearn/neural_network/_multilayer_perceptron.py:614: ConvergenceWarning: Stochastic Optimizer: Maximum iterations (100) reached and the optimization hasn't converged yet.\n",
      "  warnings.warn(\n",
      "/home/fedecabre/anaconda3/lib/python3.8/site-packages/sklearn/neural_network/_multilayer_perceptron.py:614: ConvergenceWarning: Stochastic Optimizer: Maximum iterations (100) reached and the optimization hasn't converged yet.\n",
      "  warnings.warn(\n",
      "/home/fedecabre/anaconda3/lib/python3.8/site-packages/sklearn/neural_network/_multilayer_perceptron.py:614: ConvergenceWarning: Stochastic Optimizer: Maximum iterations (100) reached and the optimization hasn't converged yet.\n",
      "  warnings.warn(\n",
      "/home/fedecabre/anaconda3/lib/python3.8/site-packages/sklearn/neural_network/_multilayer_perceptron.py:614: ConvergenceWarning: Stochastic Optimizer: Maximum iterations (100) reached and the optimization hasn't converged yet.\n",
      "  warnings.warn(\n",
      "/home/fedecabre/anaconda3/lib/python3.8/site-packages/sklearn/neural_network/_multilayer_perceptron.py:614: ConvergenceWarning: Stochastic Optimizer: Maximum iterations (100) reached and the optimization hasn't converged yet.\n",
      "  warnings.warn(\n",
      "/home/fedecabre/anaconda3/lib/python3.8/site-packages/sklearn/neural_network/_multilayer_perceptron.py:614: ConvergenceWarning: Stochastic Optimizer: Maximum iterations (100) reached and the optimization hasn't converged yet.\n",
      "  warnings.warn(\n",
      "/home/fedecabre/anaconda3/lib/python3.8/site-packages/sklearn/neural_network/_multilayer_perceptron.py:614: ConvergenceWarning: Stochastic Optimizer: Maximum iterations (100) reached and the optimization hasn't converged yet.\n",
      "  warnings.warn(\n",
      "/home/fedecabre/anaconda3/lib/python3.8/site-packages/sklearn/neural_network/_multilayer_perceptron.py:614: ConvergenceWarning: Stochastic Optimizer: Maximum iterations (100) reached and the optimization hasn't converged yet.\n",
      "  warnings.warn(\n",
      "/home/fedecabre/anaconda3/lib/python3.8/site-packages/sklearn/neural_network/_multilayer_perceptron.py:614: ConvergenceWarning: Stochastic Optimizer: Maximum iterations (100) reached and the optimization hasn't converged yet.\n",
      "  warnings.warn(\n",
      "/home/fedecabre/anaconda3/lib/python3.8/site-packages/sklearn/neural_network/_multilayer_perceptron.py:614: ConvergenceWarning: Stochastic Optimizer: Maximum iterations (100) reached and the optimization hasn't converged yet.\n",
      "  warnings.warn(\n",
      "/home/fedecabre/anaconda3/lib/python3.8/site-packages/sklearn/neural_network/_multilayer_perceptron.py:614: ConvergenceWarning: Stochastic Optimizer: Maximum iterations (100) reached and the optimization hasn't converged yet.\n",
      "  warnings.warn(\n",
      "/home/fedecabre/anaconda3/lib/python3.8/site-packages/sklearn/neural_network/_multilayer_perceptron.py:614: ConvergenceWarning: Stochastic Optimizer: Maximum iterations (100) reached and the optimization hasn't converged yet.\n",
      "  warnings.warn(\n",
      "/home/fedecabre/anaconda3/lib/python3.8/site-packages/sklearn/neural_network/_multilayer_perceptron.py:614: ConvergenceWarning: Stochastic Optimizer: Maximum iterations (100) reached and the optimization hasn't converged yet.\n",
      "  warnings.warn(\n",
      "/home/fedecabre/anaconda3/lib/python3.8/site-packages/sklearn/neural_network/_multilayer_perceptron.py:614: ConvergenceWarning: Stochastic Optimizer: Maximum iterations (100) reached and the optimization hasn't converged yet.\n",
      "  warnings.warn(\n",
      "/home/fedecabre/anaconda3/lib/python3.8/site-packages/sklearn/neural_network/_multilayer_perceptron.py:614: ConvergenceWarning: Stochastic Optimizer: Maximum iterations (100) reached and the optimization hasn't converged yet.\n",
      "  warnings.warn(\n",
      "/home/fedecabre/anaconda3/lib/python3.8/site-packages/sklearn/neural_network/_multilayer_perceptron.py:614: ConvergenceWarning: Stochastic Optimizer: Maximum iterations (100) reached and the optimization hasn't converged yet.\n",
      "  warnings.warn(\n",
      "/home/fedecabre/anaconda3/lib/python3.8/site-packages/sklearn/neural_network/_multilayer_perceptron.py:614: ConvergenceWarning: Stochastic Optimizer: Maximum iterations (100) reached and the optimization hasn't converged yet.\n",
      "  warnings.warn(\n",
      "/home/fedecabre/anaconda3/lib/python3.8/site-packages/sklearn/neural_network/_multilayer_perceptron.py:614: ConvergenceWarning: Stochastic Optimizer: Maximum iterations (100) reached and the optimization hasn't converged yet.\n",
      "  warnings.warn(\n",
      "/home/fedecabre/anaconda3/lib/python3.8/site-packages/sklearn/neural_network/_multilayer_perceptron.py:614: ConvergenceWarning: Stochastic Optimizer: Maximum iterations (100) reached and the optimization hasn't converged yet.\n",
      "  warnings.warn(\n",
      "/home/fedecabre/anaconda3/lib/python3.8/site-packages/sklearn/neural_network/_multilayer_perceptron.py:614: ConvergenceWarning: Stochastic Optimizer: Maximum iterations (100) reached and the optimization hasn't converged yet.\n",
      "  warnings.warn(\n",
      "/home/fedecabre/anaconda3/lib/python3.8/site-packages/sklearn/neural_network/_multilayer_perceptron.py:614: ConvergenceWarning: Stochastic Optimizer: Maximum iterations (100) reached and the optimization hasn't converged yet.\n",
      "  warnings.warn(\n"
     ]
    },
    {
     "name": "stdout",
     "output_type": "stream",
     "text": [
      "Nombre de features:  8\n",
      "['2', 'django', 'ggplot2', 'list', 'numpy', 'python', 'r', 'string']\n",
      "Best cross-validation f1-score: 0.85\n",
      "Best parameters:  {'learning_rate_init': 0.01, 'hidden_layer_sizes': (100, 100), 'alpha': 0.001} \n",
      "\n"
     ]
    },
    {
     "name": "stderr",
     "output_type": "stream",
     "text": [
      "/home/fedecabre/anaconda3/lib/python3.8/site-packages/sklearn/neural_network/_multilayer_perceptron.py:614: ConvergenceWarning: Stochastic Optimizer: Maximum iterations (100) reached and the optimization hasn't converged yet.\n",
      "  warnings.warn(\n",
      "/home/fedecabre/anaconda3/lib/python3.8/site-packages/sklearn/neural_network/_multilayer_perceptron.py:614: ConvergenceWarning: Stochastic Optimizer: Maximum iterations (100) reached and the optimization hasn't converged yet.\n",
      "  warnings.warn(\n",
      "/home/fedecabre/anaconda3/lib/python3.8/site-packages/sklearn/neural_network/_multilayer_perceptron.py:614: ConvergenceWarning: Stochastic Optimizer: Maximum iterations (100) reached and the optimization hasn't converged yet.\n",
      "  warnings.warn(\n",
      "/home/fedecabre/anaconda3/lib/python3.8/site-packages/sklearn/neural_network/_multilayer_perceptron.py:614: ConvergenceWarning: Stochastic Optimizer: Maximum iterations (100) reached and the optimization hasn't converged yet.\n",
      "  warnings.warn(\n",
      "/home/fedecabre/anaconda3/lib/python3.8/site-packages/sklearn/neural_network/_multilayer_perceptron.py:614: ConvergenceWarning: Stochastic Optimizer: Maximum iterations (100) reached and the optimization hasn't converged yet.\n",
      "  warnings.warn(\n",
      "/home/fedecabre/anaconda3/lib/python3.8/site-packages/sklearn/neural_network/_multilayer_perceptron.py:614: ConvergenceWarning: Stochastic Optimizer: Maximum iterations (100) reached and the optimization hasn't converged yet.\n",
      "  warnings.warn(\n",
      "/home/fedecabre/anaconda3/lib/python3.8/site-packages/sklearn/neural_network/_multilayer_perceptron.py:614: ConvergenceWarning: Stochastic Optimizer: Maximum iterations (100) reached and the optimization hasn't converged yet.\n",
      "  warnings.warn(\n",
      "/home/fedecabre/anaconda3/lib/python3.8/site-packages/sklearn/neural_network/_multilayer_perceptron.py:614: ConvergenceWarning: Stochastic Optimizer: Maximum iterations (100) reached and the optimization hasn't converged yet.\n",
      "  warnings.warn(\n",
      "/home/fedecabre/anaconda3/lib/python3.8/site-packages/sklearn/neural_network/_multilayer_perceptron.py:614: ConvergenceWarning: Stochastic Optimizer: Maximum iterations (100) reached and the optimization hasn't converged yet.\n",
      "  warnings.warn(\n",
      "/home/fedecabre/anaconda3/lib/python3.8/site-packages/sklearn/neural_network/_multilayer_perceptron.py:614: ConvergenceWarning: Stochastic Optimizer: Maximum iterations (100) reached and the optimization hasn't converged yet.\n",
      "  warnings.warn(\n",
      "/home/fedecabre/anaconda3/lib/python3.8/site-packages/sklearn/neural_network/_multilayer_perceptron.py:614: ConvergenceWarning: Stochastic Optimizer: Maximum iterations (100) reached and the optimization hasn't converged yet.\n",
      "  warnings.warn(\n",
      "/home/fedecabre/anaconda3/lib/python3.8/site-packages/sklearn/neural_network/_multilayer_perceptron.py:614: ConvergenceWarning: Stochastic Optimizer: Maximum iterations (100) reached and the optimization hasn't converged yet.\n",
      "  warnings.warn(\n",
      "/home/fedecabre/anaconda3/lib/python3.8/site-packages/sklearn/neural_network/_multilayer_perceptron.py:614: ConvergenceWarning: Stochastic Optimizer: Maximum iterations (100) reached and the optimization hasn't converged yet.\n",
      "  warnings.warn(\n",
      "/home/fedecabre/anaconda3/lib/python3.8/site-packages/sklearn/neural_network/_multilayer_perceptron.py:614: ConvergenceWarning: Stochastic Optimizer: Maximum iterations (100) reached and the optimization hasn't converged yet.\n",
      "  warnings.warn(\n",
      "/home/fedecabre/anaconda3/lib/python3.8/site-packages/sklearn/neural_network/_multilayer_perceptron.py:614: ConvergenceWarning: Stochastic Optimizer: Maximum iterations (100) reached and the optimization hasn't converged yet.\n",
      "  warnings.warn(\n",
      "/home/fedecabre/anaconda3/lib/python3.8/site-packages/sklearn/neural_network/_multilayer_perceptron.py:614: ConvergenceWarning: Stochastic Optimizer: Maximum iterations (100) reached and the optimization hasn't converged yet.\n",
      "  warnings.warn(\n",
      "/home/fedecabre/anaconda3/lib/python3.8/site-packages/sklearn/neural_network/_multilayer_perceptron.py:614: ConvergenceWarning: Stochastic Optimizer: Maximum iterations (100) reached and the optimization hasn't converged yet.\n",
      "  warnings.warn(\n",
      "/home/fedecabre/anaconda3/lib/python3.8/site-packages/sklearn/neural_network/_multilayer_perceptron.py:614: ConvergenceWarning: Stochastic Optimizer: Maximum iterations (100) reached and the optimization hasn't converged yet.\n",
      "  warnings.warn(\n",
      "/home/fedecabre/anaconda3/lib/python3.8/site-packages/sklearn/neural_network/_multilayer_perceptron.py:614: ConvergenceWarning: Stochastic Optimizer: Maximum iterations (100) reached and the optimization hasn't converged yet.\n",
      "  warnings.warn(\n",
      "/home/fedecabre/anaconda3/lib/python3.8/site-packages/sklearn/neural_network/_multilayer_perceptron.py:614: ConvergenceWarning: Stochastic Optimizer: Maximum iterations (100) reached and the optimization hasn't converged yet.\n",
      "  warnings.warn(\n",
      "/home/fedecabre/anaconda3/lib/python3.8/site-packages/sklearn/neural_network/_multilayer_perceptron.py:614: ConvergenceWarning: Stochastic Optimizer: Maximum iterations (100) reached and the optimization hasn't converged yet.\n",
      "  warnings.warn(\n",
      "/home/fedecabre/anaconda3/lib/python3.8/site-packages/sklearn/neural_network/_multilayer_perceptron.py:614: ConvergenceWarning: Stochastic Optimizer: Maximum iterations (100) reached and the optimization hasn't converged yet.\n",
      "  warnings.warn(\n",
      "/home/fedecabre/anaconda3/lib/python3.8/site-packages/sklearn/neural_network/_multilayer_perceptron.py:614: ConvergenceWarning: Stochastic Optimizer: Maximum iterations (100) reached and the optimization hasn't converged yet.\n",
      "  warnings.warn(\n",
      "/home/fedecabre/anaconda3/lib/python3.8/site-packages/sklearn/neural_network/_multilayer_perceptron.py:614: ConvergenceWarning: Stochastic Optimizer: Maximum iterations (100) reached and the optimization hasn't converged yet.\n",
      "  warnings.warn(\n",
      "/home/fedecabre/anaconda3/lib/python3.8/site-packages/sklearn/neural_network/_multilayer_perceptron.py:614: ConvergenceWarning: Stochastic Optimizer: Maximum iterations (100) reached and the optimization hasn't converged yet.\n",
      "  warnings.warn(\n",
      "/home/fedecabre/anaconda3/lib/python3.8/site-packages/sklearn/neural_network/_multilayer_perceptron.py:614: ConvergenceWarning: Stochastic Optimizer: Maximum iterations (100) reached and the optimization hasn't converged yet.\n",
      "  warnings.warn(\n",
      "/home/fedecabre/anaconda3/lib/python3.8/site-packages/sklearn/neural_network/_multilayer_perceptron.py:614: ConvergenceWarning: Stochastic Optimizer: Maximum iterations (100) reached and the optimization hasn't converged yet.\n",
      "  warnings.warn(\n",
      "/home/fedecabre/anaconda3/lib/python3.8/site-packages/sklearn/neural_network/_multilayer_perceptron.py:614: ConvergenceWarning: Stochastic Optimizer: Maximum iterations (100) reached and the optimization hasn't converged yet.\n",
      "  warnings.warn(\n",
      "/home/fedecabre/anaconda3/lib/python3.8/site-packages/sklearn/neural_network/_multilayer_perceptron.py:614: ConvergenceWarning: Stochastic Optimizer: Maximum iterations (100) reached and the optimization hasn't converged yet.\n",
      "  warnings.warn(\n",
      "/home/fedecabre/anaconda3/lib/python3.8/site-packages/sklearn/neural_network/_multilayer_perceptron.py:614: ConvergenceWarning: Stochastic Optimizer: Maximum iterations (100) reached and the optimization hasn't converged yet.\n",
      "  warnings.warn(\n"
     ]
    },
    {
     "name": "stdout",
     "output_type": "stream",
     "text": [
      "Nombre de features:  16\n",
      "['2', '3', 'data', 'dataframe', 'dictionary', 'django', 'ggplot2', 'list', 'matplotlib', 'numpy', 'pandas', 'python', 'r', 'regex', 'string', 'x']\n",
      "Best cross-validation f1-score: 0.79\n",
      "Best parameters:  {'learning_rate_init': 0.01, 'hidden_layer_sizes': (100, 100), 'alpha': 0.1} \n",
      "\n"
     ]
    },
    {
     "name": "stderr",
     "output_type": "stream",
     "text": [
      "/home/fedecabre/anaconda3/lib/python3.8/site-packages/sklearn/neural_network/_multilayer_perceptron.py:614: ConvergenceWarning: Stochastic Optimizer: Maximum iterations (100) reached and the optimization hasn't converged yet.\n",
      "  warnings.warn(\n",
      "/home/fedecabre/anaconda3/lib/python3.8/site-packages/sklearn/neural_network/_multilayer_perceptron.py:614: ConvergenceWarning: Stochastic Optimizer: Maximum iterations (100) reached and the optimization hasn't converged yet.\n",
      "  warnings.warn(\n",
      "/home/fedecabre/anaconda3/lib/python3.8/site-packages/sklearn/neural_network/_multilayer_perceptron.py:614: ConvergenceWarning: Stochastic Optimizer: Maximum iterations (100) reached and the optimization hasn't converged yet.\n",
      "  warnings.warn(\n",
      "/home/fedecabre/anaconda3/lib/python3.8/site-packages/sklearn/neural_network/_multilayer_perceptron.py:614: ConvergenceWarning: Stochastic Optimizer: Maximum iterations (100) reached and the optimization hasn't converged yet.\n",
      "  warnings.warn(\n",
      "/home/fedecabre/anaconda3/lib/python3.8/site-packages/sklearn/neural_network/_multilayer_perceptron.py:614: ConvergenceWarning: Stochastic Optimizer: Maximum iterations (100) reached and the optimization hasn't converged yet.\n",
      "  warnings.warn(\n",
      "/home/fedecabre/anaconda3/lib/python3.8/site-packages/sklearn/neural_network/_multilayer_perceptron.py:614: ConvergenceWarning: Stochastic Optimizer: Maximum iterations (100) reached and the optimization hasn't converged yet.\n",
      "  warnings.warn(\n",
      "/home/fedecabre/anaconda3/lib/python3.8/site-packages/sklearn/neural_network/_multilayer_perceptron.py:614: ConvergenceWarning: Stochastic Optimizer: Maximum iterations (100) reached and the optimization hasn't converged yet.\n",
      "  warnings.warn(\n",
      "/home/fedecabre/anaconda3/lib/python3.8/site-packages/sklearn/neural_network/_multilayer_perceptron.py:614: ConvergenceWarning: Stochastic Optimizer: Maximum iterations (100) reached and the optimization hasn't converged yet.\n",
      "  warnings.warn(\n",
      "/home/fedecabre/anaconda3/lib/python3.8/site-packages/sklearn/neural_network/_multilayer_perceptron.py:614: ConvergenceWarning: Stochastic Optimizer: Maximum iterations (100) reached and the optimization hasn't converged yet.\n",
      "  warnings.warn(\n",
      "/home/fedecabre/anaconda3/lib/python3.8/site-packages/sklearn/neural_network/_multilayer_perceptron.py:614: ConvergenceWarning: Stochastic Optimizer: Maximum iterations (100) reached and the optimization hasn't converged yet.\n",
      "  warnings.warn(\n",
      "/home/fedecabre/anaconda3/lib/python3.8/site-packages/sklearn/neural_network/_multilayer_perceptron.py:614: ConvergenceWarning: Stochastic Optimizer: Maximum iterations (100) reached and the optimization hasn't converged yet.\n",
      "  warnings.warn(\n",
      "/home/fedecabre/anaconda3/lib/python3.8/site-packages/sklearn/neural_network/_multilayer_perceptron.py:614: ConvergenceWarning: Stochastic Optimizer: Maximum iterations (100) reached and the optimization hasn't converged yet.\n",
      "  warnings.warn(\n",
      "/home/fedecabre/anaconda3/lib/python3.8/site-packages/sklearn/neural_network/_multilayer_perceptron.py:614: ConvergenceWarning: Stochastic Optimizer: Maximum iterations (100) reached and the optimization hasn't converged yet.\n",
      "  warnings.warn(\n",
      "/home/fedecabre/anaconda3/lib/python3.8/site-packages/sklearn/neural_network/_multilayer_perceptron.py:614: ConvergenceWarning: Stochastic Optimizer: Maximum iterations (100) reached and the optimization hasn't converged yet.\n",
      "  warnings.warn(\n",
      "/home/fedecabre/anaconda3/lib/python3.8/site-packages/sklearn/neural_network/_multilayer_perceptron.py:614: ConvergenceWarning: Stochastic Optimizer: Maximum iterations (100) reached and the optimization hasn't converged yet.\n",
      "  warnings.warn(\n",
      "/home/fedecabre/anaconda3/lib/python3.8/site-packages/sklearn/neural_network/_multilayer_perceptron.py:614: ConvergenceWarning: Stochastic Optimizer: Maximum iterations (100) reached and the optimization hasn't converged yet.\n",
      "  warnings.warn(\n",
      "/home/fedecabre/anaconda3/lib/python3.8/site-packages/sklearn/neural_network/_multilayer_perceptron.py:614: ConvergenceWarning: Stochastic Optimizer: Maximum iterations (100) reached and the optimization hasn't converged yet.\n",
      "  warnings.warn(\n",
      "/home/fedecabre/anaconda3/lib/python3.8/site-packages/sklearn/neural_network/_multilayer_perceptron.py:614: ConvergenceWarning: Stochastic Optimizer: Maximum iterations (100) reached and the optimization hasn't converged yet.\n",
      "  warnings.warn(\n",
      "/home/fedecabre/anaconda3/lib/python3.8/site-packages/sklearn/neural_network/_multilayer_perceptron.py:614: ConvergenceWarning: Stochastic Optimizer: Maximum iterations (100) reached and the optimization hasn't converged yet.\n",
      "  warnings.warn(\n",
      "/home/fedecabre/anaconda3/lib/python3.8/site-packages/sklearn/neural_network/_multilayer_perceptron.py:614: ConvergenceWarning: Stochastic Optimizer: Maximum iterations (100) reached and the optimization hasn't converged yet.\n",
      "  warnings.warn(\n",
      "/home/fedecabre/anaconda3/lib/python3.8/site-packages/sklearn/neural_network/_multilayer_perceptron.py:614: ConvergenceWarning: Stochastic Optimizer: Maximum iterations (100) reached and the optimization hasn't converged yet.\n",
      "  warnings.warn(\n",
      "/home/fedecabre/anaconda3/lib/python3.8/site-packages/sklearn/neural_network/_multilayer_perceptron.py:614: ConvergenceWarning: Stochastic Optimizer: Maximum iterations (100) reached and the optimization hasn't converged yet.\n",
      "  warnings.warn(\n",
      "/home/fedecabre/anaconda3/lib/python3.8/site-packages/sklearn/neural_network/_multilayer_perceptron.py:614: ConvergenceWarning: Stochastic Optimizer: Maximum iterations (100) reached and the optimization hasn't converged yet.\n",
      "  warnings.warn(\n",
      "/home/fedecabre/anaconda3/lib/python3.8/site-packages/sklearn/neural_network/_multilayer_perceptron.py:614: ConvergenceWarning: Stochastic Optimizer: Maximum iterations (100) reached and the optimization hasn't converged yet.\n",
      "  warnings.warn(\n",
      "/home/fedecabre/anaconda3/lib/python3.8/site-packages/sklearn/neural_network/_multilayer_perceptron.py:614: ConvergenceWarning: Stochastic Optimizer: Maximum iterations (100) reached and the optimization hasn't converged yet.\n",
      "  warnings.warn(\n",
      "/home/fedecabre/anaconda3/lib/python3.8/site-packages/sklearn/neural_network/_multilayer_perceptron.py:614: ConvergenceWarning: Stochastic Optimizer: Maximum iterations (100) reached and the optimization hasn't converged yet.\n",
      "  warnings.warn(\n",
      "/home/fedecabre/anaconda3/lib/python3.8/site-packages/sklearn/neural_network/_multilayer_perceptron.py:614: ConvergenceWarning: Stochastic Optimizer: Maximum iterations (100) reached and the optimization hasn't converged yet.\n",
      "  warnings.warn(\n",
      "/home/fedecabre/anaconda3/lib/python3.8/site-packages/sklearn/neural_network/_multilayer_perceptron.py:614: ConvergenceWarning: Stochastic Optimizer: Maximum iterations (100) reached and the optimization hasn't converged yet.\n",
      "  warnings.warn(\n",
      "/home/fedecabre/anaconda3/lib/python3.8/site-packages/sklearn/neural_network/_multilayer_perceptron.py:614: ConvergenceWarning: Stochastic Optimizer: Maximum iterations (100) reached and the optimization hasn't converged yet.\n",
      "  warnings.warn(\n",
      "/home/fedecabre/anaconda3/lib/python3.8/site-packages/sklearn/neural_network/_multilayer_perceptron.py:614: ConvergenceWarning: Stochastic Optimizer: Maximum iterations (100) reached and the optimization hasn't converged yet.\n",
      "  warnings.warn(\n",
      "/home/fedecabre/anaconda3/lib/python3.8/site-packages/sklearn/neural_network/_multilayer_perceptron.py:614: ConvergenceWarning: Stochastic Optimizer: Maximum iterations (100) reached and the optimization hasn't converged yet.\n",
      "  warnings.warn(\n",
      "/home/fedecabre/anaconda3/lib/python3.8/site-packages/sklearn/neural_network/_multilayer_perceptron.py:614: ConvergenceWarning: Stochastic Optimizer: Maximum iterations (100) reached and the optimization hasn't converged yet.\n",
      "  warnings.warn(\n",
      "/home/fedecabre/anaconda3/lib/python3.8/site-packages/sklearn/neural_network/_multilayer_perceptron.py:614: ConvergenceWarning: Stochastic Optimizer: Maximum iterations (100) reached and the optimization hasn't converged yet.\n",
      "  warnings.warn(\n",
      "/home/fedecabre/anaconda3/lib/python3.8/site-packages/sklearn/neural_network/_multilayer_perceptron.py:614: ConvergenceWarning: Stochastic Optimizer: Maximum iterations (100) reached and the optimization hasn't converged yet.\n",
      "  warnings.warn(\n"
     ]
    },
    {
     "name": "stderr",
     "output_type": "stream",
     "text": [
      "/home/fedecabre/anaconda3/lib/python3.8/site-packages/sklearn/neural_network/_multilayer_perceptron.py:614: ConvergenceWarning: Stochastic Optimizer: Maximum iterations (100) reached and the optimization hasn't converged yet.\n",
      "  warnings.warn(\n",
      "/home/fedecabre/anaconda3/lib/python3.8/site-packages/sklearn/neural_network/_multilayer_perceptron.py:614: ConvergenceWarning: Stochastic Optimizer: Maximum iterations (100) reached and the optimization hasn't converged yet.\n",
      "  warnings.warn(\n",
      "/home/fedecabre/anaconda3/lib/python3.8/site-packages/sklearn/neural_network/_multilayer_perceptron.py:614: ConvergenceWarning: Stochastic Optimizer: Maximum iterations (100) reached and the optimization hasn't converged yet.\n",
      "  warnings.warn(\n",
      "/home/fedecabre/anaconda3/lib/python3.8/site-packages/sklearn/neural_network/_multilayer_perceptron.py:614: ConvergenceWarning: Stochastic Optimizer: Maximum iterations (100) reached and the optimization hasn't converged yet.\n",
      "  warnings.warn(\n",
      "/home/fedecabre/anaconda3/lib/python3.8/site-packages/sklearn/neural_network/_multilayer_perceptron.py:614: ConvergenceWarning: Stochastic Optimizer: Maximum iterations (100) reached and the optimization hasn't converged yet.\n",
      "  warnings.warn(\n",
      "/home/fedecabre/anaconda3/lib/python3.8/site-packages/sklearn/neural_network/_multilayer_perceptron.py:614: ConvergenceWarning: Stochastic Optimizer: Maximum iterations (100) reached and the optimization hasn't converged yet.\n",
      "  warnings.warn(\n",
      "/home/fedecabre/anaconda3/lib/python3.8/site-packages/sklearn/neural_network/_multilayer_perceptron.py:614: ConvergenceWarning: Stochastic Optimizer: Maximum iterations (100) reached and the optimization hasn't converged yet.\n",
      "  warnings.warn(\n",
      "/home/fedecabre/anaconda3/lib/python3.8/site-packages/sklearn/neural_network/_multilayer_perceptron.py:614: ConvergenceWarning: Stochastic Optimizer: Maximum iterations (100) reached and the optimization hasn't converged yet.\n",
      "  warnings.warn(\n",
      "/home/fedecabre/anaconda3/lib/python3.8/site-packages/sklearn/neural_network/_multilayer_perceptron.py:614: ConvergenceWarning: Stochastic Optimizer: Maximum iterations (100) reached and the optimization hasn't converged yet.\n",
      "  warnings.warn(\n"
     ]
    }
   ],
   "source": [
    "%%time\n",
    "# 2d 7h 36min 50s pour 20 000 posts\n",
    "\n",
    "from sklearn.neural_network import MLPClassifier\n",
    "from sklearn.model_selection import RandomizedSearchCV\n",
    "\n",
    "param_grid = {'alpha' : [0.001,0.01,0.1],\n",
    "              'learning_rate_init' : [0.0001,0.001,0.01],\n",
    "             'hidden_layer_sizes': [(30,),(100,),(30,30),(100,100)]}\n",
    "grid = RandomizedSearchCV(MLPClassifier(max_iter=100), param_grid, cv=5, scoring='f1_micro')\n",
    "\n",
    "best_score = 0\n",
    "best_param = {}\n",
    "best_feature_number = 0\n",
    "\n",
    "for i in [2,4,8,16,32]:\n",
    "    vect_Y = CountVectorizer(binary=True, token_pattern= \"(?u)\\\\b\\\\w+\\\\b\", max_features=i).fit(tag[2000:])\n",
    "    Y_train = vect_Y.transform(tag[2000:]).toarray()\n",
    "    grid.fit(X_train, Y_train)\n",
    "    #if grid.best_score_>best_score:\n",
    "    best_score = grid.best_score_\n",
    "    best_param = grid.best_params_\n",
    "    best_feature_number = i\n",
    "    print(\"Nombre de features: \", best_feature_number)\n",
    "    print(vect_Y.get_feature_names())\n",
    "    print(\"Best cross-validation f1-score: {:.2f}\".format(best_score))\n",
    "    print(\"Best parameters: \", best_param,'\\n')"
   ]
  },
  {
   "cell_type": "markdown",
   "id": "fe5b24d9",
   "metadata": {},
   "source": [
    "Résultats avec 2000 post\n",
    "\n",
    "Nombre de features:  2\n",
    "['python', 'r']\n",
    "Best cross-validation f1-score: 0.91\n",
    "Best parameters:  {'learning_rate_init': 0.01, 'hidden_layer_sizes': (30,), 'alpha': 0.001} \n",
    "\n",
    "Nombre de features:  4\n",
    "['django', 'list', 'python', 'r']\n",
    "Best cross-validation f1-score: 0.89\n",
    "Best parameters:  {'learning_rate_init': 0.001, 'hidden_layer_sizes': (100, 100), 'alpha': 0.1} \n",
    "\n",
    "Nombre de features:  8\n",
    "['2', 'django', 'ggplot2', 'list', 'numpy', 'python', 'r', 'string']\n",
    "Best cross-validation f1-score: 0.85\n",
    "Best parameters:  {'learning_rate_init': 0.01, 'hidden_layer_sizes': (100, 100), 'alpha': 0.001} \n",
    "\n",
    "Nombre de features:  16\n",
    "['2', '3', 'data', 'dataframe', 'dictionary', 'django', 'ggplot2', 'list', 'matplotlib', 'numpy', 'pandas', 'python', 'r', 'regex', 'string', 'x']\n",
    "Best cross-validation f1-score: 0.79\n",
    "Best parameters:  {'learning_rate_init': 0.01, 'hidden_layer_sizes': (100, 100), 'alpha': 0.1} "
   ]
  },
  {
   "cell_type": "code",
   "execution_count": null,
   "id": "267eb87d",
   "metadata": {
    "ExecuteTime": {
     "end_time": "2021-06-15T14:48:25.150944Z",
     "start_time": "2021-06-15T14:46:30.705Z"
    },
    "pycharm": {
     "is_executing": true,
     "name": "#%%\n"
    }
   },
   "outputs": [],
   "source": [
    "%%time\n",
    "from sklearn.neural_network import MLPClassifier\n",
    "MLP_clf = MLPClassifier(max_iter=1500, alpha=0.1, learning_rate_init=0.0001)\n",
    "# la convergence du modèle n'est pas encore faite à 1000 itérations\n",
    "vect_Y_32 = CountVectorizer(binary=True, token_pattern= \"(?u)\\\\b\\\\w+\\\\b\", max_features=32).fit(tag_train)\n",
    "Y_train = vect_Y_32.transform(tag_train).toarray()\n",
    "MLP_clf.fit(X_train, Y_train)"
   ]
  },
  {
   "cell_type": "code",
   "execution_count": null,
   "id": "93be113e",
   "metadata": {
    "ExecuteTime": {
     "end_time": "2021-06-15T14:48:25.151525Z",
     "start_time": "2021-06-15T14:46:30.707Z"
    },
    "pycharm": {
     "is_executing": true,
     "name": "#%%\n"
    }
   },
   "outputs": [],
   "source": [
    "pickle.dump(vect_Y_32, open('API/models/vect_Y_32.pickle', 'wb'))\n",
    "pickle.dump(MLP_clf, open('API/models/MLP_clf.pickle', 'wb'))"
   ]
  },
  {
   "cell_type": "code",
   "execution_count": null,
   "id": "4774c5c9",
   "metadata": {
    "ExecuteTime": {
     "end_time": "2021-06-15T14:48:25.152060Z",
     "start_time": "2021-06-15T14:46:30.708Z"
    },
    "pycharm": {
     "is_executing": true,
     "name": "#%%\n"
    }
   },
   "outputs": [],
   "source": [
    "id_sample = 1002\n",
    "new_post = text_train[id_sample]\n",
    "text_prediction_labels(new_post,vect_X,vect_Y,MLP_clf,df_questions)\n",
    "\n",
    "y_train_MLP_pred = MLP_clf.predict(X_train)\n",
    "from sklearn.metrics import f1_score\n",
    "\n",
    "print('F1 score : ')\n",
    "y_train_MLP_pred_ones = (y_train_MLP_pred >0).astype(int)\n",
    "f1_score(Y_train, y_train_MLP_pred_ones, average='weighted')"
   ]
  },
  {
   "cell_type": "markdown",
   "id": "f80aa387",
   "metadata": {
    "pycharm": {
     "is_executing": true,
     "name": "#%% md\n"
    }
   },
   "source": [
    "### pour 20 000 post\n",
    "Cross validation CV=5\n",
    "MLPClassifier(max_iter=500), param_grid, cv=5, scoring='f1_micro')\n",
    "\n",
    "Best cross-validation score: 0.87\n",
    "Best parameters:  {'learning_rate_init': 0.001, 'alpha': 0.1}\n",
    "Best nombre de features:  2\n",
    "['python', 'r']\n",
    "\n",
    "Best cross-validation score: 0.88\n",
    "Best parameters:  {'learning_rate_init': 0.0001, 'alpha': 0.1}\n",
    "Best nombre de features:  4\n",
    "['django', 'ggplot2', 'python', 'r']\n",
    "\n",
    "Best cross-validation score: 0.92\n",
    "Best parameters:  {'learning_rate_init': 0.0001, 'alpha': 0.1}\n",
    "Best nombre de features:  8\n",
    "['dataframe', 'django', 'ggplot2', 'list', 'numpy', 'python', 'r', 'string']\n",
    "\n",
    "Best cross-validation score: 0.87\n",
    "Best parameters:  {'learning_rate_init': 0.0001, 'alpha': 0.1}\n",
    "Best nombre de features:  16\n",
    "['2', '3', 'data', 'dataframe', 'dictionary', 'django', 'ggplot2', 'list', 'matplotlib', 'numpy', 'pandas', 'python', 'r', 'regex', 'string', 'x']\n",
    "\n",
    "Best cross-validation score: 0.91\n",
    "Best parameters:  {'learning_rate_init': 0.0001, 'alpha': 0.1}\n",
    "Best nombre de features:  32\n",
    "['2', '3', '7', 'class', 'data', 'dataframe', 'datetime', 'dictionary', 'django', 'dplyr', 'faq', 'file', 'flask', 'function', 'ggplot2', 'import', 'list', 'matplotlib', 'models', 'numpy', 'pandas', 'performance', 'plot', 'python', 'r', 'regex', 'scipy', 'sqlalchemy', 'string', 'table', 'testing', 'x']\n",
    "\n",
    "CPU times: user 13d 12h 11min 43s, sys: 2h 41min 2s, total: 13d 14h 52min 45s\n",
    "Wall time: 2d 7h 36min 50s"
   ]
  },
  {
   "cell_type": "code",
   "execution_count": null,
   "id": "7c3b7868",
   "metadata": {
    "ExecuteTime": {
     "end_time": "2021-06-15T14:48:25.152671Z",
     "start_time": "2021-06-15T14:46:30.710Z"
    },
    "pycharm": {
     "is_executing": true,
     "name": "#%%\n"
    }
   },
   "outputs": [],
   "source": [
    "\n",
    "import pickle\n",
    "\n",
    "clf=grid.best_estimator_\n",
    "\n",
    "pickle.dump(clf, open('models/final_prediction.pickle', 'wb'))"
   ]
  },
  {
   "cell_type": "code",
   "execution_count": null,
   "id": "61fb653b",
   "metadata": {
    "ExecuteTime": {
     "end_time": "2021-06-15T14:48:25.153348Z",
     "start_time": "2021-06-15T14:46:30.712Z"
    },
    "pycharm": {
     "is_executing": true,
     "name": "#%%\n"
    }
   },
   "outputs": [],
   "source": [
    "id_sample = 100\n",
    "new_post = text_train[id_sample]\n",
    "new_post_vect = vect_X.transform([new_post])\n",
    "y_predict = clf.predict(new_post_vect)\n",
    "\n",
    "tags = np.argsort(y_predict[0,:])[::-1][:10].tolist()\n",
    "scores = np.sort(y_predict[0,:])[::-1][:10]\n",
    "print(df_questions.Title_raw[id_sample],'\\n')\n",
    "print(df_questions.Body[id_sample],'\\n')\n",
    "print(text_train[id_sample])\n",
    "for tag,score in zip(tags,scores) :\n",
    "    if score > 0  :\n",
    "        print(feature_names_Y[tag],score)"
   ]
  },
  {
   "cell_type": "code",
   "execution_count": null,
   "id": "15312c3f",
   "metadata": {
    "ExecuteTime": {
     "end_time": "2021-06-15T14:48:25.153907Z",
     "start_time": "2021-06-15T14:46:30.713Z"
    },
    "pycharm": {
     "is_executing": true,
     "name": "#%%\n"
    }
   },
   "outputs": [],
   "source": [
    "y_labels = Y_train[id_sample]\n",
    "tags = np.argsort(y_labels)[::-1][:10].tolist()\n",
    "scores = np.sort(y_labels)[::-1][:10]\n",
    "for tag,score in zip(tags,scores) :\n",
    "    if score > 0  :\n",
    "        print(feature_names_Y[tag],score)"
   ]
  },
  {
   "cell_type": "code",
   "execution_count": null,
   "id": "c58993eb",
   "metadata": {
    "ExecuteTime": {
     "end_time": "2021-06-15T14:48:25.154410Z",
     "start_time": "2021-06-15T14:46:30.714Z"
    },
    "pycharm": {
     "is_executing": true,
     "name": "#%%\n"
    }
   },
   "outputs": [],
   "source": [
    "scores"
   ]
  },
  {
   "cell_type": "code",
   "execution_count": null,
   "id": "27a9607a",
   "metadata": {
    "pycharm": {
     "is_executing": true,
     "name": "#%%\n"
    }
   },
   "outputs": [],
   "source": []
  }
 ],
 "metadata": {
  "kernelspec": {
   "display_name": "Python 3",
   "language": "python",
   "name": "python3"
  },
  "language_info": {
   "codemirror_mode": {
    "name": "ipython",
    "version": 3
   },
   "file_extension": ".py",
   "mimetype": "text/x-python",
   "name": "python",
   "nbconvert_exporter": "python",
   "pygments_lexer": "ipython3",
   "version": "3.8.5"
  },
  "toc": {
   "base_numbering": 1,
   "nav_menu": {},
   "number_sections": true,
   "sideBar": true,
   "skip_h1_title": false,
   "title_cell": "Table of Contents",
   "title_sidebar": "Contents",
   "toc_cell": false,
   "toc_position": {},
   "toc_section_display": true,
   "toc_window_display": false
  },
  "varInspector": {
   "cols": {
    "lenName": 16,
    "lenType": 16,
    "lenVar": 40
   },
   "kernels_config": {
    "python": {
     "delete_cmd_postfix": "",
     "delete_cmd_prefix": "del ",
     "library": "var_list.py",
     "varRefreshCmd": "print(var_dic_list())"
    },
    "r": {
     "delete_cmd_postfix": ") ",
     "delete_cmd_prefix": "rm(",
     "library": "var_list.r",
     "varRefreshCmd": "cat(var_dic_list()) "
    }
   },
   "types_to_exclude": [
    "module",
    "function",
    "builtin_function_or_method",
    "instance",
    "_Feature"
   ],
   "window_display": false
  }
 },
 "nbformat": 4,
 "nbformat_minor": 5
}