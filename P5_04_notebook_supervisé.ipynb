{
 "cells": [
  {
   "cell_type": "markdown",
   "id": "ecc3bee7",
   "metadata": {},
   "source": [
    "Dans ce notebook nous allons analyser la base de donées des post Python et R pour un entrainement de modèles supervisés.\n",
    "\n",
    "Nous allons commencer avec une regresion logistique pour une clasification entre les posts Python et R, nous allons par la suite ajouter les autres tags disponibles et faire une classifaction One vs All \n",
    "\n",
    "Une fois le modèle entrainé nous allons le comparer avec un modèle RNN"
   ]
  },
  {
   "cell_type": "markdown",
   "id": "3bce7668",
   "metadata": {},
   "source": [
    "# Importation des bibliothèques"
   ]
  },
  {
   "cell_type": "code",
   "execution_count": 2,
   "id": "cdfef178",
   "metadata": {
    "ExecuteTime": {
     "end_time": "2021-06-03T15:39:30.889268Z",
     "start_time": "2021-06-03T15:39:30.881106Z"
    }
   },
   "outputs": [],
   "source": [
    "import pandas as pd\n",
    "from nltk.corpus import stopwords\n",
    "import re\n",
    "from wordcloud import WordCloud , STOPWORDS\n",
    "import matplotlib.pyplot as plt\n",
    "from transformers import (GPT2Config,GPT2LMHeadModel,GPT2Tokenizer)\n",
    "from tqdm.notebook import tqdm\n",
    "import torch\n",
    "\n",
    "pd.set_option('display.max_colwidth', None)"
   ]
  },
  {
   "cell_type": "markdown",
   "id": "7e2dbaef",
   "metadata": {},
   "source": [
    "# Importation des données "
   ]
  },
  {
   "cell_type": "code",
   "execution_count": 3,
   "id": "8b8e2d2e",
   "metadata": {
    "ExecuteTime": {
     "end_time": "2021-06-03T15:40:45.473647Z",
     "start_time": "2021-06-03T15:40:45.430867Z"
    }
   },
   "outputs": [
    {
     "name": "stdout",
     "output_type": "stream",
     "text": [
      "1000\n"
     ]
    },
    {
     "data": {
      "text/html": [
       "<div>\n",
       "<style scoped>\n",
       "    .dataframe tbody tr th:only-of-type {\n",
       "        vertical-align: middle;\n",
       "    }\n",
       "\n",
       "    .dataframe tbody tr th {\n",
       "        vertical-align: top;\n",
       "    }\n",
       "\n",
       "    .dataframe thead th {\n",
       "        text-align: right;\n",
       "    }\n",
       "</style>\n",
       "<table border=\"1\" class=\"dataframe\">\n",
       "  <thead>\n",
       "    <tr style=\"text-align: right;\">\n",
       "      <th></th>\n",
       "      <th>Id</th>\n",
       "      <th>Title</th>\n",
       "      <th>Body</th>\n",
       "      <th>Score</th>\n",
       "      <th>Title_raw</th>\n",
       "      <th>Text</th>\n",
       "    </tr>\n",
       "  </thead>\n",
       "  <tbody>\n",
       "    <tr>\n",
       "      <th>0</th>\n",
       "      <td>1544907</td>\n",
       "      <td>melt two column</td>\n",
       "      <td>follow variable data frame type ialt idx idx idx farve farve dm meltd idctypeialt get variable type ialt value idx idx idx farve farve represent really want something like type ialt value value farve farve represent value reason want would like something line color value fall rise edit shane show reshape data via two melt merge strategy seam ill conceive begin one word see shanes solution ggplotdm labeltypesizeialt geomline geomtextdatasubsetdm variableidxhjust size themebw scalexdiscreteexpandc optslegendpositionnone assume need cast figure data structurelisttype structurecl label calvorligere andre strafferetlige rlove andre bedrageri brandstiftelse mv dokumentfalsk rdselslovovertr vrigt rdselsuheld med falsk forklaring forbr mod myndighed freds og rekr leri rv rk bank forretn mv indbrud fritidshuse garager mv indbrud villaer lejligheder mv love vedr og lign love vedr spil bev ring euforiserende stoffer mangler ved veri simpel vold spiritus og promillek rsel trusler tyvbrugstyv af andet tyvbrugstyv af cykel tyvbrugstyv af indr ret tyvbrugstyv af knallert tyveri fra bil mv omgang med hittegods benloven vold mod myndighed class factor ialt cl idx idx idx farve cgreen green green green green green green green red green green green red green green green green farve cred green green red green green green green green green red name ctype ialt idx idx idx farve farve class dataframe rownames cna</td>\n",
       "      <td>26</td>\n",
       "      <td>melt to two variable columns</td>\n",
       "      <td>melt two column follow variable data frame type ialt idx idx idx farve farve dm meltd idctypeialt get variable type ialt value idx idx idx farve farve represent really want something like type ialt value value farve farve represent value reason want would like something line color value fall rise edit shane show reshape data via two melt merge strategy seam ill conceive begin one word see shanes solution ggplotdm labeltypesizeialt geomline geomtextdatasubsetdm variableidxhjust size themebw scalexdiscreteexpandc optslegendpositionnone assume need cast figure data structurelisttype structurecl label calvorligere andre strafferetlige rlove andre bedrageri brandstiftelse mv dokumentfalsk rdselslovovertr vrigt rdselsuheld med falsk forklaring forbr mod myndighed freds og rekr leri rv rk bank forretn mv indbrud fritidshuse garager mv indbrud villaer lejligheder mv love vedr og lign love vedr spil bev ring euforiserende stoffer mangler ved veri simpel vold spiritus og promillek rsel trusler tyvbrugstyv af andet tyvbrugstyv af cykel tyvbrugstyv af indr ret tyvbrugstyv af knallert tyveri fra bil mv omgang med hittegods benloven vold mod myndighed class factor ialt cl idx idx idx farve cgreen green green green green green green green red green green green red green green green green farve cred green green red green green green green green green red name ctype ialt idx idx idx farve farve class dataframe rownames cna</td>\n",
       "    </tr>\n",
       "    <tr>\n",
       "      <th>1</th>\n",
       "      <td>195625</td>\n",
       "      <td>time complexity pop element list python</td>\n",
       "      <td>wonder time complexity pop list object python cpython particulary also value affect complexity</td>\n",
       "      <td>55</td>\n",
       "      <td>What is the time complexity of popping elements from list in Python?</td>\n",
       "      <td>time complexity pop element list python wonder time complexity pop list object python cpython particulary also value affect complexity</td>\n",
       "    </tr>\n",
       "    <tr>\n",
       "      <th>2</th>\n",
       "      <td>6052631</td>\n",
       "      <td>data monthyear interval</td>\n",
       "      <td>often work date imagine fairly column represent date dataframe simply want dataframe summarize column monthyear use date approach want dataframe feed plot help provide greatly edit reference strtemp dataframe ob variable date posixct format amount num headtemp date amount</td>\n",
       "      <td>62</td>\n",
       "      <td>Aggregate Daily Data to Month/Year intervals</td>\n",
       "      <td>data monthyear interval often work date imagine fairly column represent date dataframe simply want dataframe summarize column monthyear use date approach want dataframe feed plot help provide greatly edit reference strtemp dataframe ob variable date posixct format amount num headtemp date amount</td>\n",
       "    </tr>\n",
       "    <tr>\n",
       "      <th>3</th>\n",
       "      <td>8809004</td>\n",
       "      <td>escape roxygen style documentation</td>\n",
       "      <td>let u say comment block would like email address would go escape symbol roxygen treat text instead</td>\n",
       "      <td>20</td>\n",
       "      <td>Escaping \"@\" in Roxygen2 Style Documentation</td>\n",
       "      <td>escape roxygen style documentation let u say comment block would like email address would go escape symbol roxygen treat text instead</td>\n",
       "    </tr>\n",
       "    <tr>\n",
       "      <th>4</th>\n",
       "      <td>1355355</td>\n",
       "      <td>loop select item list</td>\n",
       "      <td>could solve use loop try think vector code list name format firstnamelastname want get list list first name seem get mind around example data cbobsmithmaryjanejosechungmichaelmarxcharlieivan tsplit strsplitt look like tsplit bob smith jane jose chung michael marx charlie ivan could get use loop like lengthtsplit tout tspliti elsetout appendtout tspliti would give tout bob jose michael charlie without loop</td>\n",
       "      <td>31</td>\n",
       "      <td>How to avoid a loop in R: selecting items from a list</td>\n",
       "      <td>loop select item list could solve use loop try think vector code list name format firstnamelastname want get list list first name seem get mind around example data cbobsmithmaryjanejosechungmichaelmarxcharlieivan tsplit strsplitt look like tsplit bob smith jane jose chung michael marx charlie ivan could get use loop like lengthtsplit tout tspliti elsetout appendtout tspliti would give tout bob jose michael charlie without loop</td>\n",
       "    </tr>\n",
       "  </tbody>\n",
       "</table>\n",
       "</div>"
      ],
      "text/plain": [
       "        Id                                    Title  \\\n",
       "0  1544907                          melt two column   \n",
       "1   195625  time complexity pop element list python   \n",
       "2  6052631                  data monthyear interval   \n",
       "3  8809004       escape roxygen style documentation   \n",
       "4  1355355                    loop select item list   \n",
       "\n",
       "                                                                                                                                                                                                                                                                                                                                                                                                                                                                                                                                                                                                                                                                                                                                                                                                                                                                                                                                                                                                                                                                                                                                                                                                                                                                                                                                                                                                                                                                    Body  \\\n",
       "0  follow variable data frame type ialt idx idx idx farve farve dm meltd idctypeialt get variable type ialt value idx idx idx farve farve represent really want something like type ialt value value farve farve represent value reason want would like something line color value fall rise edit shane show reshape data via two melt merge strategy seam ill conceive begin one word see shanes solution ggplotdm labeltypesizeialt geomline geomtextdatasubsetdm variableidxhjust size themebw scalexdiscreteexpandc optslegendpositionnone assume need cast figure data structurelisttype structurecl label calvorligere andre strafferetlige rlove andre bedrageri brandstiftelse mv dokumentfalsk rdselslovovertr vrigt rdselsuheld med falsk forklaring forbr mod myndighed freds og rekr leri rv rk bank forretn mv indbrud fritidshuse garager mv indbrud villaer lejligheder mv love vedr og lign love vedr spil bev ring euforiserende stoffer mangler ved veri simpel vold spiritus og promillek rsel trusler tyvbrugstyv af andet tyvbrugstyv af cykel tyvbrugstyv af indr ret tyvbrugstyv af knallert tyveri fra bil mv omgang med hittegods benloven vold mod myndighed class factor ialt cl idx idx idx farve cgreen green green green green green green green red green green green red green green green green farve cred green green red green green green green green green red name ctype ialt idx idx idx farve farve class dataframe rownames cna   \n",
       "1                                                                                                                                                                                                                                                                                                                                                                                                                                                                                                                                                                                                                                                                                                                                                                                                                                                                                                                                                                                                                                                                                                                                                                                                                                                                                                                                                                         wonder time complexity pop list object python cpython particulary also value affect complexity   \n",
       "2                                                                                                                                                                                                                                                                                                                                                                                                                                                                                                                                                                                                                                                                                                                                                                                                                                                                                                                                                                                                                                                                                                                                                                                       often work date imagine fairly column represent date dataframe simply want dataframe summarize column monthyear use date approach want dataframe feed plot help provide greatly edit reference strtemp dataframe ob variable date posixct format amount num headtemp date amount   \n",
       "3                                                                                                                                                                                                                                                                                                                                                                                                                                                                                                                                                                                                                                                                                                                                                                                                                                                                                                                                                                                                                                                                                                                                                                                                                                                                                                                                                                     let u say comment block would like email address would go escape symbol roxygen treat text instead   \n",
       "4                                                                                                                                                                                                                                                                                                                                                                                                                                                                                                                                                                                                                                                                                                                                                                                                                                                                                                                                                                                                                                               could solve use loop try think vector code list name format firstnamelastname want get list list first name seem get mind around example data cbobsmithmaryjanejosechungmichaelmarxcharlieivan tsplit strsplitt look like tsplit bob smith jane jose chung michael marx charlie ivan could get use loop like lengthtsplit tout tspliti elsetout appendtout tspliti would give tout bob jose michael charlie without loop   \n",
       "\n",
       "   Score  \\\n",
       "0     26   \n",
       "1     55   \n",
       "2     62   \n",
       "3     20   \n",
       "4     31   \n",
       "\n",
       "                                                              Title_raw  \\\n",
       "0                                          melt to two variable columns   \n",
       "1  What is the time complexity of popping elements from list in Python?   \n",
       "2                          Aggregate Daily Data to Month/Year intervals   \n",
       "3                          Escaping \"@\" in Roxygen2 Style Documentation   \n",
       "4                 How to avoid a loop in R: selecting items from a list   \n",
       "\n",
       "                                                                                                                                                                                                                                                                                                                                                                                                                                                                                                                                                                                                                                                                                                                                                                                                                                                                                                                                                                                                                                                                                                                                                                                                                                                                                                                                                                                                                                                                                    Text  \n",
       "0  melt two column follow variable data frame type ialt idx idx idx farve farve dm meltd idctypeialt get variable type ialt value idx idx idx farve farve represent really want something like type ialt value value farve farve represent value reason want would like something line color value fall rise edit shane show reshape data via two melt merge strategy seam ill conceive begin one word see shanes solution ggplotdm labeltypesizeialt geomline geomtextdatasubsetdm variableidxhjust size themebw scalexdiscreteexpandc optslegendpositionnone assume need cast figure data structurelisttype structurecl label calvorligere andre strafferetlige rlove andre bedrageri brandstiftelse mv dokumentfalsk rdselslovovertr vrigt rdselsuheld med falsk forklaring forbr mod myndighed freds og rekr leri rv rk bank forretn mv indbrud fritidshuse garager mv indbrud villaer lejligheder mv love vedr og lign love vedr spil bev ring euforiserende stoffer mangler ved veri simpel vold spiritus og promillek rsel trusler tyvbrugstyv af andet tyvbrugstyv af cykel tyvbrugstyv af indr ret tyvbrugstyv af knallert tyveri fra bil mv omgang med hittegods benloven vold mod myndighed class factor ialt cl idx idx idx farve cgreen green green green green green green green red green green green red green green green green farve cred green green red green green green green green green red name ctype ialt idx idx idx farve farve class dataframe rownames cna  \n",
       "1                                                                                                                                                                                                                                                                                                                                                                                                                                                                                                                                                                                                                                                                                                                                                                                                                                                                                                                                                                                                                                                                                                                                                                                                                                                                                                                                                 time complexity pop element list python wonder time complexity pop list object python cpython particulary also value affect complexity  \n",
       "2                                                                                                                                                                                                                                                                                                                                                                                                                                                                                                                                                                                                                                                                                                                                                                                                                                                                                                                                                                                                                                                                                                                                                                               data monthyear interval often work date imagine fairly column represent date dataframe simply want dataframe summarize column monthyear use date approach want dataframe feed plot help provide greatly edit reference strtemp dataframe ob variable date posixct format amount num headtemp date amount  \n",
       "3                                                                                                                                                                                                                                                                                                                                                                                                                                                                                                                                                                                                                                                                                                                                                                                                                                                                                                                                                                                                                                                                                                                                                                                                                                                                                                                                                  escape roxygen style documentation let u say comment block would like email address would go escape symbol roxygen treat text instead  \n",
       "4                                                                                                                                                                                                                                                                                                                                                                                                                                                                                                                                                                                                                                                                                                                                                                                                                                                                                                                                                                                                                                         loop select item list could solve use loop try think vector code list name format firstnamelastname want get list list first name seem get mind around example data cbobsmithmaryjanejosechungmichaelmarxcharlieivan tsplit strsplitt look like tsplit bob smith jane jose chung michael marx charlie ivan could get use loop like lengthtsplit tout tspliti elsetout appendtout tspliti would give tout bob jose michael charlie without loop  "
      ]
     },
     "metadata": {},
     "output_type": "display_data"
    },
    {
     "data": {
      "text/html": [
       "<div>\n",
       "<style scoped>\n",
       "    .dataframe tbody tr th:only-of-type {\n",
       "        vertical-align: middle;\n",
       "    }\n",
       "\n",
       "    .dataframe tbody tr th {\n",
       "        vertical-align: top;\n",
       "    }\n",
       "\n",
       "    .dataframe thead th {\n",
       "        text-align: right;\n",
       "    }\n",
       "</style>\n",
       "<table border=\"1\" class=\"dataframe\">\n",
       "  <thead>\n",
       "    <tr style=\"text-align: right;\">\n",
       "      <th></th>\n",
       "      <th>Id</th>\n",
       "      <th>Tags</th>\n",
       "    </tr>\n",
       "  </thead>\n",
       "  <tbody>\n",
       "    <tr>\n",
       "      <th>0</th>\n",
       "      <td>1544907</td>\n",
       "      <td>r</td>\n",
       "    </tr>\n",
       "    <tr>\n",
       "      <th>1</th>\n",
       "      <td>1544907</td>\n",
       "      <td>ggplot2</td>\n",
       "    </tr>\n",
       "    <tr>\n",
       "      <th>2</th>\n",
       "      <td>1544907</td>\n",
       "      <td>reshape</td>\n",
       "    </tr>\n",
       "    <tr>\n",
       "      <th>3</th>\n",
       "      <td>195625</td>\n",
       "      <td>python</td>\n",
       "    </tr>\n",
       "    <tr>\n",
       "      <th>4</th>\n",
       "      <td>6052631</td>\n",
       "      <td>datetime</td>\n",
       "    </tr>\n",
       "  </tbody>\n",
       "</table>\n",
       "</div>"
      ],
      "text/plain": [
       "        Id      Tags\n",
       "0  1544907         r\n",
       "1  1544907   ggplot2\n",
       "2  1544907   reshape\n",
       "3   195625    python\n",
       "4  6052631  datetime"
      ]
     },
     "metadata": {},
     "output_type": "display_data"
    }
   ],
   "source": [
    "dtypes_questions = {'Id':'int32', 'Score': 'int16', 'Title': 'str',\n",
    "                    'Body': 'str', 'Title_raw': 'str', 'Text': 'str'}\n",
    "\n",
    "nrows = 1000\n",
    "\n",
    "df_questions = pd.read_csv('df_questions_fullclean.csv',\n",
    "                           usecols=dtypes_questions.keys(),\n",
    "                           encoding = \"utf-8\",\n",
    "                           dtype=dtypes_questions,\n",
    "                           nrows=nrows\n",
    "                          )\n",
    "\n",
    "df_tags_list = pd.read_csv('tags_list.csv',\n",
    "                           usecols=['Id', 'Tags'],\n",
    "                           encoding = \"utf-8\",\n",
    "                           dtype=dtypes_questions,\n",
    "                           #nrows=nrows # un post peut avoir plusieurs tags\n",
    "                          )\n",
    "print(len(df_questions))\n",
    "display(df_questions.head(5))\n",
    "display(df_tags_list.head(5))"
   ]
  },
  {
   "cell_type": "code",
   "execution_count": null,
   "id": "47355cd6",
   "metadata": {},
   "outputs": [],
   "source": [
    "# création des labels python et r\n",
    "\n"
   ]
  }
 ],
 "metadata": {
  "kernelspec": {
   "display_name": "Python 3",
   "language": "python",
   "name": "python3"
  },
  "toc": {
   "base_numbering": 1,
   "nav_menu": {},
   "number_sections": true,
   "sideBar": true,
   "skip_h1_title": false,
   "title_cell": "Table of Contents",
   "title_sidebar": "Contents",
   "toc_cell": false,
   "toc_position": {},
   "toc_section_display": true,
   "toc_window_display": false
  },
  "varInspector": {
   "cols": {
    "lenName": 16,
    "lenType": 16,
    "lenVar": 40
   },
   "kernels_config": {
    "python": {
     "delete_cmd_postfix": "",
     "delete_cmd_prefix": "del ",
     "library": "var_list.py",
     "varRefreshCmd": "print(var_dic_list())"
    },
    "r": {
     "delete_cmd_postfix": ") ",
     "delete_cmd_prefix": "rm(",
     "library": "var_list.r",
     "varRefreshCmd": "cat(var_dic_list()) "
    }
   },
   "types_to_exclude": [
    "module",
    "function",
    "builtin_function_or_method",
    "instance",
    "_Feature"
   ],
   "window_display": false
  }
 },
 "nbformat": 4,
 "nbformat_minor": 5
}
