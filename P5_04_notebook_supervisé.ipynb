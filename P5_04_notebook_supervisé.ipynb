{
 "cells": [
  {
   "cell_type": "markdown",
   "id": "ecc3bee7",
   "metadata": {},
   "source": [
    "Dans ce notebook nous allons analyser la base de donées des post Python et R pour un\n",
    "entrainement de modèles supervisés.\n",
    "\n",
    "Nous allons commencer avec un modèle KNN, puis RandomForest et un Multi Layer Perceptron\n",
    "pour une classification entre les posts Python et R, nous allons utiliser plusieurs tags par post\n",
    "avec la strategie One vs All\n",
    "\n",
    "Une fois le modèle entrainé nous allons comparer leurs scores F1 et choisir le meilleur pour\n",
    "l'utiliser dans notre API"
   ]
  },
  {
   "cell_type": "markdown",
   "id": "3bce7668",
   "metadata": {},
   "source": [
    "# Importation des bibliothèques"
   ]
  },
  {
   "cell_type": "code",
   "execution_count": 2,
   "id": "cdfef178",
   "metadata": {
    "ExecuteTime": {
     "end_time": "2021-06-18T09:13:59.854048Z",
     "start_time": "2021-06-18T09:13:59.610376Z"
    }
   },
   "outputs": [],
   "source": [
    "import pandas as pd\n",
    "import numpy as np\n",
    "from IPython.core.display import display\n",
    "import pickle # pour exporter les modèles entrainés\n",
    "\n",
    "\n",
    "\n",
    "pd.set_option('display.max_colwidth', None)"
   ]
  },
  {
   "cell_type": "markdown",
   "id": "7e2dbaef",
   "metadata": {},
   "source": [
    "# Importation des données "
   ]
  },
  {
   "cell_type": "code",
   "execution_count": 3,
   "id": "8b8e2d2e",
   "metadata": {
    "ExecuteTime": {
     "end_time": "2021-06-18T09:13:59.926324Z",
     "start_time": "2021-06-18T09:13:59.855300Z"
    }
   },
   "outputs": [
    {
     "name": "stdout",
     "output_type": "stream",
     "text": [
      "13907\n"
     ]
    },
    {
     "data": {
      "text/plain": "         Id                                                         Title  \\\n0   5649407                                           string array python   \n1   7974849                              make one python file run another   \n2  29554796                          mean band width ggplot geomsmooth lm   \n3    250151                            lua generalpurpose script language   \n4   1342000  make python interpreter correctly character string operation   \n\n                                                                                                                                                                                                                                                                                                                                               Body  \\\n0                                                                                                                                                                                                                                             long string represent series value type convert hex string array shift value convert proper data type   \n1                                                                                                                                                                                                                                                                make one python file run another example two py file want one file run run py file   \n2                                                                                                                                                                          follow code libraryggplot ggplotmtcars aesxwt geompointaescolourfactorcyl geomsmoothmethodlm get question grey zone define mean play around parameter control width band   \n3                                     see thing ever read embed often anything world warcraft wow limit embed thing another application write script like python perl lua seem aspect like speed memoryusage script language afaik never see lua use scriptinglanguage automate task example rename file download file web webscraping lack library   \n4  string look like way string understand python simply say string call get sreplace course complain character xc file blablapy encode never quite could understand switch encoding code really file save notepad follow header cod code f soup beautifulsoupf soupfinddiv idmaincount make print go well show sreplace savemaincounts get sreplace   \n\n                   Tags  Score  \\\n0      python bytearray    182   \n1                python    355   \n2             r ggplot2     32   \n3  python scripting lua     36   \n4        python unicode    104   \n\n                                                                                        Title_raw  \\\n0                                                      hexadecimal string to byte array in python   \n1                                                     How can I make one python file run another?   \n2                                                  Meaning of band width in ggplot geom_smooth lm   \n3                                                    Lua as a general-purpose scripting language?   \n4  How to make the python interpreter correctly handle non-ASCII characters in string operations?   \n\n                                                                                                                                                                                                                                                                                                                                                                                                            Text  \n0                                                                                                                                                                                                                                                                                      string array python long string represent series value type convert hex string array shift value convert proper data type  \n1                                                                                                                                                                                                                                                                                            make one python file run another make one python file run another example two py file want one file run run py file  \n2                                                                                                                                                                                                  mean band width ggplot geomsmooth lm follow code libraryggplot ggplotmtcars aesxwt geompointaescolourfactorcyl geomsmoothmethodlm get question grey zone define mean play around parameter control width band  \n3                                                               lua generalpurpose script language see thing ever read embed often anything world warcraft wow limit embed thing another application write script like python perl lua seem aspect like speed memoryusage script language afaik never see lua use scriptinglanguage automate task example rename file download file web webscraping lack library  \n4  make python interpreter correctly character string operation string look like way string understand python simply say string call get sreplace course complain character xc file blablapy encode never quite could understand switch encoding code really file save notepad follow header cod code f soup beautifulsoupf soupfinddiv idmaincount make print go well show sreplace savemaincounts get sreplace  ",
      "text/html": "<div>\n<style scoped>\n    .dataframe tbody tr th:only-of-type {\n        vertical-align: middle;\n    }\n\n    .dataframe tbody tr th {\n        vertical-align: top;\n    }\n\n    .dataframe thead th {\n        text-align: right;\n    }\n</style>\n<table border=\"1\" class=\"dataframe\">\n  <thead>\n    <tr style=\"text-align: right;\">\n      <th></th>\n      <th>Id</th>\n      <th>Title</th>\n      <th>Body</th>\n      <th>Tags</th>\n      <th>Score</th>\n      <th>Title_raw</th>\n      <th>Text</th>\n    </tr>\n  </thead>\n  <tbody>\n    <tr>\n      <th>0</th>\n      <td>5649407</td>\n      <td>string array python</td>\n      <td>long string represent series value type convert hex string array shift value convert proper data type</td>\n      <td>python bytearray</td>\n      <td>182</td>\n      <td>hexadecimal string to byte array in python</td>\n      <td>string array python long string represent series value type convert hex string array shift value convert proper data type</td>\n    </tr>\n    <tr>\n      <th>1</th>\n      <td>7974849</td>\n      <td>make one python file run another</td>\n      <td>make one python file run another example two py file want one file run run py file</td>\n      <td>python</td>\n      <td>355</td>\n      <td>How can I make one python file run another?</td>\n      <td>make one python file run another make one python file run another example two py file want one file run run py file</td>\n    </tr>\n    <tr>\n      <th>2</th>\n      <td>29554796</td>\n      <td>mean band width ggplot geomsmooth lm</td>\n      <td>follow code libraryggplot ggplotmtcars aesxwt geompointaescolourfactorcyl geomsmoothmethodlm get question grey zone define mean play around parameter control width band</td>\n      <td>r ggplot2</td>\n      <td>32</td>\n      <td>Meaning of band width in ggplot geom_smooth lm</td>\n      <td>mean band width ggplot geomsmooth lm follow code libraryggplot ggplotmtcars aesxwt geompointaescolourfactorcyl geomsmoothmethodlm get question grey zone define mean play around parameter control width band</td>\n    </tr>\n    <tr>\n      <th>3</th>\n      <td>250151</td>\n      <td>lua generalpurpose script language</td>\n      <td>see thing ever read embed often anything world warcraft wow limit embed thing another application write script like python perl lua seem aspect like speed memoryusage script language afaik never see lua use scriptinglanguage automate task example rename file download file web webscraping lack library</td>\n      <td>python scripting lua</td>\n      <td>36</td>\n      <td>Lua as a general-purpose scripting language?</td>\n      <td>lua generalpurpose script language see thing ever read embed often anything world warcraft wow limit embed thing another application write script like python perl lua seem aspect like speed memoryusage script language afaik never see lua use scriptinglanguage automate task example rename file download file web webscraping lack library</td>\n    </tr>\n    <tr>\n      <th>4</th>\n      <td>1342000</td>\n      <td>make python interpreter correctly character string operation</td>\n      <td>string look like way string understand python simply say string call get sreplace course complain character xc file blablapy encode never quite could understand switch encoding code really file save notepad follow header cod code f soup beautifulsoupf soupfinddiv idmaincount make print go well show sreplace savemaincounts get sreplace</td>\n      <td>python unicode</td>\n      <td>104</td>\n      <td>How to make the python interpreter correctly handle non-ASCII characters in string operations?</td>\n      <td>make python interpreter correctly character string operation string look like way string understand python simply say string call get sreplace course complain character xc file blablapy encode never quite could understand switch encoding code really file save notepad follow header cod code f soup beautifulsoupf soupfinddiv idmaincount make print go well show sreplace savemaincounts get sreplace</td>\n    </tr>\n  </tbody>\n</table>\n</div>"
     },
     "metadata": {},
     "output_type": "display_data"
    }
   ],
   "source": [
    "dtypes_questions = {'Id':'int32', 'Score': 'int16', 'Title': 'str',\n",
    "                    'Body': 'str', 'Title_raw': 'str', 'Text': 'str',\n",
    "                    'Tags': 'str'}\n",
    "\n",
    "nrows = 20000\n",
    "\n",
    "df_questions = pd.read_csv('df_questions_fullclean.csv',\n",
    "                           usecols=dtypes_questions.keys(),\n",
    "                           encoding = \"utf-8\",\n",
    "                           dtype=dtypes_questions,\n",
    "                           nrows=nrows\n",
    "                          )\n",
    "\n",
    "print(len(df_questions))\n",
    "display(df_questions.head(5))\n"
   ]
  },
  {
   "cell_type": "code",
   "execution_count": 4,
   "id": "47355cd6",
   "metadata": {
    "ExecuteTime": {
     "end_time": "2021-06-18T09:13:59.930818Z",
     "start_time": "2021-06-18T09:13:59.927722Z"
    }
   },
   "outputs": [
    {
     "name": "stdout",
     "output_type": "stream",
     "text": [
      "type of text_train: <class 'pandas.core.series.Series'>\n",
      "length of text_train: 13907\n",
      "text_train[6]:\n",
      "python count element object match attribute try find way count number object match criterion eg class person def initself age gender selfname name selfage age selfgender gender list people peoplelist f personhenry personmarg f function count number object match argument base attribute return persongender f personage\n"
     ]
    }
   ],
   "source": [
    "# création des labels python et r\n",
    "text, tag = df_questions.Text, df_questions.Tags\n",
    "print(\"type of text_train: {}\".format(type(text)))\n",
    "print(\"length of text_train: {}\".format(len(text)))\n",
    "print(\"text_train[6]:\\n{}\".format(text[6]))"
   ]
  },
  {
   "cell_type": "code",
   "execution_count": 5,
   "id": "c7821be9",
   "metadata": {
    "ExecuteTime": {
     "end_time": "2021-06-18T09:13:59.939897Z",
     "start_time": "2021-06-18T09:13:59.931734Z"
    },
    "pycharm": {
     "name": "#%%\n"
    }
   },
   "outputs": [
    {
     "data": {
      "text/plain": "pandas.core.series.Series"
     },
     "execution_count": 5,
     "metadata": {},
     "output_type": "execute_result"
    }
   ],
   "source": [
    "type(text)"
   ]
  },
  {
   "cell_type": "code",
   "execution_count": 6,
   "id": "107f0c04",
   "metadata": {
    "ExecuteTime": {
     "end_time": "2021-06-18T09:13:59.949099Z",
     "start_time": "2021-06-18T09:13:59.940839Z"
    },
    "pycharm": {
     "name": "#%%\n"
    }
   },
   "outputs": [
    {
     "data": {
      "text/plain": "pandas.core.series.Series"
     },
     "execution_count": 6,
     "metadata": {},
     "output_type": "execute_result"
    }
   ],
   "source": [
    "type(tag)"
   ]
  },
  {
   "cell_type": "code",
   "execution_count": 7,
   "id": "f3df73fb",
   "metadata": {
    "ExecuteTime": {
     "end_time": "2021-06-18T09:13:59.957468Z",
     "start_time": "2021-06-18T09:13:59.950831Z"
    },
    "pycharm": {
     "name": "#%%\n"
    }
   },
   "outputs": [],
   "source": [
    "# ajouter les fichiers pour test"
   ]
  },
  {
   "cell_type": "markdown",
   "id": "5d9eb760",
   "metadata": {
    "pycharm": {
     "name": "#%% md\n"
    }
   },
   "source": [
    "### Répresenter les données textuelles comme un bag-of-words"
   ]
  },
  {
   "cell_type": "code",
   "execution_count": 8,
   "id": "6e8b1191",
   "metadata": {
    "ExecuteTime": {
     "end_time": "2021-06-18T09:14:23.138426Z",
     "start_time": "2021-06-18T09:14:22.651477Z"
    },
    "pycharm": {
     "name": "#%%\n"
    }
   },
   "outputs": [
    {
     "name": "stdout",
     "output_type": "stream",
     "text": [
      "X_train:\n",
      "<11907x66996 sparse matrix of type '<class 'numpy.int64'>'\n",
      "\twith 399250 stored elements in Compressed Sparse Row format>\n"
     ]
    }
   ],
   "source": [
    "from sklearn.feature_extraction.text import CountVectorizer\n",
    "\n",
    "vect_X = CountVectorizer().fit(text)\n",
    "X = vect_X.transform(text)\n",
    "\n",
    "# Les posts ont été randomisés dans le prétraitement, nous utilisons les premiers 1000 post\n",
    "# comme Validation et les suivants 1000 comme notre test set le restant de notre dataset\n",
    "# sera utilisé pour entrainement du modèle\n",
    "\n",
    "X_val = X[:1000]\n",
    "X_test = X[1000:2000]\n",
    "X_train = X[2000:]\n",
    "\n",
    "pickle.dump(vect_X, open('API/models/vect_X.pickle', 'wb')) \n",
    "# enregistre le modeèle de transformation X\n",
    "\n",
    "print(\"X_train:\\n{}\".format(repr(X_train)))"
   ]
  },
  {
   "cell_type": "code",
   "execution_count": 9,
   "id": "56034ecd",
   "metadata": {
    "ExecuteTime": {
     "end_time": "2021-06-18T09:14:24.107364Z",
     "start_time": "2021-06-18T09:14:24.094996Z"
    },
    "pycharm": {
     "name": "#%%\n"
    }
   },
   "outputs": [
    {
     "name": "stdout",
     "output_type": "stream",
     "text": [
      "Number of features: 66996\n",
      "First 20 features:\n",
      "['aa', 'aaa', 'aaaa', 'aaaaa', 'aaaaaa', 'aaaaaaaaa', 'aaaaaaaaaa', 'aaaaaaaaaaaaaaaaaaaaaaaaaaaaaaaaaaaaaaaaaaaaaaaa', 'aaaaaaaaaaaaaaaaaadwpwaaaaaaaabaaaaaaaaaceaaaaaaaaaqqaaaaaaaabraaaaaaaaageaaaaaaaaacqaaaaaaaacbaaaaaaaaaikaaaaaaaaakqaaaaaaaaczaaaaaaaaakeaaaaaaaaaqqaaaaaaaacxaaaaaaaaalkaaaaaaaaawqaaaaaaaadfaaaaaaaaamkaaaaaaaaazqaaaaaaaadraaaaaaaaanuaaaaaaaaaqaaaaaaaaddaaaaaaaaaoea', 'aaaab', 'aaaabbcccdddddd', 'aaaarghxxx', 'aaab', 'aaabbb', 'aaabbbcccdddeee', 'aaabbcc', 'aaabbzzyy', 'aaabcabccd', 'aaadcabdcaeafd', 'aaadcabdcaeafdaeeeaaaaabecaebeeddecacfffffdbebefcefdbccbbed']\n",
      "Features 20010 to 20030:\n",
      "['foobarcom', 'foobarfoo', 'foobarinfoneeded', 'foobarinfoneededhereddd', 'foobarmysettings', 'foobarnamedtuplef', 'foobarobject', 'foobarparam', 'foobarpy', 'foobarself', 'foobaseclass', 'foobaz', 'foobo', 'foobyidvalues', 'fooc', 'foochecklist', 'fooclass', 'foocleancsv', 'foocls', 'fooconf']\n",
      "Every 2000th feature:\n",
      "['aa', 'applicability', 'ballyhoo', 'cable', 'climxy', 'copyonchange', 'dataform', 'devnull', 'dstrftimem', 'expander', 'fooavi', 'geompolygoncolourblack', 'handlestarttagself', 'httpurljs', 'interrogate', 'labsxstrain', 'lmii', 'mdesc', 'mtcarsordermtcarscyl', 'newlinkstrlink', 'openmatrixtxt', 'pathappendgetcwd', 'pptx', 'pythonc', 'registerinclusiontagnewuserinfohtml', 'rotmatnotranslate', 'selfcontactpack', 'showurlsurllist', 'startswith', 'sysconfigdatand', 'thumb', 'universal', 'wideth', 'yetsomethingelse']\n"
     ]
    }
   ],
   "source": [
    "feature_names_X = vect_X.get_feature_names()\n",
    "print(\"Number of features: {}\".format(len(feature_names_X)))\n",
    "print(\"First 20 features:\\n{}\".format(feature_names_X[:20]))\n",
    "print(\"Features 20010 to 20030:\\n{}\".format(feature_names_X[20010:20030]))\n",
    "print(\"Every 2000th feature:\\n{}\".format(feature_names_X[::2000]))"
   ]
  },
  {
   "cell_type": "code",
   "execution_count": 10,
   "id": "583a9926",
   "metadata": {
    "ExecuteTime": {
     "end_time": "2021-06-18T09:24:01.059498Z",
     "start_time": "2021-06-18T09:24:01.014817Z"
    },
    "pycharm": {
     "name": "#%%\n"
    }
   },
   "outputs": [
    {
     "name": "stdout",
     "output_type": "stream",
     "text": [
      "Y_train:\n",
      "array([[0, 0, 0, ..., 0, 0, 0],\n",
      "       [0, 0, 0, ..., 0, 0, 0],\n",
      "       [0, 0, 0, ..., 0, 0, 0],\n",
      "       ...,\n",
      "       [0, 0, 0, ..., 0, 0, 0],\n",
      "       [0, 0, 0, ..., 0, 0, 0],\n",
      "       [0, 0, 0, ..., 0, 0, 0]])\n"
     ]
    }
   ],
   "source": [
    "rx = \"['(-.)\\w]+\"\n",
    "vect_Y = CountVectorizer(binary=True,\n",
    "                         max_features=None,\n",
    "                         token_pattern=rx).fit(tag)\n",
    "# nous avons laissé l'option binary true car il est inutile d'avoir plus d'une fois le même token\n",
    "# nous allons limiter le nombre de de features car le F1 Score avec tous les tags pour le modèle KNN est 0.013\n",
    "# avec 10 features nous arrivons à un F1 Score de 37,8%\n",
    "# On utilise un token_pattern different pour pouvoir récupérer le tag r\n",
    "Y = vect_Y.transform(tag).toarray()\n",
    "\n",
    "Y_val = Y[:1000]\n",
    "Y_test = Y[1000:2000]\n",
    "Y_train = Y[2000:]\n",
    "\n",
    "pickle.dump(vect_Y, open('API/models/vect_Y.pickle',\n",
    "                         'wb'))  # enregistre le modèle de transformation Y\n",
    "\n",
    "print(\"Y_train:\\n{}\".format(repr(Y_train)))"
   ]
  },
  {
   "cell_type": "code",
   "execution_count": 11,
   "id": "20e6d5e7",
   "metadata": {
    "ExecuteTime": {
     "end_time": "2021-06-18T09:24:19.088085Z",
     "start_time": "2021-06-18T09:24:19.081420Z"
    },
    "pycharm": {
     "name": "#%%\n"
    }
   },
   "outputs": [
    {
     "name": "stdout",
     "output_type": "stream",
     "text": [
      "Number of features: 3362\n",
      "First 20 features:\n",
      "['.htaccess', '.net', '2-digit-year', '2d', '32bit-64bit', '3d', '64-bit', '7zip', 'a-star', 'aabb', 'abc', 'abort', 'absolute-path', 'absolute-value', 'abstract', 'abstract-class', 'abstract-data-type', 'abstract-methods', 'abstract-syntax-tree', 'access-modifiers']\n",
      "Features 800 to 820:\n",
      "['dpapi', 'dpi', 'dplyr', 'drag-and-drop', 'draggable', 'draw', 'drawing', 'dreamhost', 'drop-down-menu', 'dry', 'dsl', 'dst', 'dt', 'dtd', 'dto', 'dtype', 'duck-typing', 'dulwich', 'dummy-variable', 'dump']\n",
      "Every 200th feature:\n",
      "['.htaccess', 'between', 'code-documentation', 'datatable', 'dpapi', 'file-upload', 'gpl', 'integer-division', 'list', 'multicore', 'package-development', 'put', 'readlines', 'scrollbar', 'statet', 'time-measurement', 'version-control']\n"
     ]
    }
   ],
   "source": [
    "feature_names_Y = vect_Y.get_feature_names()\n",
    "print(\"Number of features: {}\".format(len(feature_names_Y)))\n",
    "print(\"First 20 features:\\n{}\".format(feature_names_Y[:20]))\n",
    "print(\"Features 800 to 820:\\n{}\".format(feature_names_Y[800:820]))\n",
    "print(\"Every 200th feature:\\n{}\".format(feature_names_Y[::200]))"
   ]
  },
  {
   "cell_type": "markdown",
   "id": "6daf2e7a",
   "metadata": {
    "pycharm": {
     "name": "#%% md\n"
    }
   },
   "source": [
    "# Modèle KNN"
   ]
  },
  {
   "cell_type": "markdown",
   "id": "c14960ed",
   "metadata": {},
   "source": [
    "## Définition de fonctions"
   ]
  },
  {
   "cell_type": "code",
   "execution_count": 12,
   "id": "d269a409",
   "metadata": {
    "ExecuteTime": {
     "end_time": "2021-06-18T09:24:21.509005Z",
     "start_time": "2021-06-18T09:24:21.502820Z"
    },
    "pycharm": {
     "name": "#%%\n"
    }
   },
   "outputs": [],
   "source": [
    "def text_prediction_labels(new_post, vect_X, vect_Y, model, df_questions):\n",
    "    '''\n",
    "        Cette fonction fait une prediction de tags avec le \"model\"\n",
    "        il transforme le texte en vecteur avec vect_X\n",
    "        il fait la prédiction qu'il transforme avec vect_Y\n",
    "        il affiche la prédiction ainsi que le score donnée par le modèle\n",
    "        il affiche aussi les vrais labels\n",
    "    '''\n",
    "    feature_names_Y = vect_Y.get_feature_names() # liste des tags\n",
    "    Y_train = vect_Y.transform(df_questions.Tags) # liste des listes des Tags par post\n",
    "    new_post_vect = vect_X.transform([new_post]) # vectorisation du nouveau post pour prediction du modèle\n",
    "    y_predict = model.predict(new_post_vect) # prediction du modèle entrainé\n",
    "\n",
    "    tags = np.argsort(y_predict[0,:])[::-1][:10].tolist()\n",
    "    scores = np.sort(y_predict[0,:])[::-1][:10]\n",
    "\n",
    "    print(df_questions.Title_raw[id_sample],'\\n')\n",
    "    print(df_questions.Body[id_sample],'\\n')\n",
    "    print(df_questions.Text[id_sample])\n",
    "    print('\\n','Tags prediction : ', '\\n')\n",
    "    for tag,score in zip(tags,scores) :\n",
    "        if score > 0  :\n",
    "            print(feature_names_Y[tag],score)\n",
    "    print('\\n','Tags labels : ','\\n')\n",
    "    \n",
    "    y_labels = Y_train[id_sample].toarray()\n",
    "    tags = np.argsort(y_labels[0,:])[::-1][:10].tolist()\n",
    "    scores = np.sort(y_labels[0,:])[::-1][:10]\n",
    "    for tag,score in zip(tags,scores) :\n",
    "        if score > 0  :\n",
    "            print(feature_names_Y[tag],score)"
   ]
  },
  {
   "cell_type": "code",
   "execution_count": 13,
   "id": "5d49fe91",
   "metadata": {
    "ExecuteTime": {
     "end_time": "2021-06-18T09:24:22.315756Z",
     "start_time": "2021-06-18T09:24:22.301037Z"
    },
    "pycharm": {
     "name": "#%%\n"
    }
   },
   "outputs": [],
   "source": [
    "from sklearn.metrics import f1_score , precision_score, recall_score\n",
    "\n",
    "def model_score(model,X_vect,tag_text,vect_Y,names=False,seuil=0.5):\n",
    "    '''\n",
    "        cette fonction affiche les résultats f1, precision et recall pour le modele choisi\n",
    "        une option de seuil est ajouté pour modifier le trade-off precision/recall\n",
    "        nous pouvons aussi afficher ou pas les tags\n",
    "    '''\n",
    "    Y = vect_Y.transform(tag_text).toarray()\n",
    "\n",
    "    y_model_pred = model.predict(X_vect)\n",
    "    y_model_pred_ones = (y_model_pred >seuil).astype(int)\n",
    "    \n",
    "    f1_score_model        = f1_score(Y, y_model_pred_ones, average=\"micro\")\n",
    "    precision_score_model = precision_score(Y, y_model_pred_ones, average=\"micro\")\n",
    "    recall_score_model    = recall_score(Y, y_model_pred_ones, average=\"micro\")\n",
    "    \n",
    "    nb_tag = len(Y[0])\n",
    "    \n",
    "    print(\"Nombre de Tags pour l'entrainement: \", nb_tag)\n",
    "    if names :\n",
    "        print(vect_Y.get_feature_names(),'\\n')\n",
    "    print(\"f1-score: {:.2f}\".format(f1_score_model))\n",
    "    print(\"precision_score: {:.2f}\".format(precision_score_model))\n",
    "    print(\"recall_score: {:.2f}\".format(recall_score_model))\n",
    "    print(\"Model parameters: \", model.get_params,'\\n')"
   ]
  },
  {
   "cell_type": "markdown",
   "id": "6d130009",
   "metadata": {},
   "source": [
    "## Entrainement du modèle avec tous les labels"
   ]
  },
  {
   "cell_type": "code",
   "execution_count": 14,
   "id": "699f4629",
   "metadata": {
    "ExecuteTime": {
     "end_time": "2021-06-18T09:24:26.615991Z",
     "start_time": "2021-06-18T09:24:26.361350Z"
    },
    "pycharm": {
     "name": "#%%\n"
    }
   },
   "outputs": [],
   "source": [
    "from sklearn.model_selection import cross_val_score\n",
    "from sklearn.neighbors import KNeighborsClassifier\n",
    "\n",
    "knn_clf = KNeighborsClassifier(weights ='distance') # le plus proche voisin est privilegié \n",
    "knn_clf.fit(X_train, Y_train)\n",
    "\n",
    "pickle.dump(knn_clf, open('API/models/knn_clf.pickle', 'wb'))"
   ]
  },
  {
   "cell_type": "code",
   "execution_count": 15,
   "id": "aafccdcd",
   "metadata": {
    "ExecuteTime": {
     "end_time": "2021-06-18T09:24:29.972131Z",
     "start_time": "2021-06-18T09:24:29.864445Z"
    },
    "pycharm": {
     "name": "#%%\n"
    },
    "scrolled": true
   },
   "outputs": [
    {
     "name": "stdout",
     "output_type": "stream",
     "text": [
      "print() vs sys.stdout.write(): which and why? \n",
      "\n",
      "script create output sysstderrwrite recently post question aspect script people post answer seem prefer text filesysstdout concern output simply pip either file input another program someone please explain existing explanation difference print case use convention \n",
      "\n",
      "print v sysstdoutwrite script create output sysstderrwrite recently post question aspect script people post answer seem prefer text filesysstdout concern output simply pip either file input another program someone please explain existing explanation difference print case use convention\n",
      "\n",
      " Tags prediction :  \n",
      "\n",
      "python 1\n",
      "\n",
      " Tags labels :  \n",
      "\n",
      "python 1\n",
      "python-3.x 1\n"
     ]
    }
   ],
   "source": [
    "# exemple de prédiction val set entre 0 et 1000 test set entre 1000 \n",
    "# et 2000 et train set au délà de 2000\n",
    "\n",
    "id_sample = 1500\n",
    "new_post = text[id_sample]\n",
    "text_prediction_labels(new_post,vect_X,vect_Y,knn_clf,df_questions)\n"
   ]
  },
  {
   "cell_type": "markdown",
   "id": "30294516",
   "metadata": {},
   "source": [
    "### Visualisation des prédiction vs les labels pour le trains set et test set"
   ]
  },
  {
   "cell_type": "code",
   "execution_count": 16,
   "id": "c642812a",
   "metadata": {
    "ExecuteTime": {
     "end_time": "2021-06-18T09:24:32.216141Z",
     "start_time": "2021-06-18T09:24:31.543310Z"
    }
   },
   "outputs": [],
   "source": [
    "y_pred =knn_clf.predict(X_train)"
   ]
  },
  {
   "cell_type": "code",
   "execution_count": 17,
   "id": "40a4a00f",
   "metadata": {
    "ExecuteTime": {
     "end_time": "2021-06-18T09:24:32.831927Z",
     "start_time": "2021-06-18T09:24:32.816151Z"
    }
   },
   "outputs": [
    {
     "data": {
      "text/plain": "array([  86,   87,   87,   87,   92,   92,   93,   97,  101,  104,  105,\n        107,  111,  111,  116,  118,  119,  120,  124,  131,  134,  150,\n        158,  163,  168,  172,  175,  206,  218,  248,  258,  309,  334,\n        352,  449,  452,  552,  705, 3380, 8618])"
     },
     "execution_count": 17,
     "metadata": {},
     "output_type": "execute_result"
    }
   ],
   "source": [
    "y_pred_one = (y_pred>0.5).astype(int)\n",
    "np.sort(np.sum(y_pred_one,axis=0))[-40:]"
   ]
  },
  {
   "cell_type": "code",
   "execution_count": 18,
   "id": "ef44173a",
   "metadata": {
    "ExecuteTime": {
     "end_time": "2021-06-18T09:24:33.578818Z",
     "start_time": "2021-06-18T09:24:33.571483Z"
    },
    "scrolled": true
   },
   "outputs": [
    {
     "data": {
      "text/plain": "array([  86,   87,   87,   87,   92,   92,   93,   97,  101,  104,  105,\n        107,  111,  111,  116,  118,  119,  120,  124,  131,  134,  150,\n        158,  163,  168,  172,  175,  206,  218,  248,  258,  309,  334,\n        352,  449,  452,  552,  705, 3380, 8618])"
     },
     "execution_count": 18,
     "metadata": {},
     "output_type": "execute_result"
    }
   ],
   "source": [
    "np.sort(np.sum(Y_train,axis=0))[-40:]"
   ]
  },
  {
   "cell_type": "markdown",
   "id": "f1da2bd1",
   "metadata": {},
   "source": [
    "Les predictions sont les mêmes que les labels car nos avons choisi de privilegier la distance dans notre modèle, les predictions correspondent au plus proche voisin "
   ]
  },
  {
   "cell_type": "code",
   "execution_count": 19,
   "id": "819b2752",
   "metadata": {
    "ExecuteTime": {
     "end_time": "2021-06-18T09:24:35.470296Z",
     "start_time": "2021-06-18T09:24:35.116633Z"
    }
   },
   "outputs": [],
   "source": [
    "y_test_pred =knn_clf.predict(X_test)"
   ]
  },
  {
   "cell_type": "code",
   "execution_count": 20,
   "id": "7f597d5e",
   "metadata": {
    "ExecuteTime": {
     "end_time": "2021-06-18T09:24:36.060162Z",
     "start_time": "2021-06-18T09:24:36.041365Z"
    }
   },
   "outputs": [
    {
     "data": {
      "text/plain": "array([  1,   2,   2,   2,   2,   2,   2,   2,   2,   2,   2,   2,   2,\n         2,   2,   2,   2,   3,   3,   3,   3,   3,   3,   4,   4,   4,\n         4,   4,   5,   5,  10,  11,  13,  14,  16,  19,  19,  37, 143,\n       861])"
     },
     "execution_count": 20,
     "metadata": {},
     "output_type": "execute_result"
    }
   ],
   "source": [
    "y_test_pred_one = (y_test_pred>0.5).astype(int)\n",
    "np.sort(np.sum(y_test_pred_one,axis=0))[-40:]"
   ]
  },
  {
   "cell_type": "code",
   "execution_count": 21,
   "id": "af83e2d4",
   "metadata": {
    "ExecuteTime": {
     "end_time": "2021-06-18T09:24:36.878859Z",
     "start_time": "2021-06-18T09:24:36.874216Z"
    },
    "scrolled": true
   },
   "outputs": [
    {
     "data": {
      "text/plain": "array([  8,   8,   8,   8,   8,   9,   9,   9,   9,   9,   9,  10,  10,\n        10,  10,  10,  10,  11,  13,  13,  14,  14,  15,  16,  18,  19,\n        19,  19,  20,  21,  21,  27,  32,  33,  38,  38,  41,  76, 280,\n       724])"
     },
     "execution_count": 21,
     "metadata": {},
     "output_type": "execute_result"
    }
   ],
   "source": [
    "np.sort(np.sum(Y_test,axis=0))[-40:]"
   ]
  },
  {
   "cell_type": "markdown",
   "id": "14160d84",
   "metadata": {},
   "source": [
    "Sur le test set nous avons beaucoup moins de tags dans les predictions que dans les labels"
   ]
  },
  {
   "cell_type": "markdown",
   "id": "d4598998",
   "metadata": {},
   "source": [
    "## Metrics : f1 score, precision et recall"
   ]
  },
  {
   "cell_type": "markdown",
   "id": "61ee2777",
   "metadata": {},
   "source": [
    "### Cross Validation"
   ]
  },
  {
   "cell_type": "code",
   "execution_count": 22,
   "id": "35ba4035",
   "metadata": {
    "ExecuteTime": {
     "end_time": "2021-06-18T09:24:40.967129Z",
     "start_time": "2021-06-18T09:24:39.831409Z"
    },
    "pycharm": {
     "name": "#%%\n"
    }
   },
   "outputs": [
    {
     "name": "stdout",
     "output_type": "stream",
     "text": [
      "CPU times: user 10.6 s, sys: 680 ms, total: 11.2 s\n",
      "Wall time: 11.2 s\n"
     ]
    }
   ],
   "source": [
    "%%time\n",
    "# 50 secondes pour calculer 2000 lignes\n",
    "# 15min 57s pour 20 000 lignes\n",
    "\n",
    "from sklearn.model_selection import cross_val_predict\n",
    "\n",
    "y_train_knn_pred = cross_val_predict(knn_clf, X_train, Y_train, cv=3)\n"
   ]
  },
  {
   "cell_type": "code",
   "execution_count": 23,
   "id": "9b8a264d",
   "metadata": {
    "ExecuteTime": {
     "end_time": "2021-06-18T09:24:42.539898Z",
     "start_time": "2021-06-18T09:24:41.761624Z"
    },
    "pycharm": {
     "name": "#%%\n"
    },
    "scrolled": true
   },
   "outputs": [
    {
     "name": "stdout",
     "output_type": "stream",
     "text": [
      "résultats suite à une cross validation sur le train set\n",
      "f1 :  0.45198652111624527\n",
      "precision :  0.7622677465459743\n",
      "recall :  0.3212298514311937\n"
     ]
    }
   ],
   "source": [
    "from sklearn.metrics import f1_score,precision_score, recall_score\n",
    "\n",
    "y_train_knn_pred_ones = (y_train_knn_pred >0.5).astype(int)\n",
    "print('résultats suite à une cross validation sur le train set')\n",
    "print('f1 : ',f1_score(Y_train, y_train_knn_pred_ones, average=\"micro\"))\n",
    "print('precision : ',precision_score(Y_train, y_train_knn_pred_ones, average=\"micro\"))\n",
    "print('recall : ',recall_score(Y_train, y_train_knn_pred_ones, average=\"micro\"))\n"
   ]
  },
  {
   "cell_type": "markdown",
   "id": "eead14b9",
   "metadata": {},
   "source": [
    "### sur Test Set"
   ]
  },
  {
   "cell_type": "code",
   "execution_count": 24,
   "id": "5c25ec0f",
   "metadata": {
    "ExecuteTime": {
     "end_time": "2021-06-18T09:24:45.043206Z",
     "start_time": "2021-06-18T09:24:44.293134Z"
    }
   },
   "outputs": [
    {
     "name": "stdout",
     "output_type": "stream",
     "text": [
      "Nombre de Tags pour l'entrainement:  3362\n",
      "f1-score: 0.45\n",
      "precision_score: 0.78\n",
      "recall_score: 0.32\n",
      "Model parameters:  <bound method BaseEstimator.get_params of KNeighborsClassifier(weights='distance')> \n",
      "\n"
     ]
    }
   ],
   "source": [
    "model_score(knn_clf,X_test,tag[1000:2000],vect_Y,seuil=0.2) \n",
    "# le seuil n'a pas d'infuence dans le modèlde KNN"
   ]
  },
  {
   "cell_type": "code",
   "execution_count": 25,
   "id": "eb498cc5",
   "metadata": {
    "ExecuteTime": {
     "end_time": "2021-06-18T09:24:47.329698Z",
     "start_time": "2021-06-18T09:24:45.884843Z"
    },
    "scrolled": true
   },
   "outputs": [
    {
     "name": "stdout",
     "output_type": "stream",
     "text": [
      "Nombre de Tags pour l'entrainement:  3362\n",
      "f1-score: 1.00\n",
      "precision_score: 1.00\n",
      "recall_score: 1.00\n",
      "Model parameters:  <bound method BaseEstimator.get_params of KNeighborsClassifier(weights='distance')> \n",
      "\n"
     ]
    }
   ],
   "source": [
    "model_score(knn_clf,X_train,tag[2000:],vect_Y,seuil=0.2) \n",
    "# le modèle a overfitté le train set"
   ]
  },
  {
   "cell_type": "markdown",
   "id": "0ae243aa",
   "metadata": {},
   "source": [
    "Comme vu plus ahut nous avons des scores parfait sur le train_set, mais des résultats beaucoup moins encourageants avec le test set, nous allons tenter de augmenter la précision en diminuant le nombre de tags possibles. ceci devrait diminuer le nombre de faux positifs, donc la précision"
   ]
  },
  {
   "cell_type": "markdown",
   "id": "02eb6493",
   "metadata": {
    "pycharm": {
     "name": "#%% md\n"
    }
   },
   "source": [
    "## Création d'une pipeline pour choisir le meilleurs parametre pour ce modèle"
   ]
  },
  {
   "cell_type": "code",
   "execution_count": 26,
   "id": "52b137c4",
   "metadata": {
    "ExecuteTime": {
     "end_time": "2021-06-18T09:25:09.369058Z",
     "start_time": "2021-06-18T09:24:49.582941Z"
    },
    "pycharm": {
     "name": "#%%\n"
    }
   },
   "outputs": [
    {
     "name": "stdout",
     "output_type": "stream",
     "text": [
      "Nombre de features:  2\n",
      "['python', 'r']\n",
      "Best cross-validation f1-score: 0.80\n",
      "Best parameters:  {'n_neighbors': 6} \n",
      "\n",
      "Nombre de features:  4\n",
      "['django', 'ggplot2', 'python', 'r']\n",
      "Best cross-validation f1-score: 0.77\n",
      "Best parameters:  {'n_neighbors': 6} \n",
      "\n",
      "Nombre de features:  6\n",
      "['django', 'ggplot2', 'list', 'numpy', 'python', 'r']\n",
      "Best cross-validation f1-score: 0.75\n",
      "Best parameters:  {'n_neighbors': 8} \n",
      "\n",
      "Nombre de features:  8\n",
      "['dataframe', 'django', 'ggplot2', 'list', 'numpy', 'python', 'r', 'string']\n",
      "Best cross-validation f1-score: 0.73\n",
      "Best parameters:  {'n_neighbors': 8} \n",
      "\n",
      "Nombre de features:  16\n",
      "['dataframe', 'dictionary', 'django', 'dplyr', 'ggplot2', 'list', 'matplotlib', 'numpy', 'pandas', 'plot', 'python', 'python-2.7', 'python-3.x', 'r', 'regex', 'string']\n",
      "Best cross-validation f1-score: 0.69\n",
      "Best parameters:  {'n_neighbors': 6} \n",
      "\n",
      "Nombre de features:  32\n",
      "['arrays', 'class', 'data.table', 'dataframe', 'datetime', 'dictionary', 'django', 'django-models', 'dplyr', 'file', 'flask', 'function', 'ggplot2', 'list', 'matplotlib', 'numpy', 'pandas', 'performance', 'plot', 'python', 'python-2.7', 'python-3.x', 'r', 'r-faq', 'regex', 'scipy', 'sorting', 'sqlalchemy', 'string', 'unicode', 'unit-testing', 'windows']\n",
      "Best cross-validation f1-score: 0.65\n",
      "Best parameters:  {'n_neighbors': 8} \n",
      "\n",
      "CPU times: user 3min 17s, sys: 15.1 s, total: 3min 32s\n",
      "Wall time: 3min 31s\n"
     ]
    }
   ],
   "source": [
    "%%time\n",
    "# 6min 42s pour 20 000 post\n",
    "\n",
    "from sklearn.model_selection import GridSearchCV\n",
    "param_grid = {'n_neighbors' : [2,4,6, 8,32,]}\n",
    "grid = GridSearchCV(KNeighborsClassifier(), param_grid, cv=5, scoring='f1_micro')\n",
    "\n",
    "best_score = 0\n",
    "best_param = {}\n",
    "best_feature_number = 0\n",
    "\n",
    "for i in [2,4,6,8,16,32]: # testet avec un nombre limité de tags\n",
    "    vect_Y = CountVectorizer(binary=True, token_pattern= rx, max_features=i).fit(tag[2000:])\n",
    "    Y_train = vect_Y.transform(tag[2000:]).toarray()\n",
    "    grid.fit(X_train, Y_train)\n",
    "    best_score = grid.best_score_\n",
    "    best_param = grid.best_params_\n",
    "    best_feature_number = i\n",
    "    print(\"Nombre de features: \", best_feature_number)\n",
    "    print(vect_Y.get_feature_names())\n",
    "    print(\"Best cross-validation f1-score: {:.2f}\".format(best_score))\n",
    "    print(\"Best parameters: \", best_param,'\\n')\n",
    "    \n",
    "    "
   ]
  },
  {
   "cell_type": "markdown",
   "id": "d55b6aa1",
   "metadata": {},
   "source": [
    "## Meilleur modèle"
   ]
  },
  {
   "cell_type": "code",
   "execution_count": 27,
   "id": "f7c9d961",
   "metadata": {
    "ExecuteTime": {
     "end_time": "2021-06-18T09:25:12.521207Z",
     "start_time": "2021-06-18T09:25:12.483768Z"
    },
    "pycharm": {
     "name": "#%%\n"
    }
   },
   "outputs": [
    {
     "name": "stdout",
     "output_type": "stream",
     "text": [
      "Is it possible to change an instance's method implementation without changing all other instances of the same class? \n",
      "\n",
      "know python never use seem find anything maybe google question go change instance implementation method google find could change implementation instance class example def showyimpself print class foo def initself selfx selfy def showxself print def showyself print class bar def initself fooshowy selffoo foo def showself selffooshowx name b bar bshow foo fshowx fshowy work expect output follow x want x woohoo try change bar init def initself selffoo foo selffooshowy showyimp get follow error message showyimp take exactly give yeah tried use setattr seem like selffooshowy showyimp clue \n",
      "\n",
      "change instance method implementation without change instance class know python never use seem find anything maybe google question go change instance implementation method google find could change implementation instance class example def showyimpself print class foo def initself selfx selfy def showxself print def showyself print class bar def initself fooshowy selffoo foo def showself selffooshowx name b bar bshow foo fshowx fshowy work expect output follow x want x woohoo try change bar init def initself selffoo foo selffooshowy showyimp get follow error message showyimp take exactly give yeah tried use setattr seem like selffooshowy showyimp clue\n",
      "\n",
      " Tags prediction :  \n",
      "\n",
      "python 1\n",
      "\n",
      " Tags labels :  \n",
      "\n",
      "python 1\n"
     ]
    }
   ],
   "source": [
    "KNNmodel = grid.best_estimator_\n",
    "\n",
    "id_sample = 10\n",
    "new_post = text[id_sample]\n",
    "text_prediction_labels(new_post,vect_X,vect_Y,KNNmodel,df_questions)"
   ]
  },
  {
   "cell_type": "markdown",
   "id": "4d814bd1",
   "metadata": {},
   "source": [
    "Avec 32 Tags (et 2000 post) nous avons\n",
    "\n",
    "- f1-score de 61%\n",
    "- précision de 78% # la précision n'a pas beaucoup évolué car le spost python et r sont généralement bien prédit\n",
    "- recall de 49%\n",
    "\n",
    "Avec tous les Tags soit 1802\n",
    "\n",
    "- f1-score: 42 %\n",
    "- precision_score: 75 % \n",
    "- recall_score: 29 %"
   ]
  },
  {
   "cell_type": "code",
   "execution_count": 28,
   "id": "5c2db962",
   "metadata": {
    "ExecuteTime": {
     "end_time": "2021-06-18T09:25:19.116452Z",
     "start_time": "2021-06-18T09:25:18.296694Z"
    }
   },
   "outputs": [
    {
     "name": "stdout",
     "output_type": "stream",
     "text": [
      "Nombre de Tags pour l'entrainement:  32\n",
      "['arrays', 'class', 'data.table', 'dataframe', 'datetime', 'dictionary', 'django', 'django-models', 'dplyr', 'file', 'flask', 'function', 'ggplot2', 'list', 'matplotlib', 'numpy', 'pandas', 'performance', 'plot', 'python', 'python-2.7', 'python-3.x', 'r', 'r-faq', 'regex', 'scipy', 'sorting', 'sqlalchemy', 'string', 'unicode', 'unit-testing', 'windows'] \n",
      "\n",
      "f1-score: 0.65\n",
      "precision_score: 0.82\n",
      "recall_score: 0.55\n",
      "Model parameters:  <bound method BaseEstimator.get_params of KNeighborsClassifier(n_neighbors=8)> \n",
      "\n"
     ]
    }
   ],
   "source": [
    "model_score(KNNmodel,X_test,tag[1000:2000],vect_Y,names=True,seuil=0.2) "
   ]
  },
  {
   "cell_type": "markdown",
   "id": "754c00b3",
   "metadata": {
    "pycharm": {
     "name": "#%% md\n"
    }
   },
   "source": [
    "## Random Forest"
   ]
  },
  {
   "cell_type": "code",
   "execution_count": 29,
   "id": "31ec4f88",
   "metadata": {
    "ExecuteTime": {
     "end_time": "2021-06-18T09:28:35.841047Z",
     "start_time": "2021-06-18T09:25:29.973761Z"
    },
    "pycharm": {
     "name": "#%%\n"
    }
   },
   "outputs": [
    {
     "name": "stdout",
     "output_type": "stream",
     "text": [
      "Nombre de features:  2\n",
      "['python', 'r']\n",
      "Best cross-validation f1-score: 0.72\n",
      "Best parameters:  {'max_depth': 8, 'n_estimators': 100} \n",
      "\n",
      "Nombre de features:  32\n",
      "['arrays', 'class', 'data.table', 'dataframe', 'datetime', 'dictionary', 'django', 'django-models', 'dplyr', 'file', 'flask', 'function', 'ggplot2', 'list', 'matplotlib', 'numpy', 'pandas', 'performance', 'plot', 'python', 'python-2.7', 'python-3.x', 'r', 'r-faq', 'regex', 'scipy', 'sorting', 'sqlalchemy', 'string', 'unicode', 'unit-testing', 'windows']\n",
      "Best cross-validation f1-score: 0.57\n",
      "Best parameters:  {'max_depth': 8, 'n_estimators': 100} \n",
      "\n",
      "CPU times: user 13min 27s, sys: 427 ms, total: 13min 27s\n",
      "Wall time: 13min 27s\n"
     ]
    }
   ],
   "source": [
    "%%time\n",
    "# 4h 32min 57s pour 20 000 posts\n",
    "\n",
    "from sklearn.ensemble import RandomForestClassifier\n",
    "\n",
    "param_grid = {'n_estimators' : [100,500,1000],\n",
    "              'max_depth' : [2,4,8]\n",
    "              }\n",
    "grid = GridSearchCV(RandomForestClassifier(), param_grid, cv=5, scoring='f1_micro')\n",
    "\n",
    "best_score = 0\n",
    "best_param = {}\n",
    "best_feature_number = 0\n",
    "\n",
    "for i in [2,32]:\n",
    "    vect_Y = CountVectorizer(binary=True, token_pattern= rx, max_features=i).fit(tag[2000:])\n",
    "    Y_train = vect_Y.transform(tag[2000:]).toarray()\n",
    "    grid.fit(X_train, Y_train)\n",
    "    best_score = grid.best_score_\n",
    "    best_param = grid.best_params_\n",
    "    best_feature_number = i\n",
    "    print(\"Nombre de features: \", best_feature_number)\n",
    "    print(vect_Y.get_feature_names())\n",
    "    print(\"Best cross-validation f1-score: {:.2f}\".format(best_score))\n",
    "    print(\"Best parameters: \", best_param,'\\n')"
   ]
  },
  {
   "cell_type": "code",
   "execution_count": 30,
   "id": "8f425b5a",
   "metadata": {
    "ExecuteTime": {
     "end_time": "2021-06-18T09:28:36.102827Z",
     "start_time": "2021-06-18T09:28:35.920428Z"
    },
    "pycharm": {
     "name": "#%%\n"
    }
   },
   "outputs": [
    {
     "name": "stdout",
     "output_type": "stream",
     "text": [
      "Is it possible to change an instance's method implementation without changing all other instances of the same class? \n",
      "\n",
      "know python never use seem find anything maybe google question go change instance implementation method google find could change implementation instance class example def showyimpself print class foo def initself selfx selfy def showxself print def showyself print class bar def initself fooshowy selffoo foo def showself selffooshowx name b bar bshow foo fshowx fshowy work expect output follow x want x woohoo try change bar init def initself selffoo foo selffooshowy showyimp get follow error message showyimp take exactly give yeah tried use setattr seem like selffooshowy showyimp clue \n",
      "\n",
      "change instance method implementation without change instance class know python never use seem find anything maybe google question go change instance implementation method google find could change implementation instance class example def showyimpself print class foo def initself selfx selfy def showxself print def showyself print class bar def initself fooshowy selffoo foo def showself selffooshowx name b bar bshow foo fshowx fshowy work expect output follow x want x woohoo try change bar init def initself selffoo foo selffooshowy showyimp get follow error message showyimp take exactly give yeah tried use setattr seem like selffooshowy showyimp clue\n",
      "\n",
      " Tags prediction :  \n",
      "\n",
      "python 1\n",
      "\n",
      " Tags labels :  \n",
      "\n",
      "python 1\n"
     ]
    }
   ],
   "source": [
    "RandomForestmodel = grid.best_estimator_\n",
    "\n",
    "id_sample = 10\n",
    "new_post = text[id_sample]\n",
    "text_prediction_labels(new_post,vect_X,vect_Y,RandomForestmodel,df_questions)"
   ]
  },
  {
   "cell_type": "code",
   "execution_count": 31,
   "id": "a030587b",
   "metadata": {
    "ExecuteTime": {
     "end_time": "2021-06-18T09:28:37.073395Z",
     "start_time": "2021-06-18T09:28:36.183670Z"
    }
   },
   "outputs": [
    {
     "name": "stdout",
     "output_type": "stream",
     "text": [
      "Nombre de Tags pour l'entrainement:  32\n",
      "['arrays', 'class', 'data.table', 'dataframe', 'datetime', 'dictionary', 'django', 'django-models', 'dplyr', 'file', 'flask', 'function', 'ggplot2', 'list', 'matplotlib', 'numpy', 'pandas', 'performance', 'plot', 'python', 'python-2.7', 'python-3.x', 'r', 'r-faq', 'regex', 'scipy', 'sorting', 'sqlalchemy', 'string', 'unicode', 'unit-testing', 'windows'] \n",
      "\n",
      "f1-score: 0.56\n",
      "precision_score: 0.73\n",
      "recall_score: 0.46\n",
      "Model parameters:  <bound method BaseEstimator.get_params of RandomForestClassifier(max_depth=8)> \n",
      "\n"
     ]
    }
   ],
   "source": [
    "model_score(RandomForestmodel,X_test,tag[1000:2000],vect_Y,names=True,seuil=0.2) "
   ]
  },
  {
   "cell_type": "markdown",
   "id": "fed19d89",
   "metadata": {},
   "source": [
    "Random Forest avec {'max_depth': 8, 'n_estimators': 100} et avec 32 Tags (et 2000 post) nous avons\n",
    "\n",
    "- f1-score de 57%\n",
    "- précision de 73%\n",
    "- recall de 49%\n",
    "\n",
    "Une moins bonne precision avec un recall équivalent que notre précedent\n",
    "modèle KNN\n",
    "- f1-score de 61%\n",
    "- précision de 78%\n",
    "- recall de 49%"
   ]
  },
  {
   "cell_type": "markdown",
   "id": "5f4f168f",
   "metadata": {},
   "source": [
    "## Multilayer Perceptron classifier"
   ]
  },
  {
   "cell_type": "code",
   "execution_count": 32,
   "id": "63490eea",
   "metadata": {
    "ExecuteTime": {
     "end_time": "2021-06-18T09:33:09.916083Z",
     "start_time": "2021-06-18T09:28:37.150973Z"
    },
    "pycharm": {
     "name": "#%%\n"
    }
   },
   "outputs": [
    {
     "name": "stdout",
     "output_type": "stream",
     "text": [
      "CPU times: user 2h 40min 29s, sys: 6h 46min 3s, total: 9h 26min 32s\n",
      "Wall time: 1h 38min 47s\n"
     ]
    },
    {
     "data": {
      "text/plain": "MLPClassifier(alpha=0.1, hidden_layer_sizes=(100, 100),\n              learning_rate_init=0.0001, max_iter=500)"
     },
     "execution_count": 32,
     "metadata": {},
     "output_type": "execute_result"
    }
   ],
   "source": [
    "%%time\n",
    "# 2d 7h 36min 50s pour 20 000 posts\n",
    "# 3min 58s pour 2000 post et 32 tags\n",
    "\n",
    "from sklearn.neural_network import MLPClassifier\n",
    "from sklearn.model_selection import RandomizedSearchCV\n",
    "\n",
    "nb_tag = 32\n",
    "\n",
    "MLPC = MLPClassifier(hidden_layer_sizes=(100,100),\n",
    "                    max_iter=500,\n",
    "                    alpha=0.1, # L2 penalty (regularization term) parameter.\n",
    "                    learning_rate_init=0.0001) #The initial learning rate used. It controls the step-size in updating the weights. \n",
    "\n",
    "vect_Y = CountVectorizer(binary=True,\n",
    "                         token_pattern=rx,\n",
    "                         max_features=nb_tag).fit(tag[2000:])\n",
    "Y_train = vect_Y.transform(tag[2000:]).toarray()\n",
    "\n",
    "MLPC.fit(X_train, Y_train)"
   ]
  },
  {
   "cell_type": "code",
   "execution_count": 33,
   "id": "e450abda",
   "metadata": {
    "ExecuteTime": {
     "end_time": "2021-06-18T09:33:10.061418Z",
     "start_time": "2021-06-18T09:33:10.038721Z"
    },
    "pycharm": {
     "name": "#%%\n"
    },
    "scrolled": true
   },
   "outputs": [
    {
     "name": "stdout",
     "output_type": "stream",
     "text": [
      "Is it possible to change an instance's method implementation without changing all other instances of the same class? \n",
      "\n",
      "know python never use seem find anything maybe google question go change instance implementation method google find could change implementation instance class example def showyimpself print class foo def initself selfx selfy def showxself print def showyself print class bar def initself fooshowy selffoo foo def showself selffooshowx name b bar bshow foo fshowx fshowy work expect output follow x want x woohoo try change bar init def initself selffoo foo selffooshowy showyimp get follow error message showyimp take exactly give yeah tried use setattr seem like selffooshowy showyimp clue \n",
      "\n",
      "change instance method implementation without change instance class know python never use seem find anything maybe google question go change instance implementation method google find could change implementation instance class example def showyimpself print class foo def initself selfx selfy def showxself print def showyself print class bar def initself fooshowy selffoo foo def showself selffooshowx name b bar bshow foo fshowx fshowy work expect output follow x want x woohoo try change bar init def initself selffoo foo selffooshowy showyimp get follow error message showyimp take exactly give yeah tried use setattr seem like selffooshowy showyimp clue\n",
      "\n",
      " Tags prediction :  \n",
      "\n",
      "python 1\n",
      "\n",
      " Tags labels :  \n",
      "\n",
      "python 1\n"
     ]
    }
   ],
   "source": [
    "id_sample = 10\n",
    "new_post = text[id_sample]\n",
    "text_prediction_labels(new_post,vect_X,vect_Y,MLPC,df_questions)"
   ]
  },
  {
   "cell_type": "code",
   "execution_count": 34,
   "id": "c1585df2",
   "metadata": {
    "ExecuteTime": {
     "end_time": "2021-06-18T09:33:10.242235Z",
     "start_time": "2021-06-18T09:33:10.202197Z"
    },
    "scrolled": true
   },
   "outputs": [
    {
     "name": "stdout",
     "output_type": "stream",
     "text": [
      "Nombre de Tags pour l'entrainement:  32\n",
      "['arrays', 'class', 'data.table', 'dataframe', 'datetime', 'dictionary', 'django', 'django-models', 'dplyr', 'file', 'flask', 'function', 'ggplot2', 'list', 'matplotlib', 'numpy', 'pandas', 'performance', 'plot', 'python', 'python-2.7', 'python-3.x', 'r', 'r-faq', 'regex', 'scipy', 'sorting', 'sqlalchemy', 'string', 'unicode', 'unit-testing', 'windows'] \n",
      "\n",
      "f1-score: 0.83\n",
      "precision_score: 0.87\n",
      "recall_score: 0.79\n",
      "Model parameters:  <bound method BaseEstimator.get_params of MLPClassifier(alpha=0.1, hidden_layer_sizes=(100, 100),\n",
      "              learning_rate_init=0.0001, max_iter=500)> \n",
      "\n"
     ]
    }
   ],
   "source": [
    "model_score(MLPC,X_test,tag[1000:2000],vect_Y,names=True,seuil=0.2) "
   ]
  },
  {
   "cell_type": "markdown",
   "id": "1f618633",
   "metadata": {},
   "source": [
    "Multi Layer Perceptron avec deux couches denses de 100 elements avec une regularisation Ridge avec alpha = 0.1 et un learning rate initialle de 0.0001 et avec 32 Tags (et 2000 post) nous avons\n",
    "\n",
    "- f1-score de 77%\n",
    "- précision de 88%\n",
    "- recall de 69%\n",
    "\n",
    "Une meilleure performance que notre modèle KNN \n",
    "- f1-score de 61%\n",
    "- précision de 78%\n",
    "- recall de 49%"
   ]
  },
  {
   "cell_type": "code",
   "execution_count": 35,
   "id": "1fe7a419",
   "metadata": {
    "ExecuteTime": {
     "end_time": "2021-06-18T10:36:35.154013Z",
     "start_time": "2021-06-18T09:33:10.389761Z"
    },
    "pycharm": {
     "name": "#%%\n"
    },
    "scrolled": true
   },
   "outputs": [
    {
     "name": "stderr",
     "output_type": "stream",
     "text": [
      "/home/fedecabre/anaconda3/lib/python3.8/site-packages/sklearn/neural_network/_multilayer_perceptron.py:614: ConvergenceWarning: Stochastic Optimizer: Maximum iterations (500) reached and the optimization hasn't converged yet.\n",
      "  warnings.warn(\n",
      "/home/fedecabre/anaconda3/lib/python3.8/site-packages/sklearn/neural_network/_multilayer_perceptron.py:614: ConvergenceWarning: Stochastic Optimizer: Maximum iterations (500) reached and the optimization hasn't converged yet.\n",
      "  warnings.warn(\n",
      "/home/fedecabre/anaconda3/lib/python3.8/site-packages/sklearn/neural_network/_multilayer_perceptron.py:614: ConvergenceWarning: Stochastic Optimizer: Maximum iterations (500) reached and the optimization hasn't converged yet.\n",
      "  warnings.warn(\n",
      "/home/fedecabre/anaconda3/lib/python3.8/site-packages/sklearn/neural_network/_multilayer_perceptron.py:614: ConvergenceWarning: Stochastic Optimizer: Maximum iterations (500) reached and the optimization hasn't converged yet.\n",
      "  warnings.warn(\n",
      "/home/fedecabre/anaconda3/lib/python3.8/site-packages/sklearn/neural_network/_multilayer_perceptron.py:614: ConvergenceWarning: Stochastic Optimizer: Maximum iterations (500) reached and the optimization hasn't converged yet.\n",
      "  warnings.warn(\n"
     ]
    },
    {
     "name": "stdout",
     "output_type": "stream",
     "text": [
      "Nombre de features:  32\n",
      "['arrays', 'class', 'data.table', 'dataframe', 'datetime', 'dictionary', 'django', 'django-models', 'dplyr', 'file', 'flask', 'function', 'ggplot2', 'list', 'matplotlib', 'numpy', 'pandas', 'performance', 'plot', 'python', 'python-2.7', 'python-3.x', 'r', 'r-faq', 'regex', 'scipy', 'sorting', 'sqlalchemy', 'string', 'unicode', 'unit-testing', 'windows']\n",
      "Best cross-validation f1-score: 0.82\n",
      "Best parameters:  {'learning_rate_init': 0.001, 'hidden_layer_sizes': (100,), 'alpha': 0.1} \n",
      "\n",
      "CPU times: user 23h 28min 59s, sys: 2d 16h 9min 19s, total: 3d 15h 38min 19s\n",
      "Wall time: 9h 27min 21s\n"
     ]
    }
   ],
   "source": [
    "%%time\n",
    "# 2d 7h 36min 50s pour 20 000 posts\n",
    "\n",
    "from sklearn.neural_network import MLPClassifier\n",
    "from sklearn.model_selection import RandomizedSearchCV\n",
    "\n",
    "param_grid = {'alpha' : [0.001,0.01,0.1],\n",
    "              'learning_rate_init' : [0.0001,0.001,0.01],\n",
    "             'hidden_layer_sizes': [(30,),(100,),(30,30),(100,100)]}\n",
    "grid = RandomizedSearchCV(MLPClassifier(max_iter=500), param_grid, cv=5, scoring='f1_micro')\n",
    "\n",
    "best_score = 0\n",
    "best_param = {}\n",
    "best_feature_number = 0\n",
    "\n",
    "for i in [32]:\n",
    "    vect_Y = CountVectorizer(binary=True, token_pattern= rx, max_features=i).fit(tag[2000:])\n",
    "    Y_train = vect_Y.transform(tag[2000:]).toarray()\n",
    "    grid.fit(X_train, Y_train)\n",
    "    #if grid.best_score_>best_score:\n",
    "    best_score = grid.best_score_\n",
    "    best_param = grid.best_params_\n",
    "    best_feature_number = i\n",
    "    print(\"Nombre de features: \", best_feature_number)\n",
    "    print(vect_Y.get_feature_names())\n",
    "    print(\"Best cross-validation f1-score: {:.2f}\".format(best_score))\n",
    "    print(\"Best parameters: \", best_param,'\\n')"
   ]
  },
  {
   "cell_type": "markdown",
   "id": "c8e77e49",
   "metadata": {},
   "source": [
    "Résultats avec 2000 post\n",
    "\n",
    "Nombre de features:  32\n",
    "['class', 'csv', 'data.table', 'dataframe', 'date', 'datetime', 'dictionary', 'django', 'dplyr', 'flask', 'ggplot2', 'json', 'list', 'matplotlib', 'numpy', 'pandas', 'performance', 'pip', 'plot', 'python', 'python-2.7', 'python-3.x', 'r', 'r-faq', 'regex', 'scipy', 'sorting', 'sqlalchemy', 'statistics', 'string', 'unicode', 'windows']\n",
    "Best cross-validation f1-score: 0.77\n",
    "Best parameters:  {'learning_rate_init': 0.01, 'hidden_layer_sizes': (100,), 'alpha': 0.1} \n",
    "\n",
    "CPU times: user 3h 19min 28s, sys: 8h 42min 14s, total: 12h 1min 42s\n",
    "Wall time: 1h 3min 24s"
   ]
  },
  {
   "cell_type": "code",
   "execution_count": 36,
   "id": "7c3b7868",
   "metadata": {
    "ExecuteTime": {
     "end_time": "2021-06-18T11:28:47.979502Z",
     "start_time": "2021-06-18T11:28:47.885605Z"
    },
    "pycharm": {
     "name": "#%%\n"
    }
   },
   "outputs": [],
   "source": [
    "import pickle\n",
    "\n",
    "clf=grid.best_estimator_\n",
    "\n",
    "pickle.dump(clf, open('API/models/final_prediction.pickle', 'wb'))\n",
    "pickle.dump(vect_Y, open('API/models/vect_Y_32.pickle', 'wb'))"
   ]
  },
  {
   "cell_type": "code",
   "execution_count": 37,
   "id": "4774c5c9",
   "metadata": {
    "ExecuteTime": {
     "end_time": "2021-06-18T11:28:05.317513Z",
     "start_time": "2021-06-18T11:28:05.271978Z"
    },
    "pycharm": {
     "name": "#%%\n"
    }
   },
   "outputs": [
    {
     "name": "stdout",
     "output_type": "stream",
     "text": [
      "Unable to import a module that is definitely installed \n",
      "\n",
      "instal mechanize seem import try instal pip easyinstall via python install repo httpsgithubcomabielrmechanize time enter python get python default aug gcc linux type help copyright credit information import mechanize traceback call file stdin line module importerror module name installation run previously report complete successfully expect import work could cause error \n",
      "\n",
      "import module definitely instal instal mechanize seem import try instal pip easyinstall via python install repo httpsgithubcomabielrmechanize time enter python get python default aug gcc linux type help copyright credit information import mechanize traceback call file stdin line module importerror module name installation run previously report complete successfully expect import work could cause error\n",
      "\n",
      " Tags prediction :  \n",
      "\n",
      "python 1\n",
      "\n",
      " Tags labels :  \n",
      "\n",
      "python 1\n",
      "F1 score : \n"
     ]
    },
    {
     "data": {
      "text/plain": "0.9987488463115602"
     },
     "execution_count": 37,
     "metadata": {},
     "output_type": "execute_result"
    }
   ],
   "source": [
    "id_sample = 1002\n",
    "new_post = text[id_sample]\n",
    "text_prediction_labels(new_post,vect_X,vect_Y,clf,df_questions)\n",
    "\n",
    "y_train_MLP_pred = clf.predict(X_train)\n",
    "from sklearn.metrics import f1_score\n",
    "\n",
    "print('F1 score : ')\n",
    "y_train_MLP_pred_ones = (y_train_MLP_pred >0).astype(int)\n",
    "f1_score(Y_train, y_train_MLP_pred_ones, average='weighted')"
   ]
  },
  {
   "cell_type": "code",
   "execution_count": 38,
   "id": "88bc6e7e",
   "metadata": {
    "ExecuteTime": {
     "end_time": "2021-06-18T11:30:04.820563Z",
     "start_time": "2021-06-18T11:30:04.789730Z"
    },
    "scrolled": true
   },
   "outputs": [
    {
     "name": "stdout",
     "output_type": "stream",
     "text": [
      "Nombre de Tags pour l'entrainement:  32\n",
      "['arrays', 'class', 'data.table', 'dataframe', 'datetime', 'dictionary', 'django', 'django-models', 'dplyr', 'file', 'flask', 'function', 'ggplot2', 'list', 'matplotlib', 'numpy', 'pandas', 'performance', 'plot', 'python', 'python-2.7', 'python-3.x', 'r', 'r-faq', 'regex', 'scipy', 'sorting', 'sqlalchemy', 'string', 'unicode', 'unit-testing', 'windows'] \n",
      "\n",
      "f1-score: 0.83\n",
      "precision_score: 0.88\n",
      "recall_score: 0.79\n",
      "Model parameters:  <bound method BaseEstimator.get_params of MLPClassifier(alpha=0.1, max_iter=500)> \n",
      "\n"
     ]
    }
   ],
   "source": [
    "model_score(clf,X_test,tag[1000:2000],vect_Y,names=True,seuil=0.2) "
   ]
  },
  {
   "cell_type": "code",
   "execution_count": 38,
   "id": "619e0fca",
   "metadata": {},
   "outputs": [],
   "source": []
  }
 ],
 "metadata": {
  "kernelspec": {
   "display_name": "Python 3",
   "language": "python",
   "name": "python3"
  },
  "language_info": {
   "codemirror_mode": {
    "name": "ipython",
    "version": 3
   },
   "file_extension": ".py",
   "mimetype": "text/x-python",
   "name": "python",
   "nbconvert_exporter": "python",
   "pygments_lexer": "ipython3",
   "version": "3.8.5"
  },
  "toc": {
   "base_numbering": 1,
   "nav_menu": {},
   "number_sections": true,
   "sideBar": true,
   "skip_h1_title": false,
   "title_cell": "Table of Contents",
   "title_sidebar": "Contents",
   "toc_cell": false,
   "toc_position": {},
   "toc_section_display": true,
   "toc_window_display": false
  },
  "varInspector": {
   "cols": {
    "lenName": 16,
    "lenType": 16,
    "lenVar": 40
   },
   "kernels_config": {
    "python": {
     "delete_cmd_postfix": "",
     "delete_cmd_prefix": "del ",
     "library": "var_list.py",
     "varRefreshCmd": "print(var_dic_list())"
    },
    "r": {
     "delete_cmd_postfix": ") ",
     "delete_cmd_prefix": "rm(",
     "library": "var_list.r",
     "varRefreshCmd": "cat(var_dic_list()) "
    }
   },
   "types_to_exclude": [
    "module",
    "function",
    "builtin_function_or_method",
    "instance",
    "_Feature"
   ],
   "window_display": false
  }
 },
 "nbformat": 4,
 "nbformat_minor": 5
}