{
 "cells": [
  {
   "cell_type": "markdown",
   "metadata": {},
   "source": [
    "# 1) Introduction"
   ]
  },
  {
   "cell_type": "markdown",
   "metadata": {},
   "source": [
    "L’objectif du notebook est de pré traiter les données issues de l’outil d’export de données de Stack Overflow-\n",
    "\"stackexchange explorer\", qui recense un grand nombre de données authentiques de la plateforme afin de détecter\n",
    "les sujets et générer des tags."
   ]
  },
  {
   "cell_type": "markdown",
   "metadata": {},
   "source": [
    "## 1.1. Étapes de prétraitement\n",
    "\n",
    "**1) Suppression du bruit**\n",
    "\n",
    "1. Suppression du formatage HTML\n",
    "2. Suppression des contractions\n",
    "3. La correction orthographique\n",
    "4. Mettre en minuscule le texte\n",
    "\n",
    "**2) Suppression des caractères simples**\n",
    "\n",
    "1. Suppression de la ponctuation, des caractères spéciaux et des nombres\n",
    "2. Suppression d'un seul caractère (facultatif et spécifique)\n",
    "\n",
    "**3) Suppression de StopWords**\n",
    "\n",
    "1. Suppression du mot le plus fréquent\n",
    "2. Suppression d'un certain type de mot (facultatif et spécifique)\n",
    "\n",
    "**4) Stemming / Lemmatisation**\n",
    "\n",
    "1. Stemming\n",
    "2. Lemmatisation\n",
    "\n",
    "\n",
    "Ce pré-processus est utilisé pour effectuer une simple détection de sujet (LDA, NMF, etc.) ou une classification,\n",
    "des informations nécessaires à certaines analyses peuvent être perdues.\n",
    "\n",
    " "
   ]
  },
  {
   "cell_type": "markdown",
   "metadata": {},
   "source": [
    "1.1.1 Vocabulaire\n",
    "Si vous êtes nouveau dans la PNL, voici une petite liste de concepts utilisés dans ce cahier.\n",
    "\n",
    "Tokenize : \"Processus de conversion d'une chaîne en une liste de sous-chaînes, appelées tokens.\"\n",
    "\n",
    "Normalisation du texte : \"Processus de transformation d'un texte en une seule forme canonique qu'il n'aurait\n",
    "peut-être pas eu auparavant (par exemple, mettre en minuscule le texte, supprimer les contractions, correction\n",
    "orthographique, stemming / lemmatisation, etc.). La normalisation du texte nécessite de savoir quel type de texte\n",
    "doit être normalisée et comment elle doit être traitée par la suite ; il n’existe pas de procédure de\n",
    "normalisation universelle. \"\n",
    "\n",
    "Suppression du bruit : \"Processus de suppression de tout élément susceptible interferer avec votre analyse\n",
    "(par exemple, suppression du code HTML, mettre en minuscule le texte, suppression de la ponctuation / du caractère\n",
    "spécial, etc.)\n",
    "\n",
    "Stemming: \"Processus de réduction des mots à leur racine , base ou forme de racine - généralement une forme de\n",
    "mot écrit (\"fishing\", \"fished\", and \"fisher\" to the stem \"fish\").\"\n",
    "\n",
    "Lemmatisation : \"Processus de regroupement des formes fléchies d'un mot afin qu'elles puissent être analysées\n",
    "comme un seul élément, identifié par le lemme du mot, ou par la forme du dictionnaire (ie : \"walking\" to \"walk\",\n",
    " \"better\" to \"good\").\"\n",
    "\n",
    "StopWord : \"Mots qui sont filtrés avant ou après le traitement des données en langage naturel (texte). Les mots\n",
    "d'arrêt font généralement référence aux mots les plus courants dans une langue (des mots comme \"The\",\"a\", etc. en\n",
    "anglais).\""
   ]
  },
  {
   "cell_type": "markdown",
   "metadata": {},
   "source": [
    "# 2) Libraries and Dataset "
   ]
  },
  {
   "cell_type": "code",
   "execution_count": 1,
   "metadata": {
    "ExecuteTime": {
     "end_time": "2021-05-27T11:27:17.921220Z",
     "start_time": "2021-05-27T11:27:11.998089Z"
    },
    "_kg_hide-input": false,
    "_kg_hide-output": true
   },
   "outputs": [
    {
     "name": "stdout",
     "output_type": "stream",
     "text": [
      "Requirement already satisfied: bs4 in /home/fedecabre/anaconda3/envs/P5_StackOverflow/lib/python3.9/site-packages (0.0.1)\r\n",
      "Requirement already satisfied: beautifulsoup4 in /home/fedecabre/anaconda3/envs/P5_StackOverflow/lib/python3.9/site-packages (from bs4) (4.9.3)\r\n",
      "Requirement already satisfied: soupsieve>1.2 in /home/fedecabre/anaconda3/envs/P5_StackOverflow/lib/python3.9/site-packages (from beautifulsoup4->bs4) (2.2.1)\r\n",
      "Requirement already satisfied: contractions in /home/fedecabre/anaconda3/envs/P5_StackOverflow/lib/python3.9/site-packages (0.0.49)\r\n",
      "Requirement already satisfied: textsearch>=0.0.21 in /home/fedecabre/anaconda3/envs/P5_StackOverflow/lib/python3.9/site-packages (from contractions) (0.0.21)\r\n",
      "Requirement already satisfied: anyascii in /home/fedecabre/anaconda3/envs/P5_StackOverflow/lib/python3.9/site-packages (from textsearch>=0.0.21->contractions) (0.2.0)\r\n",
      "Requirement already satisfied: pyahocorasick in /home/fedecabre/anaconda3/envs/P5_StackOverflow/lib/python3.9/site-packages (from textsearch>=0.0.21->contractions) (1.4.2)\r\n",
      "Requirement already satisfied: autocorrect in /home/fedecabre/anaconda3/envs/P5_StackOverflow/lib/python3.9/site-packages (2.5.0)\r\n"
     ]
    }
   ],
   "source": [
    "! pip install bs4\n",
    "! pip install contractions\n",
    "! pip install autocorrect "
   ]
  },
  {
   "cell_type": "code",
   "execution_count": 2,
   "metadata": {
    "ExecuteTime": {
     "end_time": "2021-05-27T11:27:19.202497Z",
     "start_time": "2021-05-27T11:27:17.925120Z"
    }
   },
   "outputs": [],
   "source": [
    "# generic librairies\n",
    "import pandas as pd\n",
    "\n",
    "# Text librairies\n",
    "import re\n",
    "from bs4 import BeautifulSoup\n",
    "import nltk\n",
    "from nltk.tokenize import ToktokTokenizer\n",
    "from nltk.stem.wordnet import WordNetLemmatizer\n",
    "from nltk.stem import PorterStemmer\n",
    "from nltk.corpus import stopwords\n",
    "import contractions\n",
    "from autocorrect import Speller"
   ]
  },
  {
   "cell_type": "code",
   "execution_count": 3,
   "metadata": {
    "ExecuteTime": {
     "end_time": "2021-05-27T11:27:19.205600Z",
     "start_time": "2021-05-27T11:27:19.203632Z"
    }
   },
   "outputs": [],
   "source": [
    "# https://numpy.org/devdocs/user/basics.types.html\n",
    "\n",
    "dtypes_questions = {'Id':'int32', 'Score': 'int16', 'Title': 'string', 'Body': 'string', 'Tags': 'string'}"
   ]
  },
  {
   "cell_type": "code",
   "execution_count": 4,
   "metadata": {
    "ExecuteTime": {
     "end_time": "2021-05-27T11:27:19.231590Z",
     "start_time": "2021-05-27T11:27:19.206697Z"
    }
   },
   "outputs": [
    {
     "name": "stdout",
     "output_type": "stream",
     "text": [
      "CPU times: user 182 ms, sys: 21.4 ms, total: 204 ms\n",
      "Wall time: 229 ms\n"
     ]
    }
   ],
   "source": [
    "%%time\n",
    "\n",
    "nrows=10000\n",
    "\n",
    "df_questions_python = pd.read_csv('input/QueryResults python score more than 20.csv',\n",
    "                           usecols=dtypes_questions.keys(),\n",
    "                           encoding = \"ISO-8859-1\",\n",
    "                           dtype=dtypes_questions,\n",
    "                           nrows=nrows\n",
    "                          )\n",
    "\n",
    "df_questions_r = pd.read_csv('input/QueryResults r score more than 20.csv',\n",
    "                           usecols=['Id', 'Score', 'Title', 'Body', 'Tags'],\n",
    "                           encoding = \"ISO-8859-1\",\n",
    "                           dtype=dtypes_questions,\n",
    "                           nrows=nrows\n",
    "                          )\n",
    "\n",
    "df_questions = pd.concat([df_questions_python,df_questions_r])\n",
    "df_questions['Title_raw']=df_questions['Title']\n",
    "df_questions = df_questions.sample(frac=1).reset_index(drop=True)"
   ]
  },
  {
   "cell_type": "code",
   "execution_count": 5,
   "metadata": {
    "ExecuteTime": {
     "end_time": "2021-05-27T11:27:19.243571Z",
     "start_time": "2021-05-27T11:27:19.233078Z"
    }
   },
   "outputs": [],
   "source": [
    "df_questions[['Title', 'Body', 'Tags']] = df_questions[[\n",
    "    'Title', 'Body','Tags'\n",
    "]].applymap(lambda x: str(x).encode(\"utf-8\", errors='surrogatepass').decode(\n",
    "    \"ISO-8859-1\", errors='surrogatepass'))"
   ]
  },
  {
   "cell_type": "code",
   "execution_count": 6,
   "outputs": [
    {
     "data": {
      "text/plain": "Id            int32\nTitle        object\nBody         object\nTags         object\nScore         int16\nTitle_raw    string\ndtype: object"
     },
     "execution_count": 6,
     "metadata": {},
     "output_type": "execute_result"
    }
   ],
   "source": [
    "df_questions.dtypes"
   ],
   "metadata": {
    "collapsed": false,
    "pycharm": {
     "name": "#%%\n"
    }
   }
  },
  {
   "cell_type": "code",
   "execution_count": 7,
   "metadata": {
    "ExecuteTime": {
     "end_time": "2021-05-27T11:27:19.263161Z",
     "start_time": "2021-05-27T11:27:19.245388Z"
    }
   },
   "outputs": [],
   "source": [
    "# Remove all questions that have a < 30 score\n",
    "df_questions = df_questions[df_questions[\"Score\"] >= 20]"
   ]
  },
  {
   "cell_type": "code",
   "execution_count": 8,
   "metadata": {
    "ExecuteTime": {
     "end_time": "2021-05-27T11:27:19.328669Z",
     "start_time": "2021-05-27T11:27:19.264551Z"
    }
   },
   "outputs": [],
   "source": [
    "spell = Speller()\n",
    "token = ToktokTokenizer()\n",
    "lemmatizer = WordNetLemmatizer()\n",
    "stemmer = PorterStemmer()\n",
    "charac = '!\"#$%&\\'()*+,-./:;<=>?@[\\\\]^_`{|}~0123456789'\n",
    "stop_words = set(stopwords.words(\"english\"))\n",
    "adjective_tag_list = {'JJ', 'JJR', 'JJS', 'RBR', 'RBS'}  # List of Adjective's tag from nltk package\n"
   ]
  },
  {
   "cell_type": "markdown",
   "metadata": {},
   "source": [
    "**Tag list**  \n",
    "List of tag use in the tagger (pos_tag function) from NLTK:\n",
    "https://www.ling.upenn.edu/courses/Fall_2003/ling001/penn_treebank_pos.html"
   ]
  },
  {
   "cell_type": "code",
   "execution_count": 9,
   "metadata": {
    "ExecuteTime": {
     "end_time": "2021-05-27T11:27:19.342111Z",
     "start_time": "2021-05-27T11:27:19.329677Z"
    }
   },
   "outputs": [
    {
     "name": "stdout",
     "output_type": "stream",
     "text": [
      "<class 'pandas.core.frame.DataFrame'>\n",
      "Int64Index: 13913 entries, 0 to 13912\n",
      "Data columns (total 6 columns):\n",
      " #   Column     Non-Null Count  Dtype \n",
      "---  ------     --------------  ----- \n",
      " 0   Id         13913 non-null  int32 \n",
      " 1   Title      13913 non-null  object\n",
      " 2   Body       13913 non-null  object\n",
      " 3   Tags       13913 non-null  object\n",
      " 4   Score      13913 non-null  int16 \n",
      " 5   Title_raw  13913 non-null  string\n",
      "dtypes: int16(1), int32(1), object(3), string(1)\n",
      "memory usage: 625.0+ KB\n"
     ]
    }
   ],
   "source": [
    "df_questions.info()"
   ]
  },
  {
   "cell_type": "code",
   "execution_count": 10,
   "outputs": [],
   "source": [
    "df_questions['qTitle'] = df_questions['Tags'].apply(lambda x : len((x).split(\" \")))"
   ],
   "metadata": {
    "collapsed": false,
    "pycharm": {
     "name": "#%%\n"
    }
   }
  },
  {
   "cell_type": "markdown",
   "metadata": {},
   "source": [
    "# 3) Suppression du bruit"
   ]
  },
  {
   "cell_type": "markdown",
   "metadata": {},
   "source": [
    "La suppression du bruit consiste à supprimer tout ce qui peut interférer avec votre analyse de texte. C'est comme l'étape de nettoyage des données pour un projet ML classique."
   ]
  },
  {
   "cell_type": "markdown",
   "metadata": {},
   "source": [
    "## 3.1. Suppression du code HTML"
   ]
  },
  {
   "cell_type": "code",
   "execution_count": 11,
   "metadata": {
    "ExecuteTime": {
     "end_time": "2021-05-27T11:27:19.350625Z",
     "start_time": "2021-05-27T11:27:19.343079Z"
    }
   },
   "outputs": [
    {
     "data": {
      "text/plain": "'<p>There are several posts on computing pairwise differences among vectors, but I cannot find how to compute all differences within a vector. </p>\\n\\n<p>Say I have a vector, v.</p>\\n\\n<pre><code>v&lt;-c(1:4)\\n</code></pre>\\n\\n<p>I would like to generate a second vector that is the absolute value of all pairwise differences within the vector. Similar to:</p>\\n\\n<pre><code>abs(1-2) = 1\\nabs(1-3) = 2\\nabs(1-4) = 3\\nabs(2-3) = 1\\nabs(2-4) = 2\\nabs(3-4) = 1\\n</code></pre>\\n\\n<p>The output would be a vector of 6 values, which are the result of my 6 comparisons:</p>\\n\\n<pre><code>output&lt;- c(1,2,3,1,2,1)\\n</code></pre>\\n\\n<p>Is there a function in R that can do this? </p>\\n'"
     },
     "execution_count": 11,
     "metadata": {},
     "output_type": "execute_result"
    }
   ],
   "source": [
    "df_questions['Body'][10]"
   ]
  },
  {
   "cell_type": "code",
   "execution_count": 12,
   "metadata": {
    "ExecuteTime": {
     "end_time": "2021-05-27T11:27:19.697813Z",
     "start_time": "2021-05-27T11:27:19.351825Z"
    }
   },
   "outputs": [
    {
     "name": "stdout",
     "output_type": "stream",
     "text": [
      "CPU times: user 5.91 s, sys: 26.6 ms, total: 5.94 s\n",
      "Wall time: 5.94 s\n"
     ]
    }
   ],
   "source": [
    "%%time\n",
    "\n",
    "# Analyser la question et le titre puis renvoyer uniquement le texte\n",
    "df_questions['Body'] = df_questions['Body'].apply(\n",
    "    lambda x: BeautifulSoup(x, 'html.parser').get_text())\n",
    "df_questions['Title'] = df_questions['Title'].apply(\n",
    "    lambda x: BeautifulSoup(x, 'html.parser').get_text())\n"
   ]
  },
  {
   "cell_type": "markdown",
   "metadata": {},
   "source": [
    "BeautifulSoup nous permet de supprimer efficacement la plupart du code html mais pas tout."
   ]
  },
  {
   "cell_type": "code",
   "execution_count": 13,
   "metadata": {
    "ExecuteTime": {
     "end_time": "2021-05-27T11:27:19.701602Z",
     "start_time": "2021-05-27T11:27:19.698811Z"
    }
   },
   "outputs": [
    {
     "data": {
      "text/plain": "'There are several posts on computing pairwise differences among vectors, but I cannot find how to compute all differences within a vector. \\nSay I have a vector, v.\\nv<-c(1:4)\\n\\nI would like to generate a second vector that is the absolute value of all pairwise differences within the vector. Similar to:\\nabs(1-2) = 1\\nabs(1-3) = 2\\nabs(1-4) = 3\\nabs(2-3) = 1\\nabs(2-4) = 2\\nabs(3-4) = 1\\n\\nThe output would be a vector of 6 values, which are the result of my 6 comparisons:\\noutput<- c(1,2,3,1,2,1)\\n\\nIs there a function in R that can do this? \\n'"
     },
     "execution_count": 13,
     "metadata": {},
     "output_type": "execute_result"
    }
   ],
   "source": [
    "df_questions['Body'][10]"
   ]
  },
  {
   "cell_type": "markdown",
   "metadata": {},
   "source": [
    "Nous devons donc supprimer le reste ici."
   ]
  },
  {
   "cell_type": "code",
   "execution_count": 14,
   "metadata": {
    "ExecuteTime": {
     "end_time": "2021-05-27T11:27:19.711550Z",
     "start_time": "2021-05-27T11:27:19.702841Z"
    }
   },
   "outputs": [],
   "source": [
    "def clean_text(text):\n",
    "    \"\"\" mettre la déf de la fonction\"\"\"\n",
    "    text = re.sub(r\"\\'\", \"'\", text) # match all literal apostrophe pattern then replace them by a single whitespace\n",
    "    text = re.sub(r\"\\n\", \" \", text) # match all literal Line Feed (New line) pattern then replace them by a single whitespace\n",
    "    text = re.sub(r\"\\xa0\", \" \", text) # match all literal non-breakable space pattern then replace them by a single whitespace\n",
    "    text = re.sub('\\s+', ' ', text) # match all one or more whitespace then replace them by a single whitespace\n",
    "    text = text.strip(' ')\n",
    "    return text\n"
   ]
  },
  {
   "cell_type": "code",
   "execution_count": 15,
   "metadata": {
    "ExecuteTime": {
     "end_time": "2021-05-27T11:27:19.755605Z",
     "start_time": "2021-05-27T11:27:19.712850Z"
    }
   },
   "outputs": [
    {
     "name": "stdout",
     "output_type": "stream",
     "text": [
      "CPU times: user 589 ms, sys: 3.85 ms, total: 593 ms\n",
      "Wall time: 592 ms\n"
     ]
    }
   ],
   "source": [
    "%%time\n",
    "\n",
    "df_questions['Title'] = df_questions['Title'].apply(lambda x: clean_text(x))\n",
    "df_questions['Body'] = df_questions['Body'].apply(lambda x: clean_text(x))"
   ]
  },
  {
   "cell_type": "code",
   "execution_count": 16,
   "metadata": {
    "ExecuteTime": {
     "end_time": "2021-05-27T11:27:19.759198Z",
     "start_time": "2021-05-27T11:27:19.756621Z"
    }
   },
   "outputs": [
    {
     "data": {
      "text/plain": "'There are several posts on computing pairwise differences among vectors, but I cannot find how to compute all differences within a vector. Say I have a vector, v. v<-c(1:4) I would like to generate a second vector that is the absolute value of all pairwise differences within the vector. Similar to: abs(1-2) = 1 abs(1-3) = 2 abs(1-4) = 3 abs(2-3) = 1 abs(2-4) = 2 abs(3-4) = 1 The output would be a vector of 6 values, which are the result of my 6 comparisons: output<- c(1,2,3,1,2,1) Is there a function in R that can do this?'"
     },
     "execution_count": 16,
     "metadata": {},
     "output_type": "execute_result"
    }
   ],
   "source": [
    "df_questions['Body'][10]"
   ]
  },
  {
   "cell_type": "markdown",
   "source": [
    "Nous devons aussi traiter la colonne des tags\n"
   ],
   "metadata": {
    "collapsed": false
   }
  },
  {
   "cell_type": "markdown",
   "metadata": {},
   "source": [
    "## 3.2. Suppression des contractions"
   ]
  },
  {
   "cell_type": "code",
   "execution_count": 17,
   "metadata": {
    "ExecuteTime": {
     "end_time": "2021-05-27T11:27:19.768347Z",
     "start_time": "2021-05-27T11:27:19.760220Z"
    }
   },
   "outputs": [],
   "source": [
    "def expand_contractions(text):\n",
    "    \"\"\"développer les mots raccourcis, e.g. 'don't' to 'do not'\"\"\"\n",
    "    text = contractions.fix(text)\n",
    "    return text"
   ]
  },
  {
   "cell_type": "code",
   "execution_count": 18,
   "metadata": {
    "ExecuteTime": {
     "end_time": "2021-05-27T11:27:19.820366Z",
     "start_time": "2021-05-27T11:27:19.769476Z"
    }
   },
   "outputs": [
    {
     "name": "stdout",
     "output_type": "stream",
     "text": [
      "CPU times: user 701 ms, sys: 7.67 ms, total: 708 ms\n",
      "Wall time: 708 ms\n"
     ]
    }
   ],
   "source": [
    "%%time\n",
    "\n",
    "df_questions['Title'] = df_questions['Title'].apply(lambda x: expand_contractions(x))\n",
    "df_questions['Body'] = df_questions['Body'].apply(lambda x: expand_contractions(x))"
   ]
  },
  {
   "cell_type": "code",
   "execution_count": 19,
   "metadata": {
    "ExecuteTime": {
     "end_time": "2021-05-27T11:27:19.823589Z",
     "start_time": "2021-05-27T11:27:19.821272Z"
    }
   },
   "outputs": [
    {
     "data": {
      "text/plain": "'There are several posts on computing pairwise differences among vectors, but I cannot find how to compute all differences within a vector. Say I have a vector, v. v<-c(1:4) I would like to generate a second vector that is the absolute value of all pairwise differences within the vector. Similar to: abs(1-2) = 1 abs(1-3) = 2 abs(1-4) = 3 abs(2-3) = 1 abs(2-4) = 2 abs(3-4) = 1 The output would be a vector of 6 values, which are the result of my 6 comparisons: output<- c(1,2,3,1,2,1) Is there a function in R that can do this?'"
     },
     "execution_count": 19,
     "metadata": {},
     "output_type": "execute_result"
    }
   ],
   "source": [
    "df_questions['Body'][10]"
   ]
  },
  {
   "cell_type": "markdown",
   "metadata": {},
   "source": [
    "## 3.3. La correction orthographique"
   ]
  },
  {
   "cell_type": "markdown",
   "metadata": {},
   "source": [
    "Pour 1000 entrées cette correction prends 10 minutes"
   ]
  },
  {
   "cell_type": "code",
   "execution_count": 20,
   "metadata": {
    "ExecuteTime": {
     "end_time": "2021-05-27T11:27:19.831988Z",
     "start_time": "2021-05-27T11:27:19.824389Z"
    }
   },
   "outputs": [],
   "source": [
    "def autocorrect(text):\n",
    "    words_id = token.tokenize(text)\n",
    "    words_correct = [spell(i) for i in words_id]\n",
    "    return ' '.join(map(str, words_correct)) # Return the text untokenize"
   ]
  },
  {
   "cell_type": "code",
   "execution_count": 20,
   "metadata": {
    "ExecuteTime": {
     "end_time": "2021-05-27T11:27:19.840528Z",
     "start_time": "2021-05-27T11:27:19.832771Z"
    }
   },
   "outputs": [],
   "source": []
  },
  {
   "cell_type": "markdown",
   "metadata": {},
   "source": [
    "#df_questions['Title'] = df_questions['Title'].apply(lambda x: autocorrect(x))\n",
    "#df_questions['Body'] = df_questions['Body'].apply(lambda x: autocorrect(x))"
   ]
  },
  {
   "cell_type": "markdown",
   "metadata": {},
   "source": [
    "## 3.4. Mettre en minuscule le texte"
   ]
  },
  {
   "cell_type": "markdown",
   "metadata": {
    "ExecuteTime": {
     "end_time": "2021-05-27T11:27:19.851493Z",
     "start_time": "2021-05-27T11:27:19.841333Z"
    },
    "pycharm": {
     "name": "#%% md\n"
    }
   },
   "source": [
    "Je choisis d'abaisser le texte après le paquet de contractions car celui-ci peut remettre des lettres majuscules lors de la suppression des contractions. La mise en minuscule du texte est une étape classique et utile de la suppression du bruit ou de la normalisation du texte car elle réduit le vocabulaire, normalise le texte et ne coûte presque rien."
   ]
  },
  {
   "cell_type": "code",
   "execution_count": 21,
   "metadata": {
    "ExecuteTime": {
     "end_time": "2021-05-27T11:27:19.860550Z",
     "start_time": "2021-05-27T11:27:19.854232Z"
    }
   },
   "outputs": [
    {
     "name": "stdout",
     "output_type": "stream",
     "text": [
      "CPU times: user 21.8 ms, sys: 59 µs, total: 21.8 ms\n",
      "Wall time: 21.3 ms\n"
     ]
    }
   ],
   "source": [
    "%%time\n",
    "\n",
    "df_questions['Title'] = df_questions['Title'].str.lower()\n",
    "df_questions['Body'] = df_questions['Body'].str.lower()\n",
    "df_questions['Tags'] = df_questions['Tags'].str.lower()"
   ]
  },
  {
   "cell_type": "code",
   "metadata": {
    "pycharm": {
     "name": "#%%\n"
    }
   },
   "source": [
    "df_questions['Body'][10]"
   ],
   "execution_count": 22,
   "outputs": [
    {
     "data": {
      "text/plain": "'there are several posts on computing pairwise differences among vectors, but i cannot find how to compute all differences within a vector. say i have a vector, v. v<-c(1:4) i would like to generate a second vector that is the absolute value of all pairwise differences within the vector. similar to: abs(1-2) = 1 abs(1-3) = 2 abs(1-4) = 3 abs(2-3) = 1 abs(2-4) = 2 abs(3-4) = 1 the output would be a vector of 6 values, which are the result of my 6 comparisons: output<- c(1,2,3,1,2,1) is there a function in r that can do this?'"
     },
     "execution_count": 22,
     "metadata": {},
     "output_type": "execute_result"
    }
   ]
  },
  {
   "cell_type": "markdown",
   "metadata": {},
   "source": [
    "# 4) Suppression des caractères"
   ]
  },
  {
   "cell_type": "markdown",
   "metadata": {},
   "source": [
    "## 4.1. Suppression de la ponctuation, des caractères spéciaux et des nombres"
   ]
  },
  {
   "cell_type": "markdown",
   "metadata": {
    "ExecuteTime": {
     "end_time": "2021-05-27T11:27:19.868801Z",
     "start_time": "2021-05-27T11:27:19.862864Z"
    },
    "pycharm": {
     "name": "#%% md\n"
    }
   },
   "source": [
    "TOUS les caractères non alphabétiques ont été supprimés (y compris la ponctuation, les nombres et les caractères spéciaux). Ainsi, je ne considère pas les mots importants qui peuvent contenir des caractères spéciaux (comme \"C #\" en programmation)."
   ]
  },
  {
   "cell_type": "code",
   "execution_count": 23,
   "metadata": {
    "ExecuteTime": {
     "end_time": "2021-05-27T11:27:19.955569Z",
     "start_time": "2021-05-27T11:27:19.869833Z"
    }
   },
   "outputs": [],
   "source": [
    "def remove_punctuation_and_number(text):\n",
    "    \"\"\"remove all punctuation and number\"\"\"\n",
    "    return text.translate(str.maketrans(\" \", \" \", charac)) \n",
    "\n",
    "def remove_non_alphabetical_character(text):\n",
    "    \"\"\"remove all non-alphabetical character\"\"\"\n",
    "    text = re.sub(\"[^a-z]+\", \" \", text) # remove all non-alphabetical character\n",
    "    text = re.sub(\"\\s+\", \" \", text) # remove whitespaces left after the last operation\n",
    "    return text"
   ]
  },
  {
   "cell_type": "code",
   "execution_count": 24,
   "outputs": [
    {
     "name": "stdout",
     "output_type": "stream",
     "text": [
      "CPU times: user 158 ms, sys: 0 ns, total: 158 ms\n",
      "Wall time: 158 ms\n"
     ]
    }
   ],
   "source": [
    "%%time\n",
    "\n",
    "df_questions['Title'] = df_questions['Title'].apply(lambda x: remove_punctuation_and_number(x))\n",
    "df_questions['Body'] = df_questions['Body'].apply(lambda x: remove_punctuation_and_number(x))"
   ],
   "metadata": {
    "collapsed": false,
    "pycharm": {
     "name": "#%%\n"
    }
   }
  },
  {
   "cell_type": "code",
   "execution_count": 25,
   "outputs": [
    {
     "name": "stdout",
     "output_type": "stream",
     "text": [
      "CPU times: user 854 ms, sys: 3.61 ms, total: 858 ms\n",
      "Wall time: 857 ms\n"
     ]
    }
   ],
   "source": [
    "%%time\n",
    "\n",
    "df_questions['Title'] = df_questions['Title'].apply(lambda x: remove_non_alphabetical_character(x))\n",
    "df_questions['Body'] = df_questions['Body'].apply(lambda x: remove_non_alphabetical_character(x))"
   ],
   "metadata": {
    "collapsed": false,
    "pycharm": {
     "name": "#%%\n"
    }
   }
  },
  {
   "cell_type": "code",
   "execution_count": 26,
   "metadata": {
    "ExecuteTime": {
     "end_time": "2021-05-27T11:27:19.959591Z",
     "start_time": "2021-05-27T11:27:19.956838Z"
    }
   },
   "outputs": [
    {
     "data": {
      "text/plain": "'there are several posts on computing pairwise differences among vectors but i cannot find how to compute all differences within a vector say i have a vector v vc i would like to generate a second vector that is the absolute value of all pairwise differences within the vector similar to abs abs abs abs abs abs the output would be a vector of values which are the result of my comparisons output c is there a function in r that can do this'"
     },
     "execution_count": 26,
     "metadata": {},
     "output_type": "execute_result"
    }
   ],
   "source": [
    "df_questions['Body'][10]"
   ]
  },
  {
   "cell_type": "markdown",
   "metadata": {},
   "source": [
    "## 4.2. Suppression de la présence d'un seul caractère\n"
   ]
  },
  {
   "cell_type": "markdown",
   "metadata": {},
   "source": [
    "Je choisis de supprimer un seul caractère car lorsque nous faisons de la programmation, nous utilisons souvent un seul caractère alphabétique comme nom de variable (\"x\", \"y\", \"z\", etc.). Et j'ai observé que lorsque j'ai essayé de détecter des sujets sans les supprimer, j'ai trouvé beaucoup de sujets avec eux! Et même un sujet que je pourrais nommer \"Nom de variable\" ..."
   ]
  },
  {
   "cell_type": "code",
   "execution_count": 27,
   "metadata": {
    "ExecuteTime": {
     "end_time": "2021-05-27T11:27:19.968011Z",
     "start_time": "2021-05-27T11:27:19.960541Z"
    }
   },
   "outputs": [],
   "source": [
    "def remove_single_letter(text):\n",
    "    \"\"\"remove single alphabetical character\"\"\"\n",
    "    text = re.sub(r\"\\b\\w\\b\", \"\", text) # remove all single letter\n",
    "    text = re.sub(\"\\s+\", \" \", text) # remove whitespaces left after the last operation\n",
    "    text = text.strip(\" \")\n",
    "    return text"
   ]
  },
  {
   "cell_type": "code",
   "execution_count": 28,
   "metadata": {
    "ExecuteTime": {
     "end_time": "2021-05-27T11:27:20.021702Z",
     "start_time": "2021-05-27T11:27:19.969313Z"
    }
   },
   "outputs": [
    {
     "name": "stdout",
     "output_type": "stream",
     "text": [
      "CPU times: user 2 µs, sys: 0 ns, total: 2 µs\n",
      "Wall time: 2.86 µs\n"
     ]
    }
   ],
   "source": [
    "%%time\n",
    "\n",
    "#df_questions['Title'] = df_questions['Title'].apply(lambda x: remove_single_letter(x))\n",
    "#df_questions['Body'] = df_questions['Body'].apply(lambda x: remove_single_letter(x))\n",
    "\n",
    "# nous ne pouvons pas supprimer les single letters car nous voulons garder la lettre R !!"
   ]
  },
  {
   "cell_type": "code",
   "execution_count": 29,
   "metadata": {
    "ExecuteTime": {
     "end_time": "2021-05-27T11:27:20.025027Z",
     "start_time": "2021-05-27T11:27:20.022649Z"
    }
   },
   "outputs": [
    {
     "data": {
      "text/plain": "'there are several posts on computing pairwise differences among vectors but i cannot find how to compute all differences within a vector say i have a vector v vc i would like to generate a second vector that is the absolute value of all pairwise differences within the vector similar to abs abs abs abs abs abs the output would be a vector of values which are the result of my comparisons output c is there a function in r that can do this'"
     },
     "execution_count": 29,
     "metadata": {},
     "output_type": "execute_result"
    }
   ],
   "source": [
    "df_questions['Body'][10]"
   ]
  },
  {
   "cell_type": "markdown",
   "metadata": {},
   "source": [
    "# 5) Suppression des stopwords"
   ]
  },
  {
   "cell_type": "markdown",
   "metadata": {},
   "source": [
    "## 5.1. Removing most frequent words"
   ]
  },
  {
   "cell_type": "markdown",
   "metadata": {},
   "source": [
    "Supprimer les mots les plus fréquents est une étape classique de la NLP. Les mots les plus fréquents n'ajoutent pas beaucoup d'informations dans la plupart des cas (puisqu'ils sont dans presque toutes les phrases). En les supprimant, vous créez plus d'\"espace\" pour les autres mots qui peuvent avoir des informations plus utiles.\n",
    "Vous pouvez utiliser des listes prédéfinies à partir de bibliothèques telles que SciKit-Learn, NLTK et autres. Mais sachez que ces listes peuvent être plus problématiques qu'utiles (en particulier la liste scikit-learn, voir [Stop Word Lists in Free Open-source Software Packages](https://www.aclweb.org/anthology/W18-2502.pdf) pour plus d'informations)."
   ]
  },
  {
   "cell_type": "code",
   "execution_count": 30,
   "metadata": {
    "ExecuteTime": {
     "end_time": "2021-05-27T11:27:20.033636Z",
     "start_time": "2021-05-27T11:27:20.025899Z"
    }
   },
   "outputs": [],
   "source": [
    "def remove_stopwords(text):\n",
    "    \"\"\"remove common words in english by using nltk.corpus's list\"\"\"\n",
    "    words_idx = token.tokenize(text)\n",
    "    filtered = [i for i in words_idx if not i in stop_words]\n",
    "    \n",
    "    return ' '.join(map(str, filtered)) # Return the text untokenize"
   ]
  },
  {
   "cell_type": "code",
   "execution_count": 31,
   "metadata": {
    "ExecuteTime": {
     "end_time": "2021-05-27T11:27:20.185629Z",
     "start_time": "2021-05-27T11:27:20.035064Z"
    }
   },
   "outputs": [
    {
     "name": "stdout",
     "output_type": "stream",
     "text": [
      "CPU times: user 2.19 s, sys: 0 ns, total: 2.19 s\n",
      "Wall time: 2.19 s\n"
     ]
    }
   ],
   "source": [
    "%%time\n",
    "\n",
    "df_questions['Title'] = df_questions['Title'].apply(lambda x: remove_stopwords(x))\n",
    "df_questions['Body'] = df_questions['Body'].apply(lambda x: remove_stopwords(x))"
   ]
  },
  {
   "cell_type": "code",
   "execution_count": 32,
   "metadata": {
    "ExecuteTime": {
     "end_time": "2021-05-27T11:27:20.189373Z",
     "start_time": "2021-05-27T11:27:20.186748Z"
    }
   },
   "outputs": [
    {
     "data": {
      "text/plain": "'several posts computing pairwise differences among vectors cannot find compute differences within vector say vector v vc would like generate second vector absolute value pairwise differences within vector similar abs abs abs abs abs abs output would vector values result comparisons output c function r'"
     },
     "execution_count": 32,
     "metadata": {},
     "output_type": "execute_result"
    }
   ],
   "source": [
    "df_questions['Body'][10]"
   ]
  },
  {
   "cell_type": "markdown",
   "metadata": {},
   "source": [
    "## 5.2. Suppression d'adjectives"
   ]
  },
  {
   "cell_type": "markdown",
   "metadata": {},
   "source": [
    "Je choisis de supprimer les adjectifs en plus de la liste NLTK. Pourquoi ? Tout simplement parce que lorsque j'ai d'abord essayé de faire une détection de sujet dans un cahier suivant celui-ci et cela améliore ma détection de sujet. Je pensais aussi que les adjectifs n'ajouteraient aucune information utile. En même temps, je pourrais aussi supprimer des verbes avec le même raisonnement. Mais je ne l'ai pas fait parce que l'ensemble de données StackOverflow concerne la programmation. Et en programmation, nous avons beaucoup de verbes, ou de mots qui peuvent être interprétés comme un verbe, qui peuvent être importants (\"return\", \"get\", \"request\", \"replace\", etc.)."
   ]
  },
  {
   "cell_type": "code",
   "execution_count": 33,
   "metadata": {
    "ExecuteTime": {
     "end_time": "2021-05-27T11:27:20.199901Z",
     "start_time": "2021-05-27T11:27:20.190406Z"
    }
   },
   "outputs": [],
   "source": [
    "\n",
    "# noinspection PyTypeChecker\n",
    "def remove_by_tag(text, undesired_tag):\n",
    "    \"\"\"remove all words by using ntk tag (adjectives, verbs, etc.)\"\"\"\n",
    "    words_idx = token.tokenize(text) # Tokenize each words\n",
    "    words_tagged = nltk.pos_tag(tokens=words_idx, tagset=None, lang='eng') # Tag each words and return a list of tuples (e.g. (\"have\", \"VB\"))\n",
    "    filtered = [i[0] for i in words_tagged if i[1] not in undesired_tag] # Select all words that don't have the undesired tags\n",
    "    \n",
    "    return ' '.join(map(str, filtered)) # Return the text untokenize"
   ]
  },
  {
   "cell_type": "code",
   "execution_count": 34,
   "metadata": {
    "ExecuteTime": {
     "end_time": "2021-05-27T11:27:22.793791Z",
     "start_time": "2021-05-27T11:27:20.201339Z"
    }
   },
   "outputs": [
    {
     "name": "stdout",
     "output_type": "stream",
     "text": [
      "CPU times: user 41.1 s, sys: 135 ms, total: 41.3 s\n",
      "Wall time: 41.3 s\n"
     ]
    }
   ],
   "source": [
    "%%time\n",
    "df_questions['Title'] = df_questions['Title'].apply(\n",
    "    lambda x: remove_by_tag(x, adjective_tag_list))\n",
    "df_questions['Body'] = df_questions['Body'].apply(\n",
    "    lambda x: remove_by_tag(x, adjective_tag_list))"
   ]
  },
  {
   "cell_type": "code",
   "execution_count": 35,
   "metadata": {
    "ExecuteTime": {
     "end_time": "2021-05-27T11:27:22.797562Z",
     "start_time": "2021-05-27T11:27:22.794860Z"
    }
   },
   "outputs": [
    {
     "data": {
      "text/plain": "'posts computing pairwise differences among vectors cannot find differences within vector say vector v vc would like generate vector absolute value pairwise differences within vector abs abs abs abs abs abs output would vector values result comparisons output c function r'"
     },
     "execution_count": 35,
     "metadata": {},
     "output_type": "execute_result"
    }
   ],
   "source": [
    "df_questions['Body'][10]"
   ]
  },
  {
   "cell_type": "markdown",
   "metadata": {},
   "source": [
    "# 6) Stemming / Lemmatisation"
   ]
  },
  {
   "cell_type": "markdown",
   "metadata": {},
   "source": [
    "Le Stemming et la Lemmatisation sont des opérations qui :\n",
    "- peuvent améliorer votre temps de calcul en réduisant votre vocabulaire\n",
    "- aider à généraliser plus facilement en regroupant les mots (ex: \"suis\", \"sont\", \"être\", etc. seront transformés en \"être\" pour la lemmatisation)"
   ]
  },
  {
   "cell_type": "markdown",
   "metadata": {},
   "source": [
    "## 6.1. Stemming"
   ]
  },
  {
   "cell_type": "markdown",
   "metadata": {},
   "source": [
    "Je n'ai pas choisi d'utiliser le stemming ici, mais l'on doit toujours envisager cette alternative car elle est beaucoup moins coûteuse.\n",
    "\n",
    "Le stemming est le processus de réduction des mots fléchis à leur racine mot, base ou forme de racine - généralement une forme de mot écrit (\"fishing\", \"fished\", and \"fisher\" à la racine \"fish\"). Il fonctionne généralement en supprimant l'affixe d'un mot. Un affixe peut être un suffixe ou un préfixe (par exemple «-ed», «-ing», etc.). C'est simple mais ne fonctionnera pas lorsque le mot est \"irrégulier\" (\"ran\" et \"run\"). C'est une opération plus simple que la lemmatisation, qui peut suffire dans certains cas, mais peut faire trop d'erreurs dans d'autres cas."
   ]
  },
  {
   "cell_type": "code",
   "execution_count": 36,
   "metadata": {
    "ExecuteTime": {
     "end_time": "2021-05-27T11:27:22.809188Z",
     "start_time": "2021-05-27T11:27:22.798638Z"
    }
   },
   "outputs": [
    {
     "name": "stdout",
     "output_type": "stream",
     "text": [
      "program  :  program\n",
      "programs  :  program\n",
      "programer  :  program\n",
      "programing  :  program\n",
      "programers  :  program\n"
     ]
    }
   ],
   "source": [
    "words = [\"program\", \"programs\", \"programer\", \"programing\", \"programers\"]\n",
    "  \n",
    "for w in words:\n",
    "    print(w, \" : \", stemmer.stem(w))"
   ]
  },
  {
   "cell_type": "code",
   "execution_count": 37,
   "metadata": {
    "ExecuteTime": {
     "end_time": "2021-05-27T11:27:22.817921Z",
     "start_time": "2021-05-27T11:27:22.810232Z"
    }
   },
   "outputs": [],
   "source": [
    "def stem_text(text):\n",
    "    \"\"\"Stem the text\"\"\"\n",
    "    words_idx = nltk.word_tokenize(text) # tokenize the text then return a list of tuple (token, nltk_tag)\n",
    "    stemmed_text = []\n",
    "    for word in words_idx:\n",
    "        stemmed_text.append(stemmer.stem(word)) # Stem each words\n",
    "    return \" \".join(stemmed_text) # Return the text untokenize"
   ]
  },
  {
   "cell_type": "code",
   "execution_count": 38,
   "metadata": {
    "ExecuteTime": {
     "end_time": "2021-05-27T11:27:22.826287Z",
     "start_time": "2021-05-27T11:27:22.818971Z"
    }
   },
   "outputs": [],
   "source": [
    "# %%time\n",
    "\n",
    "# df_questions['Title'] = df_questions['Title'].apply(lambda x: stem_text(x))\n",
    "# df_questions['Body'] = df_questions['Body'].apply(lambda x: stem_text(x))"
   ]
  },
  {
   "cell_type": "markdown",
   "metadata": {},
   "source": [
    "## 6.2. Lemmatisation\n",
    "\n",
    "Comme dit au début, la lemmatisation est le processus de remplacement d'un mot par son lemma (forme canonique ou forme dictionnaire). Mais dans certains cas, un lemmatiseur peut ne pas être en mesure de trouver la bonne racine si vous ne précisez pas le type de mot comme vous pouvez le voir ci-dessous."
   ]
  },
  {
   "cell_type": "code",
   "execution_count": 39,
   "metadata": {
    "ExecuteTime": {
     "end_time": "2021-05-27T11:27:24.009842Z",
     "start_time": "2021-05-27T11:27:22.827343Z"
    }
   },
   "outputs": [
    {
     "name": "stdout",
     "output_type": "stream",
     "text": [
      "strip\n",
      "stripe\n",
      "are\n",
      "be\n"
     ]
    }
   ],
   "source": [
    "print(lemmatizer.lemmatize(\"stripes\", \"v\"))\n",
    "print(lemmatizer.lemmatize(\"stripes\", \"n\"))  \n",
    "print(lemmatizer.lemmatize(\"are\"))\n",
    "print(lemmatizer.lemmatize(\"are\", \"v\"))"
   ]
  },
  {
   "cell_type": "markdown",
   "metadata": {},
   "source": [
    "Une façon de contourner ce problème consiste à utiliser un marqueur et à passer le type de mot dans la fonction lemmatise. MAIS c'est vraiment coûteux. La mise en tige ou une simple lemmatisation à cet égard est bien plus efficace."
   ]
  },
  {
   "cell_type": "code",
   "execution_count": 40,
   "metadata": {
    "ExecuteTime": {
     "end_time": "2021-05-27T11:27:24.014555Z",
     "start_time": "2021-05-27T11:27:24.010867Z"
    }
   },
   "outputs": [],
   "source": [
    "def lemmatize_text(text):\n",
    "    \"\"\"Lemmatize the text by using tag \"\"\"\n",
    "    \n",
    "    tokens_tagged = nltk.pos_tag(nltk.word_tokenize(text))  # tokenize the text then return a list of tuple (token, nltk_tag)\n",
    "    lemmatise_text = []\n",
    "    for word, tag in tokens_tagged:\n",
    "        if tag.startswith('J'):\n",
    "            lemmatise_text.append(lemmatizer.lemmatize(word,'a')) # Lemmatise adjectives. Not doing anything since we remove all adjective\n",
    "        elif tag.startswith('V'):\n",
    "            lemmatise_text.append(lemmatizer.lemmatize(word,'v')) # Lemmatise verbs\n",
    "        elif tag.startswith('N'):\n",
    "            lemmatise_text.append(lemmatizer.lemmatize(word,'n')) # Lemmatise nouns\n",
    "        elif tag.startswith('R'):\n",
    "            lemmatise_text.append(lemmatizer.lemmatize(word,'r')) # Lemmatise adverbs\n",
    "        else:\n",
    "            lemmatise_text.append(lemmatizer.lemmatize(word)) # If no tags has been found, perform a non specific lemmatisation\n",
    "    return \" \".join(lemmatise_text) # Return the text untokenize"
   ]
  },
  {
   "cell_type": "code",
   "execution_count": 41,
   "metadata": {
    "ExecuteTime": {
     "end_time": "2021-05-27T11:27:26.439659Z",
     "start_time": "2021-05-27T11:27:24.015712Z"
    }
   },
   "outputs": [
    {
     "name": "stdout",
     "output_type": "stream",
     "text": [
      "CPU times: user 39.7 s, sys: 188 ms, total: 39.9 s\n",
      "Wall time: 39.9 s\n"
     ]
    }
   ],
   "source": [
    "%%time\n",
    "\n",
    "df_questions['Title'] = df_questions['Title'].apply(lambda x: lemmatize_text(x))\n",
    "df_questions['Body'] = df_questions['Body'].apply(lambda x: lemmatize_text(x))"
   ]
  },
  {
   "cell_type": "code",
   "execution_count": 42,
   "metadata": {
    "ExecuteTime": {
     "end_time": "2021-05-27T11:27:26.443799Z",
     "start_time": "2021-05-27T11:27:26.440753Z"
    }
   },
   "outputs": [
    {
     "data": {
      "text/plain": "'post compute pairwise difference among vector can not find difference within vector say vector v vc would like generate vector absolute value pairwise difference within vector abs abs ab ab abs abs output would vector value result comparison output c function r'"
     },
     "execution_count": 42,
     "metadata": {},
     "output_type": "execute_result"
    }
   ],
   "source": [
    "df_questions['Body'][10]"
   ]
  },
  {
   "cell_type": "markdown",
   "metadata": {},
   "source": [
    "# 7) Feature engineering"
   ]
  },
  {
   "cell_type": "markdown",
   "metadata": {},
   "source": [
    "L'utilisation du titre et du corps en même temps donne de bien meilleurs résultats pour la détection des sujets."
   ]
  },
  {
   "cell_type": "code",
   "execution_count": 43,
   "metadata": {
    "ExecuteTime": {
     "end_time": "2021-05-27T11:27:26.458090Z",
     "start_time": "2021-05-27T11:27:26.444991Z"
    }
   },
   "outputs": [],
   "source": [
    "df_questions['Text'] = df_questions['Title'] + ' ' + df_questions['Body']\n"
   ]
  },
  {
   "cell_type": "markdown",
   "source": [
    "# 8) Dataframe avec les Tags"
   ],
   "metadata": {
    "collapsed": false
   }
  },
  {
   "cell_type": "code",
   "execution_count": 44,
   "outputs": [
    {
     "data": {
      "text/plain": "'<r>'"
     },
     "execution_count": 44,
     "metadata": {},
     "output_type": "execute_result"
    }
   ],
   "source": [
    "df_questions['Tags'][10]"
   ],
   "metadata": {
    "collapsed": false,
    "pycharm": {
     "name": "#%%\n"
    }
   }
  },
  {
   "cell_type": "code",
   "execution_count": 45,
   "outputs": [],
   "source": [
    "def clean_split_tag(text):\n",
    "    \"\"\" mettre la déf de la fonction\"\"\"\n",
    "    text = re.sub(r\"<\", \"\", text) # match all literal apostrophe pattern then replace them by a single whitespace\n",
    "    text = re.sub(r\">\", \",\", text) # match all literal Line Feed (New line) pattern then replace them by a single whitespace\n",
    "    text = text.strip(',')\n",
    "    text = text.split(',')\n",
    "    #text = re.sub(r\",\", \" \", text)\n",
    "    #text = text.rstrip('>')\n",
    "    return text"
   ],
   "metadata": {
    "collapsed": false,
    "pycharm": {
     "name": "#%%\n"
    }
   }
  },
  {
   "cell_type": "code",
   "execution_count": 46,
   "outputs": [
    {
     "name": "stdout",
     "output_type": "stream",
     "text": [
      "CPU times: user 35.3 ms, sys: 0 ns, total: 35.3 ms\n",
      "Wall time: 34.8 ms\n"
     ]
    }
   ],
   "source": [
    "%%time\n",
    "\n",
    "df_questions['Tags'] = df_questions['Tags'].apply(lambda x: clean_split_tag(x))"
   ],
   "metadata": {
    "collapsed": false,
    "pycharm": {
     "name": "#%%\n"
    }
   }
  },
  {
   "cell_type": "code",
   "execution_count": 47,
   "outputs": [
    {
     "name": "stdout",
     "output_type": "stream",
     "text": [
      "         Id           Tags\n",
      "0  13854476         python\n",
      "0  13854476      aggregate\n",
      "0  13854476         pandas\n",
      "1  16516593              r\n",
      "1  16516593         string\n",
      "1  16516593      uppercase\n",
      "2    301134         python\n",
      "2    301134  python-import\n",
      "3   2526815         python\n",
      "3   2526815              c\n"
     ]
    }
   ],
   "source": [
    "tags_list = df_questions[['Id','Tags']].explode('Tags')\n",
    "print(tags_list.head(10))\n",
    "\n",
    "def untokenize(words_id):\n",
    "    return ' '.join(map(str, words_id)) # Return the text untokenize\n",
    "\n",
    "df_questions['Tags'] = df_questions['Tags'].apply(lambda x: untokenize(x))"
   ],
   "metadata": {
    "collapsed": false,
    "pycharm": {
     "name": "#%%\n"
    }
   }
  },
  {
   "cell_type": "markdown",
   "source": [
    "# 9) Exportation des données"
   ],
   "metadata": {
    "collapsed": false
   }
  },
  {
   "cell_type": "code",
   "execution_count": 48,
   "metadata": {
    "ExecuteTime": {
     "end_time": "2021-05-27T11:27:26.478700Z",
     "start_time": "2021-05-27T11:27:26.459138Z"
    }
   },
   "outputs": [
    {
     "name": "stdout",
     "output_type": "stream",
     "text": [
      "         Id                                              Title  \\\n",
      "0  13854476           panda transform work sort groupby output   \n",
      "1  16516593  lowercase uppercase value character variable d...   \n",
      "2    301134                     import module give name string   \n",
      "3   2526815                         moon lunar phase algorithm   \n",
      "4  14737773  replace occurrence number columns data frame a...   \n",
      "5   7774964                                      command numpy   \n",
      "6   7235657                                        way replace   \n",
      "7  32035119  solve clipboard buffer output lose r running w...   \n",
      "8    120656                                     listing python   \n",
      "9  13762364                                find value column r   \n",
      "\n",
      "                                                Body  \\\n",
      "0  another question read mckinneys book data anal...   \n",
      "1  dataframe character variable cityhscdslnocolco...   \n",
      "2  write application take command argument exampl...   \n",
      "3  anyone know algorithm either calculate moon ph...   \n",
      "4  eta point way set column vector case propose s...   \n",
      "5  try search function list variable along sizes ...   \n",
      "6  miss value scatter throughout k row columns wo...   \n",
      "7  try copy data directly r clipboard window mach...   \n",
      "8                     get file directory give python   \n",
      "9  r try something really load txt file four colu...   \n",
      "\n",
      "                                                Tags  Score  \\\n",
      "0                            python aggregate pandas     23   \n",
      "1                                 r string uppercase     77   \n",
      "2                               python python-import    583   \n",
      "3              python c algorithm calendar astronomy     38   \n",
      "4                                 r replace indexing     24   \n",
      "5                         python matlab numpy octave     21   \n",
      "6                 r performance dataframe data.table    162   \n",
      "7                                                  r     27   \n",
      "8  python file directory subdirectory directory-tree    586   \n",
      "9                                                  r     26   \n",
      "\n",
      "                                           Title_raw  qTitle  \\\n",
      "0  pandas' transform doesn't work sorting groupby...       1   \n",
      "1  Convert from lowercase to uppercase all values...       1   \n",
      "2   How to import a module given its name as string?       1   \n",
      "3                       Moon / Lunar Phase Algorithm       1   \n",
      "4  Replacing occurrences of a number in multiple ...       1   \n",
      "5              Equivalent of \"whos\" command in NumPy       1   \n",
      "6   Fastest way to replace NAs in a large data.table       1   \n",
      "7  How to solve \"clipboard buffer is full and out...       1   \n",
      "8                   Directory-tree listing in Python       1   \n",
      "9    How to find the minimum value of a column in R?       1   \n",
      "\n",
      "                                                Text  \n",
      "0  panda transform work sort groupby output anoth...  \n",
      "1  lowercase uppercase value character variable d...  \n",
      "2  import module give name string write applicati...  \n",
      "3  moon lunar phase algorithm anyone know algorit...  \n",
      "4  replace occurrence number columns data frame a...  \n",
      "5  command numpy try search function list variabl...  \n",
      "6  way replace miss value scatter throughout k ro...  \n",
      "7  solve clipboard buffer output lose r running w...  \n",
      "8      listing python get file directory give python  \n",
      "9  find value column r r try something really loa...   \n",
      " \n",
      "          Id           Tags\n",
      "0  13854476         python\n",
      "0  13854476      aggregate\n",
      "0  13854476         pandas\n",
      "1  16516593              r\n",
      "1  16516593         string\n",
      "1  16516593      uppercase\n",
      "2    301134         python\n",
      "2    301134  python-import\n",
      "3   2526815         python\n",
      "3   2526815              c\n"
     ]
    }
   ],
   "source": [
    "print(df_questions.head(10),'\\n \\n',tags_list.head(10))\n",
    "#df_questions.drop(['Tags'], axis=1).to_csv('df_questions_fullclean.csv', encoding='utf-8')\n",
    "df_questions.to_csv('df_questions_fullclean.csv', encoding='utf-8')\n",
    "tags_list.to_csv('tags_list.csv', encoding='utf-8')"
   ]
  },
  {
   "cell_type": "code",
   "execution_count": 48,
   "metadata": {},
   "outputs": [],
   "source": []
  }
 ],
 "metadata": {
  "kernelspec": {
   "display_name": "Python 3",
   "language": "python",
   "name": "python3"
  },
  "language_info": {
   "codemirror_mode": {
    "name": "ipython",
    "version": 3
   },
   "file_extension": ".py",
   "mimetype": "text/x-python",
   "name": "python",
   "nbconvert_exporter": "python",
   "pygments_lexer": "ipython3",
   "version": "3.8.5"
  },
  "toc": {
   "base_numbering": 1,
   "nav_menu": {},
   "number_sections": true,
   "sideBar": true,
   "skip_h1_title": false,
   "title_cell": "Table of Contents",
   "title_sidebar": "Contents",
   "toc_cell": false,
   "toc_position": {},
   "toc_section_display": true,
   "toc_window_display": true
  },
  "varInspector": {
   "cols": {
    "lenName": 16,
    "lenType": 16,
    "lenVar": 40
   },
   "kernels_config": {
    "python": {
     "delete_cmd_postfix": "",
     "delete_cmd_prefix": "del ",
     "library": "var_list.py",
     "varRefreshCmd": "print(var_dic_list())"
    },
    "r": {
     "delete_cmd_postfix": ") ",
     "delete_cmd_prefix": "rm(",
     "library": "var_list.r",
     "varRefreshCmd": "cat(var_dic_list()) "
    }
   },
   "types_to_exclude": [
    "module",
    "function",
    "builtin_function_or_method",
    "instance",
    "_Feature"
   ],
   "window_display": false
  }
 },
 "nbformat": 4,
 "nbformat_minor": 4
}