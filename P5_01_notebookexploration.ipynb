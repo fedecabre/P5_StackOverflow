{
 "cells": [
  {
   "cell_type": "markdown",
   "metadata": {},
   "source": [
    "# 1) Introduction"
   ]
  },
  {
   "cell_type": "markdown",
   "metadata": {},
   "source": [
    "L’objectif du notebook est de pré traiter les données issues de l’outil d’export de données de Stack Overflow-\n",
    "\"stackexchange explorer\", qui recense un grand nombre de données authentiques de la plateforme afin de détecter\n",
    "les sujets et générer des tags."
   ]
  },
  {
   "cell_type": "markdown",
   "metadata": {},
   "source": [
    "## 1.1. Étapes de prétraitement\n",
    "\n",
    "**1) Suppression du bruit**\n",
    "\n",
    "1. Suppression du formatage HTML\n",
    "2. Suppression des contractions\n",
    "3. La correction orthographique\n",
    "4. Mettre en minuscule le texte\n",
    "\n",
    "**2) Suppression des caractères simples**\n",
    "\n",
    "1. Suppression de la ponctuation, des caractères spéciaux et des nombres\n",
    "2. Suppression d'un seul caractère (facultatif et spécifique)\n",
    "\n",
    "**3) Suppression de StopWords**\n",
    "\n",
    "1. Suppression du mot le plus fréquent\n",
    "2. Suppression d'un certain type de mot (facultatif et spécifique)\n",
    "\n",
    "**4) Stemming / Lemmatisation**\n",
    "\n",
    "1. Stemming\n",
    "2. Lemmatisation\n",
    "\n",
    "\n",
    "Ce pré-processus est utilisé pour effectuer une simple détection de sujet (LDA, NMF, etc.) ou une classification,\n",
    "des informations nécessaires à certaines analyses peuvent être perdues.\n",
    "\n",
    " "
   ]
  },
  {
   "cell_type": "markdown",
   "metadata": {},
   "source": [
    "1.1.1 Vocabulaire\n",
    "Voici une petite liste de concepts utilisés dans ce cahier.\n",
    "\n",
    "Tokenize : \"Processus de conversion d'une chaîne en une liste de sous-chaînes, appelées tokens.\"\n",
    "\n",
    "Normalisation du texte : \"Processus de transformation d'un texte en une seule forme canonique qu'il n'aurait\n",
    "peut-être pas eu auparavant (par exemple, mettre en minuscule le texte, supprimer les contractions, correction\n",
    "orthographique, stemming / lemmatisation, etc.). La normalisation du texte nécessite de savoir quel type de texte\n",
    "doit être normalisée et comment elle doit être traitée par la suite ; il n’existe pas de procédure de\n",
    "normalisation universelle. \"\n",
    "\n",
    "Suppression du bruit : \"Processus de suppression de tout élément susceptible interferer avec votre analyse\n",
    "(par exemple, suppression du code HTML, mettre en minuscule le texte, suppression de la ponctuation / du caractère\n",
    "spécial, etc.)\n",
    "\n",
    "Stemming: \"Processus de réduction des mots à leur racine , base ou forme de racine - généralement une forme de\n",
    "mot écrit (\"fishing\", \"fished\", and \"fisher\" to the stem \"fish\").\"\n",
    "\n",
    "Lemmatisation : \"Processus de regroupement des formes fléchies d'un mot afin qu'elles puissent être analysées\n",
    "comme un seul élément, identifié par le lemme du mot, ou par la forme du dictionnaire (ie : \"walking\" to \"walk\",\n",
    " \"better\" to \"good\").\"\n",
    "\n",
    "StopWord : \"Mots qui sont filtrés avant ou après le traitement des données en langage naturel (texte). Les mots\n",
    "d'arrêt font généralement référence aux mots les plus courants dans une langue (des mots comme \"The\",\"a\", etc. en\n",
    "anglais).\""
   ]
  },
  {
   "cell_type": "markdown",
   "metadata": {},
   "source": [
    "# 2) Libraries and Dataset "
   ]
  },
  {
   "cell_type": "code",
   "execution_count": 1,
   "metadata": {
    "ExecuteTime": {
     "end_time": "2021-06-18T09:06:17.447951Z",
     "start_time": "2021-06-18T09:06:11.277016Z"
    },
    "_kg_hide-input": false,
    "_kg_hide-output": true
   },
   "outputs": [
    {
     "name": "stdout",
     "output_type": "stream",
     "text": [
      "Requirement already satisfied: bs4 in /home/fedecabre/anaconda3/lib/python3.8/site-packages (0.0.1)\r\n",
      "Requirement already satisfied: beautifulsoup4 in /home/fedecabre/anaconda3/lib/python3.8/site-packages (from bs4) (4.9.3)\r\n",
      "Requirement already satisfied: soupsieve>1.2 in /home/fedecabre/anaconda3/lib/python3.8/site-packages (from beautifulsoup4->bs4) (2.2.1)\r\n",
      "Requirement already satisfied: contractions in /home/fedecabre/anaconda3/lib/python3.8/site-packages (0.0.49)\r\n",
      "Requirement already satisfied: textsearch>=0.0.21 in /home/fedecabre/anaconda3/lib/python3.8/site-packages (from contractions) (0.0.21)\r\n",
      "Requirement already satisfied: pyahocorasick in /home/fedecabre/anaconda3/lib/python3.8/site-packages (from textsearch>=0.0.21->contractions) (1.4.2)\r\n",
      "Requirement already satisfied: anyascii in /home/fedecabre/anaconda3/lib/python3.8/site-packages (from textsearch>=0.0.21->contractions) (0.2.0)\r\n",
      "Requirement already satisfied: autocorrect in /home/fedecabre/anaconda3/lib/python3.8/site-packages (2.5.0)\r\n"
     ]
    }
   ],
   "source": [
    "! pip install bs4\n",
    "! pip install contractions\n",
    "! pip install autocorrect "
   ]
  },
  {
   "cell_type": "code",
   "execution_count": 2,
   "metadata": {
    "ExecuteTime": {
     "end_time": "2021-06-18T09:06:18.303686Z",
     "start_time": "2021-06-18T09:06:17.451757Z"
    }
   },
   "outputs": [],
   "source": [
    "# generic librairies\n",
    "import pandas as pd\n",
    "\n",
    "# Text librairies\n",
    "import re\n",
    "from bs4 import BeautifulSoup\n",
    "import nltk\n",
    "from nltk.tokenize import ToktokTokenizer\n",
    "from nltk.stem.wordnet import WordNetLemmatizer\n",
    "from nltk.stem import PorterStemmer\n",
    "from nltk.corpus import stopwords\n",
    "import contractions\n",
    "from autocorrect import Speller\n"
   ]
  },
  {
   "cell_type": "code",
   "execution_count": 3,
   "metadata": {
    "ExecuteTime": {
     "end_time": "2021-06-18T09:06:18.306696Z",
     "start_time": "2021-06-18T09:06:18.304788Z"
    }
   },
   "outputs": [],
   "source": [
    "# https://numpy.org/devdocs/user/basics.types.html\n",
    "\n",
    "dtypes_questions = {'Id':'int32', 'Score': 'int16', 'Title': 'string', 'Body': 'string', 'Tags': 'string'}"
   ]
  },
  {
   "cell_type": "code",
   "execution_count": 4,
   "metadata": {
    "ExecuteTime": {
     "end_time": "2021-06-18T09:06:18.523380Z",
     "start_time": "2021-06-18T09:06:18.307713Z"
    }
   },
   "outputs": [
    {
     "name": "stdout",
     "output_type": "stream",
     "text": [
      "CPU times: user 194 ms, sys: 11 ms, total: 205 ms\n",
      "Wall time: 204 ms\n"
     ]
    }
   ],
   "source": [
    "%%time\n",
    "\n",
    "nrows=10000\n",
    "\n",
    "df_questions_python = pd.read_csv('input/QueryResults python score more than 20.csv',\n",
    "                           usecols=dtypes_questions.keys(),\n",
    "                           encoding = \"ISO-8859-1\",\n",
    "                           dtype=dtypes_questions,\n",
    "                           nrows=nrows\n",
    "                          )\n",
    "\n",
    "df_questions_r = pd.read_csv('input/QueryResults r score more than 20.csv',\n",
    "                           usecols=['Id', 'Score', 'Title', 'Body', 'Tags'],\n",
    "                           encoding = \"ISO-8859-1\",\n",
    "                           dtype=dtypes_questions,\n",
    "                           nrows=nrows\n",
    "                          )\n",
    "\n",
    "df_questions = pd.concat([df_questions_python,df_questions_r])\n",
    "df_questions['Title_raw']=df_questions['Title']\n",
    "df_questions['Body_raw']=df_questions['Body']\n",
    "df_questions = df_questions.sample(frac=1,random_state=1).reset_index(drop=True)"
   ]
  },
  {
   "cell_type": "code",
   "execution_count": 5,
   "metadata": {
    "ExecuteTime": {
     "end_time": "2021-06-18T09:06:18.607907Z",
     "start_time": "2021-06-18T09:06:18.524447Z"
    }
   },
   "outputs": [],
   "source": [
    "df_questions[['Title', 'Body', 'Tags']] = df_questions[[\n",
    "    'Title', 'Body','Tags'\n",
    "]].applymap(lambda x: str(x).encode(\"utf-8\", errors='surrogatepass').decode(\n",
    "    \"ISO-8859-1\", errors='surrogatepass'))"
   ]
  },
  {
   "cell_type": "code",
   "execution_count": 6,
   "metadata": {
    "ExecuteTime": {
     "end_time": "2021-06-18T09:06:18.617904Z",
     "start_time": "2021-06-18T09:06:18.609882Z"
    },
    "pycharm": {
     "name": "#%%\n"
    }
   },
   "outputs": [
    {
     "data": {
      "text/plain": [
       "Id            int32\n",
       "Title        object\n",
       "Body         object\n",
       "Tags         object\n",
       "Score         int16\n",
       "Title_raw    string\n",
       "Body_raw     string\n",
       "dtype: object"
      ]
     },
     "execution_count": 6,
     "metadata": {},
     "output_type": "execute_result"
    }
   ],
   "source": [
    "df_questions.dtypes"
   ]
  },
  {
   "cell_type": "code",
   "execution_count": 7,
   "metadata": {
    "ExecuteTime": {
     "end_time": "2021-06-18T09:06:18.685303Z",
     "start_time": "2021-06-18T09:06:18.619373Z"
    }
   },
   "outputs": [],
   "source": [
    "spell = Speller()\n",
    "token = ToktokTokenizer()\n",
    "lemmatizer = WordNetLemmatizer()\n",
    "stemmer = PorterStemmer()\n",
    "charac = '!\"#$%&\\'()*+,-./:;<=>?@[\\\\]^_`{|}~0123456789'\n",
    "stop_words = set(stopwords.words(\"english\"))\n",
    "adjective_tag_list = {'JJ', 'JJR', 'JJS', 'RBR', 'RBS'}  # List of Adjective's tag from nltk package\n"
   ]
  },
  {
   "cell_type": "markdown",
   "metadata": {},
   "source": [
    "**NLTK Tag list**\n",
    "List of tag use in the tagger (pos_tag function) from NLTK:\n",
    "https://www.ling.upenn.edu/courses/Fall_2003/ling001/penn_treebank_pos.html"
   ]
  },
  {
   "cell_type": "code",
   "execution_count": 8,
   "metadata": {
    "ExecuteTime": {
     "end_time": "2021-06-18T09:06:18.699499Z",
     "start_time": "2021-06-18T09:06:18.686372Z"
    }
   },
   "outputs": [
    {
     "name": "stdout",
     "output_type": "stream",
     "text": [
      "<class 'pandas.core.frame.DataFrame'>\n",
      "RangeIndex: 13913 entries, 0 to 13912\n",
      "Data columns (total 7 columns):\n",
      " #   Column     Non-Null Count  Dtype \n",
      "---  ------     --------------  ----- \n",
      " 0   Id         13913 non-null  int32 \n",
      " 1   Title      13913 non-null  object\n",
      " 2   Body       13913 non-null  object\n",
      " 3   Tags       13913 non-null  object\n",
      " 4   Score      13913 non-null  int16 \n",
      " 5   Title_raw  13913 non-null  string\n",
      " 6   Body_raw   13913 non-null  string\n",
      "dtypes: int16(1), int32(1), object(3), string(2)\n",
      "memory usage: 625.1+ KB\n"
     ]
    }
   ],
   "source": [
    "df_questions.info()"
   ]
  },
  {
   "cell_type": "code",
   "execution_count": 9,
   "metadata": {
    "ExecuteTime": {
     "end_time": "2021-06-18T09:06:18.708800Z",
     "start_time": "2021-06-18T09:06:18.700528Z"
    },
    "pycharm": {
     "name": "#%%\n"
    }
   },
   "outputs": [],
   "source": [
    "df_questions['qTitle'] = df_questions['Tags'].apply(lambda x : len((x).split(\" \")))"
   ]
  },
  {
   "cell_type": "markdown",
   "metadata": {},
   "source": [
    "# 3) Suppression du bruit"
   ]
  },
  {
   "cell_type": "markdown",
   "metadata": {},
   "source": [
    "La suppression du bruit consiste à supprimer tout ce qui peut interférer avec votre analyse de texte. C'est comme l'étape de nettoyage des données pour un projet ML classique."
   ]
  },
  {
   "cell_type": "markdown",
   "metadata": {},
   "source": [
    "## 3.1. Suppression du code HTML"
   ]
  },
  {
   "cell_type": "code",
   "execution_count": 10,
   "metadata": {
    "ExecuteTime": {
     "end_time": "2021-06-18T09:06:18.718292Z",
     "start_time": "2021-06-18T09:06:18.709722Z"
    }
   },
   "outputs": [
    {
     "data": {
      "text/plain": [
       "\"<p>I do not know python very much (never used it before :D), but I can't seem to find anything online. Maybe I just didn't google the right question, but here I go:</p>\\n<p>I want to change an instance's implementation of a specific method. When I googled for it, I found you could do it, but it changes the implementation for all other instances of the same class, for example:</p>\\n<pre><code>def showyImp(self):\\n    print self.y\\n\\nclass Foo:\\n    def __init__(self):\\n        self.x = &quot;x = 25&quot;\\n        self.y = &quot;y = 4&quot;\\n\\n    def showx(self):\\n        print self.x\\n\\n    def showy(self):\\n         print &quot;y = woohoo&quot;\\n\\nclass Bar:\\n    def __init__(self):\\n        Foo.showy = showyImp\\n        self.foo = Foo()\\n\\n    def show(self):\\n        self.foo.showx()\\n        self.foo.showy()\\n\\nif __name__ == '__main__':\\n    b = Bar()\\n    b.show()\\n    f = Foo()\\n    f.showx()\\n    f.showy()\\n</code></pre>\\n<p>This does not work as expected, because the output is the following:</p>\\n<blockquote>\\n<p>x = 25</p>\\n<p>y = 4</p>\\n<p>x = 25</p>\\n<p>y = 4</p>\\n</blockquote>\\n<p>And I want it to be:</p>\\n<blockquote>\\n<p>x = 25</p>\\n<p>y = 4</p>\\n<p>x = 25</p>\\n<p>y = woohoo</p>\\n</blockquote>\\n<p>I tried to change Bar's init method with this:</p>\\n<pre><code>def __init__(self):\\n    self.foo = Foo()\\n    self.foo.showy = showyImp\\n</code></pre>\\n<p>But I get the following error message:</p>\\n<blockquote>\\n<p>showyImp() takes exactly 1 argument (0 given)</p>\\n</blockquote>\\n<p>So yeah... I tried using <code>setattr()</code>, but seems like it's the same as <code>self.foo.showy = showyImp</code>.</p>\\n<p>Any clue? :)</p>\\n\""
      ]
     },
     "execution_count": 10,
     "metadata": {},
     "output_type": "execute_result"
    }
   ],
   "source": [
    "df_questions['Body'][10]"
   ]
  },
  {
   "cell_type": "code",
   "execution_count": 11,
   "metadata": {
    "ExecuteTime": {
     "end_time": "2021-06-18T09:06:24.606755Z",
     "start_time": "2021-06-18T09:06:18.719230Z"
    }
   },
   "outputs": [
    {
     "name": "stdout",
     "output_type": "stream",
     "text": [
      "CPU times: user 5.86 s, sys: 24.8 ms, total: 5.88 s\n",
      "Wall time: 5.88 s\n"
     ]
    }
   ],
   "source": [
    "%%time\n",
    "\n",
    "# Analyser la question et le titre puis renvoyer uniquement le texte\n",
    "df_questions['Body'] = df_questions['Body'].apply(\n",
    "    lambda x: BeautifulSoup(x, 'html.parser').get_text())\n",
    "df_questions['Title'] = df_questions['Title'].apply(\n",
    "    lambda x: BeautifulSoup(x, 'html.parser').get_text())\n"
   ]
  },
  {
   "cell_type": "markdown",
   "metadata": {},
   "source": [
    "BeautifulSoup nous permet de supprimer efficacement la plupart du code html mais pas tout."
   ]
  },
  {
   "cell_type": "code",
   "execution_count": 12,
   "metadata": {
    "ExecuteTime": {
     "end_time": "2021-06-18T09:06:24.610323Z",
     "start_time": "2021-06-18T09:06:24.607764Z"
    }
   },
   "outputs": [
    {
     "data": {
      "text/plain": [
       "'I do not know python very much (never used it before :D), but I can\\'t seem to find anything online. Maybe I just didn\\'t google the right question, but here I go:\\nI want to change an instance\\'s implementation of a specific method. When I googled for it, I found you could do it, but it changes the implementation for all other instances of the same class, for example:\\ndef showyImp(self):\\n    print self.y\\n\\nclass Foo:\\n    def __init__(self):\\n        self.x = \"x = 25\"\\n        self.y = \"y = 4\"\\n\\n    def showx(self):\\n        print self.x\\n\\n    def showy(self):\\n         print \"y = woohoo\"\\n\\nclass Bar:\\n    def __init__(self):\\n        Foo.showy = showyImp\\n        self.foo = Foo()\\n\\n    def show(self):\\n        self.foo.showx()\\n        self.foo.showy()\\n\\nif __name__ == \\'__main__\\':\\n    b = Bar()\\n    b.show()\\n    f = Foo()\\n    f.showx()\\n    f.showy()\\n\\nThis does not work as expected, because the output is the following:\\n\\nx = 25\\ny = 4\\nx = 25\\ny = 4\\n\\nAnd I want it to be:\\n\\nx = 25\\ny = 4\\nx = 25\\ny = woohoo\\n\\nI tried to change Bar\\'s init method with this:\\ndef __init__(self):\\n    self.foo = Foo()\\n    self.foo.showy = showyImp\\n\\nBut I get the following error message:\\n\\nshowyImp() takes exactly 1 argument (0 given)\\n\\nSo yeah... I tried using setattr(), but seems like it\\'s the same as self.foo.showy = showyImp.\\nAny clue? :)\\n'"
      ]
     },
     "execution_count": 12,
     "metadata": {},
     "output_type": "execute_result"
    }
   ],
   "source": [
    "df_questions['Body'][10]"
   ]
  },
  {
   "cell_type": "markdown",
   "metadata": {},
   "source": [
    "Nous devons donc supprimer le reste ici."
   ]
  },
  {
   "cell_type": "code",
   "execution_count": 13,
   "metadata": {
    "ExecuteTime": {
     "end_time": "2021-06-18T09:06:24.623452Z",
     "start_time": "2021-06-18T09:06:24.611284Z"
    }
   },
   "outputs": [],
   "source": [
    "def clean_text(text):\n",
    "    \"\"\" mettre la déf de la fonction\"\"\"\n",
    "    text = re.sub(r\"\\'\", \"'\", text) # match all literal apostrophe pattern then replace them by a single whitespace\n",
    "    text = re.sub(r\"\\n\", \" \", text) # match all literal Line Feed (New line) pattern then replace them by a single whitespace\n",
    "    text = re.sub(r\"\\xa0\", \" \", text) # match all literal non-breakable space pattern then replace them by a single whitespace\n",
    "    text = re.sub('\\s+', ' ', text) # match all one or more whitespace then replace them by a single whitespace\n",
    "    text = text.strip(' ')\n",
    "    return text\n"
   ]
  },
  {
   "cell_type": "code",
   "execution_count": 14,
   "metadata": {
    "ExecuteTime": {
     "end_time": "2021-06-18T09:06:25.242775Z",
     "start_time": "2021-06-18T09:06:24.624525Z"
    }
   },
   "outputs": [
    {
     "name": "stdout",
     "output_type": "stream",
     "text": [
      "CPU times: user 609 ms, sys: 0 ns, total: 609 ms\n",
      "Wall time: 609 ms\n"
     ]
    }
   ],
   "source": [
    "%%time\n",
    "\n",
    "df_questions['Title'] = df_questions['Title'].apply(lambda x: clean_text(x))\n",
    "df_questions['Body'] = df_questions['Body'].apply(lambda x: clean_text(x))"
   ]
  },
  {
   "cell_type": "code",
   "execution_count": 15,
   "metadata": {
    "ExecuteTime": {
     "end_time": "2021-06-18T09:06:25.246352Z",
     "start_time": "2021-06-18T09:06:25.243868Z"
    }
   },
   "outputs": [
    {
     "data": {
      "text/plain": [
       "'I do not know python very much (never used it before :D), but I can\\'t seem to find anything online. Maybe I just didn\\'t google the right question, but here I go: I want to change an instance\\'s implementation of a specific method. When I googled for it, I found you could do it, but it changes the implementation for all other instances of the same class, for example: def showyImp(self): print self.y class Foo: def __init__(self): self.x = \"x = 25\" self.y = \"y = 4\" def showx(self): print self.x def showy(self): print \"y = woohoo\" class Bar: def __init__(self): Foo.showy = showyImp self.foo = Foo() def show(self): self.foo.showx() self.foo.showy() if __name__ == \\'__main__\\': b = Bar() b.show() f = Foo() f.showx() f.showy() This does not work as expected, because the output is the following: x = 25 y = 4 x = 25 y = 4 And I want it to be: x = 25 y = 4 x = 25 y = woohoo I tried to change Bar\\'s init method with this: def __init__(self): self.foo = Foo() self.foo.showy = showyImp But I get the following error message: showyImp() takes exactly 1 argument (0 given) So yeah... I tried using setattr(), but seems like it\\'s the same as self.foo.showy = showyImp. Any clue? :)'"
      ]
     },
     "execution_count": 15,
     "metadata": {},
     "output_type": "execute_result"
    }
   ],
   "source": [
    "df_questions['Body'][10]"
   ]
  },
  {
   "cell_type": "markdown",
   "metadata": {},
   "source": [
    "Nous devons aussi traiter la colonne des tags\n"
   ]
  },
  {
   "cell_type": "markdown",
   "metadata": {},
   "source": [
    "## 3.2. Suppression des contractions"
   ]
  },
  {
   "cell_type": "code",
   "execution_count": 16,
   "metadata": {
    "ExecuteTime": {
     "end_time": "2021-06-18T09:06:25.256611Z",
     "start_time": "2021-06-18T09:06:25.247372Z"
    }
   },
   "outputs": [],
   "source": [
    "def expand_contractions(text):\n",
    "    \"\"\"développer les mots raccourcis, e.g. 'don't' to 'do not'\"\"\"\n",
    "    text = contractions.fix(text)\n",
    "    return text"
   ]
  },
  {
   "cell_type": "code",
   "execution_count": 17,
   "metadata": {
    "ExecuteTime": {
     "end_time": "2021-06-18T09:06:25.926581Z",
     "start_time": "2021-06-18T09:06:25.257715Z"
    }
   },
   "outputs": [
    {
     "name": "stdout",
     "output_type": "stream",
     "text": [
      "CPU times: user 661 ms, sys: 0 ns, total: 661 ms\n",
      "Wall time: 661 ms\n"
     ]
    }
   ],
   "source": [
    "%%time\n",
    "\n",
    "df_questions['Title'] = df_questions['Title'].apply(lambda x: expand_contractions(x))\n",
    "df_questions['Body'] = df_questions['Body'].apply(lambda x: expand_contractions(x))"
   ]
  },
  {
   "cell_type": "code",
   "execution_count": 18,
   "metadata": {
    "ExecuteTime": {
     "end_time": "2021-06-18T09:06:25.930346Z",
     "start_time": "2021-06-18T09:06:25.927807Z"
    }
   },
   "outputs": [
    {
     "data": {
      "text/plain": [
       "'I do not know python very much (never used it before :D), but I can not seem to find anything online. Maybe I just did not google the right question, but here I go: I want to change an instance\\'s implementation of a specific method. When I googled for it, I found you could do it, but it changes the implementation for all other instances of the same class, for example: def showyImp(self): print self.y class Foo: def __init__(self): self.x = \"x = 25\" self.y = \"y = 4\" def showx(self): print self.x def showy(self): print \"y = woohoo\" class Bar: def __init__(self): Foo.showy = showyImp self.foo = Foo() def show(self): self.foo.showx() self.foo.showy() if __name__ == \\'__main__\\': b = Bar() b.show() f = Foo() f.showx() f.showy() This does not work as expected, because the output is the following: x = 25 y = 4 x = 25 y = 4 And I want it to be: x = 25 y = 4 x = 25 y = woohoo I tried to change Bar\\'s init method with this: def __init__(self): self.foo = Foo() self.foo.showy = showyImp But I get the following error message: showyImp() takes exactly 1 argument (0 given) So yeah... I tried using setattr(), but seems like it is the same as self.foo.showy = showyImp. Any clue? :)'"
      ]
     },
     "execution_count": 18,
     "metadata": {},
     "output_type": "execute_result"
    }
   ],
   "source": [
    "df_questions['Body'][10]"
   ]
  },
  {
   "cell_type": "markdown",
   "metadata": {},
   "source": [
    "## 3.3. La correction orthographique"
   ]
  },
  {
   "cell_type": "markdown",
   "metadata": {},
   "source": [
    "Pour 1000 entrées cette correction prends 10 minutes"
   ]
  },
  {
   "cell_type": "code",
   "execution_count": 19,
   "metadata": {
    "ExecuteTime": {
     "end_time": "2021-06-18T09:06:25.940360Z",
     "start_time": "2021-06-18T09:06:25.931258Z"
    }
   },
   "outputs": [],
   "source": [
    "def autocorrect(text):\n",
    "    words_id = token.tokenize(text)\n",
    "    words_correct = [spell(i) for i in words_id]\n",
    "    return ' '.join(map(str, words_correct)) # Return the text untokenize"
   ]
  },
  {
   "cell_type": "code",
   "execution_count": null,
   "metadata": {
    "ExecuteTime": {
     "end_time": "2021-05-27T11:27:19.840528Z",
     "start_time": "2021-05-27T11:27:19.832771Z"
    }
   },
   "outputs": [],
   "source": []
  },
  {
   "cell_type": "markdown",
   "metadata": {},
   "source": [
    "#df_questions['Title'] = df_questions['Title'].apply(lambda x: autocorrect(x))\n",
    "#df_questions['Body'] = df_questions['Body'].apply(lambda x: autocorrect(x))"
   ]
  },
  {
   "cell_type": "markdown",
   "metadata": {},
   "source": [
    "## 3.4. Mettre en minuscule le texte"
   ]
  },
  {
   "cell_type": "markdown",
   "metadata": {
    "ExecuteTime": {
     "end_time": "2021-05-27T11:27:19.851493Z",
     "start_time": "2021-05-27T11:27:19.841333Z"
    },
    "pycharm": {
     "name": "#%% md\n"
    }
   },
   "source": [
    "Je choisis d'abaisser le texte après le paquet de contractions car celui-ci peut remettre des lettres majuscules lors de la suppression des contractions. La mise en minuscule du texte est une étape classique et utile de la suppression du bruit ou de la normalisation du texte car elle réduit le vocabulaire, normalise le texte et ne coûte presque rien."
   ]
  },
  {
   "cell_type": "code",
   "execution_count": 20,
   "metadata": {
    "ExecuteTime": {
     "end_time": "2021-06-18T09:06:25.973707Z",
     "start_time": "2021-06-18T09:06:25.941509Z"
    }
   },
   "outputs": [
    {
     "name": "stdout",
     "output_type": "stream",
     "text": [
      "CPU times: user 24.4 ms, sys: 45 µs, total: 24.5 ms\n",
      "Wall time: 23.9 ms\n"
     ]
    }
   ],
   "source": [
    "%%time\n",
    "\n",
    "df_questions['Title'] = df_questions['Title'].str.lower()\n",
    "df_questions['Body'] = df_questions['Body'].str.lower()\n",
    "df_questions['Tags'] = df_questions['Tags'].str.lower()"
   ]
  },
  {
   "cell_type": "code",
   "execution_count": 21,
   "metadata": {
    "ExecuteTime": {
     "end_time": "2021-06-18T09:06:25.979241Z",
     "start_time": "2021-06-18T09:06:25.976557Z"
    },
    "pycharm": {
     "name": "#%%\n"
    }
   },
   "outputs": [
    {
     "data": {
      "text/plain": [
       "'i do not know python very much (never used it before :d), but i can not seem to find anything online. maybe i just did not google the right question, but here i go: i want to change an instance\\'s implementation of a specific method. when i googled for it, i found you could do it, but it changes the implementation for all other instances of the same class, for example: def showyimp(self): print self.y class foo: def __init__(self): self.x = \"x = 25\" self.y = \"y = 4\" def showx(self): print self.x def showy(self): print \"y = woohoo\" class bar: def __init__(self): foo.showy = showyimp self.foo = foo() def show(self): self.foo.showx() self.foo.showy() if __name__ == \\'__main__\\': b = bar() b.show() f = foo() f.showx() f.showy() this does not work as expected, because the output is the following: x = 25 y = 4 x = 25 y = 4 and i want it to be: x = 25 y = 4 x = 25 y = woohoo i tried to change bar\\'s init method with this: def __init__(self): self.foo = foo() self.foo.showy = showyimp but i get the following error message: showyimp() takes exactly 1 argument (0 given) so yeah... i tried using setattr(), but seems like it is the same as self.foo.showy = showyimp. any clue? :)'"
      ]
     },
     "execution_count": 21,
     "metadata": {},
     "output_type": "execute_result"
    }
   ],
   "source": [
    "df_questions['Body'][10]"
   ]
  },
  {
   "cell_type": "markdown",
   "metadata": {},
   "source": [
    "# 4) Suppression des caractères"
   ]
  },
  {
   "cell_type": "markdown",
   "metadata": {},
   "source": [
    "## 4.1. Suppression de la ponctuation, des caractères spéciaux et des nombres"
   ]
  },
  {
   "cell_type": "markdown",
   "metadata": {
    "ExecuteTime": {
     "end_time": "2021-05-27T11:27:19.868801Z",
     "start_time": "2021-05-27T11:27:19.862864Z"
    },
    "pycharm": {
     "name": "#%% md\n"
    }
   },
   "source": [
    "TOUS les caractères non alphabétiques ont été supprimés (y compris la ponctuation, les nombres et les caractères spéciaux). Ainsi, je ne considère pas les mots importants qui peuvent contenir des caractères spéciaux (comme \"C #\" en programmation)."
   ]
  },
  {
   "cell_type": "code",
   "execution_count": 22,
   "metadata": {
    "ExecuteTime": {
     "end_time": "2021-06-18T09:06:25.987116Z",
     "start_time": "2021-06-18T09:06:25.980973Z"
    }
   },
   "outputs": [],
   "source": [
    "def remove_punctuation_and_number(text):\n",
    "    \"\"\"remove all punctuation and number\"\"\"\n",
    "    return text.translate(str.maketrans(\" \", \" \", charac)) \n",
    "\n",
    "def remove_non_alphabetical_character(text):\n",
    "    \"\"\"remove all non-alphabetical character\"\"\"\n",
    "    text = re.sub(\"[^a-z]+\", \" \", text) # remove all non-alphabetical character\n",
    "    text = re.sub(\"\\s+\", \" \", text) # remove whitespaces left after the last operation\n",
    "    return text"
   ]
  },
  {
   "cell_type": "code",
   "execution_count": 23,
   "metadata": {
    "ExecuteTime": {
     "end_time": "2021-06-18T09:06:26.141800Z",
     "start_time": "2021-06-18T09:06:25.988174Z"
    },
    "pycharm": {
     "name": "#%%\n"
    }
   },
   "outputs": [
    {
     "name": "stdout",
     "output_type": "stream",
     "text": [
      "CPU times: user 141 ms, sys: 3.78 ms, total: 145 ms\n",
      "Wall time: 144 ms\n"
     ]
    }
   ],
   "source": [
    "%%time\n",
    "\n",
    "df_questions['Title'] = df_questions['Title'].apply(lambda x: remove_punctuation_and_number(x))\n",
    "df_questions['Body'] = df_questions['Body'].apply(lambda x: remove_punctuation_and_number(x))"
   ]
  },
  {
   "cell_type": "code",
   "execution_count": 24,
   "metadata": {
    "ExecuteTime": {
     "end_time": "2021-06-18T09:06:27.047846Z",
     "start_time": "2021-06-18T09:06:26.143077Z"
    },
    "pycharm": {
     "name": "#%%\n"
    }
   },
   "outputs": [
    {
     "name": "stdout",
     "output_type": "stream",
     "text": [
      "CPU times: user 903 ms, sys: 0 ns, total: 903 ms\n",
      "Wall time: 902 ms\n"
     ]
    }
   ],
   "source": [
    "%%time\n",
    "\n",
    "df_questions['Title'] = df_questions['Title'].apply(lambda x: remove_non_alphabetical_character(x))\n",
    "df_questions['Body'] = df_questions['Body'].apply(lambda x: remove_non_alphabetical_character(x))"
   ]
  },
  {
   "cell_type": "code",
   "execution_count": 25,
   "metadata": {
    "ExecuteTime": {
     "end_time": "2021-06-18T09:06:27.051845Z",
     "start_time": "2021-06-18T09:06:27.049033Z"
    }
   },
   "outputs": [
    {
     "data": {
      "text/plain": [
       "'i do not know python very much never used it before d but i can not seem to find anything online maybe i just did not google the right question but here i go i want to change an instances implementation of a specific method when i googled for it i found you could do it but it changes the implementation for all other instances of the same class for example def showyimpself print selfy class foo def initself selfx x selfy y def showxself print selfx def showyself print y woohoo class bar def initself fooshowy showyimp selffoo foo def showself selffooshowx selffooshowy if name main b bar bshow f foo fshowx fshowy this does not work as expected because the output is the following x y x y and i want it to be x y x y woohoo i tried to change bars init method with this def initself selffoo foo selffooshowy showyimp but i get the following error message showyimp takes exactly argument given so yeah i tried using setattr but seems like it is the same as selffooshowy showyimp any clue '"
      ]
     },
     "execution_count": 25,
     "metadata": {},
     "output_type": "execute_result"
    }
   ],
   "source": [
    "df_questions['Body'][10]"
   ]
  },
  {
   "cell_type": "markdown",
   "metadata": {},
   "source": [
    "## 4.2. Suppression de la présence d'un seul caractère\n"
   ]
  },
  {
   "cell_type": "markdown",
   "metadata": {},
   "source": [
    "Je choisis de supprimer un seul caractère car lorsque nous faisons de la programmation, nous utilisons souvent un seul caractère alphabétique comme nom de variable (\"x\", \"y\", \"z\", etc.). Et j'ai observé que lorsque j'ai essayé de détecter des sujets sans les supprimer, j'ai trouvé beaucoup de sujets avec eux! Et même un sujet que je pourrais nommer \"Nom de variable\" ..."
   ]
  },
  {
   "cell_type": "code",
   "execution_count": 26,
   "metadata": {
    "ExecuteTime": {
     "end_time": "2021-06-18T09:06:27.064721Z",
     "start_time": "2021-06-18T09:06:27.052923Z"
    }
   },
   "outputs": [],
   "source": [
    "def remove_single_letter(text):\n",
    "    \"\"\"remove single alphabetical character\"\"\"\n",
    "    text = re.sub(r\"\\b\\w\\b\", \"\", text) # remove all single letter\n",
    "    text = re.sub(\"\\s+\", \" \", text) # remove whitespaces left after the last operation\n",
    "    text = text.strip(\" \")\n",
    "    return text"
   ]
  },
  {
   "cell_type": "code",
   "execution_count": 27,
   "metadata": {
    "ExecuteTime": {
     "end_time": "2021-06-18T09:06:27.074142Z",
     "start_time": "2021-06-18T09:06:27.066097Z"
    }
   },
   "outputs": [
    {
     "name": "stdout",
     "output_type": "stream",
     "text": [
      "CPU times: user 1e+03 ns, sys: 0 ns, total: 1e+03 ns\n",
      "Wall time: 3.58 µs\n"
     ]
    }
   ],
   "source": [
    "%%time\n",
    "\n",
    "#df_questions['Title'] = df_questions['Title'].apply(lambda x: remove_single_letter(x))\n",
    "#df_questions['Body'] = df_questions['Body'].apply(lambda x: remove_single_letter(x))\n",
    "\n",
    "# nous ne pouvons pas supprimer les single letters car nous voulons garder la lettre R !!"
   ]
  },
  {
   "cell_type": "code",
   "execution_count": 28,
   "metadata": {
    "ExecuteTime": {
     "end_time": "2021-06-18T09:06:27.083689Z",
     "start_time": "2021-06-18T09:06:27.075298Z"
    },
    "scrolled": true
   },
   "outputs": [
    {
     "data": {
      "text/plain": [
       "'i do not know python very much never used it before d but i can not seem to find anything online maybe i just did not google the right question but here i go i want to change an instances implementation of a specific method when i googled for it i found you could do it but it changes the implementation for all other instances of the same class for example def showyimpself print selfy class foo def initself selfx x selfy y def showxself print selfx def showyself print y woohoo class bar def initself fooshowy showyimp selffoo foo def showself selffooshowx selffooshowy if name main b bar bshow f foo fshowx fshowy this does not work as expected because the output is the following x y x y and i want it to be x y x y woohoo i tried to change bars init method with this def initself selffoo foo selffooshowy showyimp but i get the following error message showyimp takes exactly argument given so yeah i tried using setattr but seems like it is the same as selffooshowy showyimp any clue '"
      ]
     },
     "execution_count": 28,
     "metadata": {},
     "output_type": "execute_result"
    }
   ],
   "source": [
    "df_questions['Body'][10]"
   ]
  },
  {
   "cell_type": "code",
   "execution_count": 29,
   "metadata": {
    "ExecuteTime": {
     "end_time": "2021-06-18T09:07:11.701160Z",
     "start_time": "2021-06-18T09:07:11.685414Z"
    }
   },
   "outputs": [
    {
     "data": {
      "text/plain": [
       "Id                                                     1482141\n",
       "Title        what does it mean weaklyreferenced object no l...\n",
       "Body         i am running a python code and i get the follo...\n",
       "Tags                                                  <python>\n",
       "Score                                                       28\n",
       "Title_raw    What does it mean \"weakly-referenced object no...\n",
       "Body_raw     <p>I am running a Python code and I get the fo...\n",
       "qTitle                                                       1\n",
       "Name: 110, dtype: object"
      ]
     },
     "execution_count": 29,
     "metadata": {},
     "output_type": "execute_result"
    }
   ],
   "source": [
    "df_questions.iloc[110]"
   ]
  },
  {
   "cell_type": "markdown",
   "metadata": {},
   "source": [
    "# 5) Suppression des stopwords"
   ]
  },
  {
   "cell_type": "markdown",
   "metadata": {},
   "source": [
    "## 5.1. Removing most frequent words"
   ]
  },
  {
   "cell_type": "markdown",
   "metadata": {},
   "source": [
    "Supprimer les mots les plus fréquents est une étape classique de la NLP. Les mots les plus fréquents n'ajoutent pas beaucoup d'informations dans la plupart des cas (puisqu'ils sont dans presque toutes les phrases). En les supprimant, vous créez plus d'\"espace\" pour les autres mots qui peuvent avoir des informations plus utiles.\n",
    "Vous pouvez utiliser des listes prédéfinies à partir de bibliothèques telles que SciKit-Learn, NLTK et autres. Mais sachez que ces listes peuvent être plus problématiques qu'utiles (en particulier la liste scikit-learn, voir [Stop Word Lists in Free Open-source Software Packages](https://www.aclweb.org/anthology/W18-2502.pdf) pour plus d'informations)."
   ]
  },
  {
   "cell_type": "code",
   "execution_count": 30,
   "metadata": {
    "ExecuteTime": {
     "end_time": "2021-06-18T09:06:27.101594Z",
     "start_time": "2021-06-18T09:06:27.094788Z"
    }
   },
   "outputs": [],
   "source": [
    "def remove_stopwords(text):\n",
    "    \"\"\"remove common words in english by using nltk.corpus's list\"\"\"\n",
    "    words_idx = token.tokenize(text)\n",
    "    filtered = [i for i in words_idx if not i in stop_words]\n",
    "    \n",
    "    return ' '.join(map(str, filtered)) # Return the text untokenize"
   ]
  },
  {
   "cell_type": "code",
   "execution_count": 31,
   "metadata": {
    "ExecuteTime": {
     "end_time": "2021-06-18T09:06:29.328629Z",
     "start_time": "2021-06-18T09:06:27.103003Z"
    }
   },
   "outputs": [
    {
     "name": "stdout",
     "output_type": "stream",
     "text": [
      "CPU times: user 2.22 s, sys: 0 ns, total: 2.22 s\n",
      "Wall time: 2.22 s\n"
     ]
    }
   ],
   "source": [
    "%%time\n",
    "\n",
    "df_questions['Title'] = df_questions['Title'].apply(lambda x: remove_stopwords(x))\n",
    "df_questions['Body'] = df_questions['Body'].apply(lambda x: remove_stopwords(x))"
   ]
  },
  {
   "cell_type": "code",
   "execution_count": 32,
   "metadata": {
    "ExecuteTime": {
     "end_time": "2021-06-18T09:06:29.332988Z",
     "start_time": "2021-06-18T09:06:29.330000Z"
    },
    "scrolled": true
   },
   "outputs": [
    {
     "data": {
      "text/plain": [
       "'know python much never used seem find anything online maybe google right question go want change instances implementation specific method googled found could changes implementation instances class example def showyimpself print selfy class foo def initself selfx x selfy def showxself print selfx def showyself print woohoo class bar def initself fooshowy showyimp selffoo foo def showself selffooshowx selffooshowy name main b bar bshow f foo fshowx fshowy work expected output following x x want x x woohoo tried change bars init method def initself selffoo foo selffooshowy showyimp get following error message showyimp takes exactly argument given yeah tried using setattr seems like selffooshowy showyimp clue'"
      ]
     },
     "execution_count": 32,
     "metadata": {},
     "output_type": "execute_result"
    }
   ],
   "source": [
    "df_questions['Body'][10]"
   ]
  },
  {
   "cell_type": "code",
   "execution_count": 33,
   "metadata": {
    "ExecuteTime": {
     "end_time": "2021-06-18T09:07:11.701160Z",
     "start_time": "2021-06-18T09:07:11.685414Z"
    }
   },
   "outputs": [
    {
     "data": {
      "text/plain": [
       "Id                                                     1482141\n",
       "Title               mean weaklyreferenced object longer exists\n",
       "Body         running python code get following error messag...\n",
       "Tags                                                  <python>\n",
       "Score                                                       28\n",
       "Title_raw    What does it mean \"weakly-referenced object no...\n",
       "Body_raw     <p>I am running a Python code and I get the fo...\n",
       "qTitle                                                       1\n",
       "Name: 110, dtype: object"
      ]
     },
     "execution_count": 33,
     "metadata": {},
     "output_type": "execute_result"
    }
   ],
   "source": [
    "df_questions.iloc[110]"
   ]
  },
  {
   "cell_type": "markdown",
   "metadata": {},
   "source": [
    "## 5.2. Suppression d'adjectives"
   ]
  },
  {
   "cell_type": "markdown",
   "metadata": {},
   "source": [
    "Je choisis de supprimer les adjectifs en plus de la liste NLTK. Pourquoi ? Tout simplement parce que lorsque j'ai d'abord essayé de faire une détection de sujet dans un cahier suivant celui-ci et cela améliore ma détection de sujet. Je pensais aussi que les adjectifs n'ajouteraient aucune information utile. En même temps, je pourrais aussi supprimer des verbes avec le même raisonnement. Mais je ne l'ai pas fait parce que l'ensemble de données StackOverflow concerne la programmation. Et en programmation, nous avons beaucoup de verbes, ou de mots qui peuvent être interprétés comme un verbe, qui peuvent être importants (\"return\", \"get\", \"request\", \"replace\", etc.)."
   ]
  },
  {
   "cell_type": "code",
   "execution_count": 34,
   "metadata": {
    "ExecuteTime": {
     "end_time": "2021-06-18T09:06:29.357728Z",
     "start_time": "2021-06-18T09:06:29.350171Z"
    }
   },
   "outputs": [],
   "source": [
    "\n",
    "# noinspection PyTypeChecker\n",
    "def remove_by_tag(text, undesired_tag):\n",
    "    \"\"\"remove all words by using ntk tag (adjectives, verbs, etc.)\"\"\"\n",
    "    words_idx = token.tokenize(text) # Tokenize each words\n",
    "    words_tagged = nltk.pos_tag(tokens=words_idx, tagset=None, lang='eng') # Tag each words and return a list of tuples (e.g. (\"have\", \"VB\"))\n",
    "    filtered = [i[0] for i in words_tagged if i[1] not in undesired_tag] # Select all words that don't have the undesired tags\n",
    "    \n",
    "    return ' '.join(map(str, filtered)) # Return the text untokenize"
   ]
  },
  {
   "cell_type": "code",
   "execution_count": 35,
   "metadata": {
    "ExecuteTime": {
     "end_time": "2021-06-18T09:07:11.680584Z",
     "start_time": "2021-06-18T09:06:29.358843Z"
    }
   },
   "outputs": [
    {
     "name": "stdout",
     "output_type": "stream",
     "text": [
      "CPU times: user 42.2 s, sys: 152 ms, total: 42.3 s\n",
      "Wall time: 42.3 s\n"
     ]
    }
   ],
   "source": [
    "%%time\n",
    "df_questions['Title'] = df_questions['Title'].apply(\n",
    "    lambda x: remove_by_tag(x, adjective_tag_list))\n",
    "df_questions['Body'] = df_questions['Body'].apply(\n",
    "    lambda x: remove_by_tag(x, adjective_tag_list))"
   ]
  },
  {
   "cell_type": "code",
   "execution_count": 36,
   "metadata": {
    "ExecuteTime": {
     "end_time": "2021-06-18T09:07:11.684388Z",
     "start_time": "2021-06-18T09:07:11.681727Z"
    },
    "scrolled": true
   },
   "outputs": [
    {
     "data": {
      "text/plain": [
       "'know python never used seem find anything maybe google question go change instances implementation method googled found could changes implementation instances class example def showyimpself print class foo def initself selfx selfy def showxself print def showyself print class bar def initself fooshowy selffoo foo def showself selffooshowx name b bar bshow foo fshowx fshowy work expected output following x want x woohoo tried change bars init def initself selffoo foo selffooshowy showyimp get following error message showyimp takes exactly given yeah tried using setattr seems like selffooshowy showyimp clue'"
      ]
     },
     "execution_count": 36,
     "metadata": {},
     "output_type": "execute_result"
    }
   ],
   "source": [
    "df_questions['Body'][10]"
   ]
  },
  {
   "cell_type": "code",
   "execution_count": 37,
   "metadata": {
    "ExecuteTime": {
     "end_time": "2021-06-18T09:07:11.701160Z",
     "start_time": "2021-06-18T09:07:11.685414Z"
    }
   },
   "outputs": [
    {
     "data": {
      "text/plain": [
       "Id                                                     1482141\n",
       "Title                             mean weaklyreferenced exists\n",
       "Body         running python code get following error messag...\n",
       "Tags                                                  <python>\n",
       "Score                                                       28\n",
       "Title_raw    What does it mean \"weakly-referenced object no...\n",
       "Body_raw     <p>I am running a Python code and I get the fo...\n",
       "qTitle                                                       1\n",
       "Name: 110, dtype: object"
      ]
     },
     "execution_count": 37,
     "metadata": {},
     "output_type": "execute_result"
    }
   ],
   "source": [
    "df_questions.iloc[110]"
   ]
  },
  {
   "cell_type": "markdown",
   "metadata": {},
   "source": [
    "# 6) Stemming / Lemmatisation"
   ]
  },
  {
   "cell_type": "markdown",
   "metadata": {},
   "source": [
    "Le Stemming et la Lemmatisation sont des opérations qui :\n",
    "- peuvent améliorer votre temps de calcul en réduisant votre vocabulaire\n",
    "- aider à généraliser plus facilement en regroupant les mots (ex: \"suis\", \"sont\", \"être\", etc. seront transformés en \"être\" pour la lemmatisation)"
   ]
  },
  {
   "cell_type": "markdown",
   "metadata": {},
   "source": [
    "## 6.1. Stemming"
   ]
  },
  {
   "cell_type": "markdown",
   "metadata": {},
   "source": [
    "Je n'ai pas choisi d'utiliser le stemming ici, mais l'on doit toujours envisager cette alternative car elle est beaucoup moins coûteuse.\n",
    "\n",
    "Le stemming est le processus de réduction des mots fléchis à leur racine mot, base ou forme de racine - généralement une forme de mot écrit (\"fishing\", \"fished\", and \"fisher\" à la racine \"fish\"). Il fonctionne généralement en supprimant l'affixe d'un mot. Un affixe peut être un suffixe ou un préfixe (par exemple «-ed», «-ing», etc.). C'est simple mais ne fonctionnera pas lorsque le mot est \"irrégulier\" (\"ran\" et \"run\"). C'est une opération plus simple que la lemmatisation, qui peut suffire dans certains cas, mais peut faire trop d'erreurs dans d'autres cas."
   ]
  },
  {
   "cell_type": "code",
   "execution_count": 38,
   "metadata": {
    "ExecuteTime": {
     "end_time": "2021-06-18T09:07:11.710383Z",
     "start_time": "2021-06-18T09:07:11.702327Z"
    }
   },
   "outputs": [
    {
     "name": "stdout",
     "output_type": "stream",
     "text": [
      "program  :  program\n",
      "programs  :  program\n",
      "programer  :  program\n",
      "programing  :  program\n",
      "programers  :  program\n"
     ]
    }
   ],
   "source": [
    "words = [\"program\", \"programs\", \"programer\", \"programing\", \"programers\"]\n",
    "  \n",
    "for w in words:\n",
    "    print(w, \" : \", stemmer.stem(w))"
   ]
  },
  {
   "cell_type": "code",
   "execution_count": 39,
   "metadata": {
    "ExecuteTime": {
     "end_time": "2021-06-18T09:07:11.719401Z",
     "start_time": "2021-06-18T09:07:11.711512Z"
    }
   },
   "outputs": [],
   "source": [
    "def stem_text(text):\n",
    "    \"\"\"Stem the text\"\"\"\n",
    "    words_idx = nltk.word_tokenize(text) # tokenize the text then return a list of tuple (token, nltk_tag)\n",
    "    stemmed_text = []\n",
    "    for word in words_idx:\n",
    "        stemmed_text.append(stemmer.stem(word)) # Stem each words\n",
    "    return \" \".join(stemmed_text) # Return the text untokenize"
   ]
  },
  {
   "cell_type": "code",
   "execution_count": 40,
   "metadata": {
    "ExecuteTime": {
     "end_time": "2021-06-18T09:07:11.727803Z",
     "start_time": "2021-06-18T09:07:11.720456Z"
    }
   },
   "outputs": [],
   "source": [
    "# %%time\n",
    "\n",
    "# df_questions['Title'] = df_questions['Title'].apply(lambda x: stem_text(x))\n",
    "# df_questions['Body'] = df_questions['Body'].apply(lambda x: stem_text(x))"
   ]
  },
  {
   "cell_type": "code",
   "execution_count": 41,
   "metadata": {
    "ExecuteTime": {
     "end_time": "2021-06-18T09:07:11.739557Z",
     "start_time": "2021-06-18T09:07:11.729102Z"
    }
   },
   "outputs": [
    {
     "data": {
      "text/plain": [
       "Id                                                     1482141\n",
       "Title                             mean weaklyreferenced exists\n",
       "Body         running python code get following error messag...\n",
       "Tags                                                  <python>\n",
       "Score                                                       28\n",
       "Title_raw    What does it mean \"weakly-referenced object no...\n",
       "Body_raw     <p>I am running a Python code and I get the fo...\n",
       "qTitle                                                       1\n",
       "Name: 110, dtype: object"
      ]
     },
     "execution_count": 41,
     "metadata": {},
     "output_type": "execute_result"
    }
   ],
   "source": [
    "df_questions.iloc[110]"
   ]
  },
  {
   "cell_type": "markdown",
   "metadata": {},
   "source": [
    "## 6.2. Lemmatisation\n",
    "\n",
    "Comme dit au début, la lemmatisation est le processus de remplacement d'un mot par son lemma (forme canonique ou forme dictionnaire). Mais dans certains cas, un lemmatiseur peut ne pas être en mesure de trouver la bonne racine si vous ne précisez pas le type de mot comme vous pouvez le voir ci-dessous."
   ]
  },
  {
   "cell_type": "code",
   "execution_count": 42,
   "metadata": {
    "ExecuteTime": {
     "end_time": "2021-06-18T09:07:12.799527Z",
     "start_time": "2021-06-18T09:07:11.740676Z"
    }
   },
   "outputs": [
    {
     "name": "stdout",
     "output_type": "stream",
     "text": [
      "strip\n",
      "stripe\n",
      "are\n",
      "be\n"
     ]
    }
   ],
   "source": [
    "print(lemmatizer.lemmatize(\"stripes\", \"v\"))\n",
    "print(lemmatizer.lemmatize(\"stripes\", \"n\"))  \n",
    "print(lemmatizer.lemmatize(\"are\"))\n",
    "print(lemmatizer.lemmatize(\"are\", \"v\"))"
   ]
  },
  {
   "cell_type": "markdown",
   "metadata": {},
   "source": [
    "Une façon de contourner ce problème consiste à utiliser un marqueur et à passer le type de mot dans la fonction lemmatise. MAIS c'est vraiment coûteux. La mise en tige ou une simple lemmatisation à cet égard est bien plus efficace."
   ]
  },
  {
   "cell_type": "code",
   "execution_count": 43,
   "metadata": {
    "ExecuteTime": {
     "end_time": "2021-06-18T09:07:12.803964Z",
     "start_time": "2021-06-18T09:07:12.800581Z"
    }
   },
   "outputs": [],
   "source": [
    "def lemmatize_text(text):\n",
    "    \"\"\"Lemmatize the text by using tag \"\"\"\n",
    "    \n",
    "    tokens_tagged = nltk.pos_tag(nltk.word_tokenize(text))  # tokenize the text then return a list of tuple (token, nltk_tag)\n",
    "    lemmatise_text = []\n",
    "    for word, tag in tokens_tagged:\n",
    "        if tag.startswith('J'):\n",
    "            lemmatise_text.append(lemmatizer.lemmatize(word,'a')) # Lemmatise adjectives. Not doing anything since we remove all adjective\n",
    "        elif tag.startswith('V'):\n",
    "            lemmatise_text.append(lemmatizer.lemmatize(word,'v')) # Lemmatise verbs\n",
    "        elif tag.startswith('N'):\n",
    "            lemmatise_text.append(lemmatizer.lemmatize(word,'n')) # Lemmatise nouns\n",
    "        elif tag.startswith('R'):\n",
    "            lemmatise_text.append(lemmatizer.lemmatize(word,'r')) # Lemmatise adverbs\n",
    "        else:\n",
    "            lemmatise_text.append(lemmatizer.lemmatize(word)) # If no tags has been found, perform a non specific lemmatisation\n",
    "    return \" \".join(lemmatise_text) # Return the text untokenize"
   ]
  },
  {
   "cell_type": "code",
   "execution_count": 44,
   "metadata": {
    "ExecuteTime": {
     "end_time": "2021-06-18T09:07:53.696400Z",
     "start_time": "2021-06-18T09:07:12.804906Z"
    }
   },
   "outputs": [
    {
     "name": "stdout",
     "output_type": "stream",
     "text": [
      "CPU times: user 40.8 s, sys: 128 ms, total: 40.9 s\n",
      "Wall time: 40.9 s\n"
     ]
    }
   ],
   "source": [
    "%%time\n",
    "\n",
    "df_questions['Title'] = df_questions['Title'].apply(lambda x: lemmatize_text(x))\n",
    "df_questions['Body'] = df_questions['Body'].apply(lambda x: lemmatize_text(x))"
   ]
  },
  {
   "cell_type": "code",
   "execution_count": 45,
   "metadata": {
    "ExecuteTime": {
     "end_time": "2021-06-18T09:07:53.700096Z",
     "start_time": "2021-06-18T09:07:53.697540Z"
    }
   },
   "outputs": [
    {
     "data": {
      "text/plain": [
       "'know python never use seem find anything maybe google question go change instance implementation method google find could change implementation instance class example def showyimpself print class foo def initself selfx selfy def showxself print def showyself print class bar def initself fooshowy selffoo foo def showself selffooshowx name b bar bshow foo fshowx fshowy work expect output follow x want x woohoo try change bar init def initself selffoo foo selffooshowy showyimp get follow error message showyimp take exactly give yeah tried use setattr seem like selffooshowy showyimp clue'"
      ]
     },
     "execution_count": 45,
     "metadata": {},
     "output_type": "execute_result"
    }
   ],
   "source": [
    "df_questions['Body'][10]"
   ]
  },
  {
   "cell_type": "markdown",
   "metadata": {},
   "source": [
    "# 7) Feature engineering"
   ]
  },
  {
   "cell_type": "markdown",
   "metadata": {},
   "source": [
    "L'utilisation du titre et du corps en même temps donne de bien meilleurs résultats pour la détection des sujets."
   ]
  },
  {
   "cell_type": "code",
   "execution_count": 46,
   "metadata": {
    "ExecuteTime": {
     "end_time": "2021-06-18T09:07:53.873671Z",
     "start_time": "2021-06-18T09:07:53.700953Z"
    }
   },
   "outputs": [],
   "source": [
    "df_questions['Text'] = df_questions['Title'] + ' ' + df_questions['Body']\n",
    "df_questions['Text_raw'] = df_questions['Title_raw'] + ' ' + df_questions['Body_raw']"
   ]
  },
  {
   "cell_type": "markdown",
   "metadata": {},
   "source": [
    "# 8) Dataframe avec les Tags"
   ]
  },
  {
   "cell_type": "code",
   "execution_count": 47,
   "metadata": {
    "ExecuteTime": {
     "end_time": "2021-06-18T09:07:53.877991Z",
     "start_time": "2021-06-18T09:07:53.875019Z"
    },
    "pycharm": {
     "name": "#%%\n"
    }
   },
   "outputs": [
    {
     "data": {
      "text/plain": [
       "'<python>'"
      ]
     },
     "execution_count": 47,
     "metadata": {},
     "output_type": "execute_result"
    }
   ],
   "source": [
    "df_questions['Tags'][10]"
   ]
  },
  {
   "cell_type": "code",
   "execution_count": 48,
   "metadata": {
    "ExecuteTime": {
     "end_time": "2021-06-18T09:07:53.899545Z",
     "start_time": "2021-06-18T09:07:53.879113Z"
    },
    "pycharm": {
     "name": "#%%\n"
    }
   },
   "outputs": [],
   "source": [
    "def clean_split_tag(text):\n",
    "    \"\"\" \n",
    "        fonction pour traiter tous les tags en supprimant les caracteres HTML\n",
    "    \"\"\"\n",
    "    text = re.sub(r\"<\", \"\", text) # match all literal apostrophe pattern then replace them by a single whitespace\n",
    "    text = re.sub(r\">\", \",\", text)# match all literal Line Feed (New line) pattern then replace them by a single whitespace\n",
    "    text = re.sub(r\" \", \"_\", text)\n",
    "    text = text.strip(',')\n",
    "    text = text.split(',')\n",
    "    #text = re.sub(r\",\", \" \", text)\n",
    "    #text = text.rstrip('>')\n",
    "    return text"
   ]
  },
  {
   "cell_type": "code",
   "execution_count": 49,
   "metadata": {
    "ExecuteTime": {
     "end_time": "2021-06-18T09:07:54.058344Z",
     "start_time": "2021-06-18T09:07:53.900645Z"
    },
    "pycharm": {
     "name": "#%%\n"
    }
   },
   "outputs": [
    {
     "name": "stdout",
     "output_type": "stream",
     "text": [
      "CPU times: user 138 ms, sys: 25 µs, total: 138 ms\n",
      "Wall time: 137 ms\n"
     ]
    }
   ],
   "source": [
    "%%time\n",
    "\n",
    "df_questions['Tags'] = df_questions['Tags'].apply(lambda x: clean_split_tag(x))"
   ]
  },
  {
   "cell_type": "code",
   "execution_count": 50,
   "metadata": {
    "ExecuteTime": {
     "end_time": "2021-06-18T09:07:54.097206Z",
     "start_time": "2021-06-18T09:07:54.059481Z"
    },
    "pycharm": {
     "name": "#%%\n"
    }
   },
   "outputs": [
    {
     "name": "stdout",
     "output_type": "stream",
     "text": [
      "         Id       Tags\n",
      "0   5649407     python\n",
      "0   5649407  bytearray\n",
      "1   7974849     python\n",
      "2  29554796          r\n",
      "2  29554796    ggplot2\n",
      "3    250151     python\n",
      "3    250151  scripting\n",
      "3    250151        lua\n",
      "4   1342000     python\n",
      "4   1342000    unicode\n"
     ]
    }
   ],
   "source": [
    "tags_list = df_questions[['Id','Tags']].explode('Tags')\n",
    "print(tags_list.head(10))\n",
    "\n",
    "def untokenize(words_id):\n",
    "    return ' '.join(map(str, words_id)) # Return the text untokenize\n",
    "\n",
    "df_questions['Tags'] = df_questions['Tags'].apply(lambda x: untokenize(x))"
   ]
  },
  {
   "cell_type": "code",
   "execution_count": 51,
   "metadata": {
    "ExecuteTime": {
     "end_time": "2021-06-18T09:07:54.102383Z",
     "start_time": "2021-06-18T09:07:54.098229Z"
    }
   },
   "outputs": [
    {
     "data": {
      "text/plain": [
       "0              python bytearray\n",
       "1                        python\n",
       "2                     r ggplot2\n",
       "3          python scripting lua\n",
       "4                python unicode\n",
       "                  ...          \n",
       "13908    python mysql timedelta\n",
       "13909         python amazon-ec2\n",
       "13910                   r dplyr\n",
       "13911         python django ide\n",
       "13912               r dataframe\n",
       "Name: Tags, Length: 13913, dtype: object"
      ]
     },
     "execution_count": 51,
     "metadata": {},
     "output_type": "execute_result"
    }
   ],
   "source": [
    "df_questions['Tags']"
   ]
  },
  {
   "cell_type": "code",
   "execution_count": 52,
   "metadata": {
    "ExecuteTime": {
     "end_time": "2021-06-18T09:07:54.132797Z",
     "start_time": "2021-06-18T09:07:54.103547Z"
    }
   },
   "outputs": [
    {
     "data": {
      "text/html": [
       "<div>\n",
       "<style scoped>\n",
       "    .dataframe tbody tr th:only-of-type {\n",
       "        vertical-align: middle;\n",
       "    }\n",
       "\n",
       "    .dataframe tbody tr th {\n",
       "        vertical-align: top;\n",
       "    }\n",
       "\n",
       "    .dataframe thead th {\n",
       "        text-align: right;\n",
       "    }\n",
       "</style>\n",
       "<table border=\"1\" class=\"dataframe\">\n",
       "  <thead>\n",
       "    <tr style=\"text-align: right;\">\n",
       "      <th></th>\n",
       "      <th>Id</th>\n",
       "      <th>Title</th>\n",
       "      <th>Body</th>\n",
       "      <th>Tags</th>\n",
       "      <th>Score</th>\n",
       "      <th>Title_raw</th>\n",
       "      <th>Body_raw</th>\n",
       "      <th>qTitle</th>\n",
       "      <th>Text</th>\n",
       "      <th>Text_raw</th>\n",
       "    </tr>\n",
       "  </thead>\n",
       "  <tbody>\n",
       "    <tr>\n",
       "      <th>7720</th>\n",
       "      <td>1471994</td>\n",
       "      <td></td>\n",
       "      <td>anyone please explain configure used</td>\n",
       "      <td>python python-3.x setup.py pypi python-packaging</td>\n",
       "      <td>1223</td>\n",
       "      <td>What is setup.py?</td>\n",
       "      <td>&lt;p&gt;Can anyone please explain what &lt;code&gt;setup....</td>\n",
       "      <td>1</td>\n",
       "      <td>anyone please explain configure used</td>\n",
       "      <td>What is setup.py? &lt;p&gt;Can anyone please explain...</td>\n",
       "    </tr>\n",
       "    <tr>\n",
       "      <th>7868</th>\n",
       "      <td>9831097</td>\n",
       "      <td></td>\n",
       "      <td>write lot python code want read file know two ...</td>\n",
       "      <td>python file</td>\n",
       "      <td>20</td>\n",
       "      <td>Is open().read() safe?</td>\n",
       "      <td>&lt;p&gt;I write a lot of Python code where I just w...</td>\n",
       "      <td>1</td>\n",
       "      <td>write lot python code want read file know two...</td>\n",
       "      <td>Is open().read() safe? &lt;p&gt;I write a lot of Pyt...</td>\n",
       "    </tr>\n",
       "    <tr>\n",
       "      <th>10426</th>\n",
       "      <td>12013953</td>\n",
       "      <td></td>\n",
       "      <td>gb reason take extremely time write never actu...</td>\n",
       "      <td>r file-io csv dataframe data.table</td>\n",
       "      <td>55</td>\n",
       "      <td>write.csv for large data.table</td>\n",
       "      <td>&lt;p&gt;I have a &lt;code&gt;data.table&lt;/code&gt; that is no...</td>\n",
       "      <td>1</td>\n",
       "      <td>gb reason take extremely time write never act...</td>\n",
       "      <td>write.csv for large data.table &lt;p&gt;I have a &lt;co...</td>\n",
       "    </tr>\n",
       "    <tr>\n",
       "      <th>11247</th>\n",
       "      <td>11476190</td>\n",
       "      <td></td>\n",
       "      <td>duplicate python operator behaves unexpectedly...</td>\n",
       "      <td>python debugging integer cpython</td>\n",
       "      <td>130</td>\n",
       "      <td>Why (0-6) is -6 = False?</td>\n",
       "      <td>&lt;blockquote&gt;\n",
       "  &lt;p&gt;&lt;strong&gt;Possible Duplicate:&lt;...</td>\n",
       "      <td>1</td>\n",
       "      <td>duplicate python operator behaves unexpectedl...</td>\n",
       "      <td>Why (0-6) is -6 = False? &lt;blockquote&gt;\n",
       "  &lt;p&gt;&lt;st...</td>\n",
       "    </tr>\n",
       "    <tr>\n",
       "      <th>11261</th>\n",
       "      <td>2671376</td>\n",
       "      <td></td>\n",
       "      <td>question see python list realize probably conc...</td>\n",
       "      <td>python data-structures hash immutability</td>\n",
       "      <td>86</td>\n",
       "      <td>Hashable, immutable</td>\n",
       "      <td>&lt;p&gt;From a recent SO question (see &lt;a href=\"htt...</td>\n",
       "      <td>1</td>\n",
       "      <td>question see python list realize probably con...</td>\n",
       "      <td>Hashable, immutable &lt;p&gt;From a recent SO questi...</td>\n",
       "    </tr>\n",
       "    <tr>\n",
       "      <th>13607</th>\n",
       "      <td>470139</td>\n",
       "      <td></td>\n",
       "      <td>python evaluate expression ever put print answ...</td>\n",
       "      <td>python evaluation operator-precedence</td>\n",
       "      <td>29</td>\n",
       "      <td>Why does 1+++2 = 3?</td>\n",
       "      <td>&lt;p&gt;How does Python evaluate the expression &lt;co...</td>\n",
       "      <td>1</td>\n",
       "      <td>python evaluate expression ever put print ans...</td>\n",
       "      <td>Why does 1+++2 = 3? &lt;p&gt;How does Python evaluat...</td>\n",
       "    </tr>\n",
       "  </tbody>\n",
       "</table>\n",
       "</div>"
      ],
      "text/plain": [
       "             Id Title                                               Body  \\\n",
       "7720    1471994                     anyone please explain configure used   \n",
       "7868    9831097        write lot python code want read file know two ...   \n",
       "10426  12013953        gb reason take extremely time write never actu...   \n",
       "11247  11476190        duplicate python operator behaves unexpectedly...   \n",
       "11261   2671376        question see python list realize probably conc...   \n",
       "13607    470139        python evaluate expression ever put print answ...   \n",
       "\n",
       "                                                   Tags  Score  \\\n",
       "7720   python python-3.x setup.py pypi python-packaging   1223   \n",
       "7868                                        python file     20   \n",
       "10426                r file-io csv dataframe data.table     55   \n",
       "11247                  python debugging integer cpython    130   \n",
       "11261          python data-structures hash immutability     86   \n",
       "13607             python evaluation operator-precedence     29   \n",
       "\n",
       "                            Title_raw  \\\n",
       "7720                What is setup.py?   \n",
       "7868           Is open().read() safe?   \n",
       "10426  write.csv for large data.table   \n",
       "11247        Why (0-6) is -6 = False?   \n",
       "11261             Hashable, immutable   \n",
       "13607             Why does 1+++2 = 3?   \n",
       "\n",
       "                                                Body_raw  qTitle  \\\n",
       "7720   <p>Can anyone please explain what <code>setup....       1   \n",
       "7868   <p>I write a lot of Python code where I just w...       1   \n",
       "10426  <p>I have a <code>data.table</code> that is no...       1   \n",
       "11247  <blockquote>\n",
       "  <p><strong>Possible Duplicate:<...       1   \n",
       "11261  <p>From a recent SO question (see <a href=\"htt...       1   \n",
       "13607  <p>How does Python evaluate the expression <co...       1   \n",
       "\n",
       "                                                    Text  \\\n",
       "7720                anyone please explain configure used   \n",
       "7868    write lot python code want read file know two...   \n",
       "10426   gb reason take extremely time write never act...   \n",
       "11247   duplicate python operator behaves unexpectedl...   \n",
       "11261   question see python list realize probably con...   \n",
       "13607   python evaluate expression ever put print ans...   \n",
       "\n",
       "                                                Text_raw  \n",
       "7720   What is setup.py? <p>Can anyone please explain...  \n",
       "7868   Is open().read() safe? <p>I write a lot of Pyt...  \n",
       "10426  write.csv for large data.table <p>I have a <co...  \n",
       "11247  Why (0-6) is -6 = False? <blockquote>\n",
       "  <p><st...  \n",
       "11261  Hashable, immutable <p>From a recent SO questi...  \n",
       "13607  Why does 1+++2 = 3? <p>How does Python evaluat...  "
      ]
     },
     "execution_count": 52,
     "metadata": {},
     "output_type": "execute_result"
    }
   ],
   "source": [
    "df_questions[df_questions['Title']=='']"
   ]
  },
  {
   "cell_type": "code",
   "execution_count": 53,
   "metadata": {
    "ExecuteTime": {
     "end_time": "2021-06-18T09:07:54.155905Z",
     "start_time": "2021-06-18T09:07:54.133787Z"
    }
   },
   "outputs": [],
   "source": [
    "df_questions=df_questions[df_questions['Title']!='']\n",
    "# On supprime les lignes avec les titres effacés"
   ]
  },
  {
   "cell_type": "markdown",
   "metadata": {},
   "source": [
    "# 9) Exportation des données"
   ]
  },
  {
   "cell_type": "code",
   "execution_count": 54,
   "metadata": {
    "ExecuteTime": {
     "end_time": "2021-06-18T09:07:54.778637Z",
     "start_time": "2021-06-18T09:07:54.157057Z"
    }
   },
   "outputs": [
    {
     "name": "stdout",
     "output_type": "stream",
     "text": [
      "         Id                                              Title  \\\n",
      "0   5649407                                string array python   \n",
      "1   7974849                   make one python file run another   \n",
      "2  29554796               mean band width ggplot geomsmooth lm   \n",
      "3    250151                 lua generalpurpose script language   \n",
      "4   1342000  make python interpreter correctly character st...   \n",
      "5   7460938                          run python script webpage   \n",
      "6  16455777        python count element object match attribute   \n",
      "7    323972                                    way kill thread   \n",
      "8    563022            python practice import offering feature   \n",
      "9  18060116                add legend ggplot line add manually   \n",
      "\n",
      "                                                Body  \\\n",
      "0  long string represent series value type conver...   \n",
      "1  make one python file run another example two p...   \n",
      "2  follow code libraryggplot ggplotmtcars aesxwt ...   \n",
      "3  see thing ever read embed often anything world...   \n",
      "4  string look like way string understand python ...   \n",
      "5  python know python create code python print hi...   \n",
      "6  try find way count number object match criteri...   \n",
      "7  terminate run thread without settingchecking f...   \n",
      "8  write piece software github basically icon fea...   \n",
      "9  plot ggplot line add geomline argument would l...   \n",
      "\n",
      "                                   Tags  Score  \\\n",
      "0                      python bytearray    182   \n",
      "1                                python    355   \n",
      "2                             r ggplot2     32   \n",
      "3                  python scripting lua     36   \n",
      "4                        python unicode    104   \n",
      "5                                python     61   \n",
      "6   python list object attributes count     51   \n",
      "7  python multithreading kill terminate    831   \n",
      "8                  python python-import     38   \n",
      "9                             r ggplot2     24   \n",
      "\n",
      "                                           Title_raw  \\\n",
      "0         hexadecimal string to byte array in python   \n",
      "1        How can I make one python file run another?   \n",
      "2     Meaning of band width in ggplot geom_smooth lm   \n",
      "3       Lua as a general-purpose scripting language?   \n",
      "4  How to make the python interpreter correctly h...   \n",
      "5                How to run python script in webpage   \n",
      "6  Python Count Elements in a List of Objects wit...   \n",
      "7                 Is there any way to kill a Thread?   \n",
      "8  What's Python good practice for importing and ...   \n",
      "9  Adding legend to ggplot when lines were added ...   \n",
      "\n",
      "                                            Body_raw  qTitle  \\\n",
      "0  <p>I have a long Hex string that represents a ...       1   \n",
      "1  <p>How can I make one python file to run anoth...       1   \n",
      "2  <p>With the following code:</p>\n",
      "\n",
      "<pre><code>li...       1   \n",
      "3  <p>When I see Lua, the only thing I ever read ...       1   \n",
      "4  <p>I have a string that looks like so:</p>\n",
      "\n",
      "<p...       1   \n",
      "5  <p>I'm very new to python. Just know what is p...       1   \n",
      "6  <p>I am trying to find a simple and fast way o...       1   \n",
      "7  <p>Is it possible to terminate a running threa...       1   \n",
      "8  <p>I'm writing a piece of software over on git...       1   \n",
      "9  <p>I have a plot in ggplot with 4 separate lin...       1   \n",
      "\n",
      "                                                Text  \\\n",
      "0  string array python long string represent seri...   \n",
      "1  make one python file run another make one pyth...   \n",
      "2  mean band width ggplot geomsmooth lm follow co...   \n",
      "3  lua generalpurpose script language see thing e...   \n",
      "4  make python interpreter correctly character st...   \n",
      "5  run python script webpage python know python c...   \n",
      "6  python count element object match attribute tr...   \n",
      "7  way kill thread terminate run thread without s...   \n",
      "8  python practice import offering feature write ...   \n",
      "9  add legend ggplot line add manually plot ggplo...   \n",
      "\n",
      "                                            Text_raw  \n",
      "0  hexadecimal string to byte array in python <p>...  \n",
      "1  How can I make one python file run another? <p...  \n",
      "2  Meaning of band width in ggplot geom_smooth lm...  \n",
      "3  Lua as a general-purpose scripting language? <...  \n",
      "4  How to make the python interpreter correctly h...  \n",
      "5  How to run python script in webpage <p>I'm ver...  \n",
      "6  Python Count Elements in a List of Objects wit...  \n",
      "7  Is there any way to kill a Thread? <p>Is it po...  \n",
      "8  What's Python good practice for importing and ...  \n",
      "9  Adding legend to ggplot when lines were added ...   \n",
      " \n",
      "          Id       Tags\n",
      "0   5649407     python\n",
      "0   5649407  bytearray\n",
      "1   7974849     python\n",
      "2  29554796          r\n",
      "2  29554796    ggplot2\n",
      "3    250151     python\n",
      "3    250151  scripting\n",
      "3    250151        lua\n",
      "4   1342000     python\n",
      "4   1342000    unicode\n"
     ]
    }
   ],
   "source": [
    "print(df_questions.head(10),'\\n \\n',tags_list.head(10))\n",
    "#df_questions.drop(['Tags'], axis=1).to_csv('df_questions_fullclean.csv', encoding='utf-8')\n",
    "df_questions.to_csv('df_questions_fullclean.csv', encoding='utf-8')\n",
    "tags_list.to_csv('tags_list.csv', encoding='utf-8')"
   ]
  },
  {
   "cell_type": "code",
   "execution_count": null,
   "metadata": {},
   "outputs": [],
   "source": []
  }
 ],
 "metadata": {
  "kernelspec": {
   "display_name": "Python 3",
   "language": "python",
   "name": "python3"
  },
  "language_info": {
   "codemirror_mode": {
    "name": "ipython",
    "version": 3
   },
   "file_extension": ".py",
   "mimetype": "text/x-python",
   "name": "python",
   "nbconvert_exporter": "python",
   "pygments_lexer": "ipython3",
   "version": "3.8.5"
  },
  "toc": {
   "base_numbering": 1,
   "nav_menu": {},
   "number_sections": true,
   "sideBar": true,
   "skip_h1_title": false,
   "title_cell": "Table of Contents",
   "title_sidebar": "Contents",
   "toc_cell": false,
   "toc_position": {},
   "toc_section_display": true,
   "toc_window_display": false
  },
  "varInspector": {
   "cols": {
    "lenName": 16,
    "lenType": 16,
    "lenVar": 40
   },
   "kernels_config": {
    "python": {
     "delete_cmd_postfix": "",
     "delete_cmd_prefix": "del ",
     "library": "var_list.py",
     "varRefreshCmd": "print(var_dic_list())"
    },
    "r": {
     "delete_cmd_postfix": ") ",
     "delete_cmd_prefix": "rm(",
     "library": "var_list.r",
     "varRefreshCmd": "cat(var_dic_list()) "
    }
   },
   "types_to_exclude": [
    "module",
    "function",
    "builtin_function_or_method",
    "instance",
    "_Feature"
   ],
   "window_display": false
  }
 },
 "nbformat": 4,
 "nbformat_minor": 4
}